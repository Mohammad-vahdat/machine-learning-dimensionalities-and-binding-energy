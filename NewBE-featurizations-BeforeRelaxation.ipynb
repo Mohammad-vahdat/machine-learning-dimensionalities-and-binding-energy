{
 "cells": [
  {
   "cell_type": "code",
   "execution_count": 11,
   "id": "59674981",
   "metadata": {},
   "outputs": [],
   "source": [
    "import ase\n",
    "import ase.io\n",
    "from ase.io import xsf\n",
    "import pandas as pd\n",
    "import json\n",
    "import seaborn as sns\n",
    "import matplotlib.pyplot as plt\n",
    "import os\n",
    "%matplotlib inline"
   ]
  },
  {
   "cell_type": "code",
   "execution_count": 12,
   "id": "1906b570",
   "metadata": {},
   "outputs": [],
   "source": [
    "with open('2d-structures/uuids3Dlayered.json') as f:\n",
    "    uuids_3d_layered = json.load(f)\n",
    "\n",
    "with open('2d-structures/allBE.json') as f:\n",
    "    allBE = json.load(f)"
   ]
  },
  {
   "cell_type": "code",
   "execution_count": 7,
   "id": "22651e9f",
   "metadata": {},
   "outputs": [
    {
     "data": {
      "text/plain": [
       "False"
      ]
     },
     "execution_count": 7,
     "metadata": {},
     "output_type": "execute_result"
    }
   ],
   "source": [
    "'0e12d527-821d-4c68-a898-f96268cc1dbe' in uuids_3d_layered"
   ]
  },
  {
   "cell_type": "code",
   "execution_count": 8,
   "id": "cd9d5862",
   "metadata": {},
   "outputs": [
    {
     "data": {
      "text/plain": [
       "{'relevant_dimension_of_highest_dimensionality_substructure': 43.96341884868421,\n",
       " 'binding_energy_per_substructure': -0.36854635160125326,\n",
       " 'number_of_atoms_in_bulk': 8,\n",
       " 'warnings': [],\n",
       " 'substructure_dimensionalities': [2],\n",
       " 'number_of_highest_dimensionality_substructures_in_bulk': 1,\n",
       " 'number_of_types_in_bulk': 2,\n",
       " 'relevant_dimension_units': 'ang^2',\n",
       " 'substructures_uuids': ['dbe4dc90-f23a-4446-8703-8c2e1a90b3bb'],\n",
       " 'structure_bulk_original': '2d031e1f-ef9b-4112-9216-de429085ed5f',\n",
       " 'energy_units': 'eV',\n",
       " 'energy_bulk': -22258.2442617783,\n",
       " 'structure_bulk_relaxed': '691b636e-469e-4606-b519-270d7a76e04c',\n",
       " 'energy_structure_sub_0': -22257.8757154267}"
      ]
     },
     "execution_count": 8,
     "metadata": {},
     "output_type": "execute_result"
    }
   ],
   "source": [
    "allBE['0e12d527-821d-4c68-a898-f96268cc1dbe']"
   ]
  },
  {
   "cell_type": "code",
   "execution_count": 5,
   "id": "b93ba516",
   "metadata": {},
   "outputs": [
    {
     "data": {
      "text/plain": [
       "1927"
      ]
     },
     "execution_count": 5,
     "metadata": {},
     "output_type": "execute_result"
    }
   ],
   "source": [
    "len(allBE)"
   ]
  },
  {
   "cell_type": "code",
   "execution_count": 6,
   "id": "576a9f86",
   "metadata": {},
   "outputs": [
    {
     "data": {
      "text/plain": [
       "3687"
      ]
     },
     "execution_count": 6,
     "metadata": {},
     "output_type": "execute_result"
    }
   ],
   "source": [
    "len(uuids_3d_layered)"
   ]
  },
  {
   "cell_type": "code",
   "execution_count": 7,
   "id": "71a4e365",
   "metadata": {},
   "outputs": [],
   "source": [
    "uuids = []\n",
    "structure_bulk_original_withBE = []\n",
    "structure_bulk_relaxed_withBE = []\n",
    "binding_energy_per_substructures = []\n",
    "relevant_dimension_of_highest_dimensionality_substructures = []\n",
    "structures = []\n",
    "binding_energies = []\n",
    "labels = []\n",
    "for key in allBE.keys():\n",
    "    key_bulk = allBE[key]['structure_bulk_original']\n",
    "    structure_bulk_original_withBE.append(allBE[key]['structure_bulk_original'])\n",
    "    structure_bulk_relaxed_withBE.append(allBE[key]['structure_bulk_relaxed'])\n",
    "    \n",
    "    path = '2d-structures/3Dlayered/'\n",
    "    folder = os.fsencode(path)\n",
    "    \n",
    "    filename = key_bulk + '.xsf'\n",
    "    with open(path + filename) as f:\n",
    "            structure = ase.io.xsf.read_xsf(f, index=- 1, read_data=False)\n",
    "    \n",
    "    relevant_dimension_of_highest_dimensionality_substructures.append(allBE[key]['relevant_dimension_of_highest_dimensionality_substructure'])\n",
    "    binding_energy_per_substructures.append(allBE[key]['binding_energy_per_substructure'])\n",
    "    tmp = ( -1000. *\n",
    "            allBE[key]['binding_energy_per_substructure']/\n",
    "            allBE[key]['relevant_dimension_of_highest_dimensionality_substructure'])\n",
    "    binding_energies.append(tmp)\n",
    "        \n",
    "    if tmp <= 30:\n",
    "            labels.append('EE')\n",
    "    elif 30 < tmp <= 130:\n",
    "            labels.append('PE')\n",
    "    else:\n",
    "            labels.append('HBE')\n",
    "        \n",
    "    uuids.append(key)\n",
    "    structures.append(structure)  \n",
    "\n",
    "    \n",
    "data = {\n",
    "    'uuid' : uuids,\n",
    "    'structure' : structures,\n",
    "    'binding_energy' : binding_energies,\n",
    "    'label' : labels,\n",
    "    'structure_bulk_original' : structure_bulk_original_withBE,\n",
    "    'structure_bulk_relaxed' : structure_bulk_relaxed_withBE,\n",
    "}\n",
    "\n",
    "df_withBE = pd.DataFrame(data)"
   ]
  },
  {
   "cell_type": "code",
   "execution_count": 8,
   "id": "7e97a986",
   "metadata": {},
   "outputs": [
    {
     "name": "stderr",
     "output_type": "stream",
     "text": [
      "/home/mvahdat/anaconda3/lib/python3.7/site-packages/seaborn/_decorators.py:43: FutureWarning: Pass the following variable as a keyword arg: x. From version 0.12, the only valid positional argument will be `data`, and passing other arguments without an explicit keyword will result in an error or misinterpretation.\n",
      "  FutureWarning\n"
     ]
    },
    {
     "data": {
      "text/plain": [
       "<AxesSubplot:xlabel='label', ylabel='count'>"
      ]
     },
     "execution_count": 8,
     "metadata": {},
     "output_type": "execute_result"
    },
    {
     "data": {
      "image/png": "[encoded data removed]",
      "text/plain": [
       "<Figure size 864x288 with 1 Axes>"
      ]
     },
     "metadata": {
      "needs_background": "light"
     },
     "output_type": "display_data"
    }
   ],
   "source": [
    "plt.figure(figsize = (12,4))\n",
    "sns.countplot(df_withBE['label'])"
   ]
  },
  {
   "cell_type": "code",
   "execution_count": 9,
   "id": "1a7eb796",
   "metadata": {},
   "outputs": [],
   "source": [
    "from matminer.featurizers.conversions import ASEAtomstoStructure"
   ]
  },
  {
   "cell_type": "code",
   "execution_count": 10,
   "id": "d096e03c",
   "metadata": {},
   "outputs": [
    {
     "data": {
      "application/vnd.jupyter.widget-view+json": {
       "model_id": "cfa90775fe194624bdd8b049105e4989",
       "version_major": 2,
       "version_minor": 0
      },
      "text/plain": [
       "ASEAtomstoStructure:   0%|          | 0/1927 [00:00<?, ?it/s]"
      ]
     },
     "metadata": {},
     "output_type": "display_data"
    }
   ],
   "source": [
    "aa2s = ASEAtomstoStructure()\n",
    "df_withBE = aa2s.fit_featurize_dataframe(df_withBE, col_id= 'structure', ignore_errors=True)"
   ]
  },
  {
   "cell_type": "code",
   "execution_count": 11,
   "id": "7e354864",
   "metadata": {},
   "outputs": [
    {
     "data": {
      "text/html": [
       "<div>\n",
       "<style scoped>\n",
       "    .dataframe tbody tr th:only-of-type {\n",
       "        vertical-align: middle;\n",
       "    }\n",
       "\n",
       "    .dataframe tbody tr th {\n",
       "        vertical-align: top;\n",
       "    }\n",
       "\n",
       "    .dataframe thead th {\n",
       "        text-align: right;\n",
       "    }\n",
       "</style>\n",
       "<table border=\"1\" class=\"dataframe\">\n",
       "  <thead>\n",
       "    <tr style=\"text-align: right;\">\n",
       "      <th></th>\n",
       "      <th>uuid</th>\n",
       "      <th>structure</th>\n",
       "      <th>binding_energy</th>\n",
       "      <th>label</th>\n",
       "      <th>structure_bulk_original</th>\n",
       "      <th>structure_bulk_relaxed</th>\n",
       "      <th>PMG Structure from ASE Atoms</th>\n",
       "    </tr>\n",
       "  </thead>\n",
       "  <tbody>\n",
       "    <tr>\n",
       "      <th>0</th>\n",
       "      <td>0e12d527-821d-4c68-a898-f96268cc1dbe</td>\n",
       "      <td>(Atom('Gd', [-0.0, -0.0, 3.2352654], index=0),...</td>\n",
       "      <td>8.383023</td>\n",
       "      <td>EE</td>\n",
       "      <td>2d031e1f-ef9b-4112-9216-de429085ed5f</td>\n",
       "      <td>691b636e-469e-4606-b519-270d7a76e04c</td>\n",
       "      <td>[[-1.21758603e-17 -8.63505501e-18  3.23526540e...</td>\n",
       "    </tr>\n",
       "    <tr>\n",
       "      <th>1</th>\n",
       "      <td>c20274b1-40c7-40c5-987d-419d6158f907</td>\n",
       "      <td>(Atom('Zn', [0.0, 0.0, 0.0], index=0), Atom('N...</td>\n",
       "      <td>65.110991</td>\n",
       "      <td>PE</td>\n",
       "      <td>eb884bed-4727-4a4e-8765-e04ee342c627</td>\n",
       "      <td>98b5f692-5bf0-4652-8dc3-a7898b129033</td>\n",
       "      <td>[[0. 0. 0.] Zn, [2.07     2.07     2.042414] N...</td>\n",
       "    </tr>\n",
       "    <tr>\n",
       "      <th>2</th>\n",
       "      <td>65d47958-ea9d-43ee-8f41-2b3537549f9a</td>\n",
       "      <td>(Atom('Cu', [3.2750215137, 2.979, 0.007814294]...</td>\n",
       "      <td>10.568737</td>\n",
       "      <td>EE</td>\n",
       "      <td>c2f3b7e3-5db3-4e35-9bdd-51cbb2e6032d</td>\n",
       "      <td>7ce27686-0183-4dc5-a21d-03801f5bd4a3</td>\n",
       "      <td>[[3.27502151 2.979      0.00781429] Cu, [-1.52...</td>\n",
       "    </tr>\n",
       "    <tr>\n",
       "      <th>3</th>\n",
       "      <td>9885b572-7a5f-4cec-937b-06cb83370541</td>\n",
       "      <td>(Atom('C', [1.6565, 1.6565, 0.0], index=0), At...</td>\n",
       "      <td>22.127216</td>\n",
       "      <td>EE</td>\n",
       "      <td>af484afa-94d7-4f6d-8340-0acc71297d5c</td>\n",
       "      <td>86cd3b93-e4d3-44d2-974e-b0d657061bde</td>\n",
       "      <td>[[1.6565 1.6565 0.    ] C, [0. 0. 0.] C, [2.16...</td>\n",
       "    </tr>\n",
       "    <tr>\n",
       "      <th>4</th>\n",
       "      <td>19acc17e-ab39-4887-b7ab-e7576f5d61e3</td>\n",
       "      <td>(Atom('H', [1.3187669823, 2.04875, 3.440446360...</td>\n",
       "      <td>16.581488</td>\n",
       "      <td>EE</td>\n",
       "      <td>5b815108-0890-4377-88fa-e3b6ecaa76c8</td>\n",
       "      <td>6539f69a-9471-44f8-84e2-cbe6cac178ae</td>\n",
       "      <td>[[1.31876698 2.04875    3.44044636] H, [2.1584...</td>\n",
       "    </tr>\n",
       "  </tbody>\n",
       "</table>\n",
       "</div>"
      ],
      "text/plain": [
       "                                   uuid  \\\n",
       "0  0e12d527-821d-4c68-a898-f96268cc1dbe   \n",
       "1  c20274b1-40c7-40c5-987d-419d6158f907   \n",
       "2  65d47958-ea9d-43ee-8f41-2b3537549f9a   \n",
       "3  9885b572-7a5f-4cec-937b-06cb83370541   \n",
       "4  19acc17e-ab39-4887-b7ab-e7576f5d61e3   \n",
       "\n",
       "                                           structure  binding_energy label  \\\n",
       "0  (Atom('Gd', [-0.0, -0.0, 3.2352654], index=0),...        8.383023    EE   \n",
       "1  (Atom('Zn', [0.0, 0.0, 0.0], index=0), Atom('N...       65.110991    PE   \n",
       "2  (Atom('Cu', [3.2750215137, 2.979, 0.007814294]...       10.568737    EE   \n",
       "3  (Atom('C', [1.6565, 1.6565, 0.0], index=0), At...       22.127216    EE   \n",
       "4  (Atom('H', [1.3187669823, 2.04875, 3.440446360...       16.581488    EE   \n",
       "\n",
       "                structure_bulk_original                structure_bulk_relaxed  \\\n",
       "0  2d031e1f-ef9b-4112-9216-de429085ed5f  691b636e-469e-4606-b519-270d7a76e04c   \n",
       "1  eb884bed-4727-4a4e-8765-e04ee342c627  98b5f692-5bf0-4652-8dc3-a7898b129033   \n",
       "2  c2f3b7e3-5db3-4e35-9bdd-51cbb2e6032d  7ce27686-0183-4dc5-a21d-03801f5bd4a3   \n",
       "3  af484afa-94d7-4f6d-8340-0acc71297d5c  86cd3b93-e4d3-44d2-974e-b0d657061bde   \n",
       "4  5b815108-0890-4377-88fa-e3b6ecaa76c8  6539f69a-9471-44f8-84e2-cbe6cac178ae   \n",
       "\n",
       "                        PMG Structure from ASE Atoms  \n",
       "0  [[-1.21758603e-17 -8.63505501e-18  3.23526540e...  \n",
       "1  [[0. 0. 0.] Zn, [2.07     2.07     2.042414] N...  \n",
       "2  [[3.27502151 2.979      0.00781429] Cu, [-1.52...  \n",
       "3  [[1.6565 1.6565 0.    ] C, [0. 0. 0.] C, [2.16...  \n",
       "4  [[1.31876698 2.04875    3.44044636] H, [2.1584...  "
      ]
     },
     "execution_count": 11,
     "metadata": {},
     "output_type": "execute_result"
    }
   ],
   "source": [
    "df_withBE.head()"
   ]
  },
  {
   "cell_type": "code",
   "execution_count": 12,
   "id": "bdd0a844",
   "metadata": {},
   "outputs": [],
   "source": [
    "#df_withBE.to_pickle(\"DataFrame_NewBE.pkl\")"
   ]
  },
  {
   "cell_type": "code",
   "execution_count": 9,
   "id": "ac1815a1",
   "metadata": {},
   "outputs": [],
   "source": [
    "df_withBE = pd.read_pickle(\"pickle_files/DataFrame_NewBE.pkl\")"
   ]
  },
  {
   "cell_type": "code",
   "execution_count": 14,
   "id": "bd314c33",
   "metadata": {},
   "outputs": [],
   "source": [
    "df_withBE['num_atoms'] = df_withBE['PMG Structure from ASE Atoms'].apply(lambda x: x.composition.num_atoms)"
   ]
  },
  {
   "cell_type": "code",
   "execution_count": 15,
   "id": "4ffb894e",
   "metadata": {},
   "outputs": [
    {
     "data": {
      "text/plain": [
       "6.0     151\n",
       "8.0     137\n",
       "12.0    129\n",
       "24.0    115\n",
       "4.0     106\n",
       "28.0     98\n",
       "10.0     90\n",
       "36.0     88\n",
       "16.0     78\n",
       "20.0     76\n",
       "40.0     74\n",
       "32.0     69\n",
       "34.0     55\n",
       "38.0     54\n",
       "26.0     54\n",
       "14.0     53\n",
       "18.0     52\n",
       "5.0      50\n",
       "30.0     45\n",
       "3.0      42\n",
       "22.0     39\n",
       "15.0     33\n",
       "7.0      32\n",
       "13.0     31\n",
       "9.0      31\n",
       "11.0     18\n",
       "39.0     16\n",
       "27.0     15\n",
       "33.0     14\n",
       "19.0     11\n",
       "17.0     11\n",
       "23.0     10\n",
       "21.0      9\n",
       "2.0       8\n",
       "25.0      8\n",
       "31.0      6\n",
       "35.0      6\n",
       "37.0      6\n",
       "29.0      5\n",
       "1.0       2\n",
       "Name: num_atoms, dtype: int64"
      ]
     },
     "execution_count": 15,
     "metadata": {},
     "output_type": "execute_result"
    }
   ],
   "source": [
    "df_withBE['num_atoms'].value_counts()"
   ]
  },
  {
   "cell_type": "code",
   "execution_count": 16,
   "id": "eb90a673",
   "metadata": {},
   "outputs": [],
   "source": [
    "structures = list(df_withBE[\"PMG Structure from ASE Atoms\"])\n",
    "gridpoints = list(df_withBE.index)"
   ]
  },
  {
   "cell_type": "code",
   "execution_count": 17,
   "id": "bd5fbc82",
   "metadata": {},
   "outputs": [],
   "source": [
    "features = {n:{} for n in gridpoints}\n",
    "for name in gridpoints:\n",
    "    features[name][\"structure\"]=df_withBE[\"PMG Structure from ASE Atoms\"][name]"
   ]
  },
  {
   "cell_type": "code",
   "execution_count": 18,
   "id": "450eb953",
   "metadata": {},
   "outputs": [
    {
     "data": {
      "text/html": [
       "<div>\n",
       "<style scoped>\n",
       "    .dataframe tbody tr th:only-of-type {\n",
       "        vertical-align: middle;\n",
       "    }\n",
       "\n",
       "    .dataframe tbody tr th {\n",
       "        vertical-align: top;\n",
       "    }\n",
       "\n",
       "    .dataframe thead th {\n",
       "        text-align: right;\n",
       "    }\n",
       "</style>\n",
       "<table border=\"1\" class=\"dataframe\">\n",
       "  <thead>\n",
       "    <tr style=\"text-align: right;\">\n",
       "      <th></th>\n",
       "      <th>structure</th>\n",
       "    </tr>\n",
       "  </thead>\n",
       "  <tbody>\n",
       "    <tr>\n",
       "      <th>0</th>\n",
       "      <td>[[-1.21758603e-17 -8.63505501e-18  3.23526540e...</td>\n",
       "    </tr>\n",
       "    <tr>\n",
       "      <th>1</th>\n",
       "      <td>[[0. 0. 0.] Zn, [2.07     2.07     2.042414] N...</td>\n",
       "    </tr>\n",
       "    <tr>\n",
       "      <th>2</th>\n",
       "      <td>[[3.27502151 2.979      0.00781429] Cu, [-1.52...</td>\n",
       "    </tr>\n",
       "    <tr>\n",
       "      <th>3</th>\n",
       "      <td>[[1.6565 1.6565 0.    ] C, [0. 0. 0.] C, [2.16...</td>\n",
       "    </tr>\n",
       "    <tr>\n",
       "      <th>4</th>\n",
       "      <td>[[1.31876698 2.04875    3.44044636] H, [2.1584...</td>\n",
       "    </tr>\n",
       "    <tr>\n",
       "      <th>...</th>\n",
       "      <td>...</td>\n",
       "    </tr>\n",
       "    <tr>\n",
       "      <th>1922</th>\n",
       "      <td>[[4.34967617e-18 1.15904877e+01 3.74851287e+00...</td>\n",
       "    </tr>\n",
       "    <tr>\n",
       "      <th>1923</th>\n",
       "      <td>[[0.11434677 3.65891368 0.        ] Ni, [3.773...</td>\n",
       "    </tr>\n",
       "    <tr>\n",
       "      <th>1924</th>\n",
       "      <td>[[4.96114359 5.59100999 1.38342631] Tl, [-0.52...</td>\n",
       "    </tr>\n",
       "    <tr>\n",
       "      <th>1925</th>\n",
       "      <td>[[-5.37923039e-17  4.50731040e+00  1.51125000e...</td>\n",
       "    </tr>\n",
       "    <tr>\n",
       "      <th>1926</th>\n",
       "      <td>[[4.28543294 0.16186533 4.96433199] K, [1.7743...</td>\n",
       "    </tr>\n",
       "  </tbody>\n",
       "</table>\n",
       "<p>1927 rows × 1 columns</p>\n",
       "</div>"
      ],
      "text/plain": [
       "                                              structure\n",
       "0     [[-1.21758603e-17 -8.63505501e-18  3.23526540e...\n",
       "1     [[0. 0. 0.] Zn, [2.07     2.07     2.042414] N...\n",
       "2     [[3.27502151 2.979      0.00781429] Cu, [-1.52...\n",
       "3     [[1.6565 1.6565 0.    ] C, [0. 0. 0.] C, [2.16...\n",
       "4     [[1.31876698 2.04875    3.44044636] H, [2.1584...\n",
       "...                                                 ...\n",
       "1922  [[4.34967617e-18 1.15904877e+01 3.74851287e+00...\n",
       "1923  [[0.11434677 3.65891368 0.        ] Ni, [3.773...\n",
       "1924  [[4.96114359 5.59100999 1.38342631] Tl, [-0.52...\n",
       "1925  [[-5.37923039e-17  4.50731040e+00  1.51125000e...\n",
       "1926  [[4.28543294 0.16186533 4.96433199] K, [1.7743...\n",
       "\n",
       "[1927 rows x 1 columns]"
      ]
     },
     "execution_count": 18,
     "metadata": {},
     "output_type": "execute_result"
    }
   ],
   "source": [
    "data=pd.DataFrame.from_dict(features).T\n",
    "data"
   ]
  },
  {
   "cell_type": "code",
   "execution_count": 19,
   "id": "1ac0457b",
   "metadata": {},
   "outputs": [],
   "source": [
    "data = data.reset_index()\n"
   ]
  },
  {
   "cell_type": "code",
   "execution_count": 20,
   "id": "600544d4",
   "metadata": {},
   "outputs": [],
   "source": [
    "%matplotlib inline\n",
    "from matplotlib import pyplot as plt\n",
    "from matminer.datasets import load_dataset\n",
    "from matminer.featurizers.base import MultipleFeaturizer\n",
    "from matminer.featurizers.composition import ElementProperty, Stoichiometry, ValenceOrbital, IonProperty\n",
    "from matminer.featurizers.structure import (SiteStatsFingerprint, StructuralHeterogeneity,\n",
    "                                            ChemicalOrdering, StructureComposition, MaximumPackingEfficiency)\n",
    "from matminer.featurizers.conversions import DictToObject\n",
    "from sklearn.ensemble import RandomForestClassifier\n",
    "from sklearn.model_selection import ShuffleSplit, train_test_split\n",
    "from sklearn.pipeline import Pipeline\n",
    "from sklearn.impute import SimpleImputer\n",
    "from scipy import stats\n",
    "from tqdm import tqdm_notebook as tqdm\n",
    "import numpy as np"
   ]
  },
  {
   "cell_type": "code",
   "execution_count": 21,
   "id": "4e3e291a",
   "metadata": {},
   "outputs": [],
   "source": [
    "featurizer = MultipleFeaturizer([\n",
    "    SiteStatsFingerprint.from_preset(\"CoordinationNumber_ward-prb-2017\"),\n",
    "    StructuralHeterogeneity(),\n",
    "    ChemicalOrdering(),\n",
    "    MaximumPackingEfficiency(),\n",
    "    SiteStatsFingerprint.from_preset(\"LocalPropertyDifference_ward-prb-2017\"),\n",
    "    StructureComposition(Stoichiometry()),\n",
    "    StructureComposition(ElementProperty.from_preset(\"magpie\")),\n",
    "    StructureComposition(ValenceOrbital(props=['frac'])),\n",
    "    StructureComposition(IonProperty(fast=True))\n",
    "])"
   ]
  },
  {
   "cell_type": "code",
   "execution_count": 22,
   "id": "603875c5",
   "metadata": {},
   "outputs": [
    {
     "data": {
      "application/vnd.jupyter.widget-view+json": {
       "model_id": "28e862da749342ceb940221a75f9de2e",
       "version_major": 2,
       "version_minor": 0
      },
      "text/plain": [
       "DictToObject:   0%|          | 0/1927 [00:00<?, ?it/s]"
      ]
     },
     "metadata": {},
     "output_type": "display_data"
    }
   ],
   "source": [
    "dto = DictToObject(target_col_id='structure', overwrite_data=True)\n",
    "data = dto.featurize_dataframe(data, 'structure')"
   ]
  },
  {
   "cell_type": "code",
   "execution_count": 23,
   "id": "e10de632",
   "metadata": {},
   "outputs": [
    {
     "data": {
      "application/vnd.jupyter.widget-view+json": {
       "model_id": "b653dc2d75e945af81d3c0bdd50e4648",
       "version_major": 2,
       "version_minor": 0
      },
      "text/plain": [
       "MultipleFeaturizer:   0%|          | 0/1927 [00:00<?, ?it/s]"
      ]
     },
     "metadata": {},
     "output_type": "display_data"
    },
    {
     "name": "stdout",
     "output_type": "stream",
     "text": [
      "CPU times: user 1.17 s, sys: 313 ms, total: 1.49 s\n",
      "Wall time: 5min 46s\n"
     ]
    }
   ],
   "source": [
    "%%time\n",
    "X = featurizer.featurize_many(data['structure'], ignore_errors=True)"
   ]
  },
  {
   "cell_type": "code",
   "execution_count": 24,
   "id": "2071bb4d",
   "metadata": {},
   "outputs": [
    {
     "data": {
      "text/html": [
       "<div>\n",
       "<style scoped>\n",
       "    .dataframe tbody tr th:only-of-type {\n",
       "        vertical-align: middle;\n",
       "    }\n",
       "\n",
       "    .dataframe tbody tr th {\n",
       "        vertical-align: top;\n",
       "    }\n",
       "\n",
       "    .dataframe thead th {\n",
       "        text-align: right;\n",
       "    }\n",
       "</style>\n",
       "<table border=\"1\" class=\"dataframe\">\n",
       "  <thead>\n",
       "    <tr style=\"text-align: right;\">\n",
       "      <th></th>\n",
       "      <th>0</th>\n",
       "      <th>1</th>\n",
       "      <th>2</th>\n",
       "      <th>3</th>\n",
       "      <th>4</th>\n",
       "      <th>5</th>\n",
       "      <th>6</th>\n",
       "      <th>7</th>\n",
       "      <th>8</th>\n",
       "      <th>9</th>\n",
       "      <th>...</th>\n",
       "      <th>263</th>\n",
       "      <th>264</th>\n",
       "      <th>265</th>\n",
       "      <th>266</th>\n",
       "      <th>267</th>\n",
       "      <th>268</th>\n",
       "      <th>269</th>\n",
       "      <th>270</th>\n",
       "      <th>271</th>\n",
       "      <th>272</th>\n",
       "    </tr>\n",
       "  </thead>\n",
       "  <tbody>\n",
       "    <tr>\n",
       "      <th>0</th>\n",
       "      <td>NaN</td>\n",
       "      <td>NaN</td>\n",
       "      <td>NaN</td>\n",
       "      <td>NaN</td>\n",
       "      <td>NaN</td>\n",
       "      <td>NaN</td>\n",
       "      <td>NaN</td>\n",
       "      <td>NaN</td>\n",
       "      <td>NaN</td>\n",
       "      <td>NaN</td>\n",
       "      <td>...</td>\n",
       "      <td>96.500000</td>\n",
       "      <td>48.750000</td>\n",
       "      <td>64.0</td>\n",
       "      <td>0.131148</td>\n",
       "      <td>0.245902</td>\n",
       "      <td>0.508197</td>\n",
       "      <td>0.114754</td>\n",
       "      <td>True</td>\n",
       "      <td>0.539020</td>\n",
       "      <td>0.101066</td>\n",
       "    </tr>\n",
       "    <tr>\n",
       "      <th>1</th>\n",
       "      <td>NaN</td>\n",
       "      <td>NaN</td>\n",
       "      <td>NaN</td>\n",
       "      <td>NaN</td>\n",
       "      <td>NaN</td>\n",
       "      <td>NaN</td>\n",
       "      <td>NaN</td>\n",
       "      <td>NaN</td>\n",
       "      <td>NaN</td>\n",
       "      <td>NaN</td>\n",
       "      <td>...</td>\n",
       "      <td>91.714286</td>\n",
       "      <td>87.673469</td>\n",
       "      <td>15.0</td>\n",
       "      <td>0.280000</td>\n",
       "      <td>0.520000</td>\n",
       "      <td>0.200000</td>\n",
       "      <td>0.000000</td>\n",
       "      <td>False</td>\n",
       "      <td>0.742626</td>\n",
       "      <td>0.108618</td>\n",
       "    </tr>\n",
       "    <tr>\n",
       "      <th>2</th>\n",
       "      <td>6.236764</td>\n",
       "      <td>10.218801</td>\n",
       "      <td>3.982037</td>\n",
       "      <td>7.959620</td>\n",
       "      <td>1.348913</td>\n",
       "      <td>0.064415</td>\n",
       "      <td>1.055530</td>\n",
       "      <td>0.873566</td>\n",
       "      <td>0.135492</td>\n",
       "      <td>0.478310</td>\n",
       "      <td>...</td>\n",
       "      <td>91.000000</td>\n",
       "      <td>94.800000</td>\n",
       "      <td>12.0</td>\n",
       "      <td>0.272727</td>\n",
       "      <td>0.424242</td>\n",
       "      <td>0.303030</td>\n",
       "      <td>0.000000</td>\n",
       "      <td>True</td>\n",
       "      <td>0.447278</td>\n",
       "      <td>0.079241</td>\n",
       "    </tr>\n",
       "    <tr>\n",
       "      <th>3</th>\n",
       "      <td>4.749436</td>\n",
       "      <td>7.508840</td>\n",
       "      <td>2.759405</td>\n",
       "      <td>6.589039</td>\n",
       "      <td>1.226402</td>\n",
       "      <td>0.148352</td>\n",
       "      <td>1.111264</td>\n",
       "      <td>0.777472</td>\n",
       "      <td>0.089393</td>\n",
       "      <td>0.383363</td>\n",
       "      <td>...</td>\n",
       "      <td>194.000000</td>\n",
       "      <td>0.000000</td>\n",
       "      <td>194.0</td>\n",
       "      <td>0.428571</td>\n",
       "      <td>0.571429</td>\n",
       "      <td>0.000000</td>\n",
       "      <td>0.000000</td>\n",
       "      <td>False</td>\n",
       "      <td>0.058259</td>\n",
       "      <td>0.012946</td>\n",
       "    </tr>\n",
       "    <tr>\n",
       "      <th>4</th>\n",
       "      <td>NaN</td>\n",
       "      <td>NaN</td>\n",
       "      <td>NaN</td>\n",
       "      <td>NaN</td>\n",
       "      <td>NaN</td>\n",
       "      <td>NaN</td>\n",
       "      <td>NaN</td>\n",
       "      <td>NaN</td>\n",
       "      <td>NaN</td>\n",
       "      <td>NaN</td>\n",
       "      <td>...</td>\n",
       "      <td>122.000000</td>\n",
       "      <td>92.666667</td>\n",
       "      <td>12.0</td>\n",
       "      <td>0.127907</td>\n",
       "      <td>0.197674</td>\n",
       "      <td>0.348837</td>\n",
       "      <td>0.325581</td>\n",
       "      <td>True</td>\n",
       "      <td>0.319141</td>\n",
       "      <td>0.058182</td>\n",
       "    </tr>\n",
       "  </tbody>\n",
       "</table>\n",
       "<p>5 rows × 273 columns</p>\n",
       "</div>"
      ],
      "text/plain": [
       "        0          1         2         3         4         5         6    \\\n",
       "0       NaN        NaN       NaN       NaN       NaN       NaN       NaN   \n",
       "1       NaN        NaN       NaN       NaN       NaN       NaN       NaN   \n",
       "2  6.236764  10.218801  3.982037  7.959620  1.348913  0.064415  1.055530   \n",
       "3  4.749436   7.508840  2.759405  6.589039  1.226402  0.148352  1.111264   \n",
       "4       NaN        NaN       NaN       NaN       NaN       NaN       NaN   \n",
       "\n",
       "        7         8         9    ...         263        264    265       266  \\\n",
       "0       NaN       NaN       NaN  ...   96.500000  48.750000   64.0  0.131148   \n",
       "1       NaN       NaN       NaN  ...   91.714286  87.673469   15.0  0.280000   \n",
       "2  0.873566  0.135492  0.478310  ...   91.000000  94.800000   12.0  0.272727   \n",
       "3  0.777472  0.089393  0.383363  ...  194.000000   0.000000  194.0  0.428571   \n",
       "4       NaN       NaN       NaN  ...  122.000000  92.666667   12.0  0.127907   \n",
       "\n",
       "        267       268       269    270       271       272  \n",
       "0  0.245902  0.508197  0.114754   True  0.539020  0.101066  \n",
       "1  0.520000  0.200000  0.000000  False  0.742626  0.108618  \n",
       "2  0.424242  0.303030  0.000000   True  0.447278  0.079241  \n",
       "3  0.571429  0.000000  0.000000  False  0.058259  0.012946  \n",
       "4  0.197674  0.348837  0.325581   True  0.319141  0.058182  \n",
       "\n",
       "[5 rows x 273 columns]"
      ]
     },
     "execution_count": 24,
     "metadata": {},
     "output_type": "execute_result"
    }
   ],
   "source": [
    "df_features = pd.DataFrame(X)\n",
    "df_features.head()"
   ]
  },
  {
   "cell_type": "code",
   "execution_count": 25,
   "id": "c704611a",
   "metadata": {},
   "outputs": [
    {
     "data": {
      "text/html": [
       "<div>\n",
       "<style scoped>\n",
       "    .dataframe tbody tr th:only-of-type {\n",
       "        vertical-align: middle;\n",
       "    }\n",
       "\n",
       "    .dataframe tbody tr th {\n",
       "        vertical-align: top;\n",
       "    }\n",
       "\n",
       "    .dataframe thead th {\n",
       "        text-align: right;\n",
       "    }\n",
       "</style>\n",
       "<table border=\"1\" class=\"dataframe\">\n",
       "  <thead>\n",
       "    <tr style=\"text-align: right;\">\n",
       "      <th></th>\n",
       "      <th>index</th>\n",
       "      <th>structure</th>\n",
       "      <th>label</th>\n",
       "      <th>binding_energy</th>\n",
       "      <th>0</th>\n",
       "      <th>1</th>\n",
       "      <th>2</th>\n",
       "      <th>3</th>\n",
       "      <th>4</th>\n",
       "      <th>5</th>\n",
       "      <th>...</th>\n",
       "      <th>263</th>\n",
       "      <th>264</th>\n",
       "      <th>265</th>\n",
       "      <th>266</th>\n",
       "      <th>267</th>\n",
       "      <th>268</th>\n",
       "      <th>269</th>\n",
       "      <th>270</th>\n",
       "      <th>271</th>\n",
       "      <th>272</th>\n",
       "    </tr>\n",
       "  </thead>\n",
       "  <tbody>\n",
       "    <tr>\n",
       "      <th>0</th>\n",
       "      <td>0</td>\n",
       "      <td>[[-1.21758603e-17 -8.63505501e-18  3.23526540e...</td>\n",
       "      <td>EE</td>\n",
       "      <td>8.383023</td>\n",
       "      <td>NaN</td>\n",
       "      <td>NaN</td>\n",
       "      <td>NaN</td>\n",
       "      <td>NaN</td>\n",
       "      <td>NaN</td>\n",
       "      <td>NaN</td>\n",
       "      <td>...</td>\n",
       "      <td>96.500000</td>\n",
       "      <td>48.750000</td>\n",
       "      <td>64.0</td>\n",
       "      <td>0.131148</td>\n",
       "      <td>0.245902</td>\n",
       "      <td>0.508197</td>\n",
       "      <td>0.114754</td>\n",
       "      <td>True</td>\n",
       "      <td>0.539020</td>\n",
       "      <td>0.101066</td>\n",
       "    </tr>\n",
       "    <tr>\n",
       "      <th>1</th>\n",
       "      <td>1</td>\n",
       "      <td>[[0. 0. 0.] Zn, [2.07     2.07     2.042414] N...</td>\n",
       "      <td>PE</td>\n",
       "      <td>65.110991</td>\n",
       "      <td>NaN</td>\n",
       "      <td>NaN</td>\n",
       "      <td>NaN</td>\n",
       "      <td>NaN</td>\n",
       "      <td>NaN</td>\n",
       "      <td>NaN</td>\n",
       "      <td>...</td>\n",
       "      <td>91.714286</td>\n",
       "      <td>87.673469</td>\n",
       "      <td>15.0</td>\n",
       "      <td>0.280000</td>\n",
       "      <td>0.520000</td>\n",
       "      <td>0.200000</td>\n",
       "      <td>0.000000</td>\n",
       "      <td>False</td>\n",
       "      <td>0.742626</td>\n",
       "      <td>0.108618</td>\n",
       "    </tr>\n",
       "    <tr>\n",
       "      <th>2</th>\n",
       "      <td>2</td>\n",
       "      <td>[[3.27502151 2.979      0.00781429] Cu, [-1.52...</td>\n",
       "      <td>EE</td>\n",
       "      <td>10.568737</td>\n",
       "      <td>6.236764</td>\n",
       "      <td>10.218801</td>\n",
       "      <td>3.982037</td>\n",
       "      <td>7.959620</td>\n",
       "      <td>1.348913</td>\n",
       "      <td>0.064415</td>\n",
       "      <td>...</td>\n",
       "      <td>91.000000</td>\n",
       "      <td>94.800000</td>\n",
       "      <td>12.0</td>\n",
       "      <td>0.272727</td>\n",
       "      <td>0.424242</td>\n",
       "      <td>0.303030</td>\n",
       "      <td>0.000000</td>\n",
       "      <td>True</td>\n",
       "      <td>0.447278</td>\n",
       "      <td>0.079241</td>\n",
       "    </tr>\n",
       "    <tr>\n",
       "      <th>3</th>\n",
       "      <td>3</td>\n",
       "      <td>[[1.6565 1.6565 0.    ] C, [0. 0. 0.] C, [2.16...</td>\n",
       "      <td>EE</td>\n",
       "      <td>22.127216</td>\n",
       "      <td>4.749436</td>\n",
       "      <td>7.508840</td>\n",
       "      <td>2.759405</td>\n",
       "      <td>6.589039</td>\n",
       "      <td>1.226402</td>\n",
       "      <td>0.148352</td>\n",
       "      <td>...</td>\n",
       "      <td>194.000000</td>\n",
       "      <td>0.000000</td>\n",
       "      <td>194.0</td>\n",
       "      <td>0.428571</td>\n",
       "      <td>0.571429</td>\n",
       "      <td>0.000000</td>\n",
       "      <td>0.000000</td>\n",
       "      <td>False</td>\n",
       "      <td>0.058259</td>\n",
       "      <td>0.012946</td>\n",
       "    </tr>\n",
       "    <tr>\n",
       "      <th>4</th>\n",
       "      <td>4</td>\n",
       "      <td>[[1.31876698 2.04875    3.44044636] H, [2.1584...</td>\n",
       "      <td>EE</td>\n",
       "      <td>16.581488</td>\n",
       "      <td>NaN</td>\n",
       "      <td>NaN</td>\n",
       "      <td>NaN</td>\n",
       "      <td>NaN</td>\n",
       "      <td>NaN</td>\n",
       "      <td>NaN</td>\n",
       "      <td>...</td>\n",
       "      <td>122.000000</td>\n",
       "      <td>92.666667</td>\n",
       "      <td>12.0</td>\n",
       "      <td>0.127907</td>\n",
       "      <td>0.197674</td>\n",
       "      <td>0.348837</td>\n",
       "      <td>0.325581</td>\n",
       "      <td>True</td>\n",
       "      <td>0.319141</td>\n",
       "      <td>0.058182</td>\n",
       "    </tr>\n",
       "  </tbody>\n",
       "</table>\n",
       "<p>5 rows × 277 columns</p>\n",
       "</div>"
      ],
      "text/plain": [
       "   index                                          structure label  \\\n",
       "0      0  [[-1.21758603e-17 -8.63505501e-18  3.23526540e...    EE   \n",
       "1      1  [[0. 0. 0.] Zn, [2.07     2.07     2.042414] N...    PE   \n",
       "2      2  [[3.27502151 2.979      0.00781429] Cu, [-1.52...    EE   \n",
       "3      3  [[1.6565 1.6565 0.    ] C, [0. 0. 0.] C, [2.16...    EE   \n",
       "4      4  [[1.31876698 2.04875    3.44044636] H, [2.1584...    EE   \n",
       "\n",
       "   binding_energy         0          1         2         3         4  \\\n",
       "0        8.383023       NaN        NaN       NaN       NaN       NaN   \n",
       "1       65.110991       NaN        NaN       NaN       NaN       NaN   \n",
       "2       10.568737  6.236764  10.218801  3.982037  7.959620  1.348913   \n",
       "3       22.127216  4.749436   7.508840  2.759405  6.589039  1.226402   \n",
       "4       16.581488       NaN        NaN       NaN       NaN       NaN   \n",
       "\n",
       "          5  ...         263        264    265       266       267       268  \\\n",
       "0       NaN  ...   96.500000  48.750000   64.0  0.131148  0.245902  0.508197   \n",
       "1       NaN  ...   91.714286  87.673469   15.0  0.280000  0.520000  0.200000   \n",
       "2  0.064415  ...   91.000000  94.800000   12.0  0.272727  0.424242  0.303030   \n",
       "3  0.148352  ...  194.000000   0.000000  194.0  0.428571  0.571429  0.000000   \n",
       "4       NaN  ...  122.000000  92.666667   12.0  0.127907  0.197674  0.348837   \n",
       "\n",
       "        269    270       271       272  \n",
       "0  0.114754   True  0.539020  0.101066  \n",
       "1  0.000000  False  0.742626  0.108618  \n",
       "2  0.000000   True  0.447278  0.079241  \n",
       "3  0.000000  False  0.058259  0.012946  \n",
       "4  0.325581   True  0.319141  0.058182  \n",
       "\n",
       "[5 rows x 277 columns]"
      ]
     },
     "execution_count": 25,
     "metadata": {},
     "output_type": "execute_result"
    }
   ],
   "source": [
    "df_features = pd.concat([data, df_withBE['label'], df_withBE['binding_energy'], df_features], axis = 1, ignore_index= False)\n",
    "df_features.head()"
   ]
  },
  {
   "cell_type": "code",
   "execution_count": 26,
   "id": "b5ace21b",
   "metadata": {},
   "outputs": [],
   "source": [
    "df_features.to_pickle('pickle_files/features_MultipleFeaturizer_NewBE.pkl')"
   ]
  },
  {
   "cell_type": "code",
   "execution_count": 27,
   "id": "81df260e",
   "metadata": {},
   "outputs": [],
   "source": [
    "df_features = pd.read_pickle('pickle_files/features_MultipleFeaturizer_NewBE.pkl')"
   ]
  },
  {
   "cell_type": "code",
   "execution_count": 28,
   "id": "f712f02e",
   "metadata": {},
   "outputs": [
    {
     "data": {
      "text/plain": [
       "1927"
      ]
     },
     "execution_count": 28,
     "metadata": {},
     "output_type": "execute_result"
    }
   ],
   "source": [
    "len(df_features)"
   ]
  },
  {
   "cell_type": "code",
   "execution_count": 29,
   "id": "7498b081",
   "metadata": {},
   "outputs": [
    {
     "data": {
      "text/plain": [
       "955"
      ]
     },
     "execution_count": 29,
     "metadata": {},
     "output_type": "execute_result"
    }
   ],
   "source": [
    "len(df_features.dropna())"
   ]
  },
  {
   "cell_type": "code",
   "execution_count": null,
   "id": "32f3e7a9",
   "metadata": {},
   "outputs": [],
   "source": []
  },
  {
   "cell_type": "code",
   "execution_count": null,
   "id": "8408f53e",
   "metadata": {},
   "outputs": [],
   "source": []
  },
  {
   "cell_type": "code",
   "execution_count": 30,
   "id": "637d05ac",
   "metadata": {},
   "outputs": [],
   "source": [
    "structures = list(df_withBE[\"PMG Structure from ASE Atoms\"])\n",
    "gridpoints = list(df_withBE.index)"
   ]
  },
  {
   "cell_type": "code",
   "execution_count": 31,
   "id": "63134a3d",
   "metadata": {},
   "outputs": [],
   "source": [
    "features = {n:{} for n in gridpoints}\n",
    "for name in gridpoints:\n",
    "    features[name][\"structure\"]=df_withBE[\"PMG Structure from ASE Atoms\"][name]"
   ]
  },
  {
   "cell_type": "code",
   "execution_count": 32,
   "id": "b8576b4b",
   "metadata": {},
   "outputs": [
    {
     "data": {
      "text/html": [
       "<div>\n",
       "<style scoped>\n",
       "    .dataframe tbody tr th:only-of-type {\n",
       "        vertical-align: middle;\n",
       "    }\n",
       "\n",
       "    .dataframe tbody tr th {\n",
       "        vertical-align: top;\n",
       "    }\n",
       "\n",
       "    .dataframe thead th {\n",
       "        text-align: right;\n",
       "    }\n",
       "</style>\n",
       "<table border=\"1\" class=\"dataframe\">\n",
       "  <thead>\n",
       "    <tr style=\"text-align: right;\">\n",
       "      <th></th>\n",
       "      <th>structure</th>\n",
       "    </tr>\n",
       "  </thead>\n",
       "  <tbody>\n",
       "    <tr>\n",
       "      <th>0</th>\n",
       "      <td>[[-1.21758603e-17 -8.63505501e-18  3.23526540e...</td>\n",
       "    </tr>\n",
       "    <tr>\n",
       "      <th>1</th>\n",
       "      <td>[[0. 0. 0.] Zn, [2.07     2.07     2.042414] N...</td>\n",
       "    </tr>\n",
       "    <tr>\n",
       "      <th>2</th>\n",
       "      <td>[[3.27502151 2.979      0.00781429] Cu, [-1.52...</td>\n",
       "    </tr>\n",
       "    <tr>\n",
       "      <th>3</th>\n",
       "      <td>[[1.6565 1.6565 0.    ] C, [0. 0. 0.] C, [2.16...</td>\n",
       "    </tr>\n",
       "    <tr>\n",
       "      <th>4</th>\n",
       "      <td>[[1.31876698 2.04875    3.44044636] H, [2.1584...</td>\n",
       "    </tr>\n",
       "    <tr>\n",
       "      <th>...</th>\n",
       "      <td>...</td>\n",
       "    </tr>\n",
       "    <tr>\n",
       "      <th>1922</th>\n",
       "      <td>[[4.34967617e-18 1.15904877e+01 3.74851287e+00...</td>\n",
       "    </tr>\n",
       "    <tr>\n",
       "      <th>1923</th>\n",
       "      <td>[[0.11434677 3.65891368 0.        ] Ni, [3.773...</td>\n",
       "    </tr>\n",
       "    <tr>\n",
       "      <th>1924</th>\n",
       "      <td>[[4.96114359 5.59100999 1.38342631] Tl, [-0.52...</td>\n",
       "    </tr>\n",
       "    <tr>\n",
       "      <th>1925</th>\n",
       "      <td>[[-5.37923039e-17  4.50731040e+00  1.51125000e...</td>\n",
       "    </tr>\n",
       "    <tr>\n",
       "      <th>1926</th>\n",
       "      <td>[[4.28543294 0.16186533 4.96433199] K, [1.7743...</td>\n",
       "    </tr>\n",
       "  </tbody>\n",
       "</table>\n",
       "<p>1927 rows × 1 columns</p>\n",
       "</div>"
      ],
      "text/plain": [
       "                                              structure\n",
       "0     [[-1.21758603e-17 -8.63505501e-18  3.23526540e...\n",
       "1     [[0. 0. 0.] Zn, [2.07     2.07     2.042414] N...\n",
       "2     [[3.27502151 2.979      0.00781429] Cu, [-1.52...\n",
       "3     [[1.6565 1.6565 0.    ] C, [0. 0. 0.] C, [2.16...\n",
       "4     [[1.31876698 2.04875    3.44044636] H, [2.1584...\n",
       "...                                                 ...\n",
       "1922  [[4.34967617e-18 1.15904877e+01 3.74851287e+00...\n",
       "1923  [[0.11434677 3.65891368 0.        ] Ni, [3.773...\n",
       "1924  [[4.96114359 5.59100999 1.38342631] Tl, [-0.52...\n",
       "1925  [[-5.37923039e-17  4.50731040e+00  1.51125000e...\n",
       "1926  [[4.28543294 0.16186533 4.96433199] K, [1.7743...\n",
       "\n",
       "[1927 rows x 1 columns]"
      ]
     },
     "execution_count": 32,
     "metadata": {},
     "output_type": "execute_result"
    }
   ],
   "source": [
    "data=pd.DataFrame.from_dict(features).T\n",
    "data"
   ]
  },
  {
   "cell_type": "code",
   "execution_count": 33,
   "id": "81b843cf",
   "metadata": {},
   "outputs": [],
   "source": [
    "data = data.reset_index()"
   ]
  },
  {
   "cell_type": "code",
   "execution_count": 34,
   "id": "3cf88f00",
   "metadata": {},
   "outputs": [],
   "source": [
    "features_dict={}\n",
    "## 1. initialize the dictionary for each site\n",
    "for index,row in data.iterrows():\n",
    "    structure=row[\"structure\"]\n",
    "    features_dict[index]={}"
   ]
  },
  {
   "cell_type": "code",
   "execution_count": 35,
   "id": "dfd8cfb4",
   "metadata": {},
   "outputs": [],
   "source": [
    "from matminer.featurizers.structure import BondFractions"
   ]
  },
  {
   "cell_type": "code",
   "execution_count": 36,
   "id": "6fd0a5e6",
   "metadata": {},
   "outputs": [
    {
     "name": "stderr",
     "output_type": "stream",
     "text": [
      "/home/mvahdat/anaconda3/lib/python3.7/site-packages/pymatgen/analysis/local_env.py:4136: UserWarning: No oxidation states specified on sites! For better results, set the site oxidation states in the structure.\n",
      "  \"No oxidation states specified on sites! For better results, set \"\n",
      "/home/mvahdat/anaconda3/lib/python3.7/site-packages/pymatgen/analysis/local_env.py:3939: UserWarning: CrystalNN: cannot locate an appropriate radius, covalent or atomic radii will be used, this can lead to non-optimal results.\n",
      "  \"CrystalNN: cannot locate an appropriate radius, \"\n"
     ]
    }
   ],
   "source": [
    "### Bond Fractions\n",
    "BD = BondFractions()\n",
    "BD.fit(list(data['structure']))\n",
    "colnames=BD._generate_column_labels(multiindex=False,return_errors=False)\n",
    "for index,row in data.iterrows():\n",
    "    structure=row[\"structure\"]\n",
    "    feat=BD.featurize(structure)\n",
    "    features_dict[index].update(dict(zip(colnames, feat)))"
   ]
  },
  {
   "cell_type": "code",
   "execution_count": 37,
   "id": "065ed3a5",
   "metadata": {},
   "outputs": [],
   "source": [
    "from matminer.featurizers.structure import BagofBonds"
   ]
  },
  {
   "cell_type": "code",
   "execution_count": 38,
   "id": "c81a1952",
   "metadata": {},
   "outputs": [
    {
     "name": "stderr",
     "output_type": "stream",
     "text": [
      "/home/mvahdat/anaconda3/lib/python3.7/site-packages/numpy/lib/arraysetops.py:270: VisibleDeprecationWarning: Creating an ndarray from ragged nested sequences (which is a list-or-tuple of lists-or-tuples-or ndarrays with different lengths or shapes) is deprecated. If you meant to do this, you must specify 'dtype=object' when creating the ndarray.\n",
      "  raise np.AxisError(axis, ar.ndim) from None\n"
     ]
    }
   ],
   "source": [
    "###Bag of Bonds vector\n",
    "BB = BagofBonds()\n",
    "BB.fit(list(data['structure']))\n",
    "colnames=BB._generate_column_labels(multiindex=False,return_errors=False)\n",
    "for index,row in data.iterrows():\n",
    "    structure=row[\"structure\"]\n",
    "    feat=BD.featurize(structure)\n",
    "    features_dict[index].update(dict(zip(colnames, feat)))"
   ]
  },
  {
   "cell_type": "code",
   "execution_count": 40,
   "id": "23122c6e",
   "metadata": {},
   "outputs": [
    {
     "data": {
      "text/html": [
       "<div>\n",
       "<style scoped>\n",
       "    .dataframe tbody tr th:only-of-type {\n",
       "        vertical-align: middle;\n",
       "    }\n",
       "\n",
       "    .dataframe tbody tr th {\n",
       "        vertical-align: top;\n",
       "    }\n",
       "\n",
       "    .dataframe thead th {\n",
       "        text-align: right;\n",
       "    }\n",
       "</style>\n",
       "<table border=\"1\" class=\"dataframe\">\n",
       "  <thead>\n",
       "    <tr style=\"text-align: right;\">\n",
       "      <th></th>\n",
       "      <th>Ag - Ag bond frac.</th>\n",
       "      <th>Ag - Al bond frac.</th>\n",
       "      <th>Ag - As bond frac.</th>\n",
       "      <th>Ag - Bi bond frac.</th>\n",
       "      <th>Ag - Br bond frac.</th>\n",
       "      <th>Ag - C bond frac.</th>\n",
       "      <th>Ag - Cd bond frac.</th>\n",
       "      <th>Ag - Ce bond frac.</th>\n",
       "      <th>Ag - Cl bond frac.</th>\n",
       "      <th>Ag - Cs bond frac.</th>\n",
       "      <th>...</th>\n",
       "      <th>Ho - N bond #0</th>\n",
       "      <th>Ho - N bond #1</th>\n",
       "      <th>Ho - N bond #2</th>\n",
       "      <th>Ho - N bond #3</th>\n",
       "      <th>Ho - N bond #4</th>\n",
       "      <th>Ho - N bond #5</th>\n",
       "      <th>Ho - N bond #6</th>\n",
       "      <th>Ho - N bond #7</th>\n",
       "      <th>Ho - F bond #0</th>\n",
       "      <th>Ho - F bond #1</th>\n",
       "    </tr>\n",
       "  </thead>\n",
       "  <tbody>\n",
       "    <tr>\n",
       "      <th>0</th>\n",
       "      <td>0.0</td>\n",
       "      <td>0.0</td>\n",
       "      <td>0.0</td>\n",
       "      <td>0.0</td>\n",
       "      <td>0.0</td>\n",
       "      <td>0.0</td>\n",
       "      <td>0.0</td>\n",
       "      <td>0.0</td>\n",
       "      <td>0.0</td>\n",
       "      <td>0.0</td>\n",
       "      <td>...</td>\n",
       "      <td>0.0</td>\n",
       "      <td>0.0</td>\n",
       "      <td>0.0</td>\n",
       "      <td>0.0</td>\n",
       "      <td>0.0</td>\n",
       "      <td>0.0</td>\n",
       "      <td>0.0</td>\n",
       "      <td>0.0</td>\n",
       "      <td>0.0</td>\n",
       "      <td>0.0</td>\n",
       "    </tr>\n",
       "    <tr>\n",
       "      <th>1</th>\n",
       "      <td>0.0</td>\n",
       "      <td>0.0</td>\n",
       "      <td>0.0</td>\n",
       "      <td>0.0</td>\n",
       "      <td>0.0</td>\n",
       "      <td>0.0</td>\n",
       "      <td>0.0</td>\n",
       "      <td>0.0</td>\n",
       "      <td>0.0</td>\n",
       "      <td>0.0</td>\n",
       "      <td>...</td>\n",
       "      <td>0.0</td>\n",
       "      <td>0.0</td>\n",
       "      <td>0.0</td>\n",
       "      <td>0.0</td>\n",
       "      <td>0.0</td>\n",
       "      <td>0.0</td>\n",
       "      <td>0.0</td>\n",
       "      <td>0.0</td>\n",
       "      <td>0.0</td>\n",
       "      <td>0.0</td>\n",
       "    </tr>\n",
       "    <tr>\n",
       "      <th>2</th>\n",
       "      <td>0.0</td>\n",
       "      <td>0.0</td>\n",
       "      <td>0.0</td>\n",
       "      <td>0.0</td>\n",
       "      <td>0.0</td>\n",
       "      <td>0.0</td>\n",
       "      <td>0.0</td>\n",
       "      <td>0.0</td>\n",
       "      <td>0.0</td>\n",
       "      <td>0.0</td>\n",
       "      <td>...</td>\n",
       "      <td>0.0</td>\n",
       "      <td>0.0</td>\n",
       "      <td>0.0</td>\n",
       "      <td>0.0</td>\n",
       "      <td>0.0</td>\n",
       "      <td>0.0</td>\n",
       "      <td>0.0</td>\n",
       "      <td>0.0</td>\n",
       "      <td>0.0</td>\n",
       "      <td>0.0</td>\n",
       "    </tr>\n",
       "    <tr>\n",
       "      <th>3</th>\n",
       "      <td>0.0</td>\n",
       "      <td>0.0</td>\n",
       "      <td>0.0</td>\n",
       "      <td>0.0</td>\n",
       "      <td>0.0</td>\n",
       "      <td>0.0</td>\n",
       "      <td>0.0</td>\n",
       "      <td>0.0</td>\n",
       "      <td>0.0</td>\n",
       "      <td>0.0</td>\n",
       "      <td>...</td>\n",
       "      <td>0.0</td>\n",
       "      <td>0.0</td>\n",
       "      <td>0.0</td>\n",
       "      <td>0.0</td>\n",
       "      <td>0.0</td>\n",
       "      <td>0.0</td>\n",
       "      <td>0.0</td>\n",
       "      <td>0.0</td>\n",
       "      <td>0.0</td>\n",
       "      <td>0.0</td>\n",
       "    </tr>\n",
       "    <tr>\n",
       "      <th>4</th>\n",
       "      <td>0.0</td>\n",
       "      <td>0.0</td>\n",
       "      <td>0.0</td>\n",
       "      <td>0.0</td>\n",
       "      <td>0.0</td>\n",
       "      <td>0.0</td>\n",
       "      <td>0.0</td>\n",
       "      <td>0.0</td>\n",
       "      <td>0.0</td>\n",
       "      <td>0.0</td>\n",
       "      <td>...</td>\n",
       "      <td>0.0</td>\n",
       "      <td>0.0</td>\n",
       "      <td>0.0</td>\n",
       "      <td>0.0</td>\n",
       "      <td>0.0</td>\n",
       "      <td>0.0</td>\n",
       "      <td>0.0</td>\n",
       "      <td>0.0</td>\n",
       "      <td>0.0</td>\n",
       "      <td>0.0</td>\n",
       "    </tr>\n",
       "  </tbody>\n",
       "</table>\n",
       "<p>5 rows × 2602 columns</p>\n",
       "</div>"
      ],
      "text/plain": [
       "   Ag - Ag bond frac.  Ag - Al bond frac.  Ag - As bond frac.  \\\n",
       "0                 0.0                 0.0                 0.0   \n",
       "1                 0.0                 0.0                 0.0   \n",
       "2                 0.0                 0.0                 0.0   \n",
       "3                 0.0                 0.0                 0.0   \n",
       "4                 0.0                 0.0                 0.0   \n",
       "\n",
       "   Ag - Bi bond frac.  Ag - Br bond frac.  Ag - C bond frac.  \\\n",
       "0                 0.0                 0.0                0.0   \n",
       "1                 0.0                 0.0                0.0   \n",
       "2                 0.0                 0.0                0.0   \n",
       "3                 0.0                 0.0                0.0   \n",
       "4                 0.0                 0.0                0.0   \n",
       "\n",
       "   Ag - Cd bond frac.  Ag - Ce bond frac.  Ag - Cl bond frac.  \\\n",
       "0                 0.0                 0.0                 0.0   \n",
       "1                 0.0                 0.0                 0.0   \n",
       "2                 0.0                 0.0                 0.0   \n",
       "3                 0.0                 0.0                 0.0   \n",
       "4                 0.0                 0.0                 0.0   \n",
       "\n",
       "   Ag - Cs bond frac.  ...  Ho - N bond #0  Ho - N bond #1  Ho - N bond #2  \\\n",
       "0                 0.0  ...             0.0             0.0             0.0   \n",
       "1                 0.0  ...             0.0             0.0             0.0   \n",
       "2                 0.0  ...             0.0             0.0             0.0   \n",
       "3                 0.0  ...             0.0             0.0             0.0   \n",
       "4                 0.0  ...             0.0             0.0             0.0   \n",
       "\n",
       "   Ho - N bond #3  Ho - N bond #4  Ho - N bond #5  Ho - N bond #6  \\\n",
       "0             0.0             0.0             0.0             0.0   \n",
       "1             0.0             0.0             0.0             0.0   \n",
       "2             0.0             0.0             0.0             0.0   \n",
       "3             0.0             0.0             0.0             0.0   \n",
       "4             0.0             0.0             0.0             0.0   \n",
       "\n",
       "   Ho - N bond #7  Ho - F bond #0  Ho - F bond #1  \n",
       "0             0.0             0.0             0.0  \n",
       "1             0.0             0.0             0.0  \n",
       "2             0.0             0.0             0.0  \n",
       "3             0.0             0.0             0.0  \n",
       "4             0.0             0.0             0.0  \n",
       "\n",
       "[5 rows x 2602 columns]"
      ]
     },
     "execution_count": 40,
     "metadata": {},
     "output_type": "execute_result"
    }
   ],
   "source": [
    "df_features_BD_BB = pd.DataFrame.from_dict(features_dict).T.astype(float)\n",
    "df_features_BD_BB.head()"
   ]
  },
  {
   "cell_type": "code",
   "execution_count": 41,
   "id": "78e6a0d4",
   "metadata": {},
   "outputs": [],
   "source": [
    "df_features_BD_BB.to_pickle(\"pickle_files/Features_BondFractions_BagofBonds_NewBE.pkl\")"
   ]
  }
 ],
 "metadata": {
  "kernelspec": {
   "display_name": "Python 3",
   "language": "python",
   "name": "python3"
  },
  "language_info": {
   "codemirror_mode": {
    "name": "ipython",
    "version": 3
   },
   "file_extension": ".py",
   "mimetype": "text/x-python",
   "name": "python",
   "nbconvert_exporter": "python",
   "pygments_lexer": "ipython3",
   "version": "3.7.11"
  }
 },
 "nbformat": 4,
 "nbformat_minor": 5
}
