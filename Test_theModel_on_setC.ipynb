{
 "cells": [
  {
   "cell_type": "code",
   "execution_count": 1,
   "id": "71118d66",
   "metadata": {},
   "outputs": [],
   "source": [
    "import ase\n",
    "import ase.io\n",
    "from ase.io import xsf\n",
    "import pandas as pd\n",
    "import json\n",
    "import seaborn as sns\n",
    "import matplotlib.pyplot as plt\n",
    "import os\n",
    "import numpy as np\n",
    "%matplotlib inline"
   ]
  },
  {
   "cell_type": "code",
   "execution_count": 2,
   "id": "6f9842da",
   "metadata": {},
   "outputs": [],
   "source": [
    "df_features = pd.read_pickle('features_MultipleFeaturizer_setC.pkl')"
   ]
  },
  {
   "cell_type": "code",
   "execution_count": 3,
   "id": "f17e1ad3",
   "metadata": {},
   "outputs": [
    {
     "data": {
      "text/html": [
       "<div>\n",
       "<style scoped>\n",
       "    .dataframe tbody tr th:only-of-type {\n",
       "        vertical-align: middle;\n",
       "    }\n",
       "\n",
       "    .dataframe tbody tr th {\n",
       "        vertical-align: top;\n",
       "    }\n",
       "\n",
       "    .dataframe thead th {\n",
       "        text-align: right;\n",
       "    }\n",
       "</style>\n",
       "<table border=\"1\" class=\"dataframe\">\n",
       "  <thead>\n",
       "    <tr style=\"text-align: right;\">\n",
       "      <th></th>\n",
       "      <th>index</th>\n",
       "      <th>structure</th>\n",
       "      <th>0</th>\n",
       "      <th>1</th>\n",
       "      <th>2</th>\n",
       "      <th>3</th>\n",
       "      <th>4</th>\n",
       "      <th>5</th>\n",
       "      <th>6</th>\n",
       "      <th>7</th>\n",
       "      <th>...</th>\n",
       "      <th>263</th>\n",
       "      <th>264</th>\n",
       "      <th>265</th>\n",
       "      <th>266</th>\n",
       "      <th>267</th>\n",
       "      <th>268</th>\n",
       "      <th>269</th>\n",
       "      <th>270</th>\n",
       "      <th>271</th>\n",
       "      <th>272</th>\n",
       "    </tr>\n",
       "  </thead>\n",
       "  <tbody>\n",
       "    <tr>\n",
       "      <th>0</th>\n",
       "      <td>10</td>\n",
       "      <td>[[4.30377818 1.18474948 1.17906635] Hg, [-1.22...</td>\n",
       "      <td>6.802069</td>\n",
       "      <td>8.341539</td>\n",
       "      <td>1.539470</td>\n",
       "      <td>7.754725</td>\n",
       "      <td>0.367830</td>\n",
       "      <td>0.015961</td>\n",
       "      <td>1.039381</td>\n",
       "      <td>0.966159</td>\n",
       "      <td>...</td>\n",
       "      <td>130.000000</td>\n",
       "      <td>45.000000</td>\n",
       "      <td>70.0</td>\n",
       "      <td>0.126984</td>\n",
       "      <td>0.142857</td>\n",
       "      <td>0.396825</td>\n",
       "      <td>0.333333</td>\n",
       "      <td>True</td>\n",
       "      <td>0.080661</td>\n",
       "      <td>0.016833</td>\n",
       "    </tr>\n",
       "    <tr>\n",
       "      <th>1</th>\n",
       "      <td>23</td>\n",
       "      <td>[[ 0.99564754 10.014224    3.90753217] V, [2.6...</td>\n",
       "      <td>4.549866</td>\n",
       "      <td>10.835070</td>\n",
       "      <td>6.285204</td>\n",
       "      <td>8.975368</td>\n",
       "      <td>1.589068</td>\n",
       "      <td>0.080245</td>\n",
       "      <td>1.079712</td>\n",
       "      <td>0.728332</td>\n",
       "      <td>...</td>\n",
       "      <td>83.250000</td>\n",
       "      <td>89.062500</td>\n",
       "      <td>12.0</td>\n",
       "      <td>0.241935</td>\n",
       "      <td>0.387097</td>\n",
       "      <td>0.370968</td>\n",
       "      <td>0.000000</td>\n",
       "      <td>True</td>\n",
       "      <td>0.559139</td>\n",
       "      <td>0.107182</td>\n",
       "    </tr>\n",
       "    <tr>\n",
       "      <th>2</th>\n",
       "      <td>28</td>\n",
       "      <td>[[3.5624     2.0567526  6.53995929] Tl, [1.976...</td>\n",
       "      <td>5.747613</td>\n",
       "      <td>14.709639</td>\n",
       "      <td>8.962027</td>\n",
       "      <td>9.555633</td>\n",
       "      <td>1.953022</td>\n",
       "      <td>0.095777</td>\n",
       "      <td>1.320260</td>\n",
       "      <td>0.748328</td>\n",
       "      <td>...</td>\n",
       "      <td>58.500000</td>\n",
       "      <td>71.888889</td>\n",
       "      <td>12.0</td>\n",
       "      <td>0.246575</td>\n",
       "      <td>0.390411</td>\n",
       "      <td>0.267123</td>\n",
       "      <td>0.095890</td>\n",
       "      <td>True</td>\n",
       "      <td>0.563121</td>\n",
       "      <td>0.101023</td>\n",
       "    </tr>\n",
       "    <tr>\n",
       "      <th>3</th>\n",
       "      <td>32</td>\n",
       "      <td>[[4.18190408 3.45051991 5.5986254 ] Ce, [-0.83...</td>\n",
       "      <td>6.726692</td>\n",
       "      <td>15.633412</td>\n",
       "      <td>8.906720</td>\n",
       "      <td>10.468351</td>\n",
       "      <td>1.972491</td>\n",
       "      <td>0.073900</td>\n",
       "      <td>1.239975</td>\n",
       "      <td>0.812006</td>\n",
       "      <td>...</td>\n",
       "      <td>66.105263</td>\n",
       "      <td>63.091413</td>\n",
       "      <td>12.0</td>\n",
       "      <td>0.250000</td>\n",
       "      <td>0.460526</td>\n",
       "      <td>0.276316</td>\n",
       "      <td>0.013158</td>\n",
       "      <td>True</td>\n",
       "      <td>0.739617</td>\n",
       "      <td>0.107661</td>\n",
       "    </tr>\n",
       "    <tr>\n",
       "      <th>4</th>\n",
       "      <td>39</td>\n",
       "      <td>[[-2.39362256  1.31526748  7.96038162] Dy, [4....</td>\n",
       "      <td>6.225861</td>\n",
       "      <td>12.956786</td>\n",
       "      <td>6.730926</td>\n",
       "      <td>8.980190</td>\n",
       "      <td>1.836111</td>\n",
       "      <td>0.095098</td>\n",
       "      <td>1.141055</td>\n",
       "      <td>0.769876</td>\n",
       "      <td>...</td>\n",
       "      <td>68.105263</td>\n",
       "      <td>66.260388</td>\n",
       "      <td>12.0</td>\n",
       "      <td>0.255639</td>\n",
       "      <td>0.443609</td>\n",
       "      <td>0.225564</td>\n",
       "      <td>0.075188</td>\n",
       "      <td>True</td>\n",
       "      <td>0.708321</td>\n",
       "      <td>0.080819</td>\n",
       "    </tr>\n",
       "  </tbody>\n",
       "</table>\n",
       "<p>5 rows × 275 columns</p>\n",
       "</div>"
      ],
      "text/plain": [
       "   index                                          structure         0  \\\n",
       "0     10  [[4.30377818 1.18474948 1.17906635] Hg, [-1.22...  6.802069   \n",
       "1     23  [[ 0.99564754 10.014224    3.90753217] V, [2.6...  4.549866   \n",
       "2     28  [[3.5624     2.0567526  6.53995929] Tl, [1.976...  5.747613   \n",
       "3     32  [[4.18190408 3.45051991 5.5986254 ] Ce, [-0.83...  6.726692   \n",
       "4     39  [[-2.39362256  1.31526748  7.96038162] Dy, [4....  6.225861   \n",
       "\n",
       "           1         2          3         4         5         6         7  \\\n",
       "0   8.341539  1.539470   7.754725  0.367830  0.015961  1.039381  0.966159   \n",
       "1  10.835070  6.285204   8.975368  1.589068  0.080245  1.079712  0.728332   \n",
       "2  14.709639  8.962027   9.555633  1.953022  0.095777  1.320260  0.748328   \n",
       "3  15.633412  8.906720  10.468351  1.972491  0.073900  1.239975  0.812006   \n",
       "4  12.956786  6.730926   8.980190  1.836111  0.095098  1.141055  0.769876   \n",
       "\n",
       "   ...         263        264   265       266       267       268       269  \\\n",
       "0  ...  130.000000  45.000000  70.0  0.126984  0.142857  0.396825  0.333333   \n",
       "1  ...   83.250000  89.062500  12.0  0.241935  0.387097  0.370968  0.000000   \n",
       "2  ...   58.500000  71.888889  12.0  0.246575  0.390411  0.267123  0.095890   \n",
       "3  ...   66.105263  63.091413  12.0  0.250000  0.460526  0.276316  0.013158   \n",
       "4  ...   68.105263  66.260388  12.0  0.255639  0.443609  0.225564  0.075188   \n",
       "\n",
       "    270       271       272  \n",
       "0  True  0.080661  0.016833  \n",
       "1  True  0.559139  0.107182  \n",
       "2  True  0.563121  0.101023  \n",
       "3  True  0.739617  0.107661  \n",
       "4  True  0.708321  0.080819  \n",
       "\n",
       "[5 rows x 275 columns]"
      ]
     },
     "execution_count": 3,
     "metadata": {},
     "output_type": "execute_result"
    }
   ],
   "source": [
    "df_features.head()"
   ]
  },
  {
   "cell_type": "code",
   "execution_count": 4,
   "id": "36236b9c",
   "metadata": {},
   "outputs": [],
   "source": [
    "df_features = df_features.dropna()\n",
    "X_setC = df_features.drop(['index', 'structure'], axis = 1).values"
   ]
  },
  {
   "cell_type": "code",
   "execution_count": 5,
   "id": "1f253acb",
   "metadata": {},
   "outputs": [],
   "source": [
    "import joblib"
   ]
  },
  {
   "cell_type": "code",
   "execution_count": 6,
   "id": "b5a1e831",
   "metadata": {},
   "outputs": [],
   "source": [
    "loaded_RF = joblib.load(\"random_forest_model.joblib\")"
   ]
  },
  {
   "cell_type": "code",
   "execution_count": 7,
   "id": "73baec46",
   "metadata": {},
   "outputs": [],
   "source": [
    "predictions = loaded_RF.predict(X_setC)"
   ]
  },
  {
   "cell_type": "code",
   "execution_count": 8,
   "id": "894a37fd",
   "metadata": {},
   "outputs": [
    {
     "name": "stdout",
     "output_type": "stream",
     "text": [
      "number of 1: 288\n",
      "number of predictions: 338\n"
     ]
    }
   ],
   "source": [
    "j = 0\n",
    "for i in predictions:\n",
    "    if i == 1:\n",
    "        j += 1\n",
    "print('number of 1:', j)\n",
    "print('number of predictions:', len(predictions))"
   ]
  },
  {
   "cell_type": "code",
   "execution_count": 9,
   "id": "93388ad5",
   "metadata": {},
   "outputs": [
    {
     "data": {
      "text/plain": [
       "array([1, 1, 1, 0, 1, 1, 1, 1, 0, 1, 1, 1, 1, 1, 0, 1, 1, 1, 1, 1, 1, 0,\n",
       "       0, 0, 0, 1, 1, 1, 1, 1, 1, 1, 1, 1, 0, 1, 1, 1, 1, 1, 1, 1, 1, 0,\n",
       "       0, 1, 0, 1, 1, 1, 1, 0, 1, 1, 1, 1, 1, 1, 0, 1, 1, 1, 1, 1, 1, 1,\n",
       "       1, 0, 1, 1, 0, 0, 1, 1, 1, 1, 1, 1, 1, 1, 0, 1, 1, 1, 1, 1, 0, 0,\n",
       "       1, 0, 1, 1, 1, 1, 1, 1, 1, 1, 0, 0, 1, 1, 0, 1, 1, 1, 1, 1, 1, 1,\n",
       "       1, 0, 0, 1, 1, 1, 1, 1, 1, 1, 1, 1, 1, 1, 1, 1, 0, 1, 1, 1, 1, 1,\n",
       "       1, 1, 0, 0, 1, 1, 1, 1, 1, 1, 1, 1, 1, 1, 1, 1, 1, 1, 1, 0, 1, 1,\n",
       "       1, 1, 1, 1, 1, 1, 1, 1, 0, 1, 1, 1, 1, 1, 1, 1, 1, 1, 1, 1, 0, 1,\n",
       "       1, 1, 1, 1, 1, 1, 1, 1, 1, 1, 1, 1, 1, 1, 1, 1, 1, 1, 0, 1, 1, 0,\n",
       "       1, 1, 1, 1, 1, 1, 1, 1, 1, 1, 0, 1, 1, 1, 0, 1, 1, 1, 1, 1, 1, 0,\n",
       "       1, 0, 1, 1, 1, 1, 1, 1, 1, 1, 1, 1, 1, 1, 1, 1, 1, 1, 1, 1, 1, 1,\n",
       "       1, 1, 1, 1, 1, 1, 1, 1, 1, 1, 1, 1, 1, 0, 1, 1, 1, 1, 1, 1, 0, 1,\n",
       "       1, 1, 1, 1, 0, 1, 1, 1, 1, 1, 1, 1, 1, 1, 1, 1, 1, 1, 1, 1, 1, 1,\n",
       "       1, 0, 1, 0, 1, 1, 1, 1, 0, 1, 1, 0, 1, 0, 1, 1, 1, 1, 1, 1, 1, 1,\n",
       "       1, 1, 1, 1, 0, 1, 1, 1, 1, 1, 1, 1, 0, 1, 1, 0, 1, 1, 1, 0, 0, 1,\n",
       "       1, 1, 1, 1, 1, 1, 1, 1])"
      ]
     },
     "execution_count": 9,
     "metadata": {},
     "output_type": "execute_result"
    }
   ],
   "source": [
    "predictions"
   ]
  },
  {
   "cell_type": "code",
   "execution_count": 57,
   "id": "49a0560b",
   "metadata": {},
   "outputs": [
    {
     "data": {
      "text/plain": [
       "0"
      ]
     },
     "execution_count": 57,
     "metadata": {},
     "output_type": "execute_result"
    }
   ],
   "source": [
    "predictions[8]"
   ]
  },
  {
   "cell_type": "code",
   "execution_count": 58,
   "id": "45f3126d",
   "metadata": {},
   "outputs": [],
   "source": [
    "structure = df_features.iloc[8]['structure']"
   ]
  },
  {
   "cell_type": "code",
   "execution_count": 59,
   "id": "07d83a7b",
   "metadata": {},
   "outputs": [],
   "source": [
    "from ase.visualize import view\n",
    "import milad\n",
    "from milad import asetools\n",
    "from matminer.featurizers.conversions import AseAtomsAdaptor"
   ]
  },
  {
   "cell_type": "code",
   "execution_count": 60,
   "id": "b5c8b157",
   "metadata": {},
   "outputs": [],
   "source": [
    "PTOASE = AseAtomsAdaptor()"
   ]
  },
  {
   "cell_type": "code",
   "execution_count": 61,
   "id": "3dfb9021",
   "metadata": {},
   "outputs": [],
   "source": [
    "a = PTOASE.get_atoms(structure)"
   ]
  },
  {
   "cell_type": "code",
   "execution_count": 62,
   "id": "66bb6548",
   "metadata": {},
   "outputs": [
    {
     "data": {
      "text/plain": [
       "<subprocess.Popen at 0x7f7b7f0da150>"
      ]
     },
     "execution_count": 62,
     "metadata": {},
     "output_type": "execute_result"
    }
   ],
   "source": [
    "view(a)"
   ]
  },
  {
   "cell_type": "code",
   "execution_count": null,
   "id": "7d8a35e4",
   "metadata": {},
   "outputs": [],
   "source": []
  }
 ],
 "metadata": {
  "kernelspec": {
   "display_name": "Python 3 (ipykernel)",
   "language": "python",
   "name": "python3"
  },
  "language_info": {
   "codemirror_mode": {
    "name": "ipython",
    "version": 3
   },
   "file_extension": ".py",
   "mimetype": "text/x-python",
   "name": "python",
   "nbconvert_exporter": "python",
   "pygments_lexer": "ipython3",
   "version": "3.7.11"
  }
 },
 "nbformat": 4,
 "nbformat_minor": 5
}
