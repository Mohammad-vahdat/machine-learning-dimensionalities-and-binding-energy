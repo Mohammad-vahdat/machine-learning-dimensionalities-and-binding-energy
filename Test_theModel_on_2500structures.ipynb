{
 "cells": [
  {
   "cell_type": "code",
   "execution_count": 2,
   "id": "71118d66",
   "metadata": {},
   "outputs": [],
   "source": [
    "import ase\n",
    "import ase.io\n",
    "from ase.io import xsf\n",
    "import pandas as pd\n",
    "import json\n",
    "import seaborn as sns\n",
    "import matplotlib.pyplot as plt\n",
    "import os\n",
    "import numpy as np\n",
    "%matplotlib inline"
   ]
  },
  {
   "cell_type": "code",
   "execution_count": 3,
   "id": "6f9842da",
   "metadata": {},
   "outputs": [],
   "source": [
    "df_features_2500structures = pd.read_pickle(\"features_MultipleFeaturizer_2500Structures.pkl\")"
   ]
  },
  {
   "cell_type": "code",
   "execution_count": 4,
   "id": "36236b9c",
   "metadata": {},
   "outputs": [],
   "source": [
    "df_features_2500structures = df_features_2500structures.dropna()"
   ]
  },
  {
   "cell_type": "code",
   "execution_count": 5,
   "id": "387d59b5",
   "metadata": {},
   "outputs": [],
   "source": [
    "X_2500structures = df_features_2500structures.values"
   ]
  },
  {
   "cell_type": "markdown",
   "id": "15ff62dc",
   "metadata": {},
   "source": [
    "***LOAD the Trained RF model***"
   ]
  },
  {
   "cell_type": "code",
   "execution_count": 7,
   "id": "8d67d5b3",
   "metadata": {},
   "outputs": [],
   "source": [
    "import joblib"
   ]
  },
  {
   "cell_type": "code",
   "execution_count": 8,
   "id": "db9ef194",
   "metadata": {},
   "outputs": [],
   "source": [
    "loaded_RF = joblib.load(\"random_forest_model.joblib\")"
   ]
  },
  {
   "cell_type": "code",
   "execution_count": 9,
   "id": "73baec46",
   "metadata": {},
   "outputs": [],
   "source": [
    "predictions = loaded_RF.predict(X_2500structures)"
   ]
  },
  {
   "cell_type": "code",
   "execution_count": 14,
   "id": "894a37fd",
   "metadata": {},
   "outputs": [
    {
     "name": "stdout",
     "output_type": "stream",
     "text": [
      "Number of 1: 1944 Out of 2238\n"
     ]
    }
   ],
   "source": [
    "j = 0\n",
    "for i in predictions:\n",
    "    if i == 1:\n",
    "        j += 1\n",
    "print('Number of 1:', j, 'Out of', len(X_2500structures))"
   ]
  },
  {
   "cell_type": "code",
   "execution_count": 15,
   "id": "49a0560b",
   "metadata": {},
   "outputs": [
    {
     "data": {
      "text/plain": [
       "1"
      ]
     },
     "execution_count": 15,
     "metadata": {},
     "output_type": "execute_result"
    }
   ],
   "source": [
    "predictions[10]"
   ]
  },
  {
   "cell_type": "code",
   "execution_count": 16,
   "id": "bb5d21a9",
   "metadata": {},
   "outputs": [],
   "source": [
    "data = pd.read_pickle(\"DataFrame_all_structures_sample_2500.pkl\")"
   ]
  },
  {
   "cell_type": "code",
   "execution_count": 17,
   "id": "45f3126d",
   "metadata": {},
   "outputs": [],
   "source": [
    "structure = data.iloc[10]['Structure']"
   ]
  },
  {
   "cell_type": "code",
   "execution_count": 20,
   "id": "07d83a7b",
   "metadata": {},
   "outputs": [
    {
     "ename": "ModuleNotFoundError",
     "evalue": "No module named 'milad'",
     "output_type": "error",
     "traceback": [
      "\u001b[0;31m---------------------------------------------------------------------------\u001b[0m",
      "\u001b[0;31mModuleNotFoundError\u001b[0m                       Traceback (most recent call last)",
      "\u001b[0;32m/tmp/ipykernel_27343/640782623.py\u001b[0m in \u001b[0;36m<module>\u001b[0;34m\u001b[0m\n\u001b[1;32m      1\u001b[0m \u001b[0;32mfrom\u001b[0m \u001b[0mase\u001b[0m\u001b[0;34m.\u001b[0m\u001b[0mvisualize\u001b[0m \u001b[0;32mimport\u001b[0m \u001b[0mview\u001b[0m\u001b[0;34m\u001b[0m\u001b[0;34m\u001b[0m\u001b[0m\n\u001b[0;32m----> 2\u001b[0;31m \u001b[0;32mimport\u001b[0m \u001b[0mmilad\u001b[0m\u001b[0;34m\u001b[0m\u001b[0;34m\u001b[0m\u001b[0m\n\u001b[0m\u001b[1;32m      3\u001b[0m \u001b[0;32mfrom\u001b[0m \u001b[0mmilad\u001b[0m \u001b[0;32mimport\u001b[0m \u001b[0masetools\u001b[0m\u001b[0;34m\u001b[0m\u001b[0;34m\u001b[0m\u001b[0m\n\u001b[1;32m      4\u001b[0m \u001b[0;32mfrom\u001b[0m \u001b[0mmatminer\u001b[0m\u001b[0;34m.\u001b[0m\u001b[0mfeaturizers\u001b[0m\u001b[0;34m.\u001b[0m\u001b[0mconversions\u001b[0m \u001b[0;32mimport\u001b[0m \u001b[0mAseAtomsAdaptor\u001b[0m\u001b[0;34m\u001b[0m\u001b[0;34m\u001b[0m\u001b[0m\n",
      "\u001b[0;31mModuleNotFoundError\u001b[0m: No module named 'milad'"
     ]
    }
   ],
   "source": [
    "from ase.visualize import view\n",
    "import milad\n",
    "from milad import asetools\n",
    "from matminer.featurizers.conversions import AseAtomsAdaptor"
   ]
  },
  {
   "cell_type": "code",
   "execution_count": 84,
   "id": "b5c8b157",
   "metadata": {},
   "outputs": [],
   "source": [
    "PTOASE = AseAtomsAdaptor()"
   ]
  },
  {
   "cell_type": "code",
   "execution_count": 100,
   "id": "3dfb9021",
   "metadata": {},
   "outputs": [],
   "source": [
    "a = PTOASE.get_atoms(structure)"
   ]
  },
  {
   "cell_type": "code",
   "execution_count": 101,
   "id": "66bb6548",
   "metadata": {},
   "outputs": [
    {
     "data": {
      "text/plain": [
       "<subprocess.Popen at 0x7fd1b0dbd490>"
      ]
     },
     "execution_count": 101,
     "metadata": {},
     "output_type": "execute_result"
    }
   ],
   "source": [
    "view(a)"
   ]
  }
 ],
 "metadata": {
  "kernelspec": {
   "display_name": "Python 3 (ipykernel)",
   "language": "python",
   "name": "python3"
  },
  "language_info": {
   "codemirror_mode": {
    "name": "ipython",
    "version": 3
   },
   "file_extension": ".py",
   "mimetype": "text/x-python",
   "name": "python",
   "nbconvert_exporter": "python",
   "pygments_lexer": "ipython3",
   "version": "3.7.11"
  }
 },
 "nbformat": 4,
 "nbformat_minor": 5
}
