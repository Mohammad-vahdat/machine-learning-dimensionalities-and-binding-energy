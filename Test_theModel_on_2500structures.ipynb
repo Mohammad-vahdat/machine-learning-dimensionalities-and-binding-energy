{
 "cells": [
  {
   "cell_type": "code",
   "execution_count": 1,
   "id": "71118d66",
   "metadata": {},
   "outputs": [],
   "source": [
    "import ase\n",
    "import ase.io\n",
    "from ase.io import xsf\n",
    "import pandas as pd\n",
    "import json\n",
    "import seaborn as sns\n",
    "import matplotlib.pyplot as plt\n",
    "import os\n",
    "import numpy as np\n",
    "%matplotlib inline"
   ]
  },
  {
   "cell_type": "code",
   "execution_count": 2,
   "id": "6f9842da",
   "metadata": {},
   "outputs": [],
   "source": [
    "df_features_2500structures = pd.read_pickle(\"pickle_files/features_MultipleFeaturizer_2500Structures.pkl\")"
   ]
  },
  {
   "cell_type": "code",
   "execution_count": 3,
   "id": "36236b9c",
   "metadata": {},
   "outputs": [],
   "source": [
    "df_features_2500structures = df_features_2500structures.dropna()"
   ]
  },
  {
   "cell_type": "code",
   "execution_count": 10,
   "id": "a12317ef",
   "metadata": {},
   "outputs": [
    {
     "data": {
      "text/html": [
       "<div>\n",
       "<style scoped>\n",
       "    .dataframe tbody tr th:only-of-type {\n",
       "        vertical-align: middle;\n",
       "    }\n",
       "\n",
       "    .dataframe tbody tr th {\n",
       "        vertical-align: top;\n",
       "    }\n",
       "\n",
       "    .dataframe thead th {\n",
       "        text-align: right;\n",
       "    }\n",
       "</style>\n",
       "<table border=\"1\" class=\"dataframe\">\n",
       "  <thead>\n",
       "    <tr style=\"text-align: right;\">\n",
       "      <th></th>\n",
       "      <th>0</th>\n",
       "      <th>1</th>\n",
       "      <th>2</th>\n",
       "      <th>3</th>\n",
       "      <th>4</th>\n",
       "      <th>5</th>\n",
       "      <th>6</th>\n",
       "      <th>7</th>\n",
       "      <th>8</th>\n",
       "      <th>9</th>\n",
       "      <th>...</th>\n",
       "      <th>263</th>\n",
       "      <th>264</th>\n",
       "      <th>265</th>\n",
       "      <th>266</th>\n",
       "      <th>267</th>\n",
       "      <th>268</th>\n",
       "      <th>269</th>\n",
       "      <th>270</th>\n",
       "      <th>271</th>\n",
       "      <th>272</th>\n",
       "    </tr>\n",
       "  </thead>\n",
       "  <tbody>\n",
       "    <tr>\n",
       "      <th>0</th>\n",
       "      <td>5.994256</td>\n",
       "      <td>12.155981</td>\n",
       "      <td>6.161724</td>\n",
       "      <td>10.238450</td>\n",
       "      <td>1.484601</td>\n",
       "      <td>0.067254</td>\n",
       "      <td>1.137123</td>\n",
       "      <td>0.797480</td>\n",
       "      <td>0.009735</td>\n",
       "      <td>0.175101</td>\n",
       "      <td>...</td>\n",
       "      <td>106.437500</td>\n",
       "      <td>106.242188</td>\n",
       "      <td>12.0</td>\n",
       "      <td>0.325301</td>\n",
       "      <td>0.433735</td>\n",
       "      <td>0.240964</td>\n",
       "      <td>0.000000</td>\n",
       "      <td>False</td>\n",
       "      <td>0.787757</td>\n",
       "      <td>0.159683</td>\n",
       "    </tr>\n",
       "    <tr>\n",
       "      <th>1</th>\n",
       "      <td>4.095819</td>\n",
       "      <td>11.162477</td>\n",
       "      <td>7.066658</td>\n",
       "      <td>9.399436</td>\n",
       "      <td>2.350721</td>\n",
       "      <td>0.132525</td>\n",
       "      <td>1.099394</td>\n",
       "      <td>0.629016</td>\n",
       "      <td>0.033573</td>\n",
       "      <td>0.211347</td>\n",
       "      <td>...</td>\n",
       "      <td>40.666667</td>\n",
       "      <td>51.111111</td>\n",
       "      <td>12.0</td>\n",
       "      <td>0.375000</td>\n",
       "      <td>0.593750</td>\n",
       "      <td>0.031250</td>\n",
       "      <td>0.000000</td>\n",
       "      <td>True</td>\n",
       "      <td>0.745613</td>\n",
       "      <td>0.125914</td>\n",
       "    </tr>\n",
       "    <tr>\n",
       "      <th>2</th>\n",
       "      <td>8.859597</td>\n",
       "      <td>12.758354</td>\n",
       "      <td>3.898757</td>\n",
       "      <td>11.147768</td>\n",
       "      <td>1.355516</td>\n",
       "      <td>0.032850</td>\n",
       "      <td>1.047858</td>\n",
       "      <td>0.921029</td>\n",
       "      <td>0.034401</td>\n",
       "      <td>0.083477</td>\n",
       "      <td>...</td>\n",
       "      <td>143.000000</td>\n",
       "      <td>54.666667</td>\n",
       "      <td>63.0</td>\n",
       "      <td>0.172414</td>\n",
       "      <td>0.068966</td>\n",
       "      <td>0.655172</td>\n",
       "      <td>0.103448</td>\n",
       "      <td>False</td>\n",
       "      <td>0.183314</td>\n",
       "      <td>0.032139</td>\n",
       "    </tr>\n",
       "    <tr>\n",
       "      <th>3</th>\n",
       "      <td>7.848045</td>\n",
       "      <td>23.851948</td>\n",
       "      <td>16.003903</td>\n",
       "      <td>10.359994</td>\n",
       "      <td>2.998212</td>\n",
       "      <td>0.057588</td>\n",
       "      <td>1.259147</td>\n",
       "      <td>0.937673</td>\n",
       "      <td>0.017430</td>\n",
       "      <td>0.122793</td>\n",
       "      <td>...</td>\n",
       "      <td>195.333333</td>\n",
       "      <td>26.370370</td>\n",
       "      <td>166.0</td>\n",
       "      <td>0.274510</td>\n",
       "      <td>0.078431</td>\n",
       "      <td>0.647059</td>\n",
       "      <td>0.000000</td>\n",
       "      <td>False</td>\n",
       "      <td>0.244896</td>\n",
       "      <td>0.022559</td>\n",
       "    </tr>\n",
       "    <tr>\n",
       "      <th>4</th>\n",
       "      <td>5.190570</td>\n",
       "      <td>13.948977</td>\n",
       "      <td>8.758407</td>\n",
       "      <td>8.653252</td>\n",
       "      <td>2.168457</td>\n",
       "      <td>0.160771</td>\n",
       "      <td>1.247099</td>\n",
       "      <td>0.710476</td>\n",
       "      <td>0.108134</td>\n",
       "      <td>0.585217</td>\n",
       "      <td>...</td>\n",
       "      <td>128.555556</td>\n",
       "      <td>80.493827</td>\n",
       "      <td>194.0</td>\n",
       "      <td>0.269231</td>\n",
       "      <td>0.346154</td>\n",
       "      <td>0.384615</td>\n",
       "      <td>0.000000</td>\n",
       "      <td>True</td>\n",
       "      <td>0.803211</td>\n",
       "      <td>0.094046</td>\n",
       "    </tr>\n",
       "  </tbody>\n",
       "</table>\n",
       "<p>5 rows × 273 columns</p>\n",
       "</div>"
      ],
      "text/plain": [
       "        0          1          2          3         4         5         6    \\\n",
       "0  5.994256  12.155981   6.161724  10.238450  1.484601  0.067254  1.137123   \n",
       "1  4.095819  11.162477   7.066658   9.399436  2.350721  0.132525  1.099394   \n",
       "2  8.859597  12.758354   3.898757  11.147768  1.355516  0.032850  1.047858   \n",
       "3  7.848045  23.851948  16.003903  10.359994  2.998212  0.057588  1.259147   \n",
       "4  5.190570  13.948977   8.758407   8.653252  2.168457  0.160771  1.247099   \n",
       "\n",
       "        7         8         9    ...         263         264    265       266  \\\n",
       "0  0.797480  0.009735  0.175101  ...  106.437500  106.242188   12.0  0.325301   \n",
       "1  0.629016  0.033573  0.211347  ...   40.666667   51.111111   12.0  0.375000   \n",
       "2  0.921029  0.034401  0.083477  ...  143.000000   54.666667   63.0  0.172414   \n",
       "3  0.937673  0.017430  0.122793  ...  195.333333   26.370370  166.0  0.274510   \n",
       "4  0.710476  0.108134  0.585217  ...  128.555556   80.493827  194.0  0.269231   \n",
       "\n",
       "        267       268       269    270       271       272  \n",
       "0  0.433735  0.240964  0.000000  False  0.787757  0.159683  \n",
       "1  0.593750  0.031250  0.000000   True  0.745613  0.125914  \n",
       "2  0.068966  0.655172  0.103448  False  0.183314  0.032139  \n",
       "3  0.078431  0.647059  0.000000  False  0.244896  0.022559  \n",
       "4  0.346154  0.384615  0.000000   True  0.803211  0.094046  \n",
       "\n",
       "[5 rows x 273 columns]"
      ]
     },
     "execution_count": 10,
     "metadata": {},
     "output_type": "execute_result"
    }
   ],
   "source": [
    "df_features_2500structures.head()"
   ]
  },
  {
   "cell_type": "code",
   "execution_count": 11,
   "id": "5427a4c5",
   "metadata": {},
   "outputs": [],
   "source": [
    "features_with_small_contribution = [0, 1, 2, 3, 4, 5, 6,7, 8, 9,10,11,12,13, 128, 129,130,131,132,133,134,135,\n",
    "                         136,137,138,139,140,141,142,143,144,145,146,147,148,149,150,151,152,153,154,\n",
    "                         155,156,157,158,159,160,161,162,163,164,165,166,167,168,169,170,171,172,173,\n",
    "                         174,175,176,177,178,179,180,181,182,183,184,185,186,187,188,189,190,191,192,\n",
    "                         193,194,195,196,197,198,199,200,201,202,203,204,205,206,207,208,209,210,211,\n",
    "                         212,213,214,215,216,217,218,219,220,221,222,223,224,225,226,227,228,229,230,\n",
    "                         231,232,233,234,235,236,237,238,239,240,241,242,243,244,245,246,247,248,249,\n",
    "                         250,251,252,253,254,255,256,257,258,259,260,261,262,263,264,265,266,267,268,\n",
    "                         269,270,271,272]"
   ]
  },
  {
   "cell_type": "code",
   "execution_count": 12,
   "id": "1b4246ad",
   "metadata": {},
   "outputs": [],
   "source": [
    "df_features_2500structures = df_features_2500structures.drop(features_with_small_contribution, axis = 1)"
   ]
  },
  {
   "cell_type": "code",
   "execution_count": 13,
   "id": "387d59b5",
   "metadata": {},
   "outputs": [],
   "source": [
    "X_2500structures = df_features_2500structures.values"
   ]
  },
  {
   "cell_type": "markdown",
   "id": "15ff62dc",
   "metadata": {},
   "source": [
    "***LOAD the Trained RF model***"
   ]
  },
  {
   "cell_type": "code",
   "execution_count": 14,
   "id": "8d67d5b3",
   "metadata": {},
   "outputs": [],
   "source": [
    "import joblib"
   ]
  },
  {
   "cell_type": "code",
   "execution_count": 15,
   "id": "db9ef194",
   "metadata": {},
   "outputs": [],
   "source": [
    "loaded_RF = joblib.load(\"models/random_forest_model.joblib\")"
   ]
  },
  {
   "cell_type": "code",
   "execution_count": 16,
   "id": "73baec46",
   "metadata": {},
   "outputs": [],
   "source": [
    "predictions = loaded_RF.predict(X_2500structures)"
   ]
  },
  {
   "cell_type": "code",
   "execution_count": 17,
   "id": "894a37fd",
   "metadata": {},
   "outputs": [
    {
     "name": "stdout",
     "output_type": "stream",
     "text": [
      "Number of 1: 1987 Out of 2238\n"
     ]
    }
   ],
   "source": [
    "j = 0\n",
    "for i in predictions:\n",
    "    if i == 1:\n",
    "        j += 1\n",
    "print('Number of 1:', j, 'Out of', len(X_2500structures))"
   ]
  },
  {
   "cell_type": "code",
   "execution_count": 18,
   "id": "49a0560b",
   "metadata": {},
   "outputs": [
    {
     "data": {
      "text/plain": [
       "1"
      ]
     },
     "execution_count": 18,
     "metadata": {},
     "output_type": "execute_result"
    }
   ],
   "source": [
    "predictions[10]"
   ]
  }
 ],
 "metadata": {
  "kernelspec": {
   "display_name": "Python 3",
   "language": "python",
   "name": "python3"
  },
  "language_info": {
   "codemirror_mode": {
    "name": "ipython",
    "version": 3
   },
   "file_extension": ".py",
   "mimetype": "text/x-python",
   "name": "python",
   "nbconvert_exporter": "python",
   "pygments_lexer": "ipython3",
   "version": "3.7.11"
  }
 },
 "nbformat": 4,
 "nbformat_minor": 5
}
