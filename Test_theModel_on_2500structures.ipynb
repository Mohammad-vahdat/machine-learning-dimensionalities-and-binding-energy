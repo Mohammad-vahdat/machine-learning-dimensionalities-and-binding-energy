{
 "cells": [
  {
   "cell_type": "code",
   "execution_count": 1,
   "id": "71118d66",
   "metadata": {},
   "outputs": [],
   "source": [
    "import ase\n",
    "import ase.io\n",
    "from ase.io import xsf\n",
    "import pandas as pd\n",
    "import json\n",
    "import seaborn as sns\n",
    "import matplotlib.pyplot as plt\n",
    "import os\n",
    "import numpy as np\n",
    "%matplotlib inline"
   ]
  },
  {
   "cell_type": "code",
   "execution_count": 3,
   "id": "252e2051",
   "metadata": {},
   "outputs": [
    {
     "data": {
      "text/html": [
       "<div>\n",
       "<style scoped>\n",
       "    .dataframe tbody tr th:only-of-type {\n",
       "        vertical-align: middle;\n",
       "    }\n",
       "\n",
       "    .dataframe tbody tr th {\n",
       "        vertical-align: top;\n",
       "    }\n",
       "\n",
       "    .dataframe thead th {\n",
       "        text-align: right;\n",
       "    }\n",
       "</style>\n",
       "<table border=\"1\" class=\"dataframe\">\n",
       "  <thead>\n",
       "    <tr style=\"text-align: right;\">\n",
       "      <th></th>\n",
       "      <th>0</th>\n",
       "      <th>1</th>\n",
       "      <th>2</th>\n",
       "      <th>3</th>\n",
       "      <th>4</th>\n",
       "      <th>5</th>\n",
       "      <th>6</th>\n",
       "      <th>7</th>\n",
       "      <th>8</th>\n",
       "      <th>9</th>\n",
       "      <th>...</th>\n",
       "      <th>264</th>\n",
       "      <th>265</th>\n",
       "      <th>266</th>\n",
       "      <th>267</th>\n",
       "      <th>268</th>\n",
       "      <th>269</th>\n",
       "      <th>270</th>\n",
       "      <th>271</th>\n",
       "      <th>272</th>\n",
       "      <th>label</th>\n",
       "    </tr>\n",
       "  </thead>\n",
       "  <tbody>\n",
       "    <tr>\n",
       "      <th>0</th>\n",
       "      <td>NaN</td>\n",
       "      <td>NaN</td>\n",
       "      <td>NaN</td>\n",
       "      <td>NaN</td>\n",
       "      <td>NaN</td>\n",
       "      <td>NaN</td>\n",
       "      <td>NaN</td>\n",
       "      <td>NaN</td>\n",
       "      <td>NaN</td>\n",
       "      <td>NaN</td>\n",
       "      <td>...</td>\n",
       "      <td>57.777778</td>\n",
       "      <td>64.0</td>\n",
       "      <td>0.130435</td>\n",
       "      <td>0.217391</td>\n",
       "      <td>0.652174</td>\n",
       "      <td>0.000000</td>\n",
       "      <td>1.0</td>\n",
       "      <td>0.209607</td>\n",
       "      <td>0.046579</td>\n",
       "      <td>EE</td>\n",
       "    </tr>\n",
       "    <tr>\n",
       "      <th>1</th>\n",
       "      <td>6.000000</td>\n",
       "      <td>10.432235</td>\n",
       "      <td>4.432235</td>\n",
       "      <td>8.954823</td>\n",
       "      <td>1.969882</td>\n",
       "      <td>0.101871</td>\n",
       "      <td>1.076403</td>\n",
       "      <td>0.847193</td>\n",
       "      <td>1.119514e-11</td>\n",
       "      <td>0.171207</td>\n",
       "      <td>...</td>\n",
       "      <td>73.333333</td>\n",
       "      <td>64.0</td>\n",
       "      <td>0.272727</td>\n",
       "      <td>0.454545</td>\n",
       "      <td>0.272727</td>\n",
       "      <td>0.000000</td>\n",
       "      <td>1.0</td>\n",
       "      <td>0.357395</td>\n",
       "      <td>0.079421</td>\n",
       "      <td>EE</td>\n",
       "    </tr>\n",
       "    <tr>\n",
       "      <th>2</th>\n",
       "      <td>9.052693</td>\n",
       "      <td>11.479272</td>\n",
       "      <td>2.426579</td>\n",
       "      <td>9.749345</td>\n",
       "      <td>0.864963</td>\n",
       "      <td>0.020033</td>\n",
       "      <td>1.032994</td>\n",
       "      <td>0.959935</td>\n",
       "      <td>2.631480e-02</td>\n",
       "      <td>0.125121</td>\n",
       "      <td>...</td>\n",
       "      <td>15.750000</td>\n",
       "      <td>152.0</td>\n",
       "      <td>0.129032</td>\n",
       "      <td>0.193548</td>\n",
       "      <td>0.483871</td>\n",
       "      <td>0.193548</td>\n",
       "      <td>0.0</td>\n",
       "      <td>0.168813</td>\n",
       "      <td>0.031652</td>\n",
       "      <td>EE</td>\n",
       "    </tr>\n",
       "    <tr>\n",
       "      <th>3</th>\n",
       "      <td>10.187778</td>\n",
       "      <td>12.638871</td>\n",
       "      <td>2.451093</td>\n",
       "      <td>11.821840</td>\n",
       "      <td>1.089375</td>\n",
       "      <td>0.050764</td>\n",
       "      <td>1.038073</td>\n",
       "      <td>0.923854</td>\n",
       "      <td>4.593043e-02</td>\n",
       "      <td>0.102799</td>\n",
       "      <td>...</td>\n",
       "      <td>28.000000</td>\n",
       "      <td>229.0</td>\n",
       "      <td>0.200000</td>\n",
       "      <td>0.000000</td>\n",
       "      <td>0.333333</td>\n",
       "      <td>0.466667</td>\n",
       "      <td>0.0</td>\n",
       "      <td>0.265103</td>\n",
       "      <td>0.058912</td>\n",
       "      <td>PE</td>\n",
       "    </tr>\n",
       "    <tr>\n",
       "      <th>4</th>\n",
       "      <td>9.198422</td>\n",
       "      <td>14.426225</td>\n",
       "      <td>5.227803</td>\n",
       "      <td>11.335849</td>\n",
       "      <td>2.060251</td>\n",
       "      <td>0.087363</td>\n",
       "      <td>1.131045</td>\n",
       "      <td>0.914155</td>\n",
       "      <td>9.864448e-02</td>\n",
       "      <td>0.120736</td>\n",
       "      <td>...</td>\n",
       "      <td>65.555556</td>\n",
       "      <td>64.0</td>\n",
       "      <td>0.250000</td>\n",
       "      <td>0.250000</td>\n",
       "      <td>0.500000</td>\n",
       "      <td>0.000000</td>\n",
       "      <td>1.0</td>\n",
       "      <td>0.543070</td>\n",
       "      <td>0.104828</td>\n",
       "      <td>EE</td>\n",
       "    </tr>\n",
       "  </tbody>\n",
       "</table>\n",
       "<p>5 rows × 274 columns</p>\n",
       "</div>"
      ],
      "text/plain": [
       "           0          1         2          3         4         5         6  \\\n",
       "0        NaN        NaN       NaN        NaN       NaN       NaN       NaN   \n",
       "1   6.000000  10.432235  4.432235   8.954823  1.969882  0.101871  1.076403   \n",
       "2   9.052693  11.479272  2.426579   9.749345  0.864963  0.020033  1.032994   \n",
       "3  10.187778  12.638871  2.451093  11.821840  1.089375  0.050764  1.038073   \n",
       "4   9.198422  14.426225  5.227803  11.335849  2.060251  0.087363  1.131045   \n",
       "\n",
       "          7             8         9  ...        264    265       266  \\\n",
       "0       NaN           NaN       NaN  ...  57.777778   64.0  0.130435   \n",
       "1  0.847193  1.119514e-11  0.171207  ...  73.333333   64.0  0.272727   \n",
       "2  0.959935  2.631480e-02  0.125121  ...  15.750000  152.0  0.129032   \n",
       "3  0.923854  4.593043e-02  0.102799  ...  28.000000  229.0  0.200000   \n",
       "4  0.914155  9.864448e-02  0.120736  ...  65.555556   64.0  0.250000   \n",
       "\n",
       "        267       268       269  270       271       272  label  \n",
       "0  0.217391  0.652174  0.000000  1.0  0.209607  0.046579     EE  \n",
       "1  0.454545  0.272727  0.000000  1.0  0.357395  0.079421     EE  \n",
       "2  0.193548  0.483871  0.193548  0.0  0.168813  0.031652     EE  \n",
       "3  0.000000  0.333333  0.466667  0.0  0.265103  0.058912     PE  \n",
       "4  0.250000  0.500000  0.000000  1.0  0.543070  0.104828     EE  \n",
       "\n",
       "[5 rows x 274 columns]"
      ]
     },
     "execution_count": 3,
     "metadata": {},
     "output_type": "execute_result"
    }
   ],
   "source": [
    "df = pd.read_pickle(\"features_MultipleFeaturizer.pkl\")\n",
    "df.head()"
   ]
  },
  {
   "cell_type": "code",
   "execution_count": 4,
   "id": "566b82ab",
   "metadata": {},
   "outputs": [],
   "source": [
    "df_binary = df.dropna()"
   ]
  },
  {
   "cell_type": "code",
   "execution_count": 7,
   "id": "88ac6a3c",
   "metadata": {},
   "outputs": [
    {
     "data": {
      "text/html": [
       "<div>\n",
       "<style scoped>\n",
       "    .dataframe tbody tr th:only-of-type {\n",
       "        vertical-align: middle;\n",
       "    }\n",
       "\n",
       "    .dataframe tbody tr th {\n",
       "        vertical-align: top;\n",
       "    }\n",
       "\n",
       "    .dataframe thead th {\n",
       "        text-align: right;\n",
       "    }\n",
       "</style>\n",
       "<table border=\"1\" class=\"dataframe\">\n",
       "  <thead>\n",
       "    <tr style=\"text-align: right;\">\n",
       "      <th></th>\n",
       "      <th>0</th>\n",
       "      <th>1</th>\n",
       "      <th>2</th>\n",
       "      <th>3</th>\n",
       "      <th>4</th>\n",
       "      <th>5</th>\n",
       "      <th>6</th>\n",
       "      <th>7</th>\n",
       "      <th>8</th>\n",
       "      <th>9</th>\n",
       "      <th>...</th>\n",
       "      <th>264</th>\n",
       "      <th>265</th>\n",
       "      <th>266</th>\n",
       "      <th>267</th>\n",
       "      <th>268</th>\n",
       "      <th>269</th>\n",
       "      <th>270</th>\n",
       "      <th>271</th>\n",
       "      <th>272</th>\n",
       "      <th>label</th>\n",
       "    </tr>\n",
       "  </thead>\n",
       "  <tbody>\n",
       "    <tr>\n",
       "      <th>1</th>\n",
       "      <td>6.000000</td>\n",
       "      <td>10.432235</td>\n",
       "      <td>4.432235</td>\n",
       "      <td>8.954823</td>\n",
       "      <td>1.969882</td>\n",
       "      <td>0.101871</td>\n",
       "      <td>1.076403</td>\n",
       "      <td>0.847193</td>\n",
       "      <td>1.119514e-11</td>\n",
       "      <td>0.171207</td>\n",
       "      <td>...</td>\n",
       "      <td>73.333333</td>\n",
       "      <td>64.0</td>\n",
       "      <td>0.272727</td>\n",
       "      <td>0.454545</td>\n",
       "      <td>0.272727</td>\n",
       "      <td>0.000000</td>\n",
       "      <td>1.0</td>\n",
       "      <td>0.357395</td>\n",
       "      <td>0.079421</td>\n",
       "      <td>1</td>\n",
       "    </tr>\n",
       "    <tr>\n",
       "      <th>2</th>\n",
       "      <td>9.052693</td>\n",
       "      <td>11.479272</td>\n",
       "      <td>2.426579</td>\n",
       "      <td>9.749345</td>\n",
       "      <td>0.864963</td>\n",
       "      <td>0.020033</td>\n",
       "      <td>1.032994</td>\n",
       "      <td>0.959935</td>\n",
       "      <td>2.631480e-02</td>\n",
       "      <td>0.125121</td>\n",
       "      <td>...</td>\n",
       "      <td>15.750000</td>\n",
       "      <td>152.0</td>\n",
       "      <td>0.129032</td>\n",
       "      <td>0.193548</td>\n",
       "      <td>0.483871</td>\n",
       "      <td>0.193548</td>\n",
       "      <td>0.0</td>\n",
       "      <td>0.168813</td>\n",
       "      <td>0.031652</td>\n",
       "      <td>1</td>\n",
       "    </tr>\n",
       "    <tr>\n",
       "      <th>3</th>\n",
       "      <td>10.187778</td>\n",
       "      <td>12.638871</td>\n",
       "      <td>2.451093</td>\n",
       "      <td>11.821840</td>\n",
       "      <td>1.089375</td>\n",
       "      <td>0.050764</td>\n",
       "      <td>1.038073</td>\n",
       "      <td>0.923854</td>\n",
       "      <td>4.593043e-02</td>\n",
       "      <td>0.102799</td>\n",
       "      <td>...</td>\n",
       "      <td>28.000000</td>\n",
       "      <td>229.0</td>\n",
       "      <td>0.200000</td>\n",
       "      <td>0.000000</td>\n",
       "      <td>0.333333</td>\n",
       "      <td>0.466667</td>\n",
       "      <td>0.0</td>\n",
       "      <td>0.265103</td>\n",
       "      <td>0.058912</td>\n",
       "      <td>1</td>\n",
       "    </tr>\n",
       "    <tr>\n",
       "      <th>4</th>\n",
       "      <td>9.198422</td>\n",
       "      <td>14.426225</td>\n",
       "      <td>5.227803</td>\n",
       "      <td>11.335849</td>\n",
       "      <td>2.060251</td>\n",
       "      <td>0.087363</td>\n",
       "      <td>1.131045</td>\n",
       "      <td>0.914155</td>\n",
       "      <td>9.864448e-02</td>\n",
       "      <td>0.120736</td>\n",
       "      <td>...</td>\n",
       "      <td>65.555556</td>\n",
       "      <td>64.0</td>\n",
       "      <td>0.250000</td>\n",
       "      <td>0.250000</td>\n",
       "      <td>0.500000</td>\n",
       "      <td>0.000000</td>\n",
       "      <td>1.0</td>\n",
       "      <td>0.543070</td>\n",
       "      <td>0.104828</td>\n",
       "      <td>1</td>\n",
       "    </tr>\n",
       "    <tr>\n",
       "      <th>5</th>\n",
       "      <td>4.297802</td>\n",
       "      <td>10.295063</td>\n",
       "      <td>5.997261</td>\n",
       "      <td>8.638179</td>\n",
       "      <td>1.860161</td>\n",
       "      <td>0.115771</td>\n",
       "      <td>1.081628</td>\n",
       "      <td>0.729867</td>\n",
       "      <td>6.790509e-02</td>\n",
       "      <td>0.240869</td>\n",
       "      <td>...</td>\n",
       "      <td>71.724490</td>\n",
       "      <td>12.0</td>\n",
       "      <td>0.181818</td>\n",
       "      <td>0.311688</td>\n",
       "      <td>0.324675</td>\n",
       "      <td>0.181818</td>\n",
       "      <td>1.0</td>\n",
       "      <td>0.400240</td>\n",
       "      <td>0.091499</td>\n",
       "      <td>1</td>\n",
       "    </tr>\n",
       "  </tbody>\n",
       "</table>\n",
       "<p>5 rows × 274 columns</p>\n",
       "</div>"
      ],
      "text/plain": [
       "           0          1         2          3         4         5         6  \\\n",
       "1   6.000000  10.432235  4.432235   8.954823  1.969882  0.101871  1.076403   \n",
       "2   9.052693  11.479272  2.426579   9.749345  0.864963  0.020033  1.032994   \n",
       "3  10.187778  12.638871  2.451093  11.821840  1.089375  0.050764  1.038073   \n",
       "4   9.198422  14.426225  5.227803  11.335849  2.060251  0.087363  1.131045   \n",
       "5   4.297802  10.295063  5.997261   8.638179  1.860161  0.115771  1.081628   \n",
       "\n",
       "          7             8         9  ...        264    265       266  \\\n",
       "1  0.847193  1.119514e-11  0.171207  ...  73.333333   64.0  0.272727   \n",
       "2  0.959935  2.631480e-02  0.125121  ...  15.750000  152.0  0.129032   \n",
       "3  0.923854  4.593043e-02  0.102799  ...  28.000000  229.0  0.200000   \n",
       "4  0.914155  9.864448e-02  0.120736  ...  65.555556   64.0  0.250000   \n",
       "5  0.729867  6.790509e-02  0.240869  ...  71.724490   12.0  0.181818   \n",
       "\n",
       "        267       268       269  270       271       272  label  \n",
       "1  0.454545  0.272727  0.000000  1.0  0.357395  0.079421      1  \n",
       "2  0.193548  0.483871  0.193548  0.0  0.168813  0.031652      1  \n",
       "3  0.000000  0.333333  0.466667  0.0  0.265103  0.058912      1  \n",
       "4  0.250000  0.500000  0.000000  1.0  0.543070  0.104828      1  \n",
       "5  0.311688  0.324675  0.181818  1.0  0.400240  0.091499      1  \n",
       "\n",
       "[5 rows x 274 columns]"
      ]
     },
     "execution_count": 7,
     "metadata": {},
     "output_type": "execute_result"
    }
   ],
   "source": [
    "df_binary.replace(to_replace='PE', value='EE', inplace=True)\n",
    "df_binary.replace(to_replace='EE', value=1, inplace=True)\n",
    "df_binary.replace(to_replace='HBE', value=0, inplace=True)\n",
    "df_binary.head()"
   ]
  },
  {
   "cell_type": "code",
   "execution_count": 8,
   "id": "ca587723",
   "metadata": {},
   "outputs": [],
   "source": [
    "X = df_binary.drop('label', axis = 1).values\n",
    "y = df_binary['label'].values"
   ]
  },
  {
   "cell_type": "code",
   "execution_count": 9,
   "id": "312c2580",
   "metadata": {},
   "outputs": [],
   "source": [
    "from sklearn.model_selection import train_test_split"
   ]
  },
  {
   "cell_type": "code",
   "execution_count": 10,
   "id": "0f567930",
   "metadata": {},
   "outputs": [],
   "source": [
    "X_train, X_test, y_train, y_test = train_test_split(X, y, test_size=0.3, random_state=101)"
   ]
  },
  {
   "cell_type": "code",
   "execution_count": 11,
   "id": "4a5e2577",
   "metadata": {},
   "outputs": [],
   "source": [
    "from sklearn.ensemble import RandomForestClassifier"
   ]
  },
  {
   "cell_type": "code",
   "execution_count": 12,
   "id": "c7038e54",
   "metadata": {},
   "outputs": [
    {
     "data": {
      "text/plain": [
       "(1549, 273)"
      ]
     },
     "execution_count": 12,
     "metadata": {},
     "output_type": "execute_result"
    }
   ],
   "source": [
    "X_train.shape"
   ]
  },
  {
   "cell_type": "code",
   "execution_count": 13,
   "id": "378b1698",
   "metadata": {},
   "outputs": [],
   "source": [
    "RF = RandomForestClassifier(n_estimators=600)"
   ]
  },
  {
   "cell_type": "code",
   "execution_count": 14,
   "id": "3a068318",
   "metadata": {},
   "outputs": [
    {
     "data": {
      "text/plain": [
       "RandomForestClassifier(n_estimators=600)"
      ]
     },
     "execution_count": 14,
     "metadata": {},
     "output_type": "execute_result"
    }
   ],
   "source": [
    "RF.fit(X_train,y_train)"
   ]
  },
  {
   "cell_type": "code",
   "execution_count": 16,
   "id": "a63177d7",
   "metadata": {},
   "outputs": [],
   "source": [
    "pred_RF = RF.predict(X_test)"
   ]
  },
  {
   "cell_type": "code",
   "execution_count": 17,
   "id": "09f82b1d",
   "metadata": {},
   "outputs": [],
   "source": [
    "from sklearn.metrics import classification_report, confusion_matrix"
   ]
  },
  {
   "cell_type": "code",
   "execution_count": 18,
   "id": "ef564c06",
   "metadata": {},
   "outputs": [
    {
     "name": "stdout",
     "output_type": "stream",
     "text": [
      "              precision    recall  f1-score   support\n",
      "\n",
      "           0       0.83      0.53      0.65       139\n",
      "           1       0.89      0.97      0.93       525\n",
      "\n",
      "    accuracy                           0.88       664\n",
      "   macro avg       0.86      0.75      0.79       664\n",
      "weighted avg       0.88      0.88      0.87       664\n",
      "\n",
      "\n",
      "\n",
      "[[ 74  65]\n",
      " [ 15 510]]\n"
     ]
    }
   ],
   "source": [
    "print(classification_report(y_test, pred_RF))\n",
    "print(\"\\n\")\n",
    "print(confusion_matrix(y_test, pred_RF))"
   ]
  },
  {
   "cell_type": "code",
   "execution_count": 19,
   "id": "6f9842da",
   "metadata": {},
   "outputs": [],
   "source": [
    "df_features_2500structures = pd.read_pickle(\"features_MultipleFeaturizer_2500Structures.pkl\")"
   ]
  },
  {
   "cell_type": "code",
   "execution_count": 23,
   "id": "36236b9c",
   "metadata": {},
   "outputs": [],
   "source": [
    "df_features_2500structures = df_features_2500structures.dropna()"
   ]
  },
  {
   "cell_type": "code",
   "execution_count": 24,
   "id": "387d59b5",
   "metadata": {},
   "outputs": [],
   "source": [
    "X_2500structures = df_features_2500structures.values"
   ]
  },
  {
   "cell_type": "code",
   "execution_count": 25,
   "id": "73baec46",
   "metadata": {},
   "outputs": [],
   "source": [
    "predictions = RF.predict(X_2500structures)"
   ]
  },
  {
   "cell_type": "code",
   "execution_count": 32,
   "id": "894a37fd",
   "metadata": {},
   "outputs": [
    {
     "name": "stdout",
     "output_type": "stream",
     "text": [
      "1934\n"
     ]
    }
   ],
   "source": [
    "j = 0\n",
    "for i in predictions:\n",
    "    if i == 1:\n",
    "        j += 1\n",
    "print(j)"
   ]
  },
  {
   "cell_type": "code",
   "execution_count": 98,
   "id": "49a0560b",
   "metadata": {},
   "outputs": [
    {
     "data": {
      "text/plain": [
       "1"
      ]
     },
     "execution_count": 98,
     "metadata": {},
     "output_type": "execute_result"
    }
   ],
   "source": [
    "predictions[10]"
   ]
  },
  {
   "cell_type": "code",
   "execution_count": 35,
   "id": "bb5d21a9",
   "metadata": {},
   "outputs": [],
   "source": [
    "data = pd.read_pickle(\"DataFrame_all_structures_sample_2500.pkl\")"
   ]
  },
  {
   "cell_type": "code",
   "execution_count": 99,
   "id": "45f3126d",
   "metadata": {},
   "outputs": [],
   "source": [
    "structure = data.iloc[10]['Structure']"
   ]
  },
  {
   "cell_type": "code",
   "execution_count": 83,
   "id": "07d83a7b",
   "metadata": {},
   "outputs": [],
   "source": [
    "from ase.visualize import view\n",
    "import milad\n",
    "from milad import asetools\n",
    "from matminer.featurizers.conversions import AseAtomsAdaptor"
   ]
  },
  {
   "cell_type": "code",
   "execution_count": 84,
   "id": "b5c8b157",
   "metadata": {},
   "outputs": [],
   "source": [
    "PTOASE = AseAtomsAdaptor()"
   ]
  },
  {
   "cell_type": "code",
   "execution_count": 100,
   "id": "3dfb9021",
   "metadata": {},
   "outputs": [],
   "source": [
    "a = PTOASE.get_atoms(structure)"
   ]
  },
  {
   "cell_type": "code",
   "execution_count": 101,
   "id": "66bb6548",
   "metadata": {},
   "outputs": [
    {
     "data": {
      "text/plain": [
       "<subprocess.Popen at 0x7fd1b0dbd490>"
      ]
     },
     "execution_count": 101,
     "metadata": {},
     "output_type": "execute_result"
    }
   ],
   "source": [
    "view(a)"
   ]
  },
  {
   "cell_type": "code",
   "execution_count": null,
   "id": "7d8a35e4",
   "metadata": {},
   "outputs": [],
   "source": []
  }
 ],
 "metadata": {
  "kernelspec": {
   "display_name": "Python 3",
   "language": "python",
   "name": "python3"
  },
  "language_info": {
   "codemirror_mode": {
    "name": "ipython",
    "version": 3
   },
   "file_extension": ".py",
   "mimetype": "text/x-python",
   "name": "python",
   "nbconvert_exporter": "python",
   "pygments_lexer": "ipython3",
   "version": "3.7.11"
  }
 },
 "nbformat": 4,
 "nbformat_minor": 5
}
