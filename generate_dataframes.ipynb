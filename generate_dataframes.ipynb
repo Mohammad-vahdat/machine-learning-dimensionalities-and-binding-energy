{
 "cells": [
  {
   "cell_type": "code",
   "execution_count": 1,
   "metadata": {},
   "outputs": [
    {
     "name": "stderr",
     "output_type": "stream",
     "text": [
      "/Users/mohammad/anaconda3/lib/python3.7/site-packages/statsmodels/tools/_testing.py:19: FutureWarning: pandas.util.testing is deprecated. Use the functions in the public API at pandas.testing instead.\n",
      "  import pandas.util.testing as tm\n"
     ]
    }
   ],
   "source": [
    "import os\n",
    "import json\n",
    "from collections import defaultdict\n",
    "import matplotlib.pyplot as plt\n",
    "import pandas as pd\n",
    "import seaborn as sns\n",
    "\n",
    "%matplotlib inline"
   ]
  },
  {
   "cell_type": "code",
   "execution_count": 2,
   "metadata": {},
   "outputs": [],
   "source": [
    "with open(os.path.join('data', 'structures_df2_calc_with_bands_be.json')) as fhandle:\n",
    "        df2 = json.load(fhandle)\n",
    "with open(os.path.join('data', 'structures_rvv10_calc_with_bands_be.json')) as fhandle:\n",
    "        rvv10 = json.load(fhandle)\n",
    "with open(os.path.join('data', 'structures_revpbe_calc_with_bands_be.json')) as fhandle:\n",
    "        revpbe = json.load(fhandle)"
   ]
  },
  {
   "cell_type": "code",
   "execution_count": 3,
   "metadata": {},
   "outputs": [],
   "source": [
    "uiids = []\n",
    "cells = []\n",
    "volumes = []\n",
    "relevant_dimension_of_highest_dimensionality_substructures = []\n",
    "binding_energy_per_substructures = []\n",
    "binding_energies = []\n",
    "labels = []\n",
    "number_of_atoms_in_bulks = []\n",
    "number_of_highest_dimensionality_substructures_in_bulks = []\n",
    "sub_structure_spgs = []\n",
    "sub_structure_dims = []\n",
    "energy_bulks = []\n",
    "sub_structure_formulas = []\n",
    "for key in df2.keys():\n",
    "    try:\n",
    "        relevant_dimension_of_highest_dimensionality_substructures.append(df2[key]['binding_energy']['relevant_dimension_of_highest_dimensionality_substructure'])\n",
    "        uiids.append(key)\n",
    "        cells.append(df2[key]['cell'])\n",
    "        volumes.append(df2[key]['volume'])\n",
    "        binding_energy_per_substructures.append(df2[key]['binding_energy']['binding_energy_per_substructure'])\n",
    "        tmp = ( -1000. *\n",
    "                    df2[key]['binding_energy']['binding_energy_per_substructure']/\n",
    "                    df2[key]['binding_energy']['relevant_dimension_of_highest_dimensionality_substructure'])\n",
    "        binding_energies.append(tmp)\n",
    "        \n",
    "        if tmp <= 30:\n",
    "            labels.append('EE')\n",
    "        elif 30 < tmp <= 130:\n",
    "            labels.append('PE')\n",
    "        else:\n",
    "            labels.append('HBE')\n",
    "                \n",
    "        number_of_atoms_in_bulks.append(df2[key]['binding_energy']['number_of_atoms_in_bulk'])\n",
    "        number_of_highest_dimensionality_substructures_in_bulks.append(df2[key]['binding_energy']['number_of_highest_dimensionality_substructures_in_bulk'])\n",
    "        sub_structure_spgs.append(df2[key]['binding_energy']['sub_structure_spg'])\n",
    "        sub_structure_dims.append(df2[key]['binding_energy']['sub_structure_dim'])\n",
    "        energy_bulks.append(df2[key]['binding_energy']['energy_bulk'])\n",
    "        sub_structure_formulas.append(df2[key]['binding_energy']['sub_structure_formulas'])\n",
    "    except KeyError:\n",
    "        continue\n",
    "\n",
    "data_df2 = {\n",
    "    'uiid' : uiids,\n",
    "    'cell' : cells,\n",
    "    'volume' : volumes,\n",
    "    'relevant_dimension_of_highest_dimensionality_substructure' : relevant_dimension_of_highest_dimensionality_substructures,\n",
    "    'binding_energy_per_substructure' : binding_energy_per_substructures,\n",
    "    'binding_energy' : binding_energies,\n",
    "    'label' : labels,\n",
    "    'number_of_atoms_in_bulk' : number_of_atoms_in_bulks,\n",
    "    'number_of_highest_dimensionality_substructures_in_bulk' : number_of_highest_dimensionality_substructures_in_bulks,\n",
    "    'sub_structure_spg' : sub_structure_spgs,\n",
    "    'sub_structure_dim' : sub_structure_dims,\n",
    "    'energy_bulk' : energy_bulks,\n",
    "    'sub_structure_formula' : sub_structure_formulas\n",
    "}\n",
    "\n",
    "dataframe_df2 = pd.DataFrame(data_df2)"
   ]
  },
  {
   "cell_type": "code",
   "execution_count": 4,
   "metadata": {},
   "outputs": [
    {
     "data": {
      "text/html": [
       "<div>\n",
       "<style scoped>\n",
       "    .dataframe tbody tr th:only-of-type {\n",
       "        vertical-align: middle;\n",
       "    }\n",
       "\n",
       "    .dataframe tbody tr th {\n",
       "        vertical-align: top;\n",
       "    }\n",
       "\n",
       "    .dataframe thead th {\n",
       "        text-align: right;\n",
       "    }\n",
       "</style>\n",
       "<table border=\"1\" class=\"dataframe\">\n",
       "  <thead>\n",
       "    <tr style=\"text-align: right;\">\n",
       "      <th></th>\n",
       "      <th>uiid</th>\n",
       "      <th>cell</th>\n",
       "      <th>volume</th>\n",
       "      <th>relevant_dimension_of_highest_dimensionality_substructure</th>\n",
       "      <th>binding_energy_per_substructure</th>\n",
       "      <th>binding_energy</th>\n",
       "      <th>label</th>\n",
       "      <th>number_of_atoms_in_bulk</th>\n",
       "      <th>number_of_highest_dimensionality_substructures_in_bulk</th>\n",
       "      <th>sub_structure_spg</th>\n",
       "      <th>sub_structure_dim</th>\n",
       "      <th>energy_bulk</th>\n",
       "      <th>sub_structure_formula</th>\n",
       "    </tr>\n",
       "  </thead>\n",
       "  <tbody>\n",
       "    <tr>\n",
       "      <th>0</th>\n",
       "      <td>dec2d070-d2ad-41f3-b742-786368ade33a</td>\n",
       "      <td>[[2.1044124705, 1.2149831063, 34.279850741], [...</td>\n",
       "      <td>525.885600</td>\n",
       "      <td>15.340954</td>\n",
       "      <td>-0.165000</td>\n",
       "      <td>10.755509</td>\n",
       "      <td>EE</td>\n",
       "      <td>15</td>\n",
       "      <td>5</td>\n",
       "      <td>[C2/m (12), C2/m (12), C2/m (12), C2/m (12), C...</td>\n",
       "      <td>[2, 2, 2, 2, 2]</td>\n",
       "      <td>-17198.871453</td>\n",
       "      <td>[CdI2, CdI2, CdI2, CdI2, CdI2]</td>\n",
       "    </tr>\n",
       "    <tr>\n",
       "      <th>1</th>\n",
       "      <td>51e630e8-d94f-421c-bd1e-3e2f298e740c</td>\n",
       "      <td>[[3.35814166734363, 3.21879556184565e-14, -3.2...</td>\n",
       "      <td>52.188194</td>\n",
       "      <td>9.766268</td>\n",
       "      <td>-0.149888</td>\n",
       "      <td>15.347484</td>\n",
       "      <td>EE</td>\n",
       "      <td>3</td>\n",
       "      <td>1</td>\n",
       "      <td>[P-3m1 (164)]</td>\n",
       "      <td>[2]</td>\n",
       "      <td>-5361.474444</td>\n",
       "      <td>[Cl2Fe]</td>\n",
       "    </tr>\n",
       "    <tr>\n",
       "      <th>2</th>\n",
       "      <td>527e7b32-d211-4743-9631-120122819190</td>\n",
       "      <td>[[2.14789490163679, -12.5878501270869, 0.0], [...</td>\n",
       "      <td>232.520056</td>\n",
       "      <td>18.471785</td>\n",
       "      <td>-0.454048</td>\n",
       "      <td>24.580650</td>\n",
       "      <td>EE</td>\n",
       "      <td>8</td>\n",
       "      <td>1</td>\n",
       "      <td>[P2_1/m (11)]</td>\n",
       "      <td>[2]</td>\n",
       "      <td>-26090.090963</td>\n",
       "      <td>[Er2Te6]</td>\n",
       "    </tr>\n",
       "    <tr>\n",
       "      <th>3</th>\n",
       "      <td>37bf14b1-6529-436c-a519-e1ad9b208784</td>\n",
       "      <td>[[-2.0745739339, 2.0745739339, 7.4278571834], ...</td>\n",
       "      <td>127.873741</td>\n",
       "      <td>17.215428</td>\n",
       "      <td>-0.747937</td>\n",
       "      <td>43.445746</td>\n",
       "      <td>PE</td>\n",
       "      <td>3</td>\n",
       "      <td>1</td>\n",
       "      <td>[C2/m (12)]</td>\n",
       "      <td>[2]</td>\n",
       "      <td>-2866.173187</td>\n",
       "      <td>[Ba2Hg]</td>\n",
       "    </tr>\n",
       "    <tr>\n",
       "      <th>4</th>\n",
       "      <td>e7a9cec3-f11a-4d16-a8c5-ebd758bb6592</td>\n",
       "      <td>[[4.6829418165, 0.0, 0.0], [0.0, 4.6829418165,...</td>\n",
       "      <td>166.823529</td>\n",
       "      <td>21.929944</td>\n",
       "      <td>-0.532853</td>\n",
       "      <td>24.297979</td>\n",
       "      <td>EE</td>\n",
       "      <td>6</td>\n",
       "      <td>1</td>\n",
       "      <td>[P4/nmm (129)]</td>\n",
       "      <td>[2]</td>\n",
       "      <td>-3217.539658</td>\n",
       "      <td>[Ba2H2I2]</td>\n",
       "    </tr>\n",
       "  </tbody>\n",
       "</table>\n",
       "</div>"
      ],
      "text/plain": [
       "                                   uiid  \\\n",
       "0  dec2d070-d2ad-41f3-b742-786368ade33a   \n",
       "1  51e630e8-d94f-421c-bd1e-3e2f298e740c   \n",
       "2  527e7b32-d211-4743-9631-120122819190   \n",
       "3  37bf14b1-6529-436c-a519-e1ad9b208784   \n",
       "4  e7a9cec3-f11a-4d16-a8c5-ebd758bb6592   \n",
       "\n",
       "                                                cell      volume  \\\n",
       "0  [[2.1044124705, 1.2149831063, 34.279850741], [...  525.885600   \n",
       "1  [[3.35814166734363, 3.21879556184565e-14, -3.2...   52.188194   \n",
       "2  [[2.14789490163679, -12.5878501270869, 0.0], [...  232.520056   \n",
       "3  [[-2.0745739339, 2.0745739339, 7.4278571834], ...  127.873741   \n",
       "4  [[4.6829418165, 0.0, 0.0], [0.0, 4.6829418165,...  166.823529   \n",
       "\n",
       "   relevant_dimension_of_highest_dimensionality_substructure  \\\n",
       "0                                          15.340954           \n",
       "1                                           9.766268           \n",
       "2                                          18.471785           \n",
       "3                                          17.215428           \n",
       "4                                          21.929944           \n",
       "\n",
       "   binding_energy_per_substructure  binding_energy label  \\\n",
       "0                        -0.165000       10.755509    EE   \n",
       "1                        -0.149888       15.347484    EE   \n",
       "2                        -0.454048       24.580650    EE   \n",
       "3                        -0.747937       43.445746    PE   \n",
       "4                        -0.532853       24.297979    EE   \n",
       "\n",
       "   number_of_atoms_in_bulk  \\\n",
       "0                       15   \n",
       "1                        3   \n",
       "2                        8   \n",
       "3                        3   \n",
       "4                        6   \n",
       "\n",
       "   number_of_highest_dimensionality_substructures_in_bulk  \\\n",
       "0                                                  5        \n",
       "1                                                  1        \n",
       "2                                                  1        \n",
       "3                                                  1        \n",
       "4                                                  1        \n",
       "\n",
       "                                   sub_structure_spg sub_structure_dim  \\\n",
       "0  [C2/m (12), C2/m (12), C2/m (12), C2/m (12), C...   [2, 2, 2, 2, 2]   \n",
       "1                                      [P-3m1 (164)]               [2]   \n",
       "2                                      [P2_1/m (11)]               [2]   \n",
       "3                                        [C2/m (12)]               [2]   \n",
       "4                                     [P4/nmm (129)]               [2]   \n",
       "\n",
       "    energy_bulk           sub_structure_formula  \n",
       "0 -17198.871453  [CdI2, CdI2, CdI2, CdI2, CdI2]  \n",
       "1  -5361.474444                         [Cl2Fe]  \n",
       "2 -26090.090963                        [Er2Te6]  \n",
       "3  -2866.173187                         [Ba2Hg]  \n",
       "4  -3217.539658                       [Ba2H2I2]  "
      ]
     },
     "execution_count": 4,
     "metadata": {},
     "output_type": "execute_result"
    }
   ],
   "source": [
    "dataframe_df2.head()"
   ]
  },
  {
   "cell_type": "code",
   "execution_count": 5,
   "metadata": {},
   "outputs": [
    {
     "name": "stdout",
     "output_type": "stream",
     "text": [
      "Found 2663 entries, these should be set D of the Mounet paper, maybe there is one structure that has been 'removed' by hand\n",
      "Structures containing BN:\n",
      "{\n",
      "  \"967b8f61-56d9-4082-8e85-cb834f47d8ac\": {\n",
      "    \"sub_structure_formulas\": [\n",
      "      \"BN\"\n",
      "    ],\n",
      "    \"rvv10\": 25.157073954185357,\n",
      "    \"df2\": 20.298162003656397\n",
      "  },\n",
      "  \"f7e2ff32-27ed-4c89-9c3c-4acbaffbb897\": {\n",
      "    \"sub_structure_formulas\": [\n",
      "      \"BN\"\n",
      "    ],\n",
      "    \"rvv10\": 25.073826446277092,\n",
      "    \"df2\": 20.06262819882249\n",
      "  },\n",
      "  \"8f2e38e9-01d5-4208-adaf-daa461ac8139\": {\n",
      "    \"sub_structure_formulas\": [\n",
      "      \"BN\"\n",
      "    ],\n",
      "    \"rvv10\": 24.43280244214127,\n",
      "    \"df2\": 19.38081606716093\n",
      "  }\n",
      "}\n"
     ]
    }
   ],
   "source": [
    "    binding_energies_raw = {}\n",
    "    for uuid_key in set(df2).union(rvv10):\n",
    "        subdict = {}\n",
    "        df2_binding_energy = df2.get(uuid_key, {}).get('binding_energy', {})\n",
    "        if df2_binding_energy:\n",
    "            subdict['df2'] = df2_binding_energy\n",
    "        rvv10_binding_energy = rvv10.get(uuid_key, {}).get('binding_energy', {})\n",
    "        if rvv10_binding_energy:\n",
    "            subdict['rvv10'] = rvv10_binding_energy\n",
    "        if subdict:\n",
    "            binding_energies_raw[uuid_key] = subdict\n",
    "    \n",
    "    print(\"Found {} entries, these should be set D of the Mounet paper, maybe there is one structure that has been 'removed' by hand\".format(\n",
    "        len(binding_energies_raw)))\n",
    "\n",
    "    binding_energies = {}\n",
    "    for key, val in binding_energies_raw.items():\n",
    "        subdict = defaultdict(dict)\n",
    "        subdict['sub_structure_formulas'] = []\n",
    "        for method in ['rvv10', 'df2']:\n",
    "            try:\n",
    "                # meV / ang^2, with positive sign\n",
    "                subdict[method] = ( -1000. *\n",
    "                    val[method]['binding_energy_per_substructure']/\n",
    "                    val[method]['relevant_dimension_of_highest_dimensionality_substructure'])\n",
    "                subdict['sub_structure_formulas'] += val[method]['sub_structure_formulas'] # Might need to skip the non-2D ones\n",
    "            except KeyError as exc:\n",
    "                # Binding energy not computed with this method\n",
    "                if str(exc) != \"'{}'\".format(method):\n",
    "                    print(str(exc), method)\n",
    "                    raise\n",
    "        subdict['sub_structure_formulas'] = sorted(set(subdict['sub_structure_formulas']))\n",
    "        binding_energies[key] = dict(subdict.items())\n",
    "    BN_structures = {k: v for k, v in binding_energies.items() if 'BN' in v['sub_structure_formulas']}\n",
    "    print(\"Structures containing BN:\")\n",
    "    print(json.dumps(BN_structures, indent=2))"
   ]
  },
  {
   "cell_type": "code",
   "execution_count": 6,
   "metadata": {},
   "outputs": [
    {
     "data": {
      "text/plain": [
       "2663"
      ]
     },
     "execution_count": 6,
     "metadata": {},
     "output_type": "execute_result"
    }
   ],
   "source": [
    "len (binding_energies)"
   ]
  },
  {
   "cell_type": "code",
   "execution_count": 7,
   "metadata": {},
   "outputs": [
    {
     "data": {
      "text/plain": [
       "2492"
      ]
     },
     "execution_count": 7,
     "metadata": {},
     "output_type": "execute_result"
    }
   ],
   "source": [
    "len (dataframe_df2['binding_energy'])"
   ]
  },
  {
   "cell_type": "code",
   "execution_count": 8,
   "metadata": {},
   "outputs": [
    {
     "data": {
      "text/html": [
       "<div>\n",
       "<style scoped>\n",
       "    .dataframe tbody tr th:only-of-type {\n",
       "        vertical-align: middle;\n",
       "    }\n",
       "\n",
       "    .dataframe tbody tr th {\n",
       "        vertical-align: top;\n",
       "    }\n",
       "\n",
       "    .dataframe thead th {\n",
       "        text-align: right;\n",
       "    }\n",
       "</style>\n",
       "<table border=\"1\" class=\"dataframe\">\n",
       "  <thead>\n",
       "    <tr style=\"text-align: right;\">\n",
       "      <th></th>\n",
       "      <th>uiid</th>\n",
       "      <th>cell</th>\n",
       "      <th>volume</th>\n",
       "      <th>relevant_dimension_of_highest_dimensionality_substructure</th>\n",
       "      <th>binding_energy_per_substructure</th>\n",
       "      <th>binding_energy</th>\n",
       "      <th>label</th>\n",
       "      <th>number_of_atoms_in_bulk</th>\n",
       "      <th>number_of_highest_dimensionality_substructures_in_bulk</th>\n",
       "      <th>sub_structure_spg</th>\n",
       "      <th>sub_structure_dim</th>\n",
       "      <th>energy_bulk</th>\n",
       "      <th>sub_structure_formula</th>\n",
       "    </tr>\n",
       "  </thead>\n",
       "  <tbody>\n",
       "    <tr>\n",
       "      <th>0</th>\n",
       "      <td>dec2d070-d2ad-41f3-b742-786368ade33a</td>\n",
       "      <td>[[2.1044124705, 1.2149831063, 34.279850741], [...</td>\n",
       "      <td>525.8856</td>\n",
       "      <td>15.340954</td>\n",
       "      <td>-0.165</td>\n",
       "      <td>10.755509</td>\n",
       "      <td>EE</td>\n",
       "      <td>15</td>\n",
       "      <td>5</td>\n",
       "      <td>[C2/m (12), C2/m (12), C2/m (12), C2/m (12), C...</td>\n",
       "      <td>[2, 2, 2, 2, 2]</td>\n",
       "      <td>-17198.871453</td>\n",
       "      <td>[CdI2, CdI2, CdI2, CdI2, CdI2]</td>\n",
       "    </tr>\n",
       "  </tbody>\n",
       "</table>\n",
       "</div>"
      ],
      "text/plain": [
       "                                   uiid  \\\n",
       "0  dec2d070-d2ad-41f3-b742-786368ade33a   \n",
       "\n",
       "                                                cell    volume  \\\n",
       "0  [[2.1044124705, 1.2149831063, 34.279850741], [...  525.8856   \n",
       "\n",
       "   relevant_dimension_of_highest_dimensionality_substructure  \\\n",
       "0                                          15.340954           \n",
       "\n",
       "   binding_energy_per_substructure  binding_energy label  \\\n",
       "0                           -0.165       10.755509    EE   \n",
       "\n",
       "   number_of_atoms_in_bulk  \\\n",
       "0                       15   \n",
       "\n",
       "   number_of_highest_dimensionality_substructures_in_bulk  \\\n",
       "0                                                  5        \n",
       "\n",
       "                                   sub_structure_spg sub_structure_dim  \\\n",
       "0  [C2/m (12), C2/m (12), C2/m (12), C2/m (12), C...   [2, 2, 2, 2, 2]   \n",
       "\n",
       "    energy_bulk           sub_structure_formula  \n",
       "0 -17198.871453  [CdI2, CdI2, CdI2, CdI2, CdI2]  "
      ]
     },
     "execution_count": 8,
     "metadata": {},
     "output_type": "execute_result"
    }
   ],
   "source": [
    "dataframe_df2[dataframe_df2['uiid'] == 'dec2d070-d2ad-41f3-b742-786368ade33a']"
   ]
  },
  {
   "cell_type": "code",
   "execution_count": 102,
   "metadata": {},
   "outputs": [
    {
     "data": {
      "text/plain": [
       "{'sub_structure_formulas': ['CdI2'],\n",
       " 'rvv10': 17.243582707583833,\n",
       " 'df2': 10.755508771455325}"
      ]
     },
     "execution_count": 102,
     "metadata": {},
     "output_type": "execute_result"
    }
   ],
   "source": [
    "binding_energies['dec2d070-d2ad-41f3-b742-786368ade33a']"
   ]
  },
  {
   "cell_type": "code",
   "execution_count": 110,
   "metadata": {},
   "outputs": [
    {
     "data": {
      "text/plain": [
       "<seaborn.axisgrid.FacetGrid at 0x7fc6815d9150>"
      ]
     },
     "execution_count": 110,
     "metadata": {},
     "output_type": "execute_result"
    },
    {
     "data": {
      "image/png": "[encoded data removed]",
      "text/plain": [
       "<Figure size 416.625x360 with 1 Axes>"
      ]
     },
     "metadata": {
      "needs_background": "light"
     },
     "output_type": "display_data"
    }
   ],
   "source": [
    "sns.lmplot(x = 'volume', y = 'binding_energy', data = dataframe_df2[dataframe_df2['binding_energy'] < 2000] , hue = 'label')"
   ]
  },
  {
   "cell_type": "code",
   "execution_count": 115,
   "metadata": {},
   "outputs": [
    {
     "data": {
      "text/plain": [
       "<matplotlib.axes._subplots.AxesSubplot at 0x7fc689566210>"
      ]
     },
     "execution_count": 115,
     "metadata": {},
     "output_type": "execute_result"
    },
    {
     "data": {
      "image/png": "[encoded data removed]",
      "text/plain": [
       "<Figure size 432x288 with 1 Axes>"
      ]
     },
     "metadata": {
      "needs_background": "light"
     },
     "output_type": "display_data"
    }
   ],
   "source": [
    "sns.distplot(dataframe_df2[dataframe_df2['binding_energy'] < 2000]['volume'] )"
   ]
  },
  {
   "cell_type": "code",
   "execution_count": 138,
   "metadata": {},
   "outputs": [
    {
     "data": {
      "text/plain": [
       "<seaborn.axisgrid.JointGrid at 0x7fc67a3b8910>"
      ]
     },
     "execution_count": 138,
     "metadata": {},
     "output_type": "execute_result"
    },
    {
     "data": {
      "image/png": "[encoded data removed]",
      "text/plain": [
       "<Figure size 432x432 with 3 Axes>"
      ]
     },
     "metadata": {
      "needs_background": "light"
     },
     "output_type": "display_data"
    }
   ],
   "source": [
    "sns.jointplot(x = 'volume', y = 'binding_energy', data = dataframe_df2[dataframe_df2['binding_energy'] < 2000], kind= 'scatter')"
   ]
  },
  {
   "cell_type": "code",
   "execution_count": 10,
   "metadata": {},
   "outputs": [
    {
     "data": {
      "text/plain": [
       "<AxesSubplot:xlabel='label', ylabel='count'>"
      ]
     },
     "execution_count": 10,
     "metadata": {},
     "output_type": "execute_result"
    },
    {
     "data": {
      "image/png": "[encoded data removed]",
      "text/plain": [
       "<Figure size 432x288 with 1 Axes>"
      ]
     },
     "metadata": {
      "needs_background": "light"
     },
     "output_type": "display_data"
    }
   ],
   "source": [
    "sns.countplot(x='label', data=dataframe_df2)"
   ]
  },
  {
   "cell_type": "code",
   "execution_count": 12,
   "metadata": {},
   "outputs": [],
   "source": [
    "#sns.stripplot(x = 'volume', y = 'relevant_dimension_of_highest_dimensionality_substructure', data=dataframe_df2, hue='label')"
   ]
  },
  {
   "cell_type": "code",
   "execution_count": null,
   "metadata": {},
   "outputs": [],
   "source": []
  }
 ],
 "metadata": {
  "kernelspec": {
   "display_name": "Python 3",
   "language": "python",
   "name": "python3"
  },
  "language_info": {
   "codemirror_mode": {
    "name": "ipython",
    "version": 3
   },
   "file_extension": ".py",
   "mimetype": "text/x-python",
   "name": "python",
   "nbconvert_exporter": "python",
   "pygments_lexer": "ipython3",
   "version": "3.7.5"
  }
 },
 "nbformat": 4,
 "nbformat_minor": 2
}
