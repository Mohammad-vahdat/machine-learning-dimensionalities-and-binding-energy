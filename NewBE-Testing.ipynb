{
 "cells": [
  {
   "cell_type": "code",
   "execution_count": 135,
   "id": "b656ca76",
   "metadata": {},
   "outputs": [],
   "source": [
    "import ase\n",
    "import ase.io\n",
    "from ase.io import xsf\n",
    "import pandas as pd\n",
    "import json\n",
    "import seaborn as sns\n",
    "import matplotlib.pyplot as plt\n",
    "import os\n",
    "import numpy as np\n",
    "%matplotlib inline"
   ]
  },
  {
   "cell_type": "code",
   "execution_count": 136,
   "id": "06d005f6",
   "metadata": {},
   "outputs": [],
   "source": [
    "df_features = pd.read_pickle('features_MultipleFeaturizer_NewBE.pkl')"
   ]
  },
  {
   "cell_type": "code",
   "execution_count": 137,
   "id": "4b3a3a07",
   "metadata": {},
   "outputs": [
    {
     "data": {
      "text/html": [
       "<div>\n",
       "<style scoped>\n",
       "    .dataframe tbody tr th:only-of-type {\n",
       "        vertical-align: middle;\n",
       "    }\n",
       "\n",
       "    .dataframe tbody tr th {\n",
       "        vertical-align: top;\n",
       "    }\n",
       "\n",
       "    .dataframe thead th {\n",
       "        text-align: right;\n",
       "    }\n",
       "</style>\n",
       "<table border=\"1\" class=\"dataframe\">\n",
       "  <thead>\n",
       "    <tr style=\"text-align: right;\">\n",
       "      <th></th>\n",
       "      <th>index</th>\n",
       "      <th>structure</th>\n",
       "      <th>label</th>\n",
       "      <th>binding_energy</th>\n",
       "      <th>0</th>\n",
       "      <th>1</th>\n",
       "      <th>2</th>\n",
       "      <th>3</th>\n",
       "      <th>4</th>\n",
       "      <th>5</th>\n",
       "      <th>...</th>\n",
       "      <th>263</th>\n",
       "      <th>264</th>\n",
       "      <th>265</th>\n",
       "      <th>266</th>\n",
       "      <th>267</th>\n",
       "      <th>268</th>\n",
       "      <th>269</th>\n",
       "      <th>270</th>\n",
       "      <th>271</th>\n",
       "      <th>272</th>\n",
       "    </tr>\n",
       "  </thead>\n",
       "  <tbody>\n",
       "    <tr>\n",
       "      <th>0</th>\n",
       "      <td>0</td>\n",
       "      <td>[[-1.21758603e-17 -8.63505501e-18  3.23526540e...</td>\n",
       "      <td>EE</td>\n",
       "      <td>8.383023</td>\n",
       "      <td>NaN</td>\n",
       "      <td>NaN</td>\n",
       "      <td>NaN</td>\n",
       "      <td>NaN</td>\n",
       "      <td>NaN</td>\n",
       "      <td>NaN</td>\n",
       "      <td>...</td>\n",
       "      <td>96.500000</td>\n",
       "      <td>48.750000</td>\n",
       "      <td>64.0</td>\n",
       "      <td>0.131148</td>\n",
       "      <td>0.245902</td>\n",
       "      <td>0.508197</td>\n",
       "      <td>0.114754</td>\n",
       "      <td>True</td>\n",
       "      <td>0.539020</td>\n",
       "      <td>0.101066</td>\n",
       "    </tr>\n",
       "    <tr>\n",
       "      <th>1</th>\n",
       "      <td>1</td>\n",
       "      <td>[[0. 0. 0.] Zn, [2.07     2.07     2.042414] N...</td>\n",
       "      <td>PE</td>\n",
       "      <td>65.110991</td>\n",
       "      <td>NaN</td>\n",
       "      <td>NaN</td>\n",
       "      <td>NaN</td>\n",
       "      <td>NaN</td>\n",
       "      <td>NaN</td>\n",
       "      <td>NaN</td>\n",
       "      <td>...</td>\n",
       "      <td>91.714286</td>\n",
       "      <td>87.673469</td>\n",
       "      <td>15.0</td>\n",
       "      <td>0.280000</td>\n",
       "      <td>0.520000</td>\n",
       "      <td>0.200000</td>\n",
       "      <td>0.000000</td>\n",
       "      <td>False</td>\n",
       "      <td>0.742626</td>\n",
       "      <td>0.108618</td>\n",
       "    </tr>\n",
       "    <tr>\n",
       "      <th>2</th>\n",
       "      <td>2</td>\n",
       "      <td>[[3.27502151 2.979      0.00781429] Cu, [-1.52...</td>\n",
       "      <td>EE</td>\n",
       "      <td>10.568737</td>\n",
       "      <td>6.236764</td>\n",
       "      <td>10.218801</td>\n",
       "      <td>3.982037</td>\n",
       "      <td>7.959620</td>\n",
       "      <td>1.348913</td>\n",
       "      <td>0.064415</td>\n",
       "      <td>...</td>\n",
       "      <td>91.000000</td>\n",
       "      <td>94.800000</td>\n",
       "      <td>12.0</td>\n",
       "      <td>0.272727</td>\n",
       "      <td>0.424242</td>\n",
       "      <td>0.303030</td>\n",
       "      <td>0.000000</td>\n",
       "      <td>True</td>\n",
       "      <td>0.447278</td>\n",
       "      <td>0.079241</td>\n",
       "    </tr>\n",
       "    <tr>\n",
       "      <th>3</th>\n",
       "      <td>3</td>\n",
       "      <td>[[1.6565 1.6565 0.    ] C, [0. 0. 0.] C, [2.16...</td>\n",
       "      <td>EE</td>\n",
       "      <td>22.127216</td>\n",
       "      <td>4.749436</td>\n",
       "      <td>7.508840</td>\n",
       "      <td>2.759405</td>\n",
       "      <td>6.589039</td>\n",
       "      <td>1.226402</td>\n",
       "      <td>0.148352</td>\n",
       "      <td>...</td>\n",
       "      <td>194.000000</td>\n",
       "      <td>0.000000</td>\n",
       "      <td>194.0</td>\n",
       "      <td>0.428571</td>\n",
       "      <td>0.571429</td>\n",
       "      <td>0.000000</td>\n",
       "      <td>0.000000</td>\n",
       "      <td>False</td>\n",
       "      <td>0.058259</td>\n",
       "      <td>0.012946</td>\n",
       "    </tr>\n",
       "    <tr>\n",
       "      <th>4</th>\n",
       "      <td>4</td>\n",
       "      <td>[[1.31876698 2.04875    3.44044636] H, [2.1584...</td>\n",
       "      <td>EE</td>\n",
       "      <td>16.581488</td>\n",
       "      <td>NaN</td>\n",
       "      <td>NaN</td>\n",
       "      <td>NaN</td>\n",
       "      <td>NaN</td>\n",
       "      <td>NaN</td>\n",
       "      <td>NaN</td>\n",
       "      <td>...</td>\n",
       "      <td>122.000000</td>\n",
       "      <td>92.666667</td>\n",
       "      <td>12.0</td>\n",
       "      <td>0.127907</td>\n",
       "      <td>0.197674</td>\n",
       "      <td>0.348837</td>\n",
       "      <td>0.325581</td>\n",
       "      <td>True</td>\n",
       "      <td>0.319141</td>\n",
       "      <td>0.058182</td>\n",
       "    </tr>\n",
       "  </tbody>\n",
       "</table>\n",
       "<p>5 rows × 277 columns</p>\n",
       "</div>"
      ],
      "text/plain": [
       "   index                                          structure label  \\\n",
       "0      0  [[-1.21758603e-17 -8.63505501e-18  3.23526540e...    EE   \n",
       "1      1  [[0. 0. 0.] Zn, [2.07     2.07     2.042414] N...    PE   \n",
       "2      2  [[3.27502151 2.979      0.00781429] Cu, [-1.52...    EE   \n",
       "3      3  [[1.6565 1.6565 0.    ] C, [0. 0. 0.] C, [2.16...    EE   \n",
       "4      4  [[1.31876698 2.04875    3.44044636] H, [2.1584...    EE   \n",
       "\n",
       "   binding_energy         0          1         2         3         4  \\\n",
       "0        8.383023       NaN        NaN       NaN       NaN       NaN   \n",
       "1       65.110991       NaN        NaN       NaN       NaN       NaN   \n",
       "2       10.568737  6.236764  10.218801  3.982037  7.959620  1.348913   \n",
       "3       22.127216  4.749436   7.508840  2.759405  6.589039  1.226402   \n",
       "4       16.581488       NaN        NaN       NaN       NaN       NaN   \n",
       "\n",
       "          5  ...         263        264    265       266       267       268  \\\n",
       "0       NaN  ...   96.500000  48.750000   64.0  0.131148  0.245902  0.508197   \n",
       "1       NaN  ...   91.714286  87.673469   15.0  0.280000  0.520000  0.200000   \n",
       "2  0.064415  ...   91.000000  94.800000   12.0  0.272727  0.424242  0.303030   \n",
       "3  0.148352  ...  194.000000   0.000000  194.0  0.428571  0.571429  0.000000   \n",
       "4       NaN  ...  122.000000  92.666667   12.0  0.127907  0.197674  0.348837   \n",
       "\n",
       "        269    270       271       272  \n",
       "0  0.114754   True  0.539020  0.101066  \n",
       "1  0.000000  False  0.742626  0.108618  \n",
       "2  0.000000   True  0.447278  0.079241  \n",
       "3  0.000000  False  0.058259  0.012946  \n",
       "4  0.325581   True  0.319141  0.058182  \n",
       "\n",
       "[5 rows x 277 columns]"
      ]
     },
     "execution_count": 137,
     "metadata": {},
     "output_type": "execute_result"
    }
   ],
   "source": [
    "df_features.head()"
   ]
  },
  {
   "cell_type": "code",
   "execution_count": 138,
   "id": "9abd899a",
   "metadata": {},
   "outputs": [
    {
     "data": {
      "text/html": [
       "<div>\n",
       "<style scoped>\n",
       "    .dataframe tbody tr th:only-of-type {\n",
       "        vertical-align: middle;\n",
       "    }\n",
       "\n",
       "    .dataframe tbody tr th {\n",
       "        vertical-align: top;\n",
       "    }\n",
       "\n",
       "    .dataframe thead th {\n",
       "        text-align: right;\n",
       "    }\n",
       "</style>\n",
       "<table border=\"1\" class=\"dataframe\">\n",
       "  <thead>\n",
       "    <tr style=\"text-align: right;\">\n",
       "      <th></th>\n",
       "      <th>index</th>\n",
       "      <th>structure</th>\n",
       "      <th>label</th>\n",
       "      <th>binding_energy</th>\n",
       "      <th>0</th>\n",
       "      <th>1</th>\n",
       "      <th>2</th>\n",
       "      <th>3</th>\n",
       "      <th>4</th>\n",
       "      <th>5</th>\n",
       "      <th>...</th>\n",
       "      <th>263</th>\n",
       "      <th>264</th>\n",
       "      <th>265</th>\n",
       "      <th>266</th>\n",
       "      <th>267</th>\n",
       "      <th>268</th>\n",
       "      <th>269</th>\n",
       "      <th>270</th>\n",
       "      <th>271</th>\n",
       "      <th>272</th>\n",
       "    </tr>\n",
       "  </thead>\n",
       "  <tbody>\n",
       "    <tr>\n",
       "      <th>2</th>\n",
       "      <td>2</td>\n",
       "      <td>[[3.27502151 2.979      0.00781429] Cu, [-1.52...</td>\n",
       "      <td>1</td>\n",
       "      <td>10.568737</td>\n",
       "      <td>6.236764</td>\n",
       "      <td>10.218801</td>\n",
       "      <td>3.982037</td>\n",
       "      <td>7.959620</td>\n",
       "      <td>1.348913</td>\n",
       "      <td>0.064415</td>\n",
       "      <td>...</td>\n",
       "      <td>91.000000</td>\n",
       "      <td>94.800000</td>\n",
       "      <td>12.0</td>\n",
       "      <td>0.272727</td>\n",
       "      <td>0.424242</td>\n",
       "      <td>0.303030</td>\n",
       "      <td>0.0</td>\n",
       "      <td>True</td>\n",
       "      <td>0.447278</td>\n",
       "      <td>0.079241</td>\n",
       "    </tr>\n",
       "    <tr>\n",
       "      <th>3</th>\n",
       "      <td>3</td>\n",
       "      <td>[[1.6565 1.6565 0.    ] C, [0. 0. 0.] C, [2.16...</td>\n",
       "      <td>1</td>\n",
       "      <td>22.127216</td>\n",
       "      <td>4.749436</td>\n",
       "      <td>7.508840</td>\n",
       "      <td>2.759405</td>\n",
       "      <td>6.589039</td>\n",
       "      <td>1.226402</td>\n",
       "      <td>0.148352</td>\n",
       "      <td>...</td>\n",
       "      <td>194.000000</td>\n",
       "      <td>0.000000</td>\n",
       "      <td>194.0</td>\n",
       "      <td>0.428571</td>\n",
       "      <td>0.571429</td>\n",
       "      <td>0.000000</td>\n",
       "      <td>0.0</td>\n",
       "      <td>False</td>\n",
       "      <td>0.058259</td>\n",
       "      <td>0.012946</td>\n",
       "    </tr>\n",
       "    <tr>\n",
       "      <th>6</th>\n",
       "      <td>6</td>\n",
       "      <td>[[5.41576321 3.8837068  6.34929294] Sb, [-1.70...</td>\n",
       "      <td>1</td>\n",
       "      <td>9.874362</td>\n",
       "      <td>4.152189</td>\n",
       "      <td>12.785319</td>\n",
       "      <td>8.633130</td>\n",
       "      <td>9.716781</td>\n",
       "      <td>1.722033</td>\n",
       "      <td>0.087731</td>\n",
       "      <td>...</td>\n",
       "      <td>66.444444</td>\n",
       "      <td>72.592593</td>\n",
       "      <td>12.0</td>\n",
       "      <td>0.253521</td>\n",
       "      <td>0.464789</td>\n",
       "      <td>0.281690</td>\n",
       "      <td>0.0</td>\n",
       "      <td>False</td>\n",
       "      <td>0.383086</td>\n",
       "      <td>0.065024</td>\n",
       "    </tr>\n",
       "    <tr>\n",
       "      <th>7</th>\n",
       "      <td>7</td>\n",
       "      <td>[[0. 0. 0.] Zn, [7.36447940e-17 2.29785407e+00...</td>\n",
       "      <td>1</td>\n",
       "      <td>84.441639</td>\n",
       "      <td>6.003136</td>\n",
       "      <td>8.961012</td>\n",
       "      <td>2.957876</td>\n",
       "      <td>7.975053</td>\n",
       "      <td>1.314612</td>\n",
       "      <td>0.079408</td>\n",
       "      <td>...</td>\n",
       "      <td>166.000000</td>\n",
       "      <td>18.666667</td>\n",
       "      <td>152.0</td>\n",
       "      <td>0.136364</td>\n",
       "      <td>0.181818</td>\n",
       "      <td>0.681818</td>\n",
       "      <td>0.0</td>\n",
       "      <td>False</td>\n",
       "      <td>0.049365</td>\n",
       "      <td>0.010970</td>\n",
       "    </tr>\n",
       "    <tr>\n",
       "      <th>8</th>\n",
       "      <td>8</td>\n",
       "      <td>[[4.11197565 4.8530637  2.31186585] Sn, [ 0.12...</td>\n",
       "      <td>1</td>\n",
       "      <td>7.662181</td>\n",
       "      <td>4.199186</td>\n",
       "      <td>10.505375</td>\n",
       "      <td>6.306189</td>\n",
       "      <td>8.820911</td>\n",
       "      <td>1.575064</td>\n",
       "      <td>0.129814</td>\n",
       "      <td>...</td>\n",
       "      <td>59.166667</td>\n",
       "      <td>62.888889</td>\n",
       "      <td>12.0</td>\n",
       "      <td>0.226415</td>\n",
       "      <td>0.396226</td>\n",
       "      <td>0.377358</td>\n",
       "      <td>0.0</td>\n",
       "      <td>False</td>\n",
       "      <td>0.421664</td>\n",
       "      <td>0.083585</td>\n",
       "    </tr>\n",
       "  </tbody>\n",
       "</table>\n",
       "<p>5 rows × 277 columns</p>\n",
       "</div>"
      ],
      "text/plain": [
       "   index                                          structure  label  \\\n",
       "2      2  [[3.27502151 2.979      0.00781429] Cu, [-1.52...      1   \n",
       "3      3  [[1.6565 1.6565 0.    ] C, [0. 0. 0.] C, [2.16...      1   \n",
       "6      6  [[5.41576321 3.8837068  6.34929294] Sb, [-1.70...      1   \n",
       "7      7  [[0. 0. 0.] Zn, [7.36447940e-17 2.29785407e+00...      1   \n",
       "8      8  [[4.11197565 4.8530637  2.31186585] Sn, [ 0.12...      1   \n",
       "\n",
       "   binding_energy         0          1         2         3         4  \\\n",
       "2       10.568737  6.236764  10.218801  3.982037  7.959620  1.348913   \n",
       "3       22.127216  4.749436   7.508840  2.759405  6.589039  1.226402   \n",
       "6        9.874362  4.152189  12.785319  8.633130  9.716781  1.722033   \n",
       "7       84.441639  6.003136   8.961012  2.957876  7.975053  1.314612   \n",
       "8        7.662181  4.199186  10.505375  6.306189  8.820911  1.575064   \n",
       "\n",
       "          5  ...         263        264    265       266       267       268  \\\n",
       "2  0.064415  ...   91.000000  94.800000   12.0  0.272727  0.424242  0.303030   \n",
       "3  0.148352  ...  194.000000   0.000000  194.0  0.428571  0.571429  0.000000   \n",
       "6  0.087731  ...   66.444444  72.592593   12.0  0.253521  0.464789  0.281690   \n",
       "7  0.079408  ...  166.000000  18.666667  152.0  0.136364  0.181818  0.681818   \n",
       "8  0.129814  ...   59.166667  62.888889   12.0  0.226415  0.396226  0.377358   \n",
       "\n",
       "   269    270       271       272  \n",
       "2  0.0   True  0.447278  0.079241  \n",
       "3  0.0  False  0.058259  0.012946  \n",
       "6  0.0  False  0.383086  0.065024  \n",
       "7  0.0  False  0.049365  0.010970  \n",
       "8  0.0  False  0.421664  0.083585  \n",
       "\n",
       "[5 rows x 277 columns]"
      ]
     },
     "execution_count": 138,
     "metadata": {},
     "output_type": "execute_result"
    }
   ],
   "source": [
    "df_features = df_features.dropna()\n",
    "#df_features = df_features.fillna(0)\n",
    "df_features['label'].replace(to_replace='PE', value='EE', inplace=True)\n",
    "df_features['label'].replace(to_replace='EE', value=1, inplace=True)\n",
    "df_features['label'].replace(to_replace='HBE', value=0, inplace=True)\n",
    "df_features.head()"
   ]
  },
  {
   "cell_type": "code",
   "execution_count": 139,
   "id": "3606bdf0",
   "metadata": {},
   "outputs": [
    {
     "data": {
      "text/plain": [
       "1    780\n",
       "0    175\n",
       "Name: label, dtype: int64"
      ]
     },
     "execution_count": 139,
     "metadata": {},
     "output_type": "execute_result"
    }
   ],
   "source": [
    "df_features['label'].value_counts()"
   ]
  },
  {
   "cell_type": "code",
   "execution_count": 140,
   "id": "417d67ac",
   "metadata": {},
   "outputs": [],
   "source": [
    "X_NewBE = df_features.drop(['label','index', 'structure', 'binding_energy'], axis = 1).values"
   ]
  },
  {
   "cell_type": "markdown",
   "id": "30377656",
   "metadata": {},
   "source": [
    "***IMPORT the TRAINED MODEL***"
   ]
  },
  {
   "cell_type": "code",
   "execution_count": 141,
   "id": "a4718c97",
   "metadata": {},
   "outputs": [],
   "source": [
    "import joblib"
   ]
  },
  {
   "cell_type": "code",
   "execution_count": 142,
   "id": "99d59278",
   "metadata": {},
   "outputs": [
    {
     "name": "stderr",
     "output_type": "stream",
     "text": [
      "/home/mvahdat/anaconda3/lib/python3.7/site-packages/sklearn/base.py:333: UserWarning: Trying to unpickle estimator DecisionTreeClassifier from version 0.24.2 when using version 1.0.1. This might lead to breaking code or invalid results. Use at your own risk. For more info please refer to:\n",
      "https://scikit-learn.org/stable/modules/model_persistence.html#security-maintainability-limitations\n",
      "  return collected_tags\n",
      "/home/mvahdat/anaconda3/lib/python3.7/site-packages/sklearn/base.py:333: UserWarning: Trying to unpickle estimator RandomForestClassifier from version 0.24.2 when using version 1.0.1. This might lead to breaking code or invalid results. Use at your own risk. For more info please refer to:\n",
      "https://scikit-learn.org/stable/modules/model_persistence.html#security-maintainability-limitations\n",
      "  return collected_tags\n"
     ]
    }
   ],
   "source": [
    "loaded_RF = joblib.load(\"random_forest_model.joblib\")"
   ]
  },
  {
   "cell_type": "code",
   "execution_count": 143,
   "id": "d02056d4",
   "metadata": {},
   "outputs": [],
   "source": [
    "predictions = loaded_RF.predict(X_NewBE)"
   ]
  },
  {
   "cell_type": "code",
   "execution_count": 144,
   "id": "72d86b6a",
   "metadata": {},
   "outputs": [
    {
     "name": "stdout",
     "output_type": "stream",
     "text": [
      "              precision    recall  f1-score   support\n",
      "\n",
      "           0       0.76      0.39      0.51       175\n",
      "           1       0.88      0.97      0.92       780\n",
      "\n",
      "    accuracy                           0.86       955\n",
      "   macro avg       0.82      0.68      0.72       955\n",
      "weighted avg       0.85      0.86      0.85       955\n",
      "\n",
      "\n",
      "\n",
      "[[ 68 107]\n",
      " [ 22 758]]\n"
     ]
    }
   ],
   "source": [
    "print(classification_report(df_features['label'].values, predictions))\n",
    "print(\"\\n\")\n",
    "print(confusion_matrix(df_features['label'].values, predictions))"
   ]
  },
  {
   "cell_type": "code",
   "execution_count": 145,
   "id": "05dac0c4",
   "metadata": {},
   "outputs": [
    {
     "name": "stdout",
     "output_type": "stream",
     "text": [
      "number of 1: 865\n",
      "number of predictions: 955\n"
     ]
    }
   ],
   "source": [
    "j = 0\n",
    "for i in predictions:\n",
    "        j += i\n",
    "print('number of 1:', j)\n",
    "print('number of predictions:', len(predictions))"
   ]
  },
  {
   "cell_type": "markdown",
   "id": "00a1a5eb",
   "metadata": {},
   "source": [
    "***LOAD the TF Model***"
   ]
  },
  {
   "cell_type": "code",
   "execution_count": 116,
   "id": "4bd38949",
   "metadata": {},
   "outputs": [],
   "source": [
    "import tensorflow as tf"
   ]
  },
  {
   "cell_type": "code",
   "execution_count": 117,
   "id": "36e6916e",
   "metadata": {},
   "outputs": [],
   "source": [
    "model = tf.keras.models.load_model('seq_model')"
   ]
  },
  {
   "cell_type": "code",
   "execution_count": 118,
   "id": "451029d7",
   "metadata": {},
   "outputs": [],
   "source": [
    "X_NewBE_tensor = tf.convert_to_tensor(X_NewBE, dtype=tf.int64) "
   ]
  },
  {
   "cell_type": "code",
   "execution_count": 119,
   "id": "06f21d8a",
   "metadata": {},
   "outputs": [],
   "source": [
    "predictions = model.predict(X_NewBE_tensor)"
   ]
  },
  {
   "cell_type": "code",
   "execution_count": 120,
   "id": "33fc90ca",
   "metadata": {},
   "outputs": [
    {
     "name": "stdout",
     "output_type": "stream",
     "text": [
      "(None, 273) <dtype: 'float32'>\n",
      "(None, 1) <dtype: 'float32'>\n",
      "dense_83 (None, 273) float32\n",
      "dropout_70 (None, 273) float32\n",
      "dense_84 (None, 273) float32\n",
      "dropout_71 (None, 225) float32\n",
      "dense_85 (None, 225) float32\n",
      "dropout_72 (None, 175) float32\n",
      "dense_86 (None, 175) float32\n",
      "dropout_73 (None, 125) float32\n",
      "dense_87 (None, 125) float32\n",
      "dropout_74 (None, 75) float32\n",
      "dense_88 (None, 75) float32\n",
      "dropout_75 (None, 25) float32\n",
      "dense_89 (None, 25) float32\n"
     ]
    },
    {
     "data": {
      "text/plain": [
       "[None, None, None, None, None, None, None, None, None, None, None, None, None]"
      ]
     },
     "execution_count": 120,
     "metadata": {},
     "output_type": "execute_result"
    }
   ],
   "source": [
    "[print(i.shape, i.dtype) for i in model.inputs]\n",
    "[print(o.shape, o.dtype) for o in model.outputs]\n",
    "[print(l.name, l.input_shape, l.dtype) for l in model.layers]"
   ]
  },
  {
   "cell_type": "code",
   "execution_count": 121,
   "id": "42f11f4a",
   "metadata": {},
   "outputs": [
    {
     "data": {
      "text/plain": [
       "(1927, 1)"
      ]
     },
     "execution_count": 121,
     "metadata": {},
     "output_type": "execute_result"
    }
   ],
   "source": [
    "predictions.shape"
   ]
  },
  {
   "cell_type": "code",
   "execution_count": 122,
   "id": "dfebf3b1",
   "metadata": {},
   "outputs": [
    {
     "data": {
      "text/plain": [
       "(1927,)"
      ]
     },
     "execution_count": 122,
     "metadata": {},
     "output_type": "execute_result"
    }
   ],
   "source": [
    "predictions = predictions.reshape(len(predictions))\n",
    "predictions.shape"
   ]
  },
  {
   "cell_type": "code",
   "execution_count": 123,
   "id": "45a8f4bf",
   "metadata": {},
   "outputs": [],
   "source": [
    "pred = [round(i) for i in predictions]"
   ]
  },
  {
   "cell_type": "code",
   "execution_count": 124,
   "id": "01b2a2f1",
   "metadata": {},
   "outputs": [
    {
     "name": "stdout",
     "output_type": "stream",
     "text": [
      "              precision    recall  f1-score   support\n",
      "\n",
      "           0       0.72      0.07      0.12       388\n",
      "           1       0.81      0.99      0.89      1539\n",
      "\n",
      "    accuracy                           0.81      1927\n",
      "   macro avg       0.77      0.53      0.51      1927\n",
      "weighted avg       0.79      0.81      0.74      1927\n",
      "\n",
      "\n",
      "\n",
      "[[  26  362]\n",
      " [  10 1529]]\n"
     ]
    }
   ],
   "source": [
    "print(classification_report(df_features['label'].values, pred))\n",
    "print(\"\\n\")\n",
    "print(confusion_matrix(df_features['label'].values, pred))"
   ]
  },
  {
   "cell_type": "markdown",
   "id": "7b4ecaf1",
   "metadata": {},
   "source": [
    "***Adding BB and BD features***"
   ]
  },
  {
   "cell_type": "code",
   "execution_count": 63,
   "id": "e5078bec",
   "metadata": {},
   "outputs": [],
   "source": [
    "df_features = pd.read_pickle('features_MultipleFeaturizer_NewBE.pkl')\n",
    "df_features_BB_BD = pd.read_pickle(\"Features_BondFractions_BagofBonds_NewBE.pkl\")"
   ]
  },
  {
   "cell_type": "code",
   "execution_count": 64,
   "id": "978e8a78",
   "metadata": {},
   "outputs": [],
   "source": [
    "df = pd.concat([df_features, df_features_BB_BD], axis = 1)"
   ]
  },
  {
   "cell_type": "code",
   "execution_count": 65,
   "id": "294dc521",
   "metadata": {},
   "outputs": [
    {
     "name": "stdout",
     "output_type": "stream",
     "text": [
      "Input data shape: (1927, 2878)\n"
     ]
    }
   ],
   "source": [
    "X = np.array(df.drop('label', axis = 1))\n",
    "y = df['label']\n",
    "print('Input data shape:', X.shape)"
   ]
  },
  {
   "cell_type": "code",
   "execution_count": 66,
   "id": "e3c539e0",
   "metadata": {},
   "outputs": [
    {
     "name": "stdout",
     "output_type": "stream",
     "text": [
      "Number failed: 972/1927\n"
     ]
    }
   ],
   "source": [
    "import pandas as pd\n",
    "failed = np.any(pd.isnull(X), axis=1)\n",
    "print('Number failed: {}/{}'.format(np.sum(failed), len(failed)))"
   ]
  },
  {
   "cell_type": "code",
   "execution_count": 67,
   "id": "53ca7f42",
   "metadata": {},
   "outputs": [
    {
     "data": {
      "text/html": [
       "<div>\n",
       "<style scoped>\n",
       "    .dataframe tbody tr th:only-of-type {\n",
       "        vertical-align: middle;\n",
       "    }\n",
       "\n",
       "    .dataframe tbody tr th {\n",
       "        vertical-align: top;\n",
       "    }\n",
       "\n",
       "    .dataframe thead th {\n",
       "        text-align: right;\n",
       "    }\n",
       "</style>\n",
       "<table border=\"1\" class=\"dataframe\">\n",
       "  <thead>\n",
       "    <tr style=\"text-align: right;\">\n",
       "      <th></th>\n",
       "      <th>index</th>\n",
       "      <th>structure</th>\n",
       "      <th>label</th>\n",
       "      <th>binding_energy</th>\n",
       "      <th>0</th>\n",
       "      <th>1</th>\n",
       "      <th>2</th>\n",
       "      <th>3</th>\n",
       "      <th>4</th>\n",
       "      <th>5</th>\n",
       "      <th>...</th>\n",
       "      <th>Ho - N bond #0</th>\n",
       "      <th>Ho - N bond #1</th>\n",
       "      <th>Ho - N bond #2</th>\n",
       "      <th>Ho - N bond #3</th>\n",
       "      <th>Ho - N bond #4</th>\n",
       "      <th>Ho - N bond #5</th>\n",
       "      <th>Ho - N bond #6</th>\n",
       "      <th>Ho - N bond #7</th>\n",
       "      <th>Ho - F bond #0</th>\n",
       "      <th>Ho - F bond #1</th>\n",
       "    </tr>\n",
       "  </thead>\n",
       "  <tbody>\n",
       "    <tr>\n",
       "      <th>0</th>\n",
       "      <td>0</td>\n",
       "      <td>[[-1.21758603e-17 -8.63505501e-18  3.23526540e...</td>\n",
       "      <td>EE</td>\n",
       "      <td>8.383023</td>\n",
       "      <td>NaN</td>\n",
       "      <td>NaN</td>\n",
       "      <td>NaN</td>\n",
       "      <td>NaN</td>\n",
       "      <td>NaN</td>\n",
       "      <td>NaN</td>\n",
       "      <td>...</td>\n",
       "      <td>0.0</td>\n",
       "      <td>0.0</td>\n",
       "      <td>0.0</td>\n",
       "      <td>0.0</td>\n",
       "      <td>0.0</td>\n",
       "      <td>0.0</td>\n",
       "      <td>0.0</td>\n",
       "      <td>0.0</td>\n",
       "      <td>0.0</td>\n",
       "      <td>0.0</td>\n",
       "    </tr>\n",
       "    <tr>\n",
       "      <th>1</th>\n",
       "      <td>1</td>\n",
       "      <td>[[0. 0. 0.] Zn, [2.07     2.07     2.042414] N...</td>\n",
       "      <td>PE</td>\n",
       "      <td>65.110991</td>\n",
       "      <td>NaN</td>\n",
       "      <td>NaN</td>\n",
       "      <td>NaN</td>\n",
       "      <td>NaN</td>\n",
       "      <td>NaN</td>\n",
       "      <td>NaN</td>\n",
       "      <td>...</td>\n",
       "      <td>0.0</td>\n",
       "      <td>0.0</td>\n",
       "      <td>0.0</td>\n",
       "      <td>0.0</td>\n",
       "      <td>0.0</td>\n",
       "      <td>0.0</td>\n",
       "      <td>0.0</td>\n",
       "      <td>0.0</td>\n",
       "      <td>0.0</td>\n",
       "      <td>0.0</td>\n",
       "    </tr>\n",
       "    <tr>\n",
       "      <th>2</th>\n",
       "      <td>2</td>\n",
       "      <td>[[3.27502151 2.979      0.00781429] Cu, [-1.52...</td>\n",
       "      <td>EE</td>\n",
       "      <td>10.568737</td>\n",
       "      <td>6.236764</td>\n",
       "      <td>10.218801</td>\n",
       "      <td>3.982037</td>\n",
       "      <td>7.959620</td>\n",
       "      <td>1.348913</td>\n",
       "      <td>0.064415</td>\n",
       "      <td>...</td>\n",
       "      <td>0.0</td>\n",
       "      <td>0.0</td>\n",
       "      <td>0.0</td>\n",
       "      <td>0.0</td>\n",
       "      <td>0.0</td>\n",
       "      <td>0.0</td>\n",
       "      <td>0.0</td>\n",
       "      <td>0.0</td>\n",
       "      <td>0.0</td>\n",
       "      <td>0.0</td>\n",
       "    </tr>\n",
       "    <tr>\n",
       "      <th>3</th>\n",
       "      <td>3</td>\n",
       "      <td>[[1.6565 1.6565 0.    ] C, [0. 0. 0.] C, [2.16...</td>\n",
       "      <td>EE</td>\n",
       "      <td>22.127216</td>\n",
       "      <td>4.749436</td>\n",
       "      <td>7.508840</td>\n",
       "      <td>2.759405</td>\n",
       "      <td>6.589039</td>\n",
       "      <td>1.226402</td>\n",
       "      <td>0.148352</td>\n",
       "      <td>...</td>\n",
       "      <td>0.0</td>\n",
       "      <td>0.0</td>\n",
       "      <td>0.0</td>\n",
       "      <td>0.0</td>\n",
       "      <td>0.0</td>\n",
       "      <td>0.0</td>\n",
       "      <td>0.0</td>\n",
       "      <td>0.0</td>\n",
       "      <td>0.0</td>\n",
       "      <td>0.0</td>\n",
       "    </tr>\n",
       "    <tr>\n",
       "      <th>4</th>\n",
       "      <td>4</td>\n",
       "      <td>[[1.31876698 2.04875    3.44044636] H, [2.1584...</td>\n",
       "      <td>EE</td>\n",
       "      <td>16.581488</td>\n",
       "      <td>NaN</td>\n",
       "      <td>NaN</td>\n",
       "      <td>NaN</td>\n",
       "      <td>NaN</td>\n",
       "      <td>NaN</td>\n",
       "      <td>NaN</td>\n",
       "      <td>...</td>\n",
       "      <td>0.0</td>\n",
       "      <td>0.0</td>\n",
       "      <td>0.0</td>\n",
       "      <td>0.0</td>\n",
       "      <td>0.0</td>\n",
       "      <td>0.0</td>\n",
       "      <td>0.0</td>\n",
       "      <td>0.0</td>\n",
       "      <td>0.0</td>\n",
       "      <td>0.0</td>\n",
       "    </tr>\n",
       "  </tbody>\n",
       "</table>\n",
       "<p>5 rows × 2879 columns</p>\n",
       "</div>"
      ],
      "text/plain": [
       "   index                                          structure label  \\\n",
       "0      0  [[-1.21758603e-17 -8.63505501e-18  3.23526540e...    EE   \n",
       "1      1  [[0. 0. 0.] Zn, [2.07     2.07     2.042414] N...    PE   \n",
       "2      2  [[3.27502151 2.979      0.00781429] Cu, [-1.52...    EE   \n",
       "3      3  [[1.6565 1.6565 0.    ] C, [0. 0. 0.] C, [2.16...    EE   \n",
       "4      4  [[1.31876698 2.04875    3.44044636] H, [2.1584...    EE   \n",
       "\n",
       "   binding_energy         0          1         2         3         4  \\\n",
       "0        8.383023       NaN        NaN       NaN       NaN       NaN   \n",
       "1       65.110991       NaN        NaN       NaN       NaN       NaN   \n",
       "2       10.568737  6.236764  10.218801  3.982037  7.959620  1.348913   \n",
       "3       22.127216  4.749436   7.508840  2.759405  6.589039  1.226402   \n",
       "4       16.581488       NaN        NaN       NaN       NaN       NaN   \n",
       "\n",
       "          5  ...  Ho - N bond #0  Ho - N bond #1  Ho - N bond #2  \\\n",
       "0       NaN  ...             0.0             0.0             0.0   \n",
       "1       NaN  ...             0.0             0.0             0.0   \n",
       "2  0.064415  ...             0.0             0.0             0.0   \n",
       "3  0.148352  ...             0.0             0.0             0.0   \n",
       "4       NaN  ...             0.0             0.0             0.0   \n",
       "\n",
       "   Ho - N bond #3  Ho - N bond #4  Ho - N bond #5  Ho - N bond #6  \\\n",
       "0             0.0             0.0             0.0             0.0   \n",
       "1             0.0             0.0             0.0             0.0   \n",
       "2             0.0             0.0             0.0             0.0   \n",
       "3             0.0             0.0             0.0             0.0   \n",
       "4             0.0             0.0             0.0             0.0   \n",
       "\n",
       "   Ho - N bond #7  Ho - F bond #0  Ho - F bond #1  \n",
       "0             0.0             0.0             0.0  \n",
       "1             0.0             0.0             0.0  \n",
       "2             0.0             0.0             0.0  \n",
       "3             0.0             0.0             0.0  \n",
       "4             0.0             0.0             0.0  \n",
       "\n",
       "[5 rows x 2879 columns]"
      ]
     },
     "execution_count": 67,
     "metadata": {},
     "output_type": "execute_result"
    }
   ],
   "source": [
    "df.head()"
   ]
  },
  {
   "cell_type": "code",
   "execution_count": 68,
   "id": "2db057c1",
   "metadata": {},
   "outputs": [],
   "source": [
    "df = df.dropna()\n",
    "df['label'].replace(to_replace='PE', value='EE', inplace=True)\n",
    "df['label'].replace(to_replace='EE', value=1, inplace=True)\n",
    "df['label'].replace(to_replace='HBE', value=0, inplace=True)"
   ]
  },
  {
   "cell_type": "code",
   "execution_count": 70,
   "id": "a8f462c8",
   "metadata": {},
   "outputs": [],
   "source": [
    "X = df.drop(['label', 'index','structure', 'binding_energy'], axis = 1).values\n",
    "y = df['label'].values"
   ]
  },
  {
   "cell_type": "code",
   "execution_count": 71,
   "id": "2823e4b9",
   "metadata": {},
   "outputs": [],
   "source": [
    "import joblib"
   ]
  },
  {
   "cell_type": "code",
   "execution_count": 74,
   "id": "13291ead",
   "metadata": {},
   "outputs": [
    {
     "name": "stderr",
     "output_type": "stream",
     "text": [
      "/home/mvahdat/anaconda3/lib/python3.7/site-packages/sklearn/base.py:333: UserWarning: Trying to unpickle estimator DecisionTreeClassifier from version 0.24.2 when using version 1.0.1. This might lead to breaking code or invalid results. Use at your own risk. For more info please refer to:\n",
      "https://scikit-learn.org/stable/modules/model_persistence.html#security-maintainability-limitations\n",
      "  return collected_tags\n",
      "/home/mvahdat/anaconda3/lib/python3.7/site-packages/sklearn/base.py:333: UserWarning: Trying to unpickle estimator RandomForestClassifier from version 0.24.2 when using version 1.0.1. This might lead to breaking code or invalid results. Use at your own risk. For more info please refer to:\n",
      "https://scikit-learn.org/stable/modules/model_persistence.html#security-maintainability-limitations\n",
      "  return collected_tags\n"
     ]
    }
   ],
   "source": [
    "loaded_RF = joblib.load(\"random_forest_model_including_BFBB_Features.joblib\")"
   ]
  },
  {
   "cell_type": "code",
   "execution_count": 75,
   "id": "f8335ac5",
   "metadata": {},
   "outputs": [
    {
     "ename": "ValueError",
     "evalue": "X has 2875 features, but RandomForestClassifier is expecting 2949 features as input.",
     "output_type": "error",
     "traceback": [
      "\u001b[0;31m---------------------------------------------------------------------------\u001b[0m",
      "\u001b[0;31mValueError\u001b[0m                                Traceback (most recent call last)",
      "\u001b[0;32m<ipython-input-75-c9085b7921c4>\u001b[0m in \u001b[0;36m<module>\u001b[0;34m\u001b[0m\n\u001b[0;32m----> 1\u001b[0;31m \u001b[0mpredictions\u001b[0m \u001b[0;34m=\u001b[0m \u001b[0mloaded_RF\u001b[0m\u001b[0;34m.\u001b[0m\u001b[0mpredict\u001b[0m\u001b[0;34m(\u001b[0m\u001b[0mX\u001b[0m\u001b[0;34m)\u001b[0m\u001b[0;34m\u001b[0m\u001b[0;34m\u001b[0m\u001b[0m\n\u001b[0m",
      "\u001b[0;32m~/anaconda3/lib/python3.7/site-packages/sklearn/ensemble/_forest.py\u001b[0m in \u001b[0;36mpredict\u001b[0;34m(self, X)\u001b[0m\n\u001b[1;32m    796\u001b[0m         \u001b[0mlock\u001b[0m \u001b[0;34m=\u001b[0m \u001b[0mthreading\u001b[0m\u001b[0;34m.\u001b[0m\u001b[0mLock\u001b[0m\u001b[0;34m(\u001b[0m\u001b[0;34m)\u001b[0m\u001b[0;34m\u001b[0m\u001b[0;34m\u001b[0m\u001b[0m\n\u001b[1;32m    797\u001b[0m         Parallel(n_jobs=n_jobs, verbose=self.verbose,\n\u001b[0;32m--> 798\u001b[0;31m                  \u001b[0;34m**\u001b[0m\u001b[0m_joblib_parallel_args\u001b[0m\u001b[0;34m(\u001b[0m\u001b[0mrequire\u001b[0m\u001b[0;34m=\u001b[0m\u001b[0;34m\"sharedmem\"\u001b[0m\u001b[0;34m)\u001b[0m\u001b[0;34m)\u001b[0m\u001b[0;34m(\u001b[0m\u001b[0;34m\u001b[0m\u001b[0;34m\u001b[0m\u001b[0m\n\u001b[0m\u001b[1;32m    799\u001b[0m             \u001b[0mdelayed\u001b[0m\u001b[0;34m(\u001b[0m\u001b[0m_accumulate_prediction\u001b[0m\u001b[0;34m)\u001b[0m\u001b[0;34m(\u001b[0m\u001b[0me\u001b[0m\u001b[0;34m.\u001b[0m\u001b[0mpredict\u001b[0m\u001b[0;34m,\u001b[0m \u001b[0mX\u001b[0m\u001b[0;34m,\u001b[0m \u001b[0;34m[\u001b[0m\u001b[0my_hat\u001b[0m\u001b[0;34m]\u001b[0m\u001b[0;34m,\u001b[0m \u001b[0mlock\u001b[0m\u001b[0;34m)\u001b[0m\u001b[0;34m\u001b[0m\u001b[0;34m\u001b[0m\u001b[0m\n\u001b[1;32m    800\u001b[0m             for e in self.estimators_)\n",
      "\u001b[0;32m~/anaconda3/lib/python3.7/site-packages/sklearn/ensemble/_forest.py\u001b[0m in \u001b[0;36mpredict_proba\u001b[0;34m(self, X)\u001b[0m\n\u001b[1;32m    838\u001b[0m         \u001b[0mpredictions\u001b[0m \u001b[0;34m/=\u001b[0m \u001b[0mn_predictions\u001b[0m\u001b[0;34m\u001b[0m\u001b[0;34m\u001b[0m\u001b[0m\n\u001b[1;32m    839\u001b[0m         \u001b[0mself\u001b[0m\u001b[0;34m.\u001b[0m\u001b[0moob_prediction_\u001b[0m \u001b[0;34m=\u001b[0m \u001b[0mpredictions\u001b[0m\u001b[0;34m\u001b[0m\u001b[0;34m\u001b[0m\u001b[0m\n\u001b[0;32m--> 840\u001b[0;31m \u001b[0;34m\u001b[0m\u001b[0m\n\u001b[0m\u001b[1;32m    841\u001b[0m         \u001b[0;32mif\u001b[0m \u001b[0mself\u001b[0m\u001b[0;34m.\u001b[0m\u001b[0mn_outputs_\u001b[0m \u001b[0;34m==\u001b[0m \u001b[0;36m1\u001b[0m\u001b[0;34m:\u001b[0m\u001b[0;34m\u001b[0m\u001b[0;34m\u001b[0m\u001b[0m\n\u001b[1;32m    842\u001b[0m             \u001b[0mself\u001b[0m\u001b[0;34m.\u001b[0m\u001b[0moob_prediction_\u001b[0m \u001b[0;34m=\u001b[0m\u001b[0;31m \u001b[0m\u001b[0;31m\\\u001b[0m\u001b[0;34m\u001b[0m\u001b[0;34m\u001b[0m\u001b[0m\n",
      "\u001b[0;32m~/anaconda3/lib/python3.7/site-packages/sklearn/ensemble/_forest.py\u001b[0m in \u001b[0;36m_validate_X_predict\u001b[0;34m(self, X)\u001b[0m\n\u001b[1;32m    567\u001b[0m         \u001b[0mself\u001b[0m\u001b[0;34m.\u001b[0m\u001b[0mclasses_\u001b[0m \u001b[0;34m=\u001b[0m \u001b[0;34m[\u001b[0m\u001b[0;34m]\u001b[0m\u001b[0;34m\u001b[0m\u001b[0;34m\u001b[0m\u001b[0m\n\u001b[1;32m    568\u001b[0m         \u001b[0mself\u001b[0m\u001b[0;34m.\u001b[0m\u001b[0mn_classes_\u001b[0m \u001b[0;34m=\u001b[0m \u001b[0;34m[\u001b[0m\u001b[0;34m]\u001b[0m\u001b[0;34m\u001b[0m\u001b[0;34m\u001b[0m\u001b[0m\n\u001b[0;32m--> 569\u001b[0;31m \u001b[0;34m\u001b[0m\u001b[0m\n\u001b[0m\u001b[1;32m    570\u001b[0m         \u001b[0my_store_unique_indices\u001b[0m \u001b[0;34m=\u001b[0m \u001b[0mnp\u001b[0m\u001b[0;34m.\u001b[0m\u001b[0mzeros\u001b[0m\u001b[0;34m(\u001b[0m\u001b[0my\u001b[0m\u001b[0;34m.\u001b[0m\u001b[0mshape\u001b[0m\u001b[0;34m,\u001b[0m \u001b[0mdtype\u001b[0m\u001b[0;34m=\u001b[0m\u001b[0mint\u001b[0m\u001b[0;34m)\u001b[0m\u001b[0;34m\u001b[0m\u001b[0;34m\u001b[0m\u001b[0m\n\u001b[1;32m    571\u001b[0m         \u001b[0;32mfor\u001b[0m \u001b[0mk\u001b[0m \u001b[0;32min\u001b[0m \u001b[0mrange\u001b[0m\u001b[0;34m(\u001b[0m\u001b[0mself\u001b[0m\u001b[0;34m.\u001b[0m\u001b[0mn_outputs_\u001b[0m\u001b[0;34m)\u001b[0m\u001b[0;34m:\u001b[0m\u001b[0;34m\u001b[0m\u001b[0;34m\u001b[0m\u001b[0m\n",
      "\u001b[0;32m~/anaconda3/lib/python3.7/site-packages/sklearn/base.py\u001b[0m in \u001b[0;36m_validate_data\u001b[0;34m(self, X, y, reset, validate_separately, **check_params)\u001b[0m\n\u001b[1;32m    578\u001b[0m         \u001b[0mlabels\u001b[0m \u001b[0;34m:\u001b[0m \u001b[0mndarray\u001b[0m \u001b[0mof\u001b[0m \u001b[0mshape\u001b[0m \u001b[0;34m(\u001b[0m\u001b[0mn_samples\u001b[0m\u001b[0;34m,\u001b[0m\u001b[0;34m)\u001b[0m\u001b[0;34m,\u001b[0m \u001b[0mdtype\u001b[0m\u001b[0;34m=\u001b[0m\u001b[0mnp\u001b[0m\u001b[0;34m.\u001b[0m\u001b[0mint64\u001b[0m\u001b[0;34m\u001b[0m\u001b[0;34m\u001b[0m\u001b[0m\n\u001b[1;32m    579\u001b[0m             \u001b[0mCluster\u001b[0m \u001b[0mlabels\u001b[0m\u001b[0;34m.\u001b[0m\u001b[0;34m\u001b[0m\u001b[0;34m\u001b[0m\u001b[0m\n\u001b[0;32m--> 580\u001b[0;31m         \"\"\"\n\u001b[0m\u001b[1;32m    581\u001b[0m         \u001b[0;31m# non-optimized default implementation; override when a better\u001b[0m\u001b[0;34m\u001b[0m\u001b[0;34m\u001b[0m\u001b[0;34m\u001b[0m\u001b[0m\n\u001b[1;32m    582\u001b[0m         \u001b[0;31m# method is possible for a given clustering algorithm\u001b[0m\u001b[0;34m\u001b[0m\u001b[0;34m\u001b[0m\u001b[0;34m\u001b[0m\u001b[0m\n",
      "\u001b[0;32m~/anaconda3/lib/python3.7/site-packages/sklearn/base.py\u001b[0m in \u001b[0;36m_check_n_features\u001b[0;34m(self, X, reset)\u001b[0m\n\u001b[1;32m    394\u001b[0m                \u001b[0mIt\u001b[0m \u001b[0;32mis\u001b[0m \u001b[0mrecommended\u001b[0m \u001b[0mto\u001b[0m \u001b[0mcall\u001b[0m \u001b[0mreset\u001b[0m\u001b[0;34m=\u001b[0m\u001b[0;32mTrue\u001b[0m \u001b[0;32min\u001b[0m\u001b[0;31m \u001b[0m\u001b[0;31m`\u001b[0m\u001b[0mfit\u001b[0m\u001b[0;31m`\u001b[0m \u001b[0;32mand\u001b[0m \u001b[0;32min\u001b[0m \u001b[0mthe\u001b[0m \u001b[0mfirst\u001b[0m\u001b[0;34m\u001b[0m\u001b[0;34m\u001b[0m\u001b[0m\n\u001b[1;32m    395\u001b[0m                \u001b[0mcall\u001b[0m \u001b[0mto\u001b[0m\u001b[0;31m \u001b[0m\u001b[0;31m`\u001b[0m\u001b[0mpartial_fit\u001b[0m\u001b[0;31m`\u001b[0m\u001b[0;34m.\u001b[0m \u001b[0mAll\u001b[0m \u001b[0mother\u001b[0m \u001b[0mmethods\u001b[0m \u001b[0mthat\u001b[0m \u001b[0mvalidate\u001b[0m\u001b[0;31m \u001b[0m\u001b[0;31m`\u001b[0m\u001b[0mX\u001b[0m\u001b[0;31m`\u001b[0m\u001b[0;34m\u001b[0m\u001b[0;34m\u001b[0m\u001b[0m\n\u001b[0;32m--> 396\u001b[0;31m                \u001b[0mshould\u001b[0m \u001b[0mset\u001b[0m\u001b[0;31m \u001b[0m\u001b[0;31m`\u001b[0m\u001b[0mreset\u001b[0m\u001b[0;34m=\u001b[0m\u001b[0;32mFalse\u001b[0m\u001b[0;31m`\u001b[0m\u001b[0;34m.\u001b[0m\u001b[0;34m\u001b[0m\u001b[0;34m\u001b[0m\u001b[0m\n\u001b[0m\u001b[1;32m    397\u001b[0m         \u001b[0mvalidate_separately\u001b[0m \u001b[0;34m:\u001b[0m \u001b[0;32mFalse\u001b[0m \u001b[0;32mor\u001b[0m \u001b[0mtuple\u001b[0m \u001b[0mof\u001b[0m \u001b[0mdicts\u001b[0m\u001b[0;34m,\u001b[0m \u001b[0mdefault\u001b[0m\u001b[0;34m=\u001b[0m\u001b[0;32mFalse\u001b[0m\u001b[0;34m\u001b[0m\u001b[0;34m\u001b[0m\u001b[0m\n\u001b[1;32m    398\u001b[0m             \u001b[0mOnly\u001b[0m \u001b[0mused\u001b[0m \u001b[0;32mif\u001b[0m \u001b[0my\u001b[0m \u001b[0;32mis\u001b[0m \u001b[0;32mnot\u001b[0m \u001b[0;32mNone\u001b[0m\u001b[0;34m.\u001b[0m\u001b[0;34m\u001b[0m\u001b[0;34m\u001b[0m\u001b[0m\n",
      "\u001b[0;31mValueError\u001b[0m: X has 2875 features, but RandomForestClassifier is expecting 2949 features as input."
     ]
    }
   ],
   "source": [
    "predictions = loaded_RF.predict(X)"
   ]
  },
  {
   "cell_type": "code",
   "execution_count": null,
   "id": "a7c3f5d0",
   "metadata": {},
   "outputs": [],
   "source": []
  }
 ],
 "metadata": {
  "kernelspec": {
   "display_name": "Python 3",
   "language": "python",
   "name": "python3"
  },
  "language_info": {
   "codemirror_mode": {
    "name": "ipython",
    "version": 3
   },
   "file_extension": ".py",
   "mimetype": "text/x-python",
   "name": "python",
   "nbconvert_exporter": "python",
   "pygments_lexer": "ipython3",
   "version": "3.7.6"
  }
 },
 "nbformat": 4,
 "nbformat_minor": 5
}
