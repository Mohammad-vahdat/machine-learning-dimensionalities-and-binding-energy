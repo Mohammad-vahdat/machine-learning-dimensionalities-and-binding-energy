{
 "cells": [
  {
   "cell_type": "code",
   "execution_count": 1,
   "id": "d68229b8",
   "metadata": {},
   "outputs": [],
   "source": [
    "import ase\n",
    "import ase.io\n",
    "from ase.io import xsf\n",
    "import pandas as pd\n",
    "import json\n",
    "import seaborn as sns\n",
    "import matplotlib.pyplot as plt\n",
    "import os\n",
    "%matplotlib inline"
   ]
  },
  {
   "cell_type": "code",
   "execution_count": 2,
   "id": "d3905365",
   "metadata": {},
   "outputs": [],
   "source": [
    "with open('2d-structures/uuids3Dlayered.json') as f:\n",
    "    uuids_3d_layered = json.load(f)\n",
    "\n",
    "with open('2d-structures/allBE.json') as f:\n",
    "    allBE = json.load(f)"
   ]
  },
  {
   "cell_type": "code",
   "execution_count": 4,
   "id": "8dae5318",
   "metadata": {},
   "outputs": [
    {
     "data": {
      "text/plain": [
       "False"
      ]
     },
     "execution_count": 4,
     "metadata": {},
     "output_type": "execute_result"
    }
   ],
   "source": [
    "'0e12d527-821d-4c68-a898-f96268cc1dbe' in uuids_3d_layered"
   ]
  },
  {
   "cell_type": "code",
   "execution_count": 5,
   "id": "6e8ca7c2",
   "metadata": {},
   "outputs": [
    {
     "data": {
      "text/plain": [
       "{'relevant_dimension_of_highest_dimensionality_substructure': 43.96341884868421,\n",
       " 'binding_energy_per_substructure': -0.36854635160125326,\n",
       " 'number_of_atoms_in_bulk': 8,\n",
       " 'warnings': [],\n",
       " 'substructure_dimensionalities': [2],\n",
       " 'number_of_highest_dimensionality_substructures_in_bulk': 1,\n",
       " 'number_of_types_in_bulk': 2,\n",
       " 'relevant_dimension_units': 'ang^2',\n",
       " 'substructures_uuids': ['dbe4dc90-f23a-4446-8703-8c2e1a90b3bb'],\n",
       " 'structure_bulk_original': '2d031e1f-ef9b-4112-9216-de429085ed5f',\n",
       " 'energy_units': 'eV',\n",
       " 'energy_bulk': -22258.2442617783,\n",
       " 'structure_bulk_relaxed': '691b636e-469e-4606-b519-270d7a76e04c',\n",
       " 'energy_structure_sub_0': -22257.8757154267}"
      ]
     },
     "execution_count": 5,
     "metadata": {},
     "output_type": "execute_result"
    }
   ],
   "source": [
    "allBE['0e12d527-821d-4c68-a898-f96268cc1dbe']"
   ]
  },
  {
   "cell_type": "code",
   "execution_count": 6,
   "id": "43839b27",
   "metadata": {},
   "outputs": [
    {
     "data": {
      "text/plain": [
       "1539"
      ]
     },
     "execution_count": 6,
     "metadata": {},
     "output_type": "execute_result"
    }
   ],
   "source": [
    "len(allBE)"
   ]
  },
  {
   "cell_type": "code",
   "execution_count": 7,
   "id": "7fb8f4b2",
   "metadata": {},
   "outputs": [
    {
     "data": {
      "text/plain": [
       "3687"
      ]
     },
     "execution_count": 7,
     "metadata": {},
     "output_type": "execute_result"
    }
   ],
   "source": [
    "len(uuids_3d_layered)"
   ]
  },
  {
   "cell_type": "code",
   "execution_count": 15,
   "id": "21c34ab9",
   "metadata": {},
   "outputs": [],
   "source": [
    "uuids = []\n",
    "structure_bulk_original_withBE = []\n",
    "structure_bulk_relaxed_withBE = []\n",
    "binding_energy_per_substructures = []\n",
    "relevant_dimension_of_highest_dimensionality_substructures = []\n",
    "structures = []\n",
    "binding_energies = []\n",
    "labels = []\n",
    "for key in allBE.keys():\n",
    "    key_bulk = allBE[key]['structure_bulk_relaxed']\n",
    "    structure_bulk_original_withBE.append(allBE[key]['structure_bulk_original'])\n",
    "    structure_bulk_relaxed_withBE.append(allBE[key]['structure_bulk_relaxed'])\n",
    "    \n",
    "    path = '2d-structures/structure_bulk_relaxed/'\n",
    "    folder = os.fsencode(path)\n",
    "    \n",
    "    filename = key_bulk + '.xsf'\n",
    "    with open(path + filename) as f:\n",
    "            structure = ase.io.xsf.read_xsf(f, index=- 1, read_data=False)\n",
    "    \n",
    "    relevant_dimension_of_highest_dimensionality_substructures.append(allBE[key]['relevant_dimension_of_highest_dimensionality_substructure'])\n",
    "    binding_energy_per_substructures.append(allBE[key]['binding_energy_per_substructure'])\n",
    "    tmp = ( -1000. *\n",
    "            allBE[key]['binding_energy_per_substructure']/\n",
    "            allBE[key]['relevant_dimension_of_highest_dimensionality_substructure'])\n",
    "    binding_energies.append(tmp)\n",
    "        \n",
    "    if tmp <= 30:\n",
    "            labels.append('EE')\n",
    "    elif 30 < tmp <= 130:\n",
    "            labels.append('PE')\n",
    "    else:\n",
    "            labels.append('HBE')\n",
    "        \n",
    "    uuids.append(key)\n",
    "    structures.append(structure)  \n",
    "\n",
    "    \n",
    "data = {\n",
    "    'uuid' : uuids,\n",
    "    'structure' : structures,\n",
    "    'binding_energy' : binding_energies,\n",
    "    'label' : labels,\n",
    "    'structure_bulk_original' : structure_bulk_original_withBE,\n",
    "    'structure_bulk_relaxed' : structure_bulk_relaxed_withBE,\n",
    "}\n",
    "\n",
    "df_withBE = pd.DataFrame(data)"
   ]
  },
  {
   "cell_type": "code",
   "execution_count": 16,
   "id": "fcc92b54",
   "metadata": {},
   "outputs": [
    {
     "name": "stderr",
     "output_type": "stream",
     "text": [
      "/Users/mohammad/anaconda3/lib/python3.7/site-packages/seaborn/_decorators.py:43: FutureWarning: Pass the following variable as a keyword arg: x. From version 0.12, the only valid positional argument will be `data`, and passing other arguments without an explicit keyword will result in an error or misinterpretation.\n",
      "  FutureWarning\n"
     ]
    },
    {
     "data": {
      "text/plain": [
       "<AxesSubplot:xlabel='label', ylabel='count'>"
      ]
     },
     "execution_count": 16,
     "metadata": {},
     "output_type": "execute_result"
    },
    {
     "data": {
      "image/png": "[encoded data removed]",
      "text/plain": [
       "<Figure size 864x288 with 1 Axes>"
      ]
     },
     "metadata": {
      "needs_background": "light"
     },
     "output_type": "display_data"
    }
   ],
   "source": [
    "plt.figure(figsize = (12,4))\n",
    "sns.countplot(df_withBE['label'])"
   ]
  },
  {
   "cell_type": "code",
   "execution_count": 17,
   "id": "c5b81c64",
   "metadata": {},
   "outputs": [],
   "source": [
    "from matminer.featurizers.conversions import ASEAtomstoStructure"
   ]
  },
  {
   "cell_type": "code",
   "execution_count": 18,
   "id": "3f652478",
   "metadata": {},
   "outputs": [
    {
     "data": {
      "application/vnd.jupyter.widget-view+json": {
       "model_id": "ca195a0330e7431ca24d59f7e7018eee",
       "version_major": 2,
       "version_minor": 0
      },
      "text/plain": [
       "ASEAtomstoStructure:   0%|          | 0/1539 [00:00<?, ?it/s]"
      ]
     },
     "metadata": {},
     "output_type": "display_data"
    }
   ],
   "source": [
    "aa2s = ASEAtomstoStructure()\n",
    "df_withBE = aa2s.fit_featurize_dataframe(df_withBE, col_id= 'structure', ignore_errors=True)"
   ]
  },
  {
   "cell_type": "code",
   "execution_count": 19,
   "id": "c3419fec",
   "metadata": {},
   "outputs": [
    {
     "data": {
      "text/html": [
       "<div>\n",
       "<style scoped>\n",
       "    .dataframe tbody tr th:only-of-type {\n",
       "        vertical-align: middle;\n",
       "    }\n",
       "\n",
       "    .dataframe tbody tr th {\n",
       "        vertical-align: top;\n",
       "    }\n",
       "\n",
       "    .dataframe thead th {\n",
       "        text-align: right;\n",
       "    }\n",
       "</style>\n",
       "<table border=\"1\" class=\"dataframe\">\n",
       "  <thead>\n",
       "    <tr style=\"text-align: right;\">\n",
       "      <th></th>\n",
       "      <th>uuid</th>\n",
       "      <th>structure</th>\n",
       "      <th>binding_energy</th>\n",
       "      <th>label</th>\n",
       "      <th>structure_bulk_original</th>\n",
       "      <th>structure_bulk_relaxed</th>\n",
       "      <th>PMG Structure from ASE Atoms</th>\n",
       "    </tr>\n",
       "  </thead>\n",
       "  <tbody>\n",
       "    <tr>\n",
       "      <th>0</th>\n",
       "      <td>0e12d527-821d-4c68-a898-f96268cc1dbe</td>\n",
       "      <td>(Atom('Gd', [0.0, -0.0, 3.1519154659], index=0...</td>\n",
       "      <td>8.383023</td>\n",
       "      <td>EE</td>\n",
       "      <td>2d031e1f-ef9b-4112-9216-de429085ed5f</td>\n",
       "      <td>691b636e-469e-4606-b519-270d7a76e04c</td>\n",
       "      <td>[[-1.30628722e-16  9.42477908e-18  3.15191547e...</td>\n",
       "    </tr>\n",
       "    <tr>\n",
       "      <th>1</th>\n",
       "      <td>c20274b1-40c7-40c5-987d-419d6158f907</td>\n",
       "      <td>(Atom('Zn', [0.0, 0.0, 0.0], index=0), Atom('N...</td>\n",
       "      <td>65.110991</td>\n",
       "      <td>PE</td>\n",
       "      <td>eb884bed-4727-4a4e-8765-e04ee342c627</td>\n",
       "      <td>98b5f692-5bf0-4652-8dc3-a7898b129033</td>\n",
       "      <td>[[0. 0. 0.] Zn, [1.88856784 1.88856784 2.59480...</td>\n",
       "    </tr>\n",
       "    <tr>\n",
       "      <th>2</th>\n",
       "      <td>65d47958-ea9d-43ee-8f41-2b3537549f9a</td>\n",
       "      <td>(Atom('Cu', [2.8325490718, 2.6994815479, -0.28...</td>\n",
       "      <td>10.568737</td>\n",
       "      <td>EE</td>\n",
       "      <td>c2f3b7e3-5db3-4e35-9bdd-51cbb2e6032d</td>\n",
       "      <td>7ce27686-0183-4dc5-a21d-03801f5bd4a3</td>\n",
       "      <td>[[ 2.83254907  2.69948155 -0.28118957] Cu, [-2...</td>\n",
       "    </tr>\n",
       "    <tr>\n",
       "      <th>3</th>\n",
       "      <td>9885b572-7a5f-4cec-937b-06cb83370541</td>\n",
       "      <td>(Atom('C', [1.6525004586, 1.6525004586, 0.0], ...</td>\n",
       "      <td>22.127216</td>\n",
       "      <td>EE</td>\n",
       "      <td>af484afa-94d7-4f6d-8340-0acc71297d5c</td>\n",
       "      <td>86cd3b93-e4d3-44d2-974e-b0d657061bde</td>\n",
       "      <td>[[1.65250046 1.65250046 0.        ] C, [0. 0. ...</td>\n",
       "    </tr>\n",
       "    <tr>\n",
       "      <th>4</th>\n",
       "      <td>19acc17e-ab39-4887-b7ab-e7576f5d61e3</td>\n",
       "      <td>(Atom('H', [1.2283965146, 2.0489822606, 3.1660...</td>\n",
       "      <td>16.581488</td>\n",
       "      <td>EE</td>\n",
       "      <td>5b815108-0890-4377-88fa-e3b6ecaa76c8</td>\n",
       "      <td>6539f69a-9471-44f8-84e2-cbe6cac178ae</td>\n",
       "      <td>[[1.22839651 2.04898226 3.1660159 ] H, [2.1638...</td>\n",
       "    </tr>\n",
       "  </tbody>\n",
       "</table>\n",
       "</div>"
      ],
      "text/plain": [
       "                                   uuid  \\\n",
       "0  0e12d527-821d-4c68-a898-f96268cc1dbe   \n",
       "1  c20274b1-40c7-40c5-987d-419d6158f907   \n",
       "2  65d47958-ea9d-43ee-8f41-2b3537549f9a   \n",
       "3  9885b572-7a5f-4cec-937b-06cb83370541   \n",
       "4  19acc17e-ab39-4887-b7ab-e7576f5d61e3   \n",
       "\n",
       "                                           structure  binding_energy label  \\\n",
       "0  (Atom('Gd', [0.0, -0.0, 3.1519154659], index=0...        8.383023    EE   \n",
       "1  (Atom('Zn', [0.0, 0.0, 0.0], index=0), Atom('N...       65.110991    PE   \n",
       "2  (Atom('Cu', [2.8325490718, 2.6994815479, -0.28...       10.568737    EE   \n",
       "3  (Atom('C', [1.6525004586, 1.6525004586, 0.0], ...       22.127216    EE   \n",
       "4  (Atom('H', [1.2283965146, 2.0489822606, 3.1660...       16.581488    EE   \n",
       "\n",
       "                structure_bulk_original                structure_bulk_relaxed  \\\n",
       "0  2d031e1f-ef9b-4112-9216-de429085ed5f  691b636e-469e-4606-b519-270d7a76e04c   \n",
       "1  eb884bed-4727-4a4e-8765-e04ee342c627  98b5f692-5bf0-4652-8dc3-a7898b129033   \n",
       "2  c2f3b7e3-5db3-4e35-9bdd-51cbb2e6032d  7ce27686-0183-4dc5-a21d-03801f5bd4a3   \n",
       "3  af484afa-94d7-4f6d-8340-0acc71297d5c  86cd3b93-e4d3-44d2-974e-b0d657061bde   \n",
       "4  5b815108-0890-4377-88fa-e3b6ecaa76c8  6539f69a-9471-44f8-84e2-cbe6cac178ae   \n",
       "\n",
       "                        PMG Structure from ASE Atoms  \n",
       "0  [[-1.30628722e-16  9.42477908e-18  3.15191547e...  \n",
       "1  [[0. 0. 0.] Zn, [1.88856784 1.88856784 2.59480...  \n",
       "2  [[ 2.83254907  2.69948155 -0.28118957] Cu, [-2...  \n",
       "3  [[1.65250046 1.65250046 0.        ] C, [0. 0. ...  \n",
       "4  [[1.22839651 2.04898226 3.1660159 ] H, [2.1638...  "
      ]
     },
     "execution_count": 19,
     "metadata": {},
     "output_type": "execute_result"
    }
   ],
   "source": [
    "df_withBE.head()"
   ]
  },
  {
   "cell_type": "code",
   "execution_count": 20,
   "id": "a1fcd0ec",
   "metadata": {},
   "outputs": [],
   "source": [
    "df_withBE.to_pickle(\"DataFrame_NewBE-AfterRelax.pkl\")"
   ]
  },
  {
   "cell_type": "code",
   "execution_count": 21,
   "id": "68f2b4a0",
   "metadata": {},
   "outputs": [],
   "source": [
    "df_withBE = pd.read_pickle(\"DataFrame_NewBE-AfterRelax.pkl\")"
   ]
  },
  {
   "cell_type": "code",
   "execution_count": 22,
   "id": "61551e70",
   "metadata": {},
   "outputs": [],
   "source": [
    "df_withBE['num_atoms'] = df_withBE['PMG Structure from ASE Atoms'].apply(lambda x: x.composition.num_atoms)"
   ]
  },
  {
   "cell_type": "code",
   "execution_count": 23,
   "id": "ea722790",
   "metadata": {},
   "outputs": [
    {
     "data": {
      "text/plain": [
       "6.0     137\n",
       "8.0     105\n",
       "24.0     97\n",
       "12.0     93\n",
       "28.0     82\n",
       "36.0     76\n",
       "10.0     68\n",
       "4.0      66\n",
       "32.0     61\n",
       "16.0     57\n",
       "40.0     54\n",
       "20.0     51\n",
       "34.0     46\n",
       "38.0     45\n",
       "26.0     44\n",
       "14.0     43\n",
       "18.0     42\n",
       "3.0      41\n",
       "5.0      40\n",
       "30.0     40\n",
       "22.0     33\n",
       "7.0      30\n",
       "15.0     30\n",
       "9.0      21\n",
       "11.0     16\n",
       "27.0     15\n",
       "13.0     13\n",
       "33.0     11\n",
       "39.0     10\n",
       "17.0     10\n",
       "21.0      9\n",
       "23.0      9\n",
       "2.0       8\n",
       "19.0      6\n",
       "25.0      6\n",
       "37.0      6\n",
       "31.0      6\n",
       "35.0      5\n",
       "29.0      5\n",
       "1.0       2\n",
       "Name: num_atoms, dtype: int64"
      ]
     },
     "execution_count": 23,
     "metadata": {},
     "output_type": "execute_result"
    }
   ],
   "source": [
    "df_withBE['num_atoms'].value_counts()"
   ]
  },
  {
   "cell_type": "code",
   "execution_count": 24,
   "id": "6186b617",
   "metadata": {},
   "outputs": [],
   "source": [
    "structures = list(df_withBE[\"PMG Structure from ASE Atoms\"])\n",
    "gridpoints = list(df_withBE.index)"
   ]
  },
  {
   "cell_type": "code",
   "execution_count": 25,
   "id": "99aed48a",
   "metadata": {},
   "outputs": [],
   "source": [
    "features = {n:{} for n in gridpoints}\n",
    "for name in gridpoints:\n",
    "    features[name][\"structure\"]=df_withBE[\"PMG Structure from ASE Atoms\"][name]"
   ]
  },
  {
   "cell_type": "code",
   "execution_count": 26,
   "id": "f91d555c",
   "metadata": {},
   "outputs": [
    {
     "data": {
      "text/html": [
       "<div>\n",
       "<style scoped>\n",
       "    .dataframe tbody tr th:only-of-type {\n",
       "        vertical-align: middle;\n",
       "    }\n",
       "\n",
       "    .dataframe tbody tr th {\n",
       "        vertical-align: top;\n",
       "    }\n",
       "\n",
       "    .dataframe thead th {\n",
       "        text-align: right;\n",
       "    }\n",
       "</style>\n",
       "<table border=\"1\" class=\"dataframe\">\n",
       "  <thead>\n",
       "    <tr style=\"text-align: right;\">\n",
       "      <th></th>\n",
       "      <th>structure</th>\n",
       "    </tr>\n",
       "  </thead>\n",
       "  <tbody>\n",
       "    <tr>\n",
       "      <th>0</th>\n",
       "      <td>[[-1.30628722e-16  9.42477908e-18  3.15191547e...</td>\n",
       "    </tr>\n",
       "    <tr>\n",
       "      <th>1</th>\n",
       "      <td>[[0. 0. 0.] Zn, [1.88856784 1.88856784 2.59480...</td>\n",
       "    </tr>\n",
       "    <tr>\n",
       "      <th>2</th>\n",
       "      <td>[[ 2.83254907  2.69948155 -0.28118957] Cu, [-2...</td>\n",
       "    </tr>\n",
       "    <tr>\n",
       "      <th>3</th>\n",
       "      <td>[[1.65250046 1.65250046 0.        ] C, [0. 0. ...</td>\n",
       "    </tr>\n",
       "    <tr>\n",
       "      <th>4</th>\n",
       "      <td>[[1.22839651 2.04898226 3.1660159 ] H, [2.1638...</td>\n",
       "    </tr>\n",
       "    <tr>\n",
       "      <th>...</th>\n",
       "      <td>...</td>\n",
       "    </tr>\n",
       "    <tr>\n",
       "      <th>1534</th>\n",
       "      <td>[[4.30209923 2.74836117 2.65638179] Pb, [1.188...</td>\n",
       "    </tr>\n",
       "    <tr>\n",
       "      <th>1535</th>\n",
       "      <td>[[3.50603948e-17 1.14850843e+01 3.74878872e+00...</td>\n",
       "    </tr>\n",
       "    <tr>\n",
       "      <th>1536</th>\n",
       "      <td>[[4.94447262 5.57299849 1.38528688] Tl, [-0.48...</td>\n",
       "    </tr>\n",
       "    <tr>\n",
       "      <th>1537</th>\n",
       "      <td>[[-4.34596912e-17  5.06163305e+00  1.34587459e...</td>\n",
       "    </tr>\n",
       "    <tr>\n",
       "      <th>1538</th>\n",
       "      <td>[[4.12250308 2.38012826 1.94106298] Cs, [-1.43...</td>\n",
       "    </tr>\n",
       "  </tbody>\n",
       "</table>\n",
       "<p>1539 rows × 1 columns</p>\n",
       "</div>"
      ],
      "text/plain": [
       "                                              structure\n",
       "0     [[-1.30628722e-16  9.42477908e-18  3.15191547e...\n",
       "1     [[0. 0. 0.] Zn, [1.88856784 1.88856784 2.59480...\n",
       "2     [[ 2.83254907  2.69948155 -0.28118957] Cu, [-2...\n",
       "3     [[1.65250046 1.65250046 0.        ] C, [0. 0. ...\n",
       "4     [[1.22839651 2.04898226 3.1660159 ] H, [2.1638...\n",
       "...                                                 ...\n",
       "1534  [[4.30209923 2.74836117 2.65638179] Pb, [1.188...\n",
       "1535  [[3.50603948e-17 1.14850843e+01 3.74878872e+00...\n",
       "1536  [[4.94447262 5.57299849 1.38528688] Tl, [-0.48...\n",
       "1537  [[-4.34596912e-17  5.06163305e+00  1.34587459e...\n",
       "1538  [[4.12250308 2.38012826 1.94106298] Cs, [-1.43...\n",
       "\n",
       "[1539 rows x 1 columns]"
      ]
     },
     "execution_count": 26,
     "metadata": {},
     "output_type": "execute_result"
    }
   ],
   "source": [
    "data=pd.DataFrame.from_dict(features).T\n",
    "data"
   ]
  },
  {
   "cell_type": "code",
   "execution_count": 27,
   "id": "ce5078b1",
   "metadata": {},
   "outputs": [],
   "source": [
    "data = data.reset_index()\n"
   ]
  },
  {
   "cell_type": "code",
   "execution_count": 28,
   "id": "8db0a4e9",
   "metadata": {},
   "outputs": [],
   "source": [
    "%matplotlib inline\n",
    "from matplotlib import pyplot as plt\n",
    "from matminer.datasets import load_dataset\n",
    "from matminer.featurizers.base import MultipleFeaturizer\n",
    "from matminer.featurizers.composition import ElementProperty, Stoichiometry, ValenceOrbital, IonProperty\n",
    "from matminer.featurizers.structure import (SiteStatsFingerprint, StructuralHeterogeneity,\n",
    "                                            ChemicalOrdering, StructureComposition, MaximumPackingEfficiency)\n",
    "from matminer.featurizers.conversions import DictToObject\n",
    "from sklearn.ensemble import RandomForestClassifier\n",
    "from sklearn.model_selection import ShuffleSplit, train_test_split\n",
    "from sklearn.pipeline import Pipeline\n",
    "from sklearn.impute import SimpleImputer\n",
    "from scipy import stats\n",
    "from tqdm import tqdm_notebook as tqdm\n",
    "import numpy as np"
   ]
  },
  {
   "cell_type": "code",
   "execution_count": 29,
   "id": "7813fafb",
   "metadata": {},
   "outputs": [],
   "source": [
    "featurizer = MultipleFeaturizer([\n",
    "    SiteStatsFingerprint.from_preset(\"CoordinationNumber_ward-prb-2017\"),\n",
    "    StructuralHeterogeneity(),\n",
    "    ChemicalOrdering(),\n",
    "    MaximumPackingEfficiency(),\n",
    "    SiteStatsFingerprint.from_preset(\"LocalPropertyDifference_ward-prb-2017\"),\n",
    "    StructureComposition(Stoichiometry()),\n",
    "    StructureComposition(ElementProperty.from_preset(\"magpie\")),\n",
    "    StructureComposition(ValenceOrbital(props=['frac'])),\n",
    "    StructureComposition(IonProperty(fast=True))\n",
    "])"
   ]
  },
  {
   "cell_type": "code",
   "execution_count": 30,
   "id": "36ba5258",
   "metadata": {},
   "outputs": [
    {
     "data": {
      "application/vnd.jupyter.widget-view+json": {
       "model_id": "2b9aad2c9fbf48f7af6af7ce66c8215d",
       "version_major": 2,
       "version_minor": 0
      },
      "text/plain": [
       "DictToObject:   0%|          | 0/1539 [00:00<?, ?it/s]"
      ]
     },
     "metadata": {},
     "output_type": "display_data"
    }
   ],
   "source": [
    "dto = DictToObject(target_col_id='structure', overwrite_data=True)\n",
    "data = dto.featurize_dataframe(data, 'structure')"
   ]
  },
  {
   "cell_type": "code",
   "execution_count": 31,
   "id": "5cedf8c8",
   "metadata": {},
   "outputs": [
    {
     "data": {
      "application/vnd.jupyter.widget-view+json": {
       "model_id": "5b40bcb89585465997c0f4b4bf739256",
       "version_major": 2,
       "version_minor": 0
      },
      "text/plain": [
       "MultipleFeaturizer:   0%|          | 0/1539 [00:00<?, ?it/s]"
      ]
     },
     "metadata": {},
     "output_type": "display_data"
    },
    {
     "name": "stdout",
     "output_type": "stream",
     "text": [
      "CPU times: user 1.77 s, sys: 702 ms, total: 2.47 s\n",
      "Wall time: 27min 39s\n"
     ]
    }
   ],
   "source": [
    "%%time\n",
    "X = featurizer.featurize_many(data['structure'], ignore_errors=True)"
   ]
  },
  {
   "cell_type": "code",
   "execution_count": 32,
   "id": "d60f8511",
   "metadata": {},
   "outputs": [
    {
     "data": {
      "text/html": [
       "<div>\n",
       "<style scoped>\n",
       "    .dataframe tbody tr th:only-of-type {\n",
       "        vertical-align: middle;\n",
       "    }\n",
       "\n",
       "    .dataframe tbody tr th {\n",
       "        vertical-align: top;\n",
       "    }\n",
       "\n",
       "    .dataframe thead th {\n",
       "        text-align: right;\n",
       "    }\n",
       "</style>\n",
       "<table border=\"1\" class=\"dataframe\">\n",
       "  <thead>\n",
       "    <tr style=\"text-align: right;\">\n",
       "      <th></th>\n",
       "      <th>0</th>\n",
       "      <th>1</th>\n",
       "      <th>2</th>\n",
       "      <th>3</th>\n",
       "      <th>4</th>\n",
       "      <th>5</th>\n",
       "      <th>6</th>\n",
       "      <th>7</th>\n",
       "      <th>8</th>\n",
       "      <th>9</th>\n",
       "      <th>...</th>\n",
       "      <th>263</th>\n",
       "      <th>264</th>\n",
       "      <th>265</th>\n",
       "      <th>266</th>\n",
       "      <th>267</th>\n",
       "      <th>268</th>\n",
       "      <th>269</th>\n",
       "      <th>270</th>\n",
       "      <th>271</th>\n",
       "      <th>272</th>\n",
       "    </tr>\n",
       "  </thead>\n",
       "  <tbody>\n",
       "    <tr>\n",
       "      <th>0</th>\n",
       "      <td>NaN</td>\n",
       "      <td>NaN</td>\n",
       "      <td>NaN</td>\n",
       "      <td>NaN</td>\n",
       "      <td>NaN</td>\n",
       "      <td>NaN</td>\n",
       "      <td>NaN</td>\n",
       "      <td>NaN</td>\n",
       "      <td>NaN</td>\n",
       "      <td>NaN</td>\n",
       "      <td>...</td>\n",
       "      <td>96.500000</td>\n",
       "      <td>48.750000</td>\n",
       "      <td>64.0</td>\n",
       "      <td>0.131148</td>\n",
       "      <td>0.245902</td>\n",
       "      <td>0.508197</td>\n",
       "      <td>0.114754</td>\n",
       "      <td>True</td>\n",
       "      <td>0.539020</td>\n",
       "      <td>0.101066</td>\n",
       "    </tr>\n",
       "    <tr>\n",
       "      <th>1</th>\n",
       "      <td>5.986080</td>\n",
       "      <td>9.860516</td>\n",
       "      <td>3.874436</td>\n",
       "      <td>8.944054</td>\n",
       "      <td>0.845135</td>\n",
       "      <td>0.04835</td>\n",
       "      <td>1.053113</td>\n",
       "      <td>0.846426</td>\n",
       "      <td>0.183146</td>\n",
       "      <td>0.228251</td>\n",
       "      <td>...</td>\n",
       "      <td>91.714286</td>\n",
       "      <td>87.673469</td>\n",
       "      <td>15.0</td>\n",
       "      <td>0.280000</td>\n",
       "      <td>0.520000</td>\n",
       "      <td>0.200000</td>\n",
       "      <td>0.000000</td>\n",
       "      <td>False</td>\n",
       "      <td>0.742626</td>\n",
       "      <td>0.108618</td>\n",
       "    </tr>\n",
       "    <tr>\n",
       "      <th>2</th>\n",
       "      <td>NaN</td>\n",
       "      <td>NaN</td>\n",
       "      <td>NaN</td>\n",
       "      <td>NaN</td>\n",
       "      <td>NaN</td>\n",
       "      <td>NaN</td>\n",
       "      <td>NaN</td>\n",
       "      <td>NaN</td>\n",
       "      <td>NaN</td>\n",
       "      <td>NaN</td>\n",
       "      <td>...</td>\n",
       "      <td>91.000000</td>\n",
       "      <td>94.800000</td>\n",
       "      <td>12.0</td>\n",
       "      <td>0.272727</td>\n",
       "      <td>0.424242</td>\n",
       "      <td>0.303030</td>\n",
       "      <td>0.000000</td>\n",
       "      <td>True</td>\n",
       "      <td>0.447278</td>\n",
       "      <td>0.079241</td>\n",
       "    </tr>\n",
       "    <tr>\n",
       "      <th>3</th>\n",
       "      <td>4.746512</td>\n",
       "      <td>7.092767</td>\n",
       "      <td>2.346255</td>\n",
       "      <td>6.310682</td>\n",
       "      <td>1.042780</td>\n",
       "      <td>0.12180</td>\n",
       "      <td>1.091350</td>\n",
       "      <td>0.817299</td>\n",
       "      <td>0.089195</td>\n",
       "      <td>0.347844</td>\n",
       "      <td>...</td>\n",
       "      <td>194.000000</td>\n",
       "      <td>0.000000</td>\n",
       "      <td>194.0</td>\n",
       "      <td>0.428571</td>\n",
       "      <td>0.571429</td>\n",
       "      <td>0.000000</td>\n",
       "      <td>0.000000</td>\n",
       "      <td>False</td>\n",
       "      <td>0.058259</td>\n",
       "      <td>0.012946</td>\n",
       "    </tr>\n",
       "    <tr>\n",
       "      <th>4</th>\n",
       "      <td>NaN</td>\n",
       "      <td>NaN</td>\n",
       "      <td>NaN</td>\n",
       "      <td>NaN</td>\n",
       "      <td>NaN</td>\n",
       "      <td>NaN</td>\n",
       "      <td>NaN</td>\n",
       "      <td>NaN</td>\n",
       "      <td>NaN</td>\n",
       "      <td>NaN</td>\n",
       "      <td>...</td>\n",
       "      <td>122.000000</td>\n",
       "      <td>92.666667</td>\n",
       "      <td>12.0</td>\n",
       "      <td>0.127907</td>\n",
       "      <td>0.197674</td>\n",
       "      <td>0.348837</td>\n",
       "      <td>0.325581</td>\n",
       "      <td>True</td>\n",
       "      <td>0.319141</td>\n",
       "      <td>0.058182</td>\n",
       "    </tr>\n",
       "  </tbody>\n",
       "</table>\n",
       "<p>5 rows × 273 columns</p>\n",
       "</div>"
      ],
      "text/plain": [
       "        0         1         2         3         4        5         6    \\\n",
       "0       NaN       NaN       NaN       NaN       NaN      NaN       NaN   \n",
       "1  5.986080  9.860516  3.874436  8.944054  0.845135  0.04835  1.053113   \n",
       "2       NaN       NaN       NaN       NaN       NaN      NaN       NaN   \n",
       "3  4.746512  7.092767  2.346255  6.310682  1.042780  0.12180  1.091350   \n",
       "4       NaN       NaN       NaN       NaN       NaN      NaN       NaN   \n",
       "\n",
       "        7         8         9    ...         263        264    265       266  \\\n",
       "0       NaN       NaN       NaN  ...   96.500000  48.750000   64.0  0.131148   \n",
       "1  0.846426  0.183146  0.228251  ...   91.714286  87.673469   15.0  0.280000   \n",
       "2       NaN       NaN       NaN  ...   91.000000  94.800000   12.0  0.272727   \n",
       "3  0.817299  0.089195  0.347844  ...  194.000000   0.000000  194.0  0.428571   \n",
       "4       NaN       NaN       NaN  ...  122.000000  92.666667   12.0  0.127907   \n",
       "\n",
       "        267       268       269    270       271       272  \n",
       "0  0.245902  0.508197  0.114754   True  0.539020  0.101066  \n",
       "1  0.520000  0.200000  0.000000  False  0.742626  0.108618  \n",
       "2  0.424242  0.303030  0.000000   True  0.447278  0.079241  \n",
       "3  0.571429  0.000000  0.000000  False  0.058259  0.012946  \n",
       "4  0.197674  0.348837  0.325581   True  0.319141  0.058182  \n",
       "\n",
       "[5 rows x 273 columns]"
      ]
     },
     "execution_count": 32,
     "metadata": {},
     "output_type": "execute_result"
    }
   ],
   "source": [
    "df_features = pd.DataFrame(X)\n",
    "df_features.head()"
   ]
  },
  {
   "cell_type": "code",
   "execution_count": 33,
   "id": "c238a493",
   "metadata": {},
   "outputs": [
    {
     "data": {
      "text/html": [
       "<div>\n",
       "<style scoped>\n",
       "    .dataframe tbody tr th:only-of-type {\n",
       "        vertical-align: middle;\n",
       "    }\n",
       "\n",
       "    .dataframe tbody tr th {\n",
       "        vertical-align: top;\n",
       "    }\n",
       "\n",
       "    .dataframe thead th {\n",
       "        text-align: right;\n",
       "    }\n",
       "</style>\n",
       "<table border=\"1\" class=\"dataframe\">\n",
       "  <thead>\n",
       "    <tr style=\"text-align: right;\">\n",
       "      <th></th>\n",
       "      <th>index</th>\n",
       "      <th>structure</th>\n",
       "      <th>label</th>\n",
       "      <th>binding_energy</th>\n",
       "      <th>0</th>\n",
       "      <th>1</th>\n",
       "      <th>2</th>\n",
       "      <th>3</th>\n",
       "      <th>4</th>\n",
       "      <th>5</th>\n",
       "      <th>...</th>\n",
       "      <th>263</th>\n",
       "      <th>264</th>\n",
       "      <th>265</th>\n",
       "      <th>266</th>\n",
       "      <th>267</th>\n",
       "      <th>268</th>\n",
       "      <th>269</th>\n",
       "      <th>270</th>\n",
       "      <th>271</th>\n",
       "      <th>272</th>\n",
       "    </tr>\n",
       "  </thead>\n",
       "  <tbody>\n",
       "    <tr>\n",
       "      <th>0</th>\n",
       "      <td>0</td>\n",
       "      <td>[[-1.30628722e-16  9.42477908e-18  3.15191547e...</td>\n",
       "      <td>EE</td>\n",
       "      <td>8.383023</td>\n",
       "      <td>NaN</td>\n",
       "      <td>NaN</td>\n",
       "      <td>NaN</td>\n",
       "      <td>NaN</td>\n",
       "      <td>NaN</td>\n",
       "      <td>NaN</td>\n",
       "      <td>...</td>\n",
       "      <td>96.500000</td>\n",
       "      <td>48.750000</td>\n",
       "      <td>64.0</td>\n",
       "      <td>0.131148</td>\n",
       "      <td>0.245902</td>\n",
       "      <td>0.508197</td>\n",
       "      <td>0.114754</td>\n",
       "      <td>True</td>\n",
       "      <td>0.539020</td>\n",
       "      <td>0.101066</td>\n",
       "    </tr>\n",
       "    <tr>\n",
       "      <th>1</th>\n",
       "      <td>1</td>\n",
       "      <td>[[0. 0. 0.] Zn, [1.88856784 1.88856784 2.59480...</td>\n",
       "      <td>PE</td>\n",
       "      <td>65.110991</td>\n",
       "      <td>5.986080</td>\n",
       "      <td>9.860516</td>\n",
       "      <td>3.874436</td>\n",
       "      <td>8.944054</td>\n",
       "      <td>0.845135</td>\n",
       "      <td>0.04835</td>\n",
       "      <td>...</td>\n",
       "      <td>91.714286</td>\n",
       "      <td>87.673469</td>\n",
       "      <td>15.0</td>\n",
       "      <td>0.280000</td>\n",
       "      <td>0.520000</td>\n",
       "      <td>0.200000</td>\n",
       "      <td>0.000000</td>\n",
       "      <td>False</td>\n",
       "      <td>0.742626</td>\n",
       "      <td>0.108618</td>\n",
       "    </tr>\n",
       "    <tr>\n",
       "      <th>2</th>\n",
       "      <td>2</td>\n",
       "      <td>[[ 2.83254907  2.69948155 -0.28118957] Cu, [-2...</td>\n",
       "      <td>EE</td>\n",
       "      <td>10.568737</td>\n",
       "      <td>NaN</td>\n",
       "      <td>NaN</td>\n",
       "      <td>NaN</td>\n",
       "      <td>NaN</td>\n",
       "      <td>NaN</td>\n",
       "      <td>NaN</td>\n",
       "      <td>...</td>\n",
       "      <td>91.000000</td>\n",
       "      <td>94.800000</td>\n",
       "      <td>12.0</td>\n",
       "      <td>0.272727</td>\n",
       "      <td>0.424242</td>\n",
       "      <td>0.303030</td>\n",
       "      <td>0.000000</td>\n",
       "      <td>True</td>\n",
       "      <td>0.447278</td>\n",
       "      <td>0.079241</td>\n",
       "    </tr>\n",
       "    <tr>\n",
       "      <th>3</th>\n",
       "      <td>3</td>\n",
       "      <td>[[1.65250046 1.65250046 0.        ] C, [0. 0. ...</td>\n",
       "      <td>EE</td>\n",
       "      <td>22.127216</td>\n",
       "      <td>4.746512</td>\n",
       "      <td>7.092767</td>\n",
       "      <td>2.346255</td>\n",
       "      <td>6.310682</td>\n",
       "      <td>1.042780</td>\n",
       "      <td>0.12180</td>\n",
       "      <td>...</td>\n",
       "      <td>194.000000</td>\n",
       "      <td>0.000000</td>\n",
       "      <td>194.0</td>\n",
       "      <td>0.428571</td>\n",
       "      <td>0.571429</td>\n",
       "      <td>0.000000</td>\n",
       "      <td>0.000000</td>\n",
       "      <td>False</td>\n",
       "      <td>0.058259</td>\n",
       "      <td>0.012946</td>\n",
       "    </tr>\n",
       "    <tr>\n",
       "      <th>4</th>\n",
       "      <td>4</td>\n",
       "      <td>[[1.22839651 2.04898226 3.1660159 ] H, [2.1638...</td>\n",
       "      <td>EE</td>\n",
       "      <td>16.581488</td>\n",
       "      <td>NaN</td>\n",
       "      <td>NaN</td>\n",
       "      <td>NaN</td>\n",
       "      <td>NaN</td>\n",
       "      <td>NaN</td>\n",
       "      <td>NaN</td>\n",
       "      <td>...</td>\n",
       "      <td>122.000000</td>\n",
       "      <td>92.666667</td>\n",
       "      <td>12.0</td>\n",
       "      <td>0.127907</td>\n",
       "      <td>0.197674</td>\n",
       "      <td>0.348837</td>\n",
       "      <td>0.325581</td>\n",
       "      <td>True</td>\n",
       "      <td>0.319141</td>\n",
       "      <td>0.058182</td>\n",
       "    </tr>\n",
       "  </tbody>\n",
       "</table>\n",
       "<p>5 rows × 277 columns</p>\n",
       "</div>"
      ],
      "text/plain": [
       "   index                                          structure label  \\\n",
       "0      0  [[-1.30628722e-16  9.42477908e-18  3.15191547e...    EE   \n",
       "1      1  [[0. 0. 0.] Zn, [1.88856784 1.88856784 2.59480...    PE   \n",
       "2      2  [[ 2.83254907  2.69948155 -0.28118957] Cu, [-2...    EE   \n",
       "3      3  [[1.65250046 1.65250046 0.        ] C, [0. 0. ...    EE   \n",
       "4      4  [[1.22839651 2.04898226 3.1660159 ] H, [2.1638...    EE   \n",
       "\n",
       "   binding_energy         0         1         2         3         4        5  \\\n",
       "0        8.383023       NaN       NaN       NaN       NaN       NaN      NaN   \n",
       "1       65.110991  5.986080  9.860516  3.874436  8.944054  0.845135  0.04835   \n",
       "2       10.568737       NaN       NaN       NaN       NaN       NaN      NaN   \n",
       "3       22.127216  4.746512  7.092767  2.346255  6.310682  1.042780  0.12180   \n",
       "4       16.581488       NaN       NaN       NaN       NaN       NaN      NaN   \n",
       "\n",
       "   ...         263        264    265       266       267       268       269  \\\n",
       "0  ...   96.500000  48.750000   64.0  0.131148  0.245902  0.508197  0.114754   \n",
       "1  ...   91.714286  87.673469   15.0  0.280000  0.520000  0.200000  0.000000   \n",
       "2  ...   91.000000  94.800000   12.0  0.272727  0.424242  0.303030  0.000000   \n",
       "3  ...  194.000000   0.000000  194.0  0.428571  0.571429  0.000000  0.000000   \n",
       "4  ...  122.000000  92.666667   12.0  0.127907  0.197674  0.348837  0.325581   \n",
       "\n",
       "     270       271       272  \n",
       "0   True  0.539020  0.101066  \n",
       "1  False  0.742626  0.108618  \n",
       "2   True  0.447278  0.079241  \n",
       "3  False  0.058259  0.012946  \n",
       "4   True  0.319141  0.058182  \n",
       "\n",
       "[5 rows x 277 columns]"
      ]
     },
     "execution_count": 33,
     "metadata": {},
     "output_type": "execute_result"
    }
   ],
   "source": [
    "df_features = pd.concat([data, df_withBE['label'], df_withBE['binding_energy'], df_features], axis = 1, ignore_index= False)\n",
    "df_features.head()"
   ]
  },
  {
   "cell_type": "code",
   "execution_count": 34,
   "id": "595b57eb",
   "metadata": {},
   "outputs": [],
   "source": [
    "df_features.to_pickle('features_MultipleFeaturizer_NewBE-AfterRelax.pkl')"
   ]
  },
  {
   "cell_type": "code",
   "execution_count": 35,
   "id": "dea19cb8",
   "metadata": {},
   "outputs": [],
   "source": [
    "df_features = pd.read_pickle('features_MultipleFeaturizer_NewBE-AfterRelax.pkl')"
   ]
  },
  {
   "cell_type": "code",
   "execution_count": 36,
   "id": "f3322f81",
   "metadata": {},
   "outputs": [
    {
     "data": {
      "text/plain": [
       "1539"
      ]
     },
     "execution_count": 36,
     "metadata": {},
     "output_type": "execute_result"
    }
   ],
   "source": [
    "len(df_features)"
   ]
  },
  {
   "cell_type": "code",
   "execution_count": 37,
   "id": "b1d18b74",
   "metadata": {},
   "outputs": [
    {
     "data": {
      "text/plain": [
       "558"
      ]
     },
     "execution_count": 37,
     "metadata": {},
     "output_type": "execute_result"
    }
   ],
   "source": [
    "len(df_features.dropna())"
   ]
  },
  {
   "cell_type": "code",
   "execution_count": null,
   "id": "0c75c4ce",
   "metadata": {},
   "outputs": [],
   "source": []
  }
 ],
 "metadata": {
  "kernelspec": {
   "display_name": "Python 3",
   "language": "python",
   "name": "python3"
  },
  "language_info": {
   "codemirror_mode": {
    "name": "ipython",
    "version": 3
   },
   "file_extension": ".py",
   "mimetype": "text/x-python",
   "name": "python",
   "nbconvert_exporter": "python",
   "pygments_lexer": "ipython3",
   "version": "3.7.11"
  }
 },
 "nbformat": 4,
 "nbformat_minor": 5
}
