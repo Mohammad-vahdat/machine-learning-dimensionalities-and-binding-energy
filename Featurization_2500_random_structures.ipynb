{
 "cells": [
  {
   "cell_type": "code",
   "execution_count": 3,
   "metadata": {},
   "outputs": [],
   "source": [
    "import ase\n",
    "import ase.io\n",
    "from ase.io import xsf\n",
    "import pandas as pd\n",
    "import json\n",
    "import seaborn as sns\n",
    "import matplotlib.pyplot as plt\n",
    "import os\n",
    "import numpy as np\n",
    "%matplotlib inline"
   ]
  },
  {
   "cell_type": "code",
   "execution_count": 2,
   "metadata": {},
   "outputs": [],
   "source": [
    "dataframe_all_structures = pd.read_pickle(\"pickle_files/DataFrame_all_structures.pkl\")"
   ]
  },
  {
   "cell_type": "code",
   "execution_count": 3,
   "metadata": {},
   "outputs": [
    {
     "data": {
      "text/html": [
       "<div>\n",
       "<style scoped>\n",
       "    .dataframe tbody tr th:only-of-type {\n",
       "        vertical-align: middle;\n",
       "    }\n",
       "\n",
       "    .dataframe tbody tr th {\n",
       "        vertical-align: top;\n",
       "    }\n",
       "\n",
       "    .dataframe thead th {\n",
       "        text-align: right;\n",
       "    }\n",
       "</style>\n",
       "<table border=\"1\" class=\"dataframe\">\n",
       "  <thead>\n",
       "    <tr style=\"text-align: right;\">\n",
       "      <th></th>\n",
       "      <th>uuid</th>\n",
       "      <th>structure</th>\n",
       "      <th>PMG Structure from ASE Atoms</th>\n",
       "    </tr>\n",
       "  </thead>\n",
       "  <tbody>\n",
       "    <tr>\n",
       "      <th>0</th>\n",
       "      <td>866e918e-7a5f-41e3-980e-038852391b5a</td>\n",
       "      <td>(Atom('Sr', [0.0, 0.0, 10.1860885], index=0), ...</td>\n",
       "      <td>[[ 0.         0.        10.1860885] Sr, [0.   ...</td>\n",
       "    </tr>\n",
       "    <tr>\n",
       "      <th>1</th>\n",
       "      <td>bd77da64-be96-4464-ba94-fb66fe9956aa</td>\n",
       "      <td>(Atom('La', [1.77025, 3.0661629421, 2.156], in...</td>\n",
       "      <td>[[1.77025    3.06616294 2.156     ] La, [-1.77...</td>\n",
       "    </tr>\n",
       "    <tr>\n",
       "      <th>2</th>\n",
       "      <td>228904a8-1830-4cb9-a3a5-b79513274dbe</td>\n",
       "      <td>(Atom('U', [1.4934375, 2.5867096279, 0.0], ind...</td>\n",
       "      <td>[[1.4934375  2.58670963 0.        ] U, [4.3881...</td>\n",
       "    </tr>\n",
       "    <tr>\n",
       "      <th>3</th>\n",
       "      <td>8bc1d483-534a-4549-a1ff-3c6c8d7a063d</td>\n",
       "      <td>(Atom('Ca', [15.8287189926, -2.844113418, 3.18...</td>\n",
       "      <td>[[15.82871899 -2.84411342  3.18790827] Ca, [32...</td>\n",
       "    </tr>\n",
       "    <tr>\n",
       "      <th>4</th>\n",
       "      <td>be9b94e7-a2e9-40ad-8ea3-383806ad8d31</td>\n",
       "      <td>(Atom('H', [2.7642575085, 2.52156326, 9.162138...</td>\n",
       "      <td>[[2.76425751 2.52156326 9.16213858] H, [2.7642...</td>\n",
       "    </tr>\n",
       "  </tbody>\n",
       "</table>\n",
       "</div>"
      ],
      "text/plain": [
       "                                   uuid  \\\n",
       "0  866e918e-7a5f-41e3-980e-038852391b5a   \n",
       "1  bd77da64-be96-4464-ba94-fb66fe9956aa   \n",
       "2  228904a8-1830-4cb9-a3a5-b79513274dbe   \n",
       "3  8bc1d483-534a-4549-a1ff-3c6c8d7a063d   \n",
       "4  be9b94e7-a2e9-40ad-8ea3-383806ad8d31   \n",
       "\n",
       "                                           structure  \\\n",
       "0  (Atom('Sr', [0.0, 0.0, 10.1860885], index=0), ...   \n",
       "1  (Atom('La', [1.77025, 3.0661629421, 2.156], in...   \n",
       "2  (Atom('U', [1.4934375, 2.5867096279, 0.0], ind...   \n",
       "3  (Atom('Ca', [15.8287189926, -2.844113418, 3.18...   \n",
       "4  (Atom('H', [2.7642575085, 2.52156326, 9.162138...   \n",
       "\n",
       "                        PMG Structure from ASE Atoms  \n",
       "0  [[ 0.         0.        10.1860885] Sr, [0.   ...  \n",
       "1  [[1.77025    3.06616294 2.156     ] La, [-1.77...  \n",
       "2  [[1.4934375  2.58670963 0.        ] U, [4.3881...  \n",
       "3  [[15.82871899 -2.84411342  3.18790827] Ca, [32...  \n",
       "4  [[2.76425751 2.52156326 9.16213858] H, [2.7642...  "
      ]
     },
     "execution_count": 3,
     "metadata": {},
     "output_type": "execute_result"
    }
   ],
   "source": [
    "dataframe_all_structures.head()"
   ]
  },
  {
   "cell_type": "code",
   "execution_count": 8,
   "metadata": {},
   "outputs": [
    {
     "data": {
      "text/plain": [
       "True"
      ]
     },
     "execution_count": 8,
     "metadata": {},
     "output_type": "execute_result"
    }
   ],
   "source": [
    "structure = dataframe_all_structures.loc[0][\"PMG Structure from ASE Atoms\"]\n",
    "structure.composition.num_atoms <= 40"
   ]
  },
  {
   "cell_type": "markdown",
   "metadata": {},
   "source": [
    "***Read the first 10000 structures***"
   ]
  },
  {
   "cell_type": "code",
   "execution_count": 9,
   "metadata": {},
   "outputs": [],
   "source": [
    "structures = []\n",
    "gridpoints = []\n",
    "j = 1\n",
    "for i in range(len(dataframe_all_structures)):\n",
    "    structure = dataframe_all_structures.loc[i][\"PMG Structure from ASE Atoms\"]\n",
    "    if structure.composition.num_atoms <= 40:\n",
    "        structures.append(structure)\n",
    "        gridpoints.append(i)\n",
    "        j += 1\n",
    "    if j > 2500:\n",
    "        break"
   ]
  },
  {
   "cell_type": "code",
   "execution_count": 11,
   "metadata": {},
   "outputs": [
    {
     "data": {
      "text/plain": [
       "7603"
      ]
     },
     "execution_count": 11,
     "metadata": {},
     "output_type": "execute_result"
    }
   ],
   "source": [
    "gridpoints[-1]"
   ]
  },
  {
   "cell_type": "code",
   "execution_count": 24,
   "metadata": {},
   "outputs": [],
   "source": [
    "df = pd.concat( [pd.Series(gridpoints), pd.Series(structures)], axis = 1, keys = ['Gridpoint', 'Structure'])"
   ]
  },
  {
   "cell_type": "code",
   "execution_count": 26,
   "metadata": {},
   "outputs": [],
   "source": [
    "df.to_pickle(\"pickle_files/DataFrame_all_structures_sample_2500.pkl\")"
   ]
  },
  {
   "cell_type": "code",
   "execution_count": 4,
   "metadata": {},
   "outputs": [
    {
     "data": {
      "text/html": [
       "<div>\n",
       "<style scoped>\n",
       "    .dataframe tbody tr th:only-of-type {\n",
       "        vertical-align: middle;\n",
       "    }\n",
       "\n",
       "    .dataframe tbody tr th {\n",
       "        vertical-align: top;\n",
       "    }\n",
       "\n",
       "    .dataframe thead th {\n",
       "        text-align: right;\n",
       "    }\n",
       "</style>\n",
       "<table border=\"1\" class=\"dataframe\">\n",
       "  <thead>\n",
       "    <tr style=\"text-align: right;\">\n",
       "      <th></th>\n",
       "      <th>Gridpoint</th>\n",
       "      <th>Structure</th>\n",
       "    </tr>\n",
       "  </thead>\n",
       "  <tbody>\n",
       "    <tr>\n",
       "      <th>0</th>\n",
       "      <td>0</td>\n",
       "      <td>[[ 0.         0.        10.1860885] Sr, [0.   ...</td>\n",
       "    </tr>\n",
       "    <tr>\n",
       "      <th>1</th>\n",
       "      <td>1</td>\n",
       "      <td>[[1.77025    3.06616294 2.156     ] La, [-1.77...</td>\n",
       "    </tr>\n",
       "    <tr>\n",
       "      <th>2</th>\n",
       "      <td>2</td>\n",
       "      <td>[[1.4934375  2.58670963 0.        ] U, [4.3881...</td>\n",
       "    </tr>\n",
       "    <tr>\n",
       "      <th>3</th>\n",
       "      <td>5</td>\n",
       "      <td>[[0.     0.     3.7015] Y, [2.654 2.654 0.   ]...</td>\n",
       "    </tr>\n",
       "    <tr>\n",
       "      <th>4</th>\n",
       "      <td>15</td>\n",
       "      <td>[[4.67289568 0.7161217  1.98164056] Ba, [ 2.97...</td>\n",
       "    </tr>\n",
       "  </tbody>\n",
       "</table>\n",
       "</div>"
      ],
      "text/plain": [
       "   Gridpoint                                          Structure\n",
       "0          0  [[ 0.         0.        10.1860885] Sr, [0.   ...\n",
       "1          1  [[1.77025    3.06616294 2.156     ] La, [-1.77...\n",
       "2          2  [[1.4934375  2.58670963 0.        ] U, [4.3881...\n",
       "3          5  [[0.     0.     3.7015] Y, [2.654 2.654 0.   ]...\n",
       "4         15  [[4.67289568 0.7161217  1.98164056] Ba, [ 2.97..."
      ]
     },
     "execution_count": 4,
     "metadata": {},
     "output_type": "execute_result"
    }
   ],
   "source": [
    "df = pd.read_pickle(\"pickle_files/DataFrame_all_structures_sample_2500.pkl\")\n",
    "df.head()"
   ]
  },
  {
   "cell_type": "code",
   "execution_count": 8,
   "metadata": {},
   "outputs": [],
   "source": [
    "features = {n:{} for n in list(df.index)}\n",
    "for name in list(df.index):\n",
    "    features[name][\"Structure\"]=df[\"Structure\"][name]"
   ]
  },
  {
   "cell_type": "code",
   "execution_count": 9,
   "metadata": {},
   "outputs": [],
   "source": [
    "%matplotlib inline\n",
    "from matplotlib import pyplot as plt\n",
    "from matminer.datasets import load_dataset\n",
    "from matminer.featurizers.base import MultipleFeaturizer\n",
    "from matminer.featurizers.composition import ElementProperty, Stoichiometry, ValenceOrbital, IonProperty\n",
    "from matminer.featurizers.structure import (SiteStatsFingerprint, StructuralHeterogeneity,\n",
    "                                            ChemicalOrdering, StructureComposition, MaximumPackingEfficiency)\n",
    "from matminer.featurizers.conversions import DictToObject\n",
    "from sklearn.ensemble import RandomForestClassifier\n",
    "from sklearn.model_selection import ShuffleSplit, train_test_split\n",
    "from sklearn.pipeline import Pipeline\n",
    "from sklearn.impute import SimpleImputer\n",
    "from scipy import stats\n",
    "from tqdm import tqdm_notebook as tqdm\n",
    "import numpy as np"
   ]
  },
  {
   "cell_type": "code",
   "execution_count": 10,
   "metadata": {},
   "outputs": [],
   "source": [
    "featurizer = MultipleFeaturizer([\n",
    "    SiteStatsFingerprint.from_preset(\"CoordinationNumber_ward-prb-2017\"),\n",
    "    StructuralHeterogeneity(),\n",
    "    ChemicalOrdering(),\n",
    "    MaximumPackingEfficiency(),\n",
    "    SiteStatsFingerprint.from_preset(\"LocalPropertyDifference_ward-prb-2017\"),\n",
    "    StructureComposition(Stoichiometry()),\n",
    "    StructureComposition(ElementProperty.from_preset(\"magpie\")),\n",
    "    StructureComposition(ValenceOrbital(props=['frac'])),\n",
    "    StructureComposition(IonProperty(fast=True))\n",
    "])"
   ]
  },
  {
   "cell_type": "code",
   "execution_count": 11,
   "metadata": {
    "scrolled": true
   },
   "outputs": [
    {
     "data": {
      "application/vnd.jupyter.widget-view+json": {
       "model_id": "666a779c5c2043a0a082997c75b407aa",
       "version_major": 2,
       "version_minor": 0
      },
      "text/plain": [
       "DictToObject:   0%|          | 0/2500 [00:00<?, ?it/s]"
      ]
     },
     "metadata": {},
     "output_type": "display_data"
    }
   ],
   "source": [
    "dto = DictToObject(target_col_id='Structure', overwrite_data=True)\n",
    "df = dto.featurize_dataframe(df, 'Structure')"
   ]
  },
  {
   "cell_type": "code",
   "execution_count": 12,
   "metadata": {},
   "outputs": [
    {
     "data": {
      "application/vnd.jupyter.widget-view+json": {
       "model_id": "fe30ad0acf49455888f67c71cf041846",
       "version_major": 2,
       "version_minor": 0
      },
      "text/plain": [
       "MultipleFeaturizer:   0%|          | 0/2500 [00:00<?, ?it/s]"
      ]
     },
     "metadata": {},
     "output_type": "display_data"
    },
    {
     "name": "stderr",
     "output_type": "stream",
     "text": [
      "/Users/mohammad/anaconda3/lib/python3.7/site-packages/pymatgen/core/periodic_table.py:212: UserWarning: No electronegativity for Ar. Setting to NaN. This has no physical meaning, and is mainly done to avoid errors caused by the code expecting a float.\n",
      "  \"avoid errors caused by the code expecting a float.\" % self.symbol\n"
     ]
    },
    {
     "name": "stdout",
     "output_type": "stream",
     "text": [
      "CPU times: user 3.06 s, sys: 1.23 s, total: 4.29 s\n",
      "Wall time: 47min 17s\n"
     ]
    }
   ],
   "source": [
    "%%time\n",
    "X = featurizer.featurize_many(df['Structure'], ignore_errors=True)"
   ]
  },
  {
   "cell_type": "code",
   "execution_count": 13,
   "metadata": {},
   "outputs": [
    {
     "data": {
      "text/html": [
       "<div>\n",
       "<style scoped>\n",
       "    .dataframe tbody tr th:only-of-type {\n",
       "        vertical-align: middle;\n",
       "    }\n",
       "\n",
       "    .dataframe tbody tr th {\n",
       "        vertical-align: top;\n",
       "    }\n",
       "\n",
       "    .dataframe thead th {\n",
       "        text-align: right;\n",
       "    }\n",
       "</style>\n",
       "<table border=\"1\" class=\"dataframe\">\n",
       "  <thead>\n",
       "    <tr style=\"text-align: right;\">\n",
       "      <th></th>\n",
       "      <th>0</th>\n",
       "      <th>1</th>\n",
       "      <th>2</th>\n",
       "      <th>3</th>\n",
       "      <th>4</th>\n",
       "      <th>5</th>\n",
       "      <th>6</th>\n",
       "      <th>7</th>\n",
       "      <th>8</th>\n",
       "      <th>9</th>\n",
       "      <th>...</th>\n",
       "      <th>263</th>\n",
       "      <th>264</th>\n",
       "      <th>265</th>\n",
       "      <th>266</th>\n",
       "      <th>267</th>\n",
       "      <th>268</th>\n",
       "      <th>269</th>\n",
       "      <th>270</th>\n",
       "      <th>271</th>\n",
       "      <th>272</th>\n",
       "    </tr>\n",
       "  </thead>\n",
       "  <tbody>\n",
       "    <tr>\n",
       "      <th>0</th>\n",
       "      <td>5.994256</td>\n",
       "      <td>12.155981</td>\n",
       "      <td>6.161724</td>\n",
       "      <td>10.238450</td>\n",
       "      <td>1.484601</td>\n",
       "      <td>0.067254</td>\n",
       "      <td>1.137123</td>\n",
       "      <td>0.797480</td>\n",
       "      <td>0.009735</td>\n",
       "      <td>0.175101</td>\n",
       "      <td>...</td>\n",
       "      <td>106.437500</td>\n",
       "      <td>106.242188</td>\n",
       "      <td>12.0</td>\n",
       "      <td>0.325301</td>\n",
       "      <td>0.433735</td>\n",
       "      <td>0.240964</td>\n",
       "      <td>0.000000</td>\n",
       "      <td>False</td>\n",
       "      <td>0.787757</td>\n",
       "      <td>0.159683</td>\n",
       "    </tr>\n",
       "    <tr>\n",
       "      <th>1</th>\n",
       "      <td>4.095819</td>\n",
       "      <td>11.162477</td>\n",
       "      <td>7.066658</td>\n",
       "      <td>9.399436</td>\n",
       "      <td>2.350721</td>\n",
       "      <td>0.132525</td>\n",
       "      <td>1.099394</td>\n",
       "      <td>0.629016</td>\n",
       "      <td>0.033573</td>\n",
       "      <td>0.211347</td>\n",
       "      <td>...</td>\n",
       "      <td>40.666667</td>\n",
       "      <td>51.111111</td>\n",
       "      <td>12.0</td>\n",
       "      <td>0.375000</td>\n",
       "      <td>0.593750</td>\n",
       "      <td>0.031250</td>\n",
       "      <td>0.000000</td>\n",
       "      <td>True</td>\n",
       "      <td>0.745613</td>\n",
       "      <td>0.125914</td>\n",
       "    </tr>\n",
       "    <tr>\n",
       "      <th>2</th>\n",
       "      <td>8.859597</td>\n",
       "      <td>12.758354</td>\n",
       "      <td>3.898757</td>\n",
       "      <td>11.147768</td>\n",
       "      <td>1.355516</td>\n",
       "      <td>0.032850</td>\n",
       "      <td>1.047858</td>\n",
       "      <td>0.921029</td>\n",
       "      <td>0.034401</td>\n",
       "      <td>0.083477</td>\n",
       "      <td>...</td>\n",
       "      <td>143.000000</td>\n",
       "      <td>54.666667</td>\n",
       "      <td>63.0</td>\n",
       "      <td>0.172414</td>\n",
       "      <td>0.068966</td>\n",
       "      <td>0.655172</td>\n",
       "      <td>0.103448</td>\n",
       "      <td>False</td>\n",
       "      <td>0.183314</td>\n",
       "      <td>0.032139</td>\n",
       "    </tr>\n",
       "    <tr>\n",
       "      <th>3</th>\n",
       "      <td>7.848045</td>\n",
       "      <td>23.851948</td>\n",
       "      <td>16.003903</td>\n",
       "      <td>10.359994</td>\n",
       "      <td>2.998212</td>\n",
       "      <td>0.057588</td>\n",
       "      <td>1.259147</td>\n",
       "      <td>0.937673</td>\n",
       "      <td>0.017430</td>\n",
       "      <td>0.122793</td>\n",
       "      <td>...</td>\n",
       "      <td>195.333333</td>\n",
       "      <td>26.370370</td>\n",
       "      <td>166.0</td>\n",
       "      <td>0.274510</td>\n",
       "      <td>0.078431</td>\n",
       "      <td>0.647059</td>\n",
       "      <td>0.000000</td>\n",
       "      <td>False</td>\n",
       "      <td>0.244896</td>\n",
       "      <td>0.022559</td>\n",
       "    </tr>\n",
       "    <tr>\n",
       "      <th>4</th>\n",
       "      <td>5.190570</td>\n",
       "      <td>13.948977</td>\n",
       "      <td>8.758407</td>\n",
       "      <td>8.653252</td>\n",
       "      <td>2.168457</td>\n",
       "      <td>0.160771</td>\n",
       "      <td>1.247099</td>\n",
       "      <td>0.710476</td>\n",
       "      <td>0.108134</td>\n",
       "      <td>0.585217</td>\n",
       "      <td>...</td>\n",
       "      <td>128.555556</td>\n",
       "      <td>80.493827</td>\n",
       "      <td>194.0</td>\n",
       "      <td>0.269231</td>\n",
       "      <td>0.346154</td>\n",
       "      <td>0.384615</td>\n",
       "      <td>0.000000</td>\n",
       "      <td>True</td>\n",
       "      <td>0.803211</td>\n",
       "      <td>0.094046</td>\n",
       "    </tr>\n",
       "  </tbody>\n",
       "</table>\n",
       "<p>5 rows × 273 columns</p>\n",
       "</div>"
      ],
      "text/plain": [
       "        0          1          2          3         4         5         6    \\\n",
       "0  5.994256  12.155981   6.161724  10.238450  1.484601  0.067254  1.137123   \n",
       "1  4.095819  11.162477   7.066658   9.399436  2.350721  0.132525  1.099394   \n",
       "2  8.859597  12.758354   3.898757  11.147768  1.355516  0.032850  1.047858   \n",
       "3  7.848045  23.851948  16.003903  10.359994  2.998212  0.057588  1.259147   \n",
       "4  5.190570  13.948977   8.758407   8.653252  2.168457  0.160771  1.247099   \n",
       "\n",
       "        7         8         9    ...         263         264    265       266  \\\n",
       "0  0.797480  0.009735  0.175101  ...  106.437500  106.242188   12.0  0.325301   \n",
       "1  0.629016  0.033573  0.211347  ...   40.666667   51.111111   12.0  0.375000   \n",
       "2  0.921029  0.034401  0.083477  ...  143.000000   54.666667   63.0  0.172414   \n",
       "3  0.937673  0.017430  0.122793  ...  195.333333   26.370370  166.0  0.274510   \n",
       "4  0.710476  0.108134  0.585217  ...  128.555556   80.493827  194.0  0.269231   \n",
       "\n",
       "        267       268       269    270       271       272  \n",
       "0  0.433735  0.240964  0.000000  False  0.787757  0.159683  \n",
       "1  0.593750  0.031250  0.000000   True  0.745613  0.125914  \n",
       "2  0.068966  0.655172  0.103448  False  0.183314  0.032139  \n",
       "3  0.078431  0.647059  0.000000  False  0.244896  0.022559  \n",
       "4  0.346154  0.384615  0.000000   True  0.803211  0.094046  \n",
       "\n",
       "[5 rows x 273 columns]"
      ]
     },
     "execution_count": 13,
     "metadata": {},
     "output_type": "execute_result"
    }
   ],
   "source": [
    "df_features_2500structures = pd.DataFrame(X)\n",
    "df_features_2500structures.head()"
   ]
  },
  {
   "cell_type": "code",
   "execution_count": 14,
   "metadata": {},
   "outputs": [],
   "source": [
    "df_features_2500structures.to_pickle('pickle_files/features_MultipleFeaturizer_2500Structures.pkl')"
   ]
  },
  {
   "cell_type": "code",
   "execution_count": null,
   "metadata": {},
   "outputs": [],
   "source": []
  }
 ],
 "metadata": {
  "kernelspec": {
   "display_name": "Python 3",
   "language": "python",
   "name": "python3"
  },
  "language_info": {
   "codemirror_mode": {
    "name": "ipython",
    "version": 3
   },
   "file_extension": ".py",
   "mimetype": "text/x-python",
   "name": "python",
   "nbconvert_exporter": "python",
   "pygments_lexer": "ipython3",
   "version": "3.7.11"
  }
 },
 "nbformat": 4,
 "nbformat_minor": 4
}
