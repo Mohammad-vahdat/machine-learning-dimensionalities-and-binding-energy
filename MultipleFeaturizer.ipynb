{
 "cells": [
  {
   "cell_type": "code",
   "execution_count": 1,
   "metadata": {},
   "outputs": [],
   "source": [
    "import ase\n",
    "import ase.io\n",
    "from ase.io import xsf\n",
    "import pandas as pd\n",
    "import json\n",
    "import seaborn as sns\n",
    "import matplotlib.pyplot as plt\n",
    "import os\n",
    "import numpy as np\n",
    "%matplotlib inline"
   ]
  },
  {
   "cell_type": "code",
   "execution_count": 2,
   "metadata": {},
   "outputs": [
    {
     "data": {
      "text/html": [
       "<div>\n",
       "<style scoped>\n",
       "    .dataframe tbody tr th:only-of-type {\n",
       "        vertical-align: middle;\n",
       "    }\n",
       "\n",
       "    .dataframe tbody tr th {\n",
       "        vertical-align: top;\n",
       "    }\n",
       "\n",
       "    .dataframe thead th {\n",
       "        text-align: right;\n",
       "    }\n",
       "</style>\n",
       "<table border=\"1\" class=\"dataframe\">\n",
       "  <thead>\n",
       "    <tr style=\"text-align: right;\">\n",
       "      <th></th>\n",
       "      <th>uuid</th>\n",
       "      <th>structure</th>\n",
       "      <th>cell</th>\n",
       "      <th>volume</th>\n",
       "      <th>relevant_dimension_of_highest_dimensionality_substructure</th>\n",
       "      <th>binding_energy_per_substructure</th>\n",
       "      <th>binding_energy</th>\n",
       "      <th>label</th>\n",
       "      <th>number_of_atoms_in_bulk</th>\n",
       "      <th>number_of_highest_dimensionality_substructures_in_bulk</th>\n",
       "      <th>sub_structure_spg</th>\n",
       "      <th>sub_structure_dim</th>\n",
       "      <th>energy_bulk</th>\n",
       "      <th>sub_structure_formula</th>\n",
       "      <th>PMG Structure from ASE Atoms</th>\n",
       "    </tr>\n",
       "  </thead>\n",
       "  <tbody>\n",
       "    <tr>\n",
       "      <th>0</th>\n",
       "      <td>dec2d070-d2ad-41f3-b742-786368ade33a</td>\n",
       "      <td>(Atom('Cd', [-0.0, -0.0, 29.0441583], index=0)...</td>\n",
       "      <td>[[2.1044124705, 1.2149831063, 34.279850741], [...</td>\n",
       "      <td>525.885600</td>\n",
       "      <td>15.340954</td>\n",
       "      <td>-0.165000</td>\n",
       "      <td>10.755509</td>\n",
       "      <td>EE</td>\n",
       "      <td>15</td>\n",
       "      <td>5</td>\n",
       "      <td>[C2/m (12), C2/m (12), C2/m (12), C2/m (12), C...</td>\n",
       "      <td>[2, 2, 2, 2, 2]</td>\n",
       "      <td>-17198.871453</td>\n",
       "      <td>[CdI2, CdI2, CdI2, CdI2, CdI2]</td>\n",
       "      <td>[[-7.99325051e-18 -1.35384926e-17  2.90441583e...</td>\n",
       "    </tr>\n",
       "    <tr>\n",
       "      <th>1</th>\n",
       "      <td>51e630e8-d94f-421c-bd1e-3e2f298e740c</td>\n",
       "      <td>(Atom('Fe', [0.0, 0.0, 0.0], index=0), Atom('C...</td>\n",
       "      <td>[[3.35814166734363, 3.21879556184565e-14, -3.2...</td>\n",
       "      <td>52.188194</td>\n",
       "      <td>9.766268</td>\n",
       "      <td>-0.149888</td>\n",
       "      <td>15.347484</td>\n",
       "      <td>EE</td>\n",
       "      <td>3</td>\n",
       "      <td>1</td>\n",
       "      <td>[P-3m1 (164)]</td>\n",
       "      <td>[2]</td>\n",
       "      <td>-5361.474444</td>\n",
       "      <td>[Cl2Fe]</td>\n",
       "      <td>[[0. 0. 0.] Fe, [7.65128701e-17 2.06980071e+00...</td>\n",
       "    </tr>\n",
       "    <tr>\n",
       "      <th>2</th>\n",
       "      <td>527e7b32-d211-4743-9631-120122819190</td>\n",
       "      <td>(Atom('Er', [2.1386, 4.301805, 3.209025], inde...</td>\n",
       "      <td>[[2.14789490163679, -12.5878501270869, 0.0], [...</td>\n",
       "      <td>232.520056</td>\n",
       "      <td>18.471785</td>\n",
       "      <td>-0.454048</td>\n",
       "      <td>24.580650</td>\n",
       "      <td>EE</td>\n",
       "      <td>8</td>\n",
       "      <td>1</td>\n",
       "      <td>[P2_1/m (11)]</td>\n",
       "      <td>[2]</td>\n",
       "      <td>-26090.090963</td>\n",
       "      <td>[Er2Te6]</td>\n",
       "      <td>[[2.1386   4.301805 3.209025] Er, [ 2.1386   -...</td>\n",
       "    </tr>\n",
       "    <tr>\n",
       "      <th>3</th>\n",
       "      <td>37bf14b1-6529-436c-a519-e1ad9b208784</td>\n",
       "      <td>(Atom('Ba', [0.0, 0.0, 9.5697], index=0), Atom...</td>\n",
       "      <td>[[-2.0745739339, 2.0745739339, 7.4278571834], ...</td>\n",
       "      <td>127.873741</td>\n",
       "      <td>17.215428</td>\n",
       "      <td>-0.747937</td>\n",
       "      <td>43.445746</td>\n",
       "      <td>PE</td>\n",
       "      <td>3</td>\n",
       "      <td>1</td>\n",
       "      <td>[C2/m (12)]</td>\n",
       "      <td>[2]</td>\n",
       "      <td>-2866.173187</td>\n",
       "      <td>[Ba2Hg]</td>\n",
       "      <td>[[-1.10578213e-16  1.10578213e-16  9.56970000e...</td>\n",
       "    </tr>\n",
       "    <tr>\n",
       "      <th>4</th>\n",
       "      <td>e7a9cec3-f11a-4d16-a8c5-ebd758bb6592</td>\n",
       "      <td>(Atom('Ba', [0.0, 2.414, 1.49473], index=0), A...</td>\n",
       "      <td>[[4.6829418165, 0.0, 0.0], [0.0, 4.6829418165,...</td>\n",
       "      <td>166.823529</td>\n",
       "      <td>21.929944</td>\n",
       "      <td>-0.532853</td>\n",
       "      <td>24.297979</td>\n",
       "      <td>EE</td>\n",
       "      <td>6</td>\n",
       "      <td>1</td>\n",
       "      <td>[P4/nmm (129)]</td>\n",
       "      <td>[2]</td>\n",
       "      <td>-3217.539658</td>\n",
       "      <td>[Ba2H2I2]</td>\n",
       "      <td>[[0.      2.414   1.49473] Ba, [2.414   0.    ...</td>\n",
       "    </tr>\n",
       "  </tbody>\n",
       "</table>\n",
       "</div>"
      ],
      "text/plain": [
       "                                   uuid  \\\n",
       "0  dec2d070-d2ad-41f3-b742-786368ade33a   \n",
       "1  51e630e8-d94f-421c-bd1e-3e2f298e740c   \n",
       "2  527e7b32-d211-4743-9631-120122819190   \n",
       "3  37bf14b1-6529-436c-a519-e1ad9b208784   \n",
       "4  e7a9cec3-f11a-4d16-a8c5-ebd758bb6592   \n",
       "\n",
       "                                           structure  \\\n",
       "0  (Atom('Cd', [-0.0, -0.0, 29.0441583], index=0)...   \n",
       "1  (Atom('Fe', [0.0, 0.0, 0.0], index=0), Atom('C...   \n",
       "2  (Atom('Er', [2.1386, 4.301805, 3.209025], inde...   \n",
       "3  (Atom('Ba', [0.0, 0.0, 9.5697], index=0), Atom...   \n",
       "4  (Atom('Ba', [0.0, 2.414, 1.49473], index=0), A...   \n",
       "\n",
       "                                                cell      volume  \\\n",
       "0  [[2.1044124705, 1.2149831063, 34.279850741], [...  525.885600   \n",
       "1  [[3.35814166734363, 3.21879556184565e-14, -3.2...   52.188194   \n",
       "2  [[2.14789490163679, -12.5878501270869, 0.0], [...  232.520056   \n",
       "3  [[-2.0745739339, 2.0745739339, 7.4278571834], ...  127.873741   \n",
       "4  [[4.6829418165, 0.0, 0.0], [0.0, 4.6829418165,...  166.823529   \n",
       "\n",
       "   relevant_dimension_of_highest_dimensionality_substructure  \\\n",
       "0                                          15.340954           \n",
       "1                                           9.766268           \n",
       "2                                          18.471785           \n",
       "3                                          17.215428           \n",
       "4                                          21.929944           \n",
       "\n",
       "   binding_energy_per_substructure  binding_energy label  \\\n",
       "0                        -0.165000       10.755509    EE   \n",
       "1                        -0.149888       15.347484    EE   \n",
       "2                        -0.454048       24.580650    EE   \n",
       "3                        -0.747937       43.445746    PE   \n",
       "4                        -0.532853       24.297979    EE   \n",
       "\n",
       "   number_of_atoms_in_bulk  \\\n",
       "0                       15   \n",
       "1                        3   \n",
       "2                        8   \n",
       "3                        3   \n",
       "4                        6   \n",
       "\n",
       "   number_of_highest_dimensionality_substructures_in_bulk  \\\n",
       "0                                                  5        \n",
       "1                                                  1        \n",
       "2                                                  1        \n",
       "3                                                  1        \n",
       "4                                                  1        \n",
       "\n",
       "                                   sub_structure_spg sub_structure_dim  \\\n",
       "0  [C2/m (12), C2/m (12), C2/m (12), C2/m (12), C...   [2, 2, 2, 2, 2]   \n",
       "1                                      [P-3m1 (164)]               [2]   \n",
       "2                                      [P2_1/m (11)]               [2]   \n",
       "3                                        [C2/m (12)]               [2]   \n",
       "4                                     [P4/nmm (129)]               [2]   \n",
       "\n",
       "    energy_bulk           sub_structure_formula  \\\n",
       "0 -17198.871453  [CdI2, CdI2, CdI2, CdI2, CdI2]   \n",
       "1  -5361.474444                         [Cl2Fe]   \n",
       "2 -26090.090963                        [Er2Te6]   \n",
       "3  -2866.173187                         [Ba2Hg]   \n",
       "4  -3217.539658                       [Ba2H2I2]   \n",
       "\n",
       "                        PMG Structure from ASE Atoms  \n",
       "0  [[-7.99325051e-18 -1.35384926e-17  2.90441583e...  \n",
       "1  [[0. 0. 0.] Fe, [7.65128701e-17 2.06980071e+00...  \n",
       "2  [[2.1386   4.301805 3.209025] Er, [ 2.1386   -...  \n",
       "3  [[-1.10578213e-16  1.10578213e-16  9.56970000e...  \n",
       "4  [[0.      2.414   1.49473] Ba, [2.414   0.    ...  "
      ]
     },
     "execution_count": 2,
     "metadata": {},
     "output_type": "execute_result"
    }
   ],
   "source": [
    "dataframe_df2 = pd.read_pickle(\"DataFrame_df2.pkl\")\n",
    "dataframe_df2.head()"
   ]
  },
  {
   "cell_type": "code",
   "execution_count": 3,
   "metadata": {},
   "outputs": [
    {
     "data": {
      "text/plain": [
       "Index(['uuid', 'structure', 'cell', 'volume',\n",
       "       'relevant_dimension_of_highest_dimensionality_substructure',\n",
       "       'binding_energy_per_substructure', 'binding_energy', 'label',\n",
       "       'number_of_atoms_in_bulk',\n",
       "       'number_of_highest_dimensionality_substructures_in_bulk',\n",
       "       'sub_structure_spg', 'sub_structure_dim', 'energy_bulk',\n",
       "       'sub_structure_formula', 'PMG Structure from ASE Atoms'],\n",
       "      dtype='object')"
      ]
     },
     "execution_count": 3,
     "metadata": {},
     "output_type": "execute_result"
    }
   ],
   "source": [
    "dataframe_df2.columns"
   ]
  },
  {
   "cell_type": "code",
   "execution_count": 4,
   "metadata": {},
   "outputs": [],
   "source": [
    "structures = list(dataframe_df2[\"PMG Structure from ASE Atoms\"])\n",
    "gridpoints = list(dataframe_df2.index)"
   ]
  },
  {
   "cell_type": "code",
   "execution_count": 5,
   "metadata": {},
   "outputs": [],
   "source": [
    "features = {n:{} for n in gridpoints}\n",
    "for name in gridpoints:\n",
    "    features[name][\"structure\"]=dataframe_df2[\"PMG Structure from ASE Atoms\"][name]"
   ]
  },
  {
   "cell_type": "code",
   "execution_count": 6,
   "metadata": {},
   "outputs": [
    {
     "data": {
      "text/html": [
       "<div>\n",
       "<style scoped>\n",
       "    .dataframe tbody tr th:only-of-type {\n",
       "        vertical-align: middle;\n",
       "    }\n",
       "\n",
       "    .dataframe tbody tr th {\n",
       "        vertical-align: top;\n",
       "    }\n",
       "\n",
       "    .dataframe thead th {\n",
       "        text-align: right;\n",
       "    }\n",
       "</style>\n",
       "<table border=\"1\" class=\"dataframe\">\n",
       "  <thead>\n",
       "    <tr style=\"text-align: right;\">\n",
       "      <th></th>\n",
       "      <th>structure</th>\n",
       "    </tr>\n",
       "  </thead>\n",
       "  <tbody>\n",
       "    <tr>\n",
       "      <th>0</th>\n",
       "      <td>[[-7.99325051e-18 -1.35384926e-17  2.90441583e...</td>\n",
       "    </tr>\n",
       "    <tr>\n",
       "      <th>1</th>\n",
       "      <td>[[0. 0. 0.] Fe, [7.65128701e-17 2.06980071e+00...</td>\n",
       "    </tr>\n",
       "    <tr>\n",
       "      <th>2</th>\n",
       "      <td>[[2.1386   4.301805 3.209025] Er, [ 2.1386   -...</td>\n",
       "    </tr>\n",
       "    <tr>\n",
       "      <th>3</th>\n",
       "      <td>[[-1.10578213e-16  1.10578213e-16  9.56970000e...</td>\n",
       "    </tr>\n",
       "    <tr>\n",
       "      <th>4</th>\n",
       "      <td>[[0.      2.414   1.49473] Ba, [2.414   0.    ...</td>\n",
       "    </tr>\n",
       "    <tr>\n",
       "      <th>...</th>\n",
       "      <td>...</td>\n",
       "    </tr>\n",
       "    <tr>\n",
       "      <th>2387</th>\n",
       "      <td>[[-2.45673852e-17  2.87064327e+00  2.28500000e...</td>\n",
       "    </tr>\n",
       "    <tr>\n",
       "      <th>2388</th>\n",
       "      <td>[[ 8.7759233  -1.51816627  6.20947541] K, [ 2....</td>\n",
       "    </tr>\n",
       "    <tr>\n",
       "      <th>2389</th>\n",
       "      <td>[[6.06416256 0.5661043  0.86358119] Li, [4.004...</td>\n",
       "    </tr>\n",
       "    <tr>\n",
       "      <th>2390</th>\n",
       "      <td>[[ 3.17549986e-17 -2.74568748e-17  2.43148410e...</td>\n",
       "    </tr>\n",
       "    <tr>\n",
       "      <th>2391</th>\n",
       "      <td>[[0. 0. 0.] Co, [ 1.50622572 -0.52728089  5.01...</td>\n",
       "    </tr>\n",
       "  </tbody>\n",
       "</table>\n",
       "<p>2392 rows × 1 columns</p>\n",
       "</div>"
      ],
      "text/plain": [
       "                                              structure\n",
       "0     [[-7.99325051e-18 -1.35384926e-17  2.90441583e...\n",
       "1     [[0. 0. 0.] Fe, [7.65128701e-17 2.06980071e+00...\n",
       "2     [[2.1386   4.301805 3.209025] Er, [ 2.1386   -...\n",
       "3     [[-1.10578213e-16  1.10578213e-16  9.56970000e...\n",
       "4     [[0.      2.414   1.49473] Ba, [2.414   0.    ...\n",
       "...                                                 ...\n",
       "2387  [[-2.45673852e-17  2.87064327e+00  2.28500000e...\n",
       "2388  [[ 8.7759233  -1.51816627  6.20947541] K, [ 2....\n",
       "2389  [[6.06416256 0.5661043  0.86358119] Li, [4.004...\n",
       "2390  [[ 3.17549986e-17 -2.74568748e-17  2.43148410e...\n",
       "2391  [[0. 0. 0.] Co, [ 1.50622572 -0.52728089  5.01...\n",
       "\n",
       "[2392 rows x 1 columns]"
      ]
     },
     "execution_count": 6,
     "metadata": {},
     "output_type": "execute_result"
    }
   ],
   "source": [
    "data=pd.DataFrame.from_dict(features).T\n",
    "data"
   ]
  },
  {
   "cell_type": "code",
   "execution_count": 7,
   "metadata": {},
   "outputs": [],
   "source": [
    "data_small = data [data.index < 101]"
   ]
  },
  {
   "cell_type": "code",
   "execution_count": 8,
   "metadata": {},
   "outputs": [],
   "source": [
    "%matplotlib inline\n",
    "from matplotlib import pyplot as plt\n",
    "from matminer.datasets import load_dataset\n",
    "from matminer.featurizers.base import MultipleFeaturizer\n",
    "from matminer.featurizers.composition import ElementProperty, Stoichiometry, ValenceOrbital, IonProperty\n",
    "from matminer.featurizers.structure import (SiteStatsFingerprint, StructuralHeterogeneity,\n",
    "                                            ChemicalOrdering, StructureComposition, MaximumPackingEfficiency)\n",
    "from matminer.featurizers.conversions import DictToObject\n",
    "from sklearn.ensemble import RandomForestClassifier\n",
    "from sklearn.model_selection import ShuffleSplit, train_test_split\n",
    "from sklearn.pipeline import Pipeline\n",
    "from sklearn.impute import SimpleImputer\n",
    "from scipy import stats\n",
    "from tqdm import tqdm_notebook as tqdm\n",
    "import numpy as np"
   ]
  },
  {
   "cell_type": "markdown",
   "metadata": {},
   "source": [
    "***SiteStatsFingerprint*** Computes statistics of properties across all sites in a structure. ---->\n",
    "\n",
    "*This featurizer first uses a site featurizer class (see site.py for options) to compute features of each site in a structure, and then computes features of the entire structure by measuring statistics of each attribute. Can optionally compute the the statistics of only sites with certain ranges of oxidation states (e.g., only anions).*\n",
    "\n",
    "***SiteStatsFingerprint.from_preset(“CoordinationNumber_ward-prb-2017”):*** describes the number of average and variance in the number of 1st nearest neighbors for each atom in the crystal:\n",
    "https://journals.aps.org/prb/pdf/10.1103/PhysRevB.96.024104\n",
    "\n",
    "***StructuralHeterogeneity:*** Variance in the bond lengths and atomic volumes in a structure\n",
    "\n",
    "*These features are based on several statistics derived from the Voronoi tessellation of a structure. The first set of features relate to the variance in the average bond length across all atoms in the structure. The second relate to the variance of bond lengths between each neighbor of each atom. The final feature is the variance in Voronoi cell sizes across the structure.*\n",
    "*We define the ‘average bond length’ of a site as the weighted average of the bond lengths for all neighbors. By default, the weight is the area of the face between the sites.*\n",
    "*The ‘neighbor distance variation’ is defined as the weighted mean absolute deviation in both length for all neighbors of a particular site. As before, the weight is according to face area by default. For this statistic, we divide the mean absolute deviation by the mean neighbor distance for that site.*\n",
    "\n",
    "***ChemicalOrdering:*** How much the ordering of species in the structure differs from random\n",
    "\n",
    "*These parameters describe how much the ordering of all species in a structure deviates from random using a Warren-Cowley-like ordering parameter. The first step of this calculation is to determine the nearest neighbor shells of each site. Then, for each shell a degree of order for each type is determined by computing:*\n",
    "\n",
    "$\\alpha (t,s) = 1 - \\frac{\\sum_n w_n \\delta (t - t_n)}{x_t \\sum_n w_n}$\n",
    "\n",
    "*where w_n is the weight associated with a certain neighbor, t_p is the type of the neighbor, and x_t is the fraction of type t in the structure. For atoms that are randomly dispersed in a structure, this formula yields 0 for all types. For structures where each site is surrounded only by atoms of another type, this formula yields large values of alpha.*\n",
    "\n",
    "*The mean absolute value of this parameter across all sites is used as a feature.*\n",
    "\n",
    "***MaximumPackingEfficiency:*** Maximum possible packing efficiency of this structure\n",
    "\n",
    "*Uses a Voronoi tessellation to determine the largest radius each atom can have before any atoms touches any one of their neighbors. Given the maximum radius size, this class computes the maximum packing efficiency of the structure as a feature.*\n",
    "\n",
    "***StructureComposition:*** Features related to the composition of a structure  ---->\n",
    "***Stoichiometry:*** Calculate norms of stoichiometric attributes.\n",
    "***ElementProperty:*** Class to calculate elemental property attributes.\n",
    "***ValenceOrbital:*** Attributes of valence orbital shells\n",
    "***IonProperty:*** Ionic property attributes. Similar to ElementProperty."
   ]
  },
  {
   "cell_type": "code",
   "execution_count": 9,
   "metadata": {},
   "outputs": [],
   "source": [
    "featurizer = MultipleFeaturizer([\n",
    "    SiteStatsFingerprint.from_preset(\"CoordinationNumber_ward-prb-2017\"),\n",
    "    StructuralHeterogeneity(),\n",
    "    ChemicalOrdering(),\n",
    "    MaximumPackingEfficiency(),\n",
    "    SiteStatsFingerprint.from_preset(\"LocalPropertyDifference_ward-prb-2017\"),\n",
    "    StructureComposition(Stoichiometry()),\n",
    "    StructureComposition(ElementProperty.from_preset(\"magpie\")),\n",
    "    StructureComposition(ValenceOrbital(props=['frac'])),\n",
    "    StructureComposition(IonProperty(fast=True))\n",
    "])"
   ]
  },
  {
   "cell_type": "markdown",
   "metadata": {},
   "source": [
    "***Something to learn and cite:***"
   ]
  },
  {
   "cell_type": "code",
   "execution_count": 10,
   "metadata": {},
   "outputs": [
    {
     "name": "stdout",
     "output_type": "stream",
     "text": [
      "SiteStatsFingerprint.from_preset(\"CoordinationNumber_ward-prb-2017\") citation: ['@article{voronoi_jreineangewmath_1908, title={Nouvelles applications des param\\\\`{e}tres continus \\\\`{a} la th\\'{e}orie des formes quadratiques. Sur quelques propri\\'{e}t\\'{e}s des formes quadratiques positives parfaites}, journal={Journal f\"ur die reine und angewandte Mathematik}, number={133}, pages={97-178}, year={1908}}', '@article{dirichlet_jreineangewmath_1850, title={\"{U}ber die Reduction der positiven quadratischen Formen mit drei unbestimmten ganzen Zahlen}, journal={Journal f\"ur die reine und angewandte Mathematik}, number={40}, pages={209-227}, doi={10.1515/crll.1850.40.209}, year={1850}}']\n",
      "\n",
      "\n",
      "StructuralHeterogeneity ['@article{Ward2017,author = {Ward, Logan and Liu, Ruoqian and Krishna, Amar and Hegde, Vinay I. and Agrawal, Ankit and Choudhary, Alok and Wolverton, Chris},doi = {10.1103/PhysRevB.96.024104},journal = {Physical Review B},pages = {024104},title = {{Including crystal structure attributes in machine learning models of formation energies via Voronoi tessellations}},url = {http://link.aps.org/doi/10.1103/PhysRevB.96.024104},volume = {96},year = {2017}}']\n",
      "\n",
      "\n",
      "ChemicalOrdering citation: ['@article{Ward2017,author = {Ward, Logan and Liu, Ruoqian and Krishna, Amar and Hegde, Vinay I. and Agrawal, Ankit and Choudhary, Alok and Wolverton, Chris},doi = {10.1103/PhysRevB.96.024104},journal = {Physical Review B},pages = {024104},title = {{Including crystal structure attributes in machine learning models of formation energies via Voronoi tessellations}},url = {http://link.aps.org/doi/10.1103/PhysRevB.96.024104},volume = {96},year = {2017}}']\n",
      "\n",
      "\n",
      "MaximumPackingEfficiency() ['@article{Ward2017,author = {Ward, Logan and Liu, Ruoqian and Krishna, Amar and Hegde, Vinay I. and Agrawal, Ankit and Choudhary, Alok and Wolverton, Chris},doi = {10.1103/PhysRevB.96.024104},journal = {Physical Review B},pages = {024104},title = {{Including crystal structure attributes in machine learning models of formation energies via Voronoi tessellations}},url = {http://link.aps.org/doi/10.1103/PhysRevB.96.024104},volume = {96},year = {2017}}']\n",
      "\n",
      "\n",
      "SiteStatsFingerprint.from_preset(\"LocalPropertyDifference_ward-prb-2017\"): ['@article{Ward2017,author = {Ward, Logan and Liu, Ruoqian and Krishna, Amar and Hegde, Vinay I. and Agrawal, Ankit and Choudhary, Alok and Wolverton, Chris},doi = {10.1103/PhysRevB.96.024104},journal = {Physical Review B},pages = {024104},title = {{Including crystal structure attributes in machine learning models of formation energies via Voronoi tessellations}},url = {http://link.aps.org/doi/10.1103/PhysRevB.96.014107},volume = {96},year = {2017}}', '@article{jong_chen_notestine_persson_ceder_jain_asta_gamst_2016,title={A Statistical Learning Framework for Materials Science: Application to Elastic Moduli of k-nary Inorganic Polycrystalline Compounds}, volume={6}, DOI={10.1038/srep34256}, number={1}, journal={Scientific Reports}, author={Jong, Maarten De and Chen, Wei and Notestine, Randy and Persson, Kristin and Ceder, Gerbrand and Jain, Anubhav and Asta, Mark and Gamst, Anthony}, year={2016}, month={Mar}}']\n",
      "\n",
      "\n",
      "StructureComposition(Stoichiometry()): ['@article{ward_agrawal_choudary_wolverton_2016, title={A general-purpose machine learning framework for predicting properties of inorganic materials}, volume={2}, DOI={10.1038/npjcompumats.2017.28}, number={1}, journal={npj Computational Materials}, author={Ward, Logan and Agrawal, Ankit and Choudhary, Alok and Wolverton, Christopher}, year={2016}}']\n",
      "\n",
      "\n",
      "StructureComposition(ElementProperty.from_preset(\"magpie\")): ['@article{ward_agrawal_choudary_wolverton_2016, title={A general-purpose machine learning framework for predicting properties of inorganic materials}, volume={2}, DOI={10.1038/npjcompumats.2017.28}, number={1}, journal={npj Computational Materials}, author={Ward, Logan and Agrawal, Ankit and Choudhary, Alok and Wolverton, Christopher}, year={2016}}']\n",
      "\n",
      "\n",
      "StructureComposition(ValenceOrbital(props=[frac])): ['@article{ward_agrawal_choudary_wolverton_2016, title={A general-purpose machine learning framework for predicting properties of inorganic materials}, volume={2}, DOI={10.1038/npjcompumats.2017.28}, number={1}, journal={npj Computational Materials}, author={Ward, Logan and Agrawal, Ankit and Choudhary, Alok and Wolverton, Christopher}, year={2016}}', '@article{deml_ohayre_wolverton_stevanovic_2016, title={Predicting density functional theory total energies and enthalpies of formation of metal-nonmetal compounds by linear regression}, volume={47}, DOI={10.1002/chin.201644254}, number={44}, journal={ChemInform}, author={Deml, Ann M. and Ohayre, Ryan and Wolverton, Chris and Stevanovic, Vladan}, year={2016}}']\n",
      "\n",
      "\n",
      "StructureComposition(IonProperty(fast=True)): ['@article{ward_agrawal_choudary_wolverton_2016, title={A general-purpose machine learning framework for predicting properties of inorganic materials}, volume={2}, DOI={10.1038/npjcompumats.2017.28}, number={1}, journal={npj Computational Materials}, author={Ward, Logan and Agrawal, Ankit and Choudhary, Alok and Wolverton, Christopher}, year={2016}}']\n"
     ]
    }
   ],
   "source": [
    "print ('SiteStatsFingerprint.from_preset(\"CoordinationNumber_ward-prb-2017\") citation:', SiteStatsFingerprint.from_preset(\"CoordinationNumber_ward-prb-2017\").citations())\n",
    "print ('\\n')\n",
    "print ('StructuralHeterogeneity', StructuralHeterogeneity().citations())\n",
    "print ('\\n')\n",
    "print ('ChemicalOrdering citation:', ChemicalOrdering().citations())\n",
    "print ('\\n')\n",
    "print ('MaximumPackingEfficiency()', MaximumPackingEfficiency().citations())\n",
    "print ('\\n')\n",
    "print ('SiteStatsFingerprint.from_preset(\"LocalPropertyDifference_ward-prb-2017\"):', SiteStatsFingerprint.from_preset(\"LocalPropertyDifference_ward-prb-2017\").citations())\n",
    "print ('\\n')\n",
    "print ('StructureComposition(Stoichiometry()):', StructureComposition(Stoichiometry()).citations())\n",
    "print ('\\n')\n",
    "print ('StructureComposition(ElementProperty.from_preset(\"magpie\")):', StructureComposition(ElementProperty.from_preset(\"magpie\")).citations())\n",
    "print ('\\n')\n",
    "print ('StructureComposition(ValenceOrbital(props=[frac])):', StructureComposition(ValenceOrbital(props=['frac'])).citations())\n",
    "print ('\\n')\n",
    "print ('StructureComposition(IonProperty(fast=True)):', StructureComposition(IonProperty(fast=True)).citations())"
   ]
  },
  {
   "cell_type": "code",
   "execution_count": 11,
   "metadata": {},
   "outputs": [
    {
     "data": {
      "application/vnd.jupyter.widget-view+json": {
       "model_id": "6894985bd18c4717a772b1d7f0910863",
       "version_major": 2,
       "version_minor": 0
      },
      "text/plain": [
       "DictToObject:   0%|          | 0/2392 [00:00<?, ?it/s]"
      ]
     },
     "metadata": {},
     "output_type": "display_data"
    }
   ],
   "source": [
    "dto = DictToObject(target_col_id='structure', overwrite_data=True)\n",
    "data = dto.featurize_dataframe(data, 'structure')"
   ]
  },
  {
   "cell_type": "markdown",
   "metadata": {},
   "source": [
    "***Let's featurize our datasets:***"
   ]
  },
  {
   "cell_type": "code",
   "execution_count": 45,
   "metadata": {},
   "outputs": [
    {
     "data": {
      "application/vnd.jupyter.widget-view+json": {
       "model_id": "a1691da858604f4dbedfe49b3ed36a9b",
       "version_major": 2,
       "version_minor": 0
      },
      "text/plain": [
       "MultipleFeaturizer:   0%|          | 0/2392 [00:00<?, ?it/s]"
      ]
     },
     "metadata": {},
     "output_type": "display_data"
    },
    {
     "name": "stdout",
     "output_type": "stream",
     "text": [
      "CPU times: user 3.78 s, sys: 2.2 s, total: 5.98 s\n",
      "Wall time: 1h 11min 28s\n"
     ]
    }
   ],
   "source": [
    "%%time\n",
    "X = featurizer.featurize_many(data['structure'], ignore_errors=True)"
   ]
  },
  {
   "cell_type": "markdown",
   "metadata": {},
   "source": [
    "***Convert our generated features into DataFrame and add the label, and finally save it as pickle file***"
   ]
  },
  {
   "cell_type": "code",
   "execution_count": null,
   "metadata": {},
   "outputs": [],
   "source": [
    "df_features = pd.DataFrame(X)\n",
    "df_features.head()"
   ]
  },
  {
   "cell_type": "code",
   "execution_count": null,
   "metadata": {},
   "outputs": [],
   "source": [
    "df = pd.concat([df_feature, y], axis = 1)"
   ]
  },
  {
   "cell_type": "code",
   "execution_count": null,
   "metadata": {},
   "outputs": [],
   "source": [
    "df.to_pickle('features_MultipleFeaturizer.pkl')"
   ]
  },
  {
   "cell_type": "code",
   "execution_count": 12,
   "metadata": {},
   "outputs": [
    {
     "data": {
      "text/html": [
       "<div>\n",
       "<style scoped>\n",
       "    .dataframe tbody tr th:only-of-type {\n",
       "        vertical-align: middle;\n",
       "    }\n",
       "\n",
       "    .dataframe tbody tr th {\n",
       "        vertical-align: top;\n",
       "    }\n",
       "\n",
       "    .dataframe thead th {\n",
       "        text-align: right;\n",
       "    }\n",
       "</style>\n",
       "<table border=\"1\" class=\"dataframe\">\n",
       "  <thead>\n",
       "    <tr style=\"text-align: right;\">\n",
       "      <th></th>\n",
       "      <th>0</th>\n",
       "      <th>1</th>\n",
       "      <th>2</th>\n",
       "      <th>3</th>\n",
       "      <th>4</th>\n",
       "      <th>5</th>\n",
       "      <th>6</th>\n",
       "      <th>7</th>\n",
       "      <th>8</th>\n",
       "      <th>9</th>\n",
       "      <th>...</th>\n",
       "      <th>264</th>\n",
       "      <th>265</th>\n",
       "      <th>266</th>\n",
       "      <th>267</th>\n",
       "      <th>268</th>\n",
       "      <th>269</th>\n",
       "      <th>270</th>\n",
       "      <th>271</th>\n",
       "      <th>272</th>\n",
       "      <th>label</th>\n",
       "    </tr>\n",
       "  </thead>\n",
       "  <tbody>\n",
       "    <tr>\n",
       "      <th>0</th>\n",
       "      <td>NaN</td>\n",
       "      <td>NaN</td>\n",
       "      <td>NaN</td>\n",
       "      <td>NaN</td>\n",
       "      <td>NaN</td>\n",
       "      <td>NaN</td>\n",
       "      <td>NaN</td>\n",
       "      <td>NaN</td>\n",
       "      <td>NaN</td>\n",
       "      <td>NaN</td>\n",
       "      <td>...</td>\n",
       "      <td>57.777778</td>\n",
       "      <td>64.0</td>\n",
       "      <td>0.130435</td>\n",
       "      <td>0.217391</td>\n",
       "      <td>0.652174</td>\n",
       "      <td>0.000000</td>\n",
       "      <td>1.0</td>\n",
       "      <td>0.209607</td>\n",
       "      <td>0.046579</td>\n",
       "      <td>EE</td>\n",
       "    </tr>\n",
       "    <tr>\n",
       "      <th>1</th>\n",
       "      <td>6.000000</td>\n",
       "      <td>10.432235</td>\n",
       "      <td>4.432235</td>\n",
       "      <td>8.954823</td>\n",
       "      <td>1.969882</td>\n",
       "      <td>0.101871</td>\n",
       "      <td>1.076403</td>\n",
       "      <td>0.847193</td>\n",
       "      <td>1.119514e-11</td>\n",
       "      <td>0.171207</td>\n",
       "      <td>...</td>\n",
       "      <td>73.333333</td>\n",
       "      <td>64.0</td>\n",
       "      <td>0.272727</td>\n",
       "      <td>0.454545</td>\n",
       "      <td>0.272727</td>\n",
       "      <td>0.000000</td>\n",
       "      <td>1.0</td>\n",
       "      <td>0.357395</td>\n",
       "      <td>0.079421</td>\n",
       "      <td>EE</td>\n",
       "    </tr>\n",
       "    <tr>\n",
       "      <th>2</th>\n",
       "      <td>9.052693</td>\n",
       "      <td>11.479272</td>\n",
       "      <td>2.426579</td>\n",
       "      <td>9.749345</td>\n",
       "      <td>0.864963</td>\n",
       "      <td>0.020033</td>\n",
       "      <td>1.032994</td>\n",
       "      <td>0.959935</td>\n",
       "      <td>2.631480e-02</td>\n",
       "      <td>0.125121</td>\n",
       "      <td>...</td>\n",
       "      <td>15.750000</td>\n",
       "      <td>152.0</td>\n",
       "      <td>0.129032</td>\n",
       "      <td>0.193548</td>\n",
       "      <td>0.483871</td>\n",
       "      <td>0.193548</td>\n",
       "      <td>0.0</td>\n",
       "      <td>0.168813</td>\n",
       "      <td>0.031652</td>\n",
       "      <td>EE</td>\n",
       "    </tr>\n",
       "    <tr>\n",
       "      <th>3</th>\n",
       "      <td>10.187778</td>\n",
       "      <td>12.638871</td>\n",
       "      <td>2.451093</td>\n",
       "      <td>11.821840</td>\n",
       "      <td>1.089375</td>\n",
       "      <td>0.050764</td>\n",
       "      <td>1.038073</td>\n",
       "      <td>0.923854</td>\n",
       "      <td>4.593043e-02</td>\n",
       "      <td>0.102799</td>\n",
       "      <td>...</td>\n",
       "      <td>28.000000</td>\n",
       "      <td>229.0</td>\n",
       "      <td>0.200000</td>\n",
       "      <td>0.000000</td>\n",
       "      <td>0.333333</td>\n",
       "      <td>0.466667</td>\n",
       "      <td>0.0</td>\n",
       "      <td>0.265103</td>\n",
       "      <td>0.058912</td>\n",
       "      <td>PE</td>\n",
       "    </tr>\n",
       "    <tr>\n",
       "      <th>4</th>\n",
       "      <td>9.198422</td>\n",
       "      <td>14.426225</td>\n",
       "      <td>5.227803</td>\n",
       "      <td>11.335849</td>\n",
       "      <td>2.060251</td>\n",
       "      <td>0.087363</td>\n",
       "      <td>1.131045</td>\n",
       "      <td>0.914155</td>\n",
       "      <td>9.864448e-02</td>\n",
       "      <td>0.120736</td>\n",
       "      <td>...</td>\n",
       "      <td>65.555556</td>\n",
       "      <td>64.0</td>\n",
       "      <td>0.250000</td>\n",
       "      <td>0.250000</td>\n",
       "      <td>0.500000</td>\n",
       "      <td>0.000000</td>\n",
       "      <td>1.0</td>\n",
       "      <td>0.543070</td>\n",
       "      <td>0.104828</td>\n",
       "      <td>EE</td>\n",
       "    </tr>\n",
       "  </tbody>\n",
       "</table>\n",
       "<p>5 rows × 274 columns</p>\n",
       "</div>"
      ],
      "text/plain": [
       "           0          1         2          3         4         5         6  \\\n",
       "0        NaN        NaN       NaN        NaN       NaN       NaN       NaN   \n",
       "1   6.000000  10.432235  4.432235   8.954823  1.969882  0.101871  1.076403   \n",
       "2   9.052693  11.479272  2.426579   9.749345  0.864963  0.020033  1.032994   \n",
       "3  10.187778  12.638871  2.451093  11.821840  1.089375  0.050764  1.038073   \n",
       "4   9.198422  14.426225  5.227803  11.335849  2.060251  0.087363  1.131045   \n",
       "\n",
       "          7             8         9  ...        264    265       266  \\\n",
       "0       NaN           NaN       NaN  ...  57.777778   64.0  0.130435   \n",
       "1  0.847193  1.119514e-11  0.171207  ...  73.333333   64.0  0.272727   \n",
       "2  0.959935  2.631480e-02  0.125121  ...  15.750000  152.0  0.129032   \n",
       "3  0.923854  4.593043e-02  0.102799  ...  28.000000  229.0  0.200000   \n",
       "4  0.914155  9.864448e-02  0.120736  ...  65.555556   64.0  0.250000   \n",
       "\n",
       "        267       268       269  270       271       272  label  \n",
       "0  0.217391  0.652174  0.000000  1.0  0.209607  0.046579     EE  \n",
       "1  0.454545  0.272727  0.000000  1.0  0.357395  0.079421     EE  \n",
       "2  0.193548  0.483871  0.193548  0.0  0.168813  0.031652     EE  \n",
       "3  0.000000  0.333333  0.466667  0.0  0.265103  0.058912     PE  \n",
       "4  0.250000  0.500000  0.000000  1.0  0.543070  0.104828     EE  \n",
       "\n",
       "[5 rows x 274 columns]"
      ]
     },
     "execution_count": 12,
     "metadata": {},
     "output_type": "execute_result"
    }
   ],
   "source": [
    "df = pd.read_pickle(\"features_MultipleFeaturizer.pkl\")\n",
    "df.head()"
   ]
  },
  {
   "cell_type": "markdown",
   "metadata": {},
   "source": [
    "**Number of features that are generated for each structure:**"
   ]
  },
  {
   "cell_type": "code",
   "execution_count": 13,
   "metadata": {},
   "outputs": [
    {
     "name": "stdout",
     "output_type": "stream",
     "text": [
      "Input data shape: (2392, 273)\n"
     ]
    }
   ],
   "source": [
    "X = np.array(df.drop('label', axis = 1))\n",
    "print('Input data shape:', X.shape)"
   ]
  },
  {
   "cell_type": "markdown",
   "metadata": {},
   "source": [
    "***Number of featurization that are failed:***"
   ]
  },
  {
   "cell_type": "code",
   "execution_count": 14,
   "metadata": {},
   "outputs": [
    {
     "name": "stdout",
     "output_type": "stream",
     "text": [
      "Number failed: 179/2392\n"
     ]
    }
   ],
   "source": [
    "import pandas as pd\n",
    "failed = np.any(pd.isnull(X), axis=1)\n",
    "print('Number failed: {}/{}'.format(np.sum(failed), len(failed)))"
   ]
  },
  {
   "cell_type": "markdown",
   "metadata": {},
   "source": [
    "***Random Forest Classifier:***"
   ]
  },
  {
   "cell_type": "code",
   "execution_count": 15,
   "metadata": {},
   "outputs": [],
   "source": [
    "model = Pipeline([\n",
    "    ('imputer', SimpleImputer()), # For the failed structures\n",
    "    ('model', RandomForestClassifier(n_estimators=150, n_jobs=-1))\n",
    "])"
   ]
  },
  {
   "cell_type": "code",
   "execution_count": 16,
   "metadata": {},
   "outputs": [],
   "source": [
    "y = df['label']"
   ]
  },
  {
   "cell_type": "markdown",
   "metadata": {},
   "source": [
    "***Train Test Split***"
   ]
  },
  {
   "cell_type": "code",
   "execution_count": 17,
   "metadata": {},
   "outputs": [],
   "source": [
    "X_train, X_test, y_train, y_test = train_test_split(X, y, test_size=0.3, random_state=101)"
   ]
  },
  {
   "cell_type": "markdown",
   "metadata": {},
   "source": [
    "***Train the model and predict:***"
   ]
  },
  {
   "cell_type": "code",
   "execution_count": 18,
   "metadata": {},
   "outputs": [
    {
     "data": {
      "text/plain": [
       "Pipeline(steps=[('imputer', SimpleImputer()),\n",
       "                ('model', RandomForestClassifier(n_estimators=150, n_jobs=-1))])"
      ]
     },
     "execution_count": 18,
     "metadata": {},
     "output_type": "execute_result"
    }
   ],
   "source": [
    "model.fit(X_train,y_train)"
   ]
  },
  {
   "cell_type": "code",
   "execution_count": 19,
   "metadata": {},
   "outputs": [],
   "source": [
    "predictions = model.predict(X_test)"
   ]
  },
  {
   "cell_type": "markdown",
   "metadata": {},
   "source": [
    "***Evaluation***"
   ]
  },
  {
   "cell_type": "code",
   "execution_count": 20,
   "metadata": {},
   "outputs": [],
   "source": [
    "from sklearn.metrics import classification_report, confusion_matrix"
   ]
  },
  {
   "cell_type": "code",
   "execution_count": 21,
   "metadata": {},
   "outputs": [
    {
     "name": "stdout",
     "output_type": "stream",
     "text": [
      "              precision    recall  f1-score   support\n",
      "\n",
      "          EE       0.82      0.85      0.84       341\n",
      "         HBE       0.73      0.69      0.71       167\n",
      "          PE       0.66      0.65      0.66       210\n",
      "\n",
      "    accuracy                           0.76       718\n",
      "   macro avg       0.74      0.73      0.73       718\n",
      "weighted avg       0.75      0.76      0.76       718\n",
      "\n",
      "\n",
      "\n",
      "[[291  16  34]\n",
      " [ 15 115  37]\n",
      " [ 47  26 137]]\n"
     ]
    }
   ],
   "source": [
    "print(classification_report(y_test,predictions))\n",
    "print('\\n')\n",
    "print(confusion_matrix(y_test,predictions))"
   ]
  },
  {
   "cell_type": "markdown",
   "metadata": {},
   "source": [
    "***Decision Tree***"
   ]
  },
  {
   "cell_type": "code",
   "execution_count": 22,
   "metadata": {},
   "outputs": [],
   "source": [
    "df = df.dropna() "
   ]
  },
  {
   "cell_type": "code",
   "execution_count": 23,
   "metadata": {},
   "outputs": [],
   "source": [
    "X = df.drop('label', axis = 1).values\n",
    "y = df['label'].values\n",
    "X_train, X_test, y_train, y_test = train_test_split(X, y, test_size=0.3, random_state=101)"
   ]
  },
  {
   "cell_type": "code",
   "execution_count": 24,
   "metadata": {},
   "outputs": [],
   "source": [
    "from sklearn.tree import DecisionTreeClassifier"
   ]
  },
  {
   "cell_type": "code",
   "execution_count": 25,
   "metadata": {},
   "outputs": [],
   "source": [
    "dtree = DecisionTreeClassifier()"
   ]
  },
  {
   "cell_type": "code",
   "execution_count": 26,
   "metadata": {},
   "outputs": [
    {
     "data": {
      "text/plain": [
       "DecisionTreeClassifier()"
      ]
     },
     "execution_count": 26,
     "metadata": {},
     "output_type": "execute_result"
    }
   ],
   "source": [
    "dtree.fit(X_train,y_train)"
   ]
  },
  {
   "cell_type": "code",
   "execution_count": 27,
   "metadata": {},
   "outputs": [],
   "source": [
    "predictions = dtree.predict(X_test)"
   ]
  },
  {
   "cell_type": "code",
   "execution_count": 28,
   "metadata": {},
   "outputs": [],
   "source": [
    "from sklearn.metrics import classification_report, confusion_matrix"
   ]
  },
  {
   "cell_type": "code",
   "execution_count": 29,
   "metadata": {},
   "outputs": [
    {
     "name": "stdout",
     "output_type": "stream",
     "text": [
      "              precision    recall  f1-score   support\n",
      "\n",
      "          EE       0.80      0.75      0.78       324\n",
      "         HBE       0.60      0.64      0.62       139\n",
      "          PE       0.58      0.60      0.59       201\n",
      "\n",
      "    accuracy                           0.68       664\n",
      "   macro avg       0.66      0.67      0.66       664\n",
      "weighted avg       0.69      0.68      0.69       664\n",
      "\n",
      "\n",
      "\n",
      "[[244  27  53]\n",
      " [ 14  89  36]\n",
      " [ 47  33 121]]\n"
     ]
    }
   ],
   "source": [
    "print(classification_report(y_test,predictions))\n",
    "print('\\n')\n",
    "print(confusion_matrix(y_test,predictions))"
   ]
  },
  {
   "cell_type": "markdown",
   "metadata": {},
   "source": [
    "***NN***"
   ]
  },
  {
   "cell_type": "code",
   "execution_count": 36,
   "metadata": {},
   "outputs": [],
   "source": [
    "import tensorflow as tf\n",
    "from tensorflow.keras.models import Sequential\n",
    "from tensorflow.keras.layers import Dense, Activation,Dropout"
   ]
  },
  {
   "cell_type": "code",
   "execution_count": 37,
   "metadata": {},
   "outputs": [
    {
     "data": {
      "text/plain": [
       "(2213, 273)"
      ]
     },
     "execution_count": 37,
     "metadata": {},
     "output_type": "execute_result"
    }
   ],
   "source": [
    "X.shape"
   ]
  },
  {
   "cell_type": "code",
   "execution_count": 38,
   "metadata": {},
   "outputs": [],
   "source": [
    "from tensorflow.keras.callbacks import EarlyStopping\n",
    "\n",
    "early_stop = EarlyStopping(monitor='val_loss', mode='min', verbose=1, patience=25)"
   ]
  },
  {
   "cell_type": "code",
   "execution_count": 39,
   "metadata": {},
   "outputs": [],
   "source": [
    "model = Sequential()"
   ]
  },
  {
   "cell_type": "code",
   "execution_count": 41,
   "metadata": {},
   "outputs": [],
   "source": [
    "model.add(Dense(units=273,activation='relu'))\n",
    "model.add(Dropout(0.1))\n",
    "model.add(Dense(units=200,activation='relu'))\n",
    "model.add(Dropout(0.1))\n",
    "model.add(Dense(units=100,activation='relu'))\n",
    "model.add(Dropout(0.1))\n",
    "model.add(Dense(units=50,activation='relu'))\n",
    "model.add(Dropout(0.1))\n",
    "model.add(Dense(units=3,activation='sigmoid'))\n",
    "\n",
    "\n",
    "model.compile(loss='categorical_crossentropy', optimizer='adam')"
   ]
  },
  {
   "cell_type": "code",
   "execution_count": 42,
   "metadata": {},
   "outputs": [
    {
     "name": "stdout",
     "output_type": "stream",
     "text": [
      "Epoch 1/600\n"
     ]
    },
    {
     "ename": "ValueError",
     "evalue": "in user code:\n\n    /Users/mohammad/anaconda3/lib/python3.7/site-packages/keras/engine/training.py:853 train_function  *\n        return step_function(self, iterator)\n    /Users/mohammad/anaconda3/lib/python3.7/site-packages/keras/engine/training.py:842 step_function  **\n        outputs = model.distribute_strategy.run(run_step, args=(data,))\n    /Users/mohammad/anaconda3/lib/python3.7/site-packages/tensorflow/python/distribute/distribute_lib.py:1286 run\n        return self._extended.call_for_each_replica(fn, args=args, kwargs=kwargs)\n    /Users/mohammad/anaconda3/lib/python3.7/site-packages/tensorflow/python/distribute/distribute_lib.py:2849 call_for_each_replica\n        return self._call_for_each_replica(fn, args, kwargs)\n    /Users/mohammad/anaconda3/lib/python3.7/site-packages/tensorflow/python/distribute/distribute_lib.py:3632 _call_for_each_replica\n        return fn(*args, **kwargs)\n    /Users/mohammad/anaconda3/lib/python3.7/site-packages/keras/engine/training.py:835 run_step  **\n        outputs = model.train_step(data)\n    /Users/mohammad/anaconda3/lib/python3.7/site-packages/keras/engine/training.py:789 train_step\n        y, y_pred, sample_weight, regularization_losses=self.losses)\n    /Users/mohammad/anaconda3/lib/python3.7/site-packages/keras/engine/compile_utils.py:201 __call__\n        loss_value = loss_obj(y_t, y_p, sample_weight=sw)\n    /Users/mohammad/anaconda3/lib/python3.7/site-packages/keras/losses.py:141 __call__\n        losses = call_fn(y_true, y_pred)\n    /Users/mohammad/anaconda3/lib/python3.7/site-packages/keras/losses.py:245 call  **\n        return ag_fn(y_true, y_pred, **self._fn_kwargs)\n    /Users/mohammad/anaconda3/lib/python3.7/site-packages/tensorflow/python/util/dispatch.py:206 wrapper\n        return target(*args, **kwargs)\n    /Users/mohammad/anaconda3/lib/python3.7/site-packages/keras/losses.py:1666 categorical_crossentropy\n        y_true, y_pred, from_logits=from_logits, axis=axis)\n    /Users/mohammad/anaconda3/lib/python3.7/site-packages/tensorflow/python/util/dispatch.py:206 wrapper\n        return target(*args, **kwargs)\n    /Users/mohammad/anaconda3/lib/python3.7/site-packages/keras/backend.py:4839 categorical_crossentropy\n        target.shape.assert_is_compatible_with(output.shape)\n    /Users/mohammad/anaconda3/lib/python3.7/site-packages/tensorflow/python/framework/tensor_shape.py:1161 assert_is_compatible_with\n        raise ValueError(\"Shapes %s and %s are incompatible\" % (self, other))\n\n    ValueError: Shapes (None, 1) and (None, 3) are incompatible\n",
     "output_type": "error",
     "traceback": [
      "\u001b[0;31m---------------------------------------------------------------------------\u001b[0m",
      "\u001b[0;31mValueError\u001b[0m                                Traceback (most recent call last)",
      "\u001b[0;32m<ipython-input-42-ae722f847174>\u001b[0m in \u001b[0;36m<module>\u001b[0;34m\u001b[0m\n\u001b[1;32m      3\u001b[0m           \u001b[0mepochs\u001b[0m\u001b[0;34m=\u001b[0m\u001b[0;36m600\u001b[0m\u001b[0;34m,\u001b[0m\u001b[0;34m\u001b[0m\u001b[0;34m\u001b[0m\u001b[0m\n\u001b[1;32m      4\u001b[0m           \u001b[0mvalidation_data\u001b[0m\u001b[0;34m=\u001b[0m\u001b[0;34m(\u001b[0m\u001b[0mX_test\u001b[0m\u001b[0;34m,\u001b[0m \u001b[0my_test\u001b[0m\u001b[0;34m)\u001b[0m\u001b[0;34m,\u001b[0m \u001b[0mverbose\u001b[0m\u001b[0;34m=\u001b[0m\u001b[0;36m1\u001b[0m\u001b[0;34m,\u001b[0m\u001b[0;34m\u001b[0m\u001b[0;34m\u001b[0m\u001b[0m\n\u001b[0;32m----> 5\u001b[0;31m           \u001b[0mcallbacks\u001b[0m\u001b[0;34m=\u001b[0m\u001b[0;34m[\u001b[0m\u001b[0mearly_stop\u001b[0m\u001b[0;34m]\u001b[0m\u001b[0;34m\u001b[0m\u001b[0;34m\u001b[0m\u001b[0m\n\u001b[0m\u001b[1;32m      6\u001b[0m           )\n",
      "\u001b[0;32m~/anaconda3/lib/python3.7/site-packages/keras/engine/training.py\u001b[0m in \u001b[0;36mfit\u001b[0;34m(self, x, y, batch_size, epochs, verbose, callbacks, validation_split, validation_data, shuffle, class_weight, sample_weight, initial_epoch, steps_per_epoch, validation_steps, validation_batch_size, validation_freq, max_queue_size, workers, use_multiprocessing)\u001b[0m\n\u001b[1;32m   1182\u001b[0m                 _r=1):\n\u001b[1;32m   1183\u001b[0m               \u001b[0mcallbacks\u001b[0m\u001b[0;34m.\u001b[0m\u001b[0mon_train_batch_begin\u001b[0m\u001b[0;34m(\u001b[0m\u001b[0mstep\u001b[0m\u001b[0;34m)\u001b[0m\u001b[0;34m\u001b[0m\u001b[0;34m\u001b[0m\u001b[0m\n\u001b[0;32m-> 1184\u001b[0;31m               \u001b[0mtmp_logs\u001b[0m \u001b[0;34m=\u001b[0m \u001b[0mself\u001b[0m\u001b[0;34m.\u001b[0m\u001b[0mtrain_function\u001b[0m\u001b[0;34m(\u001b[0m\u001b[0miterator\u001b[0m\u001b[0;34m)\u001b[0m\u001b[0;34m\u001b[0m\u001b[0;34m\u001b[0m\u001b[0m\n\u001b[0m\u001b[1;32m   1185\u001b[0m               \u001b[0;32mif\u001b[0m \u001b[0mdata_handler\u001b[0m\u001b[0;34m.\u001b[0m\u001b[0mshould_sync\u001b[0m\u001b[0;34m:\u001b[0m\u001b[0;34m\u001b[0m\u001b[0;34m\u001b[0m\u001b[0m\n\u001b[1;32m   1186\u001b[0m                 \u001b[0mcontext\u001b[0m\u001b[0;34m.\u001b[0m\u001b[0masync_wait\u001b[0m\u001b[0;34m(\u001b[0m\u001b[0;34m)\u001b[0m\u001b[0;34m\u001b[0m\u001b[0;34m\u001b[0m\u001b[0m\n",
      "\u001b[0;32m~/anaconda3/lib/python3.7/site-packages/tensorflow/python/eager/def_function.py\u001b[0m in \u001b[0;36m__call__\u001b[0;34m(self, *args, **kwds)\u001b[0m\n\u001b[1;32m    883\u001b[0m \u001b[0;34m\u001b[0m\u001b[0m\n\u001b[1;32m    884\u001b[0m       \u001b[0;32mwith\u001b[0m \u001b[0mOptionalXlaContext\u001b[0m\u001b[0;34m(\u001b[0m\u001b[0mself\u001b[0m\u001b[0;34m.\u001b[0m\u001b[0m_jit_compile\u001b[0m\u001b[0;34m)\u001b[0m\u001b[0;34m:\u001b[0m\u001b[0;34m\u001b[0m\u001b[0;34m\u001b[0m\u001b[0m\n\u001b[0;32m--> 885\u001b[0;31m         \u001b[0mresult\u001b[0m \u001b[0;34m=\u001b[0m \u001b[0mself\u001b[0m\u001b[0;34m.\u001b[0m\u001b[0m_call\u001b[0m\u001b[0;34m(\u001b[0m\u001b[0;34m*\u001b[0m\u001b[0margs\u001b[0m\u001b[0;34m,\u001b[0m \u001b[0;34m**\u001b[0m\u001b[0mkwds\u001b[0m\u001b[0;34m)\u001b[0m\u001b[0;34m\u001b[0m\u001b[0;34m\u001b[0m\u001b[0m\n\u001b[0m\u001b[1;32m    886\u001b[0m \u001b[0;34m\u001b[0m\u001b[0m\n\u001b[1;32m    887\u001b[0m       \u001b[0mnew_tracing_count\u001b[0m \u001b[0;34m=\u001b[0m \u001b[0mself\u001b[0m\u001b[0;34m.\u001b[0m\u001b[0mexperimental_get_tracing_count\u001b[0m\u001b[0;34m(\u001b[0m\u001b[0;34m)\u001b[0m\u001b[0;34m\u001b[0m\u001b[0;34m\u001b[0m\u001b[0m\n",
      "\u001b[0;32m~/anaconda3/lib/python3.7/site-packages/tensorflow/python/eager/def_function.py\u001b[0m in \u001b[0;36m_call\u001b[0;34m(self, *args, **kwds)\u001b[0m\n\u001b[1;32m    931\u001b[0m       \u001b[0;31m# This is the first call of __call__, so we have to initialize.\u001b[0m\u001b[0;34m\u001b[0m\u001b[0;34m\u001b[0m\u001b[0;34m\u001b[0m\u001b[0m\n\u001b[1;32m    932\u001b[0m       \u001b[0minitializers\u001b[0m \u001b[0;34m=\u001b[0m \u001b[0;34m[\u001b[0m\u001b[0;34m]\u001b[0m\u001b[0;34m\u001b[0m\u001b[0;34m\u001b[0m\u001b[0m\n\u001b[0;32m--> 933\u001b[0;31m       \u001b[0mself\u001b[0m\u001b[0;34m.\u001b[0m\u001b[0m_initialize\u001b[0m\u001b[0;34m(\u001b[0m\u001b[0margs\u001b[0m\u001b[0;34m,\u001b[0m \u001b[0mkwds\u001b[0m\u001b[0;34m,\u001b[0m \u001b[0madd_initializers_to\u001b[0m\u001b[0;34m=\u001b[0m\u001b[0minitializers\u001b[0m\u001b[0;34m)\u001b[0m\u001b[0;34m\u001b[0m\u001b[0;34m\u001b[0m\u001b[0m\n\u001b[0m\u001b[1;32m    934\u001b[0m     \u001b[0;32mfinally\u001b[0m\u001b[0;34m:\u001b[0m\u001b[0;34m\u001b[0m\u001b[0;34m\u001b[0m\u001b[0m\n\u001b[1;32m    935\u001b[0m       \u001b[0;31m# At this point we know that the initialization is complete (or less\u001b[0m\u001b[0;34m\u001b[0m\u001b[0;34m\u001b[0m\u001b[0;34m\u001b[0m\u001b[0m\n",
      "\u001b[0;32m~/anaconda3/lib/python3.7/site-packages/tensorflow/python/eager/def_function.py\u001b[0m in \u001b[0;36m_initialize\u001b[0;34m(self, args, kwds, add_initializers_to)\u001b[0m\n\u001b[1;32m    758\u001b[0m     self._concrete_stateful_fn = (\n\u001b[1;32m    759\u001b[0m         self._stateful_fn._get_concrete_function_internal_garbage_collected(  # pylint: disable=protected-access\n\u001b[0;32m--> 760\u001b[0;31m             *args, **kwds))\n\u001b[0m\u001b[1;32m    761\u001b[0m \u001b[0;34m\u001b[0m\u001b[0m\n\u001b[1;32m    762\u001b[0m     \u001b[0;32mdef\u001b[0m \u001b[0minvalid_creator_scope\u001b[0m\u001b[0;34m(\u001b[0m\u001b[0;34m*\u001b[0m\u001b[0munused_args\u001b[0m\u001b[0;34m,\u001b[0m \u001b[0;34m**\u001b[0m\u001b[0munused_kwds\u001b[0m\u001b[0;34m)\u001b[0m\u001b[0;34m:\u001b[0m\u001b[0;34m\u001b[0m\u001b[0;34m\u001b[0m\u001b[0m\n",
      "\u001b[0;32m~/anaconda3/lib/python3.7/site-packages/tensorflow/python/eager/function.py\u001b[0m in \u001b[0;36m_get_concrete_function_internal_garbage_collected\u001b[0;34m(self, *args, **kwargs)\u001b[0m\n\u001b[1;32m   3064\u001b[0m       \u001b[0margs\u001b[0m\u001b[0;34m,\u001b[0m \u001b[0mkwargs\u001b[0m \u001b[0;34m=\u001b[0m \u001b[0;32mNone\u001b[0m\u001b[0;34m,\u001b[0m \u001b[0;32mNone\u001b[0m\u001b[0;34m\u001b[0m\u001b[0;34m\u001b[0m\u001b[0m\n\u001b[1;32m   3065\u001b[0m     \u001b[0;32mwith\u001b[0m \u001b[0mself\u001b[0m\u001b[0;34m.\u001b[0m\u001b[0m_lock\u001b[0m\u001b[0;34m:\u001b[0m\u001b[0;34m\u001b[0m\u001b[0;34m\u001b[0m\u001b[0m\n\u001b[0;32m-> 3066\u001b[0;31m       \u001b[0mgraph_function\u001b[0m\u001b[0;34m,\u001b[0m \u001b[0m_\u001b[0m \u001b[0;34m=\u001b[0m \u001b[0mself\u001b[0m\u001b[0;34m.\u001b[0m\u001b[0m_maybe_define_function\u001b[0m\u001b[0;34m(\u001b[0m\u001b[0margs\u001b[0m\u001b[0;34m,\u001b[0m \u001b[0mkwargs\u001b[0m\u001b[0;34m)\u001b[0m\u001b[0;34m\u001b[0m\u001b[0;34m\u001b[0m\u001b[0m\n\u001b[0m\u001b[1;32m   3067\u001b[0m     \u001b[0;32mreturn\u001b[0m \u001b[0mgraph_function\u001b[0m\u001b[0;34m\u001b[0m\u001b[0;34m\u001b[0m\u001b[0m\n\u001b[1;32m   3068\u001b[0m \u001b[0;34m\u001b[0m\u001b[0m\n",
      "\u001b[0;32m~/anaconda3/lib/python3.7/site-packages/tensorflow/python/eager/function.py\u001b[0m in \u001b[0;36m_maybe_define_function\u001b[0;34m(self, args, kwargs)\u001b[0m\n\u001b[1;32m   3461\u001b[0m \u001b[0;34m\u001b[0m\u001b[0m\n\u001b[1;32m   3462\u001b[0m           \u001b[0mself\u001b[0m\u001b[0;34m.\u001b[0m\u001b[0m_function_cache\u001b[0m\u001b[0;34m.\u001b[0m\u001b[0mmissed\u001b[0m\u001b[0;34m.\u001b[0m\u001b[0madd\u001b[0m\u001b[0;34m(\u001b[0m\u001b[0mcall_context_key\u001b[0m\u001b[0;34m)\u001b[0m\u001b[0;34m\u001b[0m\u001b[0;34m\u001b[0m\u001b[0m\n\u001b[0;32m-> 3463\u001b[0;31m           \u001b[0mgraph_function\u001b[0m \u001b[0;34m=\u001b[0m \u001b[0mself\u001b[0m\u001b[0;34m.\u001b[0m\u001b[0m_create_graph_function\u001b[0m\u001b[0;34m(\u001b[0m\u001b[0margs\u001b[0m\u001b[0;34m,\u001b[0m \u001b[0mkwargs\u001b[0m\u001b[0;34m)\u001b[0m\u001b[0;34m\u001b[0m\u001b[0;34m\u001b[0m\u001b[0m\n\u001b[0m\u001b[1;32m   3464\u001b[0m           \u001b[0mself\u001b[0m\u001b[0;34m.\u001b[0m\u001b[0m_function_cache\u001b[0m\u001b[0;34m.\u001b[0m\u001b[0mprimary\u001b[0m\u001b[0;34m[\u001b[0m\u001b[0mcache_key\u001b[0m\u001b[0;34m]\u001b[0m \u001b[0;34m=\u001b[0m \u001b[0mgraph_function\u001b[0m\u001b[0;34m\u001b[0m\u001b[0;34m\u001b[0m\u001b[0m\n\u001b[1;32m   3465\u001b[0m \u001b[0;34m\u001b[0m\u001b[0m\n",
      "\u001b[0;32m~/anaconda3/lib/python3.7/site-packages/tensorflow/python/eager/function.py\u001b[0m in \u001b[0;36m_create_graph_function\u001b[0;34m(self, args, kwargs, override_flat_arg_shapes)\u001b[0m\n\u001b[1;32m   3306\u001b[0m             \u001b[0marg_names\u001b[0m\u001b[0;34m=\u001b[0m\u001b[0marg_names\u001b[0m\u001b[0;34m,\u001b[0m\u001b[0;34m\u001b[0m\u001b[0;34m\u001b[0m\u001b[0m\n\u001b[1;32m   3307\u001b[0m             \u001b[0moverride_flat_arg_shapes\u001b[0m\u001b[0;34m=\u001b[0m\u001b[0moverride_flat_arg_shapes\u001b[0m\u001b[0;34m,\u001b[0m\u001b[0;34m\u001b[0m\u001b[0;34m\u001b[0m\u001b[0m\n\u001b[0;32m-> 3308\u001b[0;31m             capture_by_value=self._capture_by_value),\n\u001b[0m\u001b[1;32m   3309\u001b[0m         \u001b[0mself\u001b[0m\u001b[0;34m.\u001b[0m\u001b[0m_function_attributes\u001b[0m\u001b[0;34m,\u001b[0m\u001b[0;34m\u001b[0m\u001b[0;34m\u001b[0m\u001b[0m\n\u001b[1;32m   3310\u001b[0m         \u001b[0mfunction_spec\u001b[0m\u001b[0;34m=\u001b[0m\u001b[0mself\u001b[0m\u001b[0;34m.\u001b[0m\u001b[0mfunction_spec\u001b[0m\u001b[0;34m,\u001b[0m\u001b[0;34m\u001b[0m\u001b[0;34m\u001b[0m\u001b[0m\n",
      "\u001b[0;32m~/anaconda3/lib/python3.7/site-packages/tensorflow/python/framework/func_graph.py\u001b[0m in \u001b[0;36mfunc_graph_from_py_func\u001b[0;34m(name, python_func, args, kwargs, signature, func_graph, autograph, autograph_options, add_control_dependencies, arg_names, op_return_value, collections, capture_by_value, override_flat_arg_shapes, acd_record_initial_resource_uses)\u001b[0m\n\u001b[1;32m   1005\u001b[0m         \u001b[0m_\u001b[0m\u001b[0;34m,\u001b[0m \u001b[0moriginal_func\u001b[0m \u001b[0;34m=\u001b[0m \u001b[0mtf_decorator\u001b[0m\u001b[0;34m.\u001b[0m\u001b[0munwrap\u001b[0m\u001b[0;34m(\u001b[0m\u001b[0mpython_func\u001b[0m\u001b[0;34m)\u001b[0m\u001b[0;34m\u001b[0m\u001b[0;34m\u001b[0m\u001b[0m\n\u001b[1;32m   1006\u001b[0m \u001b[0;34m\u001b[0m\u001b[0m\n\u001b[0;32m-> 1007\u001b[0;31m       \u001b[0mfunc_outputs\u001b[0m \u001b[0;34m=\u001b[0m \u001b[0mpython_func\u001b[0m\u001b[0;34m(\u001b[0m\u001b[0;34m*\u001b[0m\u001b[0mfunc_args\u001b[0m\u001b[0;34m,\u001b[0m \u001b[0;34m**\u001b[0m\u001b[0mfunc_kwargs\u001b[0m\u001b[0;34m)\u001b[0m\u001b[0;34m\u001b[0m\u001b[0;34m\u001b[0m\u001b[0m\n\u001b[0m\u001b[1;32m   1008\u001b[0m \u001b[0;34m\u001b[0m\u001b[0m\n\u001b[1;32m   1009\u001b[0m       \u001b[0;31m# invariant: `func_outputs` contains only Tensors, CompositeTensors,\u001b[0m\u001b[0;34m\u001b[0m\u001b[0;34m\u001b[0m\u001b[0;34m\u001b[0m\u001b[0m\n",
      "\u001b[0;32m~/anaconda3/lib/python3.7/site-packages/tensorflow/python/eager/def_function.py\u001b[0m in \u001b[0;36mwrapped_fn\u001b[0;34m(*args, **kwds)\u001b[0m\n\u001b[1;32m    666\u001b[0m         \u001b[0;31m# the function a weak reference to itself to avoid a reference cycle.\u001b[0m\u001b[0;34m\u001b[0m\u001b[0;34m\u001b[0m\u001b[0;34m\u001b[0m\u001b[0m\n\u001b[1;32m    667\u001b[0m         \u001b[0;32mwith\u001b[0m \u001b[0mOptionalXlaContext\u001b[0m\u001b[0;34m(\u001b[0m\u001b[0mcompile_with_xla\u001b[0m\u001b[0;34m)\u001b[0m\u001b[0;34m:\u001b[0m\u001b[0;34m\u001b[0m\u001b[0;34m\u001b[0m\u001b[0m\n\u001b[0;32m--> 668\u001b[0;31m           \u001b[0mout\u001b[0m \u001b[0;34m=\u001b[0m \u001b[0mweak_wrapped_fn\u001b[0m\u001b[0;34m(\u001b[0m\u001b[0;34m)\u001b[0m\u001b[0;34m.\u001b[0m\u001b[0m__wrapped__\u001b[0m\u001b[0;34m(\u001b[0m\u001b[0;34m*\u001b[0m\u001b[0margs\u001b[0m\u001b[0;34m,\u001b[0m \u001b[0;34m**\u001b[0m\u001b[0mkwds\u001b[0m\u001b[0;34m)\u001b[0m\u001b[0;34m\u001b[0m\u001b[0;34m\u001b[0m\u001b[0m\n\u001b[0m\u001b[1;32m    669\u001b[0m         \u001b[0;32mreturn\u001b[0m \u001b[0mout\u001b[0m\u001b[0;34m\u001b[0m\u001b[0;34m\u001b[0m\u001b[0m\n\u001b[1;32m    670\u001b[0m \u001b[0;34m\u001b[0m\u001b[0m\n",
      "\u001b[0;32m~/anaconda3/lib/python3.7/site-packages/tensorflow/python/framework/func_graph.py\u001b[0m in \u001b[0;36mwrapper\u001b[0;34m(*args, **kwargs)\u001b[0m\n\u001b[1;32m    992\u001b[0m           \u001b[0;32mexcept\u001b[0m \u001b[0mException\u001b[0m \u001b[0;32mas\u001b[0m \u001b[0me\u001b[0m\u001b[0;34m:\u001b[0m  \u001b[0;31m# pylint:disable=broad-except\u001b[0m\u001b[0;34m\u001b[0m\u001b[0;34m\u001b[0m\u001b[0m\n\u001b[1;32m    993\u001b[0m             \u001b[0;32mif\u001b[0m \u001b[0mhasattr\u001b[0m\u001b[0;34m(\u001b[0m\u001b[0me\u001b[0m\u001b[0;34m,\u001b[0m \u001b[0;34m\"ag_error_metadata\"\u001b[0m\u001b[0;34m)\u001b[0m\u001b[0;34m:\u001b[0m\u001b[0;34m\u001b[0m\u001b[0;34m\u001b[0m\u001b[0m\n\u001b[0;32m--> 994\u001b[0;31m               \u001b[0;32mraise\u001b[0m \u001b[0me\u001b[0m\u001b[0;34m.\u001b[0m\u001b[0mag_error_metadata\u001b[0m\u001b[0;34m.\u001b[0m\u001b[0mto_exception\u001b[0m\u001b[0;34m(\u001b[0m\u001b[0me\u001b[0m\u001b[0;34m)\u001b[0m\u001b[0;34m\u001b[0m\u001b[0;34m\u001b[0m\u001b[0m\n\u001b[0m\u001b[1;32m    995\u001b[0m             \u001b[0;32melse\u001b[0m\u001b[0;34m:\u001b[0m\u001b[0;34m\u001b[0m\u001b[0;34m\u001b[0m\u001b[0m\n\u001b[1;32m    996\u001b[0m               \u001b[0;32mraise\u001b[0m\u001b[0;34m\u001b[0m\u001b[0;34m\u001b[0m\u001b[0m\n",
      "\u001b[0;31mValueError\u001b[0m: in user code:\n\n    /Users/mohammad/anaconda3/lib/python3.7/site-packages/keras/engine/training.py:853 train_function  *\n        return step_function(self, iterator)\n    /Users/mohammad/anaconda3/lib/python3.7/site-packages/keras/engine/training.py:842 step_function  **\n        outputs = model.distribute_strategy.run(run_step, args=(data,))\n    /Users/mohammad/anaconda3/lib/python3.7/site-packages/tensorflow/python/distribute/distribute_lib.py:1286 run\n        return self._extended.call_for_each_replica(fn, args=args, kwargs=kwargs)\n    /Users/mohammad/anaconda3/lib/python3.7/site-packages/tensorflow/python/distribute/distribute_lib.py:2849 call_for_each_replica\n        return self._call_for_each_replica(fn, args, kwargs)\n    /Users/mohammad/anaconda3/lib/python3.7/site-packages/tensorflow/python/distribute/distribute_lib.py:3632 _call_for_each_replica\n        return fn(*args, **kwargs)\n    /Users/mohammad/anaconda3/lib/python3.7/site-packages/keras/engine/training.py:835 run_step  **\n        outputs = model.train_step(data)\n    /Users/mohammad/anaconda3/lib/python3.7/site-packages/keras/engine/training.py:789 train_step\n        y, y_pred, sample_weight, regularization_losses=self.losses)\n    /Users/mohammad/anaconda3/lib/python3.7/site-packages/keras/engine/compile_utils.py:201 __call__\n        loss_value = loss_obj(y_t, y_p, sample_weight=sw)\n    /Users/mohammad/anaconda3/lib/python3.7/site-packages/keras/losses.py:141 __call__\n        losses = call_fn(y_true, y_pred)\n    /Users/mohammad/anaconda3/lib/python3.7/site-packages/keras/losses.py:245 call  **\n        return ag_fn(y_true, y_pred, **self._fn_kwargs)\n    /Users/mohammad/anaconda3/lib/python3.7/site-packages/tensorflow/python/util/dispatch.py:206 wrapper\n        return target(*args, **kwargs)\n    /Users/mohammad/anaconda3/lib/python3.7/site-packages/keras/losses.py:1666 categorical_crossentropy\n        y_true, y_pred, from_logits=from_logits, axis=axis)\n    /Users/mohammad/anaconda3/lib/python3.7/site-packages/tensorflow/python/util/dispatch.py:206 wrapper\n        return target(*args, **kwargs)\n    /Users/mohammad/anaconda3/lib/python3.7/site-packages/keras/backend.py:4839 categorical_crossentropy\n        target.shape.assert_is_compatible_with(output.shape)\n    /Users/mohammad/anaconda3/lib/python3.7/site-packages/tensorflow/python/framework/tensor_shape.py:1161 assert_is_compatible_with\n        raise ValueError(\"Shapes %s and %s are incompatible\" % (self, other))\n\n    ValueError: Shapes (None, 1) and (None, 3) are incompatible\n"
     ]
    }
   ],
   "source": [
    "model.fit(x=X_train, \n",
    "          y=y_train, \n",
    "          epochs=600,\n",
    "          validation_data=(X_test, y_test), verbose=1,\n",
    "          callbacks=[early_stop]\n",
    "          )"
   ]
  },
  {
   "cell_type": "code",
   "execution_count": null,
   "metadata": {},
   "outputs": [],
   "source": [
    "model_loss = pd.DataFrame(model.history.history)\n",
    "model_loss.plot()"
   ]
  },
  {
   "cell_type": "code",
   "execution_count": 35,
   "metadata": {},
   "outputs": [],
   "source": [
    "predictions = model.predict(X_test)"
   ]
  },
  {
   "cell_type": "code",
   "execution_count": null,
   "metadata": {},
   "outputs": [],
   "source": []
  },
  {
   "cell_type": "markdown",
   "metadata": {},
   "source": [
    "***Let train in a binary case: EE and HBE***"
   ]
  },
  {
   "cell_type": "code",
   "execution_count": 78,
   "metadata": {},
   "outputs": [],
   "source": [
    "df_binary = df.dropna()"
   ]
  },
  {
   "cell_type": "code",
   "execution_count": 79,
   "metadata": {},
   "outputs": [
    {
     "name": "stderr",
     "output_type": "stream",
     "text": [
      "/Users/mohammad/anaconda3/lib/python3.7/site-packages/pandas/core/frame.py:5244: SettingWithCopyWarning: \n",
      "A value is trying to be set on a copy of a slice from a DataFrame\n",
      "\n",
      "See the caveats in the documentation: https://pandas.pydata.org/pandas-docs/stable/user_guide/indexing.html#returning-a-view-versus-a-copy\n",
      "  method=method,\n"
     ]
    }
   ],
   "source": [
    "df_binary.replace(to_replace='PE', value='EE', inplace=True)\n",
    "df_binary.replace(to_replace='EE', value=1, inplace=True)\n",
    "df_binary.replace(to_replace='HBE', value=0, inplace=True)"
   ]
  },
  {
   "cell_type": "code",
   "execution_count": 81,
   "metadata": {},
   "outputs": [
    {
     "data": {
      "text/html": [
       "<div>\n",
       "<style scoped>\n",
       "    .dataframe tbody tr th:only-of-type {\n",
       "        vertical-align: middle;\n",
       "    }\n",
       "\n",
       "    .dataframe tbody tr th {\n",
       "        vertical-align: top;\n",
       "    }\n",
       "\n",
       "    .dataframe thead th {\n",
       "        text-align: right;\n",
       "    }\n",
       "</style>\n",
       "<table border=\"1\" class=\"dataframe\">\n",
       "  <thead>\n",
       "    <tr style=\"text-align: right;\">\n",
       "      <th></th>\n",
       "      <th>0</th>\n",
       "      <th>1</th>\n",
       "      <th>2</th>\n",
       "      <th>3</th>\n",
       "      <th>4</th>\n",
       "      <th>5</th>\n",
       "      <th>6</th>\n",
       "      <th>7</th>\n",
       "      <th>8</th>\n",
       "      <th>9</th>\n",
       "      <th>...</th>\n",
       "      <th>264</th>\n",
       "      <th>265</th>\n",
       "      <th>266</th>\n",
       "      <th>267</th>\n",
       "      <th>268</th>\n",
       "      <th>269</th>\n",
       "      <th>270</th>\n",
       "      <th>271</th>\n",
       "      <th>272</th>\n",
       "      <th>label</th>\n",
       "    </tr>\n",
       "  </thead>\n",
       "  <tbody>\n",
       "    <tr>\n",
       "      <th>1</th>\n",
       "      <td>6.000000</td>\n",
       "      <td>10.432235</td>\n",
       "      <td>4.432235</td>\n",
       "      <td>8.954823</td>\n",
       "      <td>1.969882</td>\n",
       "      <td>0.101871</td>\n",
       "      <td>1.076403</td>\n",
       "      <td>0.847193</td>\n",
       "      <td>1.119514e-11</td>\n",
       "      <td>0.171207</td>\n",
       "      <td>...</td>\n",
       "      <td>73.333333</td>\n",
       "      <td>64.0</td>\n",
       "      <td>0.272727</td>\n",
       "      <td>0.454545</td>\n",
       "      <td>0.272727</td>\n",
       "      <td>0.000000</td>\n",
       "      <td>1.0</td>\n",
       "      <td>0.357395</td>\n",
       "      <td>0.079421</td>\n",
       "      <td>1</td>\n",
       "    </tr>\n",
       "    <tr>\n",
       "      <th>2</th>\n",
       "      <td>9.052693</td>\n",
       "      <td>11.479272</td>\n",
       "      <td>2.426579</td>\n",
       "      <td>9.749345</td>\n",
       "      <td>0.864963</td>\n",
       "      <td>0.020033</td>\n",
       "      <td>1.032994</td>\n",
       "      <td>0.959935</td>\n",
       "      <td>2.631480e-02</td>\n",
       "      <td>0.125121</td>\n",
       "      <td>...</td>\n",
       "      <td>15.750000</td>\n",
       "      <td>152.0</td>\n",
       "      <td>0.129032</td>\n",
       "      <td>0.193548</td>\n",
       "      <td>0.483871</td>\n",
       "      <td>0.193548</td>\n",
       "      <td>0.0</td>\n",
       "      <td>0.168813</td>\n",
       "      <td>0.031652</td>\n",
       "      <td>1</td>\n",
       "    </tr>\n",
       "    <tr>\n",
       "      <th>3</th>\n",
       "      <td>10.187778</td>\n",
       "      <td>12.638871</td>\n",
       "      <td>2.451093</td>\n",
       "      <td>11.821840</td>\n",
       "      <td>1.089375</td>\n",
       "      <td>0.050764</td>\n",
       "      <td>1.038073</td>\n",
       "      <td>0.923854</td>\n",
       "      <td>4.593043e-02</td>\n",
       "      <td>0.102799</td>\n",
       "      <td>...</td>\n",
       "      <td>28.000000</td>\n",
       "      <td>229.0</td>\n",
       "      <td>0.200000</td>\n",
       "      <td>0.000000</td>\n",
       "      <td>0.333333</td>\n",
       "      <td>0.466667</td>\n",
       "      <td>0.0</td>\n",
       "      <td>0.265103</td>\n",
       "      <td>0.058912</td>\n",
       "      <td>1</td>\n",
       "    </tr>\n",
       "    <tr>\n",
       "      <th>4</th>\n",
       "      <td>9.198422</td>\n",
       "      <td>14.426225</td>\n",
       "      <td>5.227803</td>\n",
       "      <td>11.335849</td>\n",
       "      <td>2.060251</td>\n",
       "      <td>0.087363</td>\n",
       "      <td>1.131045</td>\n",
       "      <td>0.914155</td>\n",
       "      <td>9.864448e-02</td>\n",
       "      <td>0.120736</td>\n",
       "      <td>...</td>\n",
       "      <td>65.555556</td>\n",
       "      <td>64.0</td>\n",
       "      <td>0.250000</td>\n",
       "      <td>0.250000</td>\n",
       "      <td>0.500000</td>\n",
       "      <td>0.000000</td>\n",
       "      <td>1.0</td>\n",
       "      <td>0.543070</td>\n",
       "      <td>0.104828</td>\n",
       "      <td>1</td>\n",
       "    </tr>\n",
       "    <tr>\n",
       "      <th>5</th>\n",
       "      <td>4.297802</td>\n",
       "      <td>10.295063</td>\n",
       "      <td>5.997261</td>\n",
       "      <td>8.638179</td>\n",
       "      <td>1.860161</td>\n",
       "      <td>0.115771</td>\n",
       "      <td>1.081628</td>\n",
       "      <td>0.729867</td>\n",
       "      <td>6.790509e-02</td>\n",
       "      <td>0.240869</td>\n",
       "      <td>...</td>\n",
       "      <td>71.724490</td>\n",
       "      <td>12.0</td>\n",
       "      <td>0.181818</td>\n",
       "      <td>0.311688</td>\n",
       "      <td>0.324675</td>\n",
       "      <td>0.181818</td>\n",
       "      <td>1.0</td>\n",
       "      <td>0.400240</td>\n",
       "      <td>0.091499</td>\n",
       "      <td>1</td>\n",
       "    </tr>\n",
       "  </tbody>\n",
       "</table>\n",
       "<p>5 rows × 274 columns</p>\n",
       "</div>"
      ],
      "text/plain": [
       "           0          1         2          3         4         5         6  \\\n",
       "1   6.000000  10.432235  4.432235   8.954823  1.969882  0.101871  1.076403   \n",
       "2   9.052693  11.479272  2.426579   9.749345  0.864963  0.020033  1.032994   \n",
       "3  10.187778  12.638871  2.451093  11.821840  1.089375  0.050764  1.038073   \n",
       "4   9.198422  14.426225  5.227803  11.335849  2.060251  0.087363  1.131045   \n",
       "5   4.297802  10.295063  5.997261   8.638179  1.860161  0.115771  1.081628   \n",
       "\n",
       "          7             8         9  ...        264    265       266  \\\n",
       "1  0.847193  1.119514e-11  0.171207  ...  73.333333   64.0  0.272727   \n",
       "2  0.959935  2.631480e-02  0.125121  ...  15.750000  152.0  0.129032   \n",
       "3  0.923854  4.593043e-02  0.102799  ...  28.000000  229.0  0.200000   \n",
       "4  0.914155  9.864448e-02  0.120736  ...  65.555556   64.0  0.250000   \n",
       "5  0.729867  6.790509e-02  0.240869  ...  71.724490   12.0  0.181818   \n",
       "\n",
       "        267       268       269  270       271       272  label  \n",
       "1  0.454545  0.272727  0.000000  1.0  0.357395  0.079421      1  \n",
       "2  0.193548  0.483871  0.193548  0.0  0.168813  0.031652      1  \n",
       "3  0.000000  0.333333  0.466667  0.0  0.265103  0.058912      1  \n",
       "4  0.250000  0.500000  0.000000  1.0  0.543070  0.104828      1  \n",
       "5  0.311688  0.324675  0.181818  1.0  0.400240  0.091499      1  \n",
       "\n",
       "[5 rows x 274 columns]"
      ]
     },
     "execution_count": 81,
     "metadata": {},
     "output_type": "execute_result"
    }
   ],
   "source": [
    "df_binary.head()"
   ]
  },
  {
   "cell_type": "code",
   "execution_count": 82,
   "metadata": {},
   "outputs": [],
   "source": [
    "X = df_binary.drop('label', axis = 1).values\n",
    "y = df_binary['label'].values"
   ]
  },
  {
   "cell_type": "code",
   "execution_count": 83,
   "metadata": {},
   "outputs": [],
   "source": [
    "X_train, X_test, y_train, y_test = train_test_split(X, y, test_size=0.3, random_state=101)"
   ]
  },
  {
   "cell_type": "code",
   "execution_count": null,
   "metadata": {},
   "outputs": [],
   "source": []
  },
  {
   "cell_type": "markdown",
   "metadata": {},
   "source": [
    "***Logestic Regression***"
   ]
  },
  {
   "cell_type": "code",
   "execution_count": 84,
   "metadata": {},
   "outputs": [],
   "source": [
    "from sklearn.linear_model import LogisticRegression"
   ]
  },
  {
   "cell_type": "code",
   "execution_count": 85,
   "metadata": {},
   "outputs": [],
   "source": [
    "logmodel = LogisticRegression()"
   ]
  },
  {
   "cell_type": "code",
   "execution_count": 86,
   "metadata": {},
   "outputs": [
    {
     "name": "stderr",
     "output_type": "stream",
     "text": [
      "/Users/mohammad/anaconda3/lib/python3.7/site-packages/sklearn/linear_model/_logistic.py:818: ConvergenceWarning: lbfgs failed to converge (status=1):\n",
      "STOP: TOTAL NO. of ITERATIONS REACHED LIMIT.\n",
      "\n",
      "Increase the number of iterations (max_iter) or scale the data as shown in:\n",
      "    https://scikit-learn.org/stable/modules/preprocessing.html\n",
      "Please also refer to the documentation for alternative solver options:\n",
      "    https://scikit-learn.org/stable/modules/linear_model.html#logistic-regression\n",
      "  extra_warning_msg=_LOGISTIC_SOLVER_CONVERGENCE_MSG,\n"
     ]
    },
    {
     "data": {
      "text/plain": [
       "LogisticRegression()"
      ]
     },
     "execution_count": 86,
     "metadata": {},
     "output_type": "execute_result"
    }
   ],
   "source": [
    "logmodel.fit(X_train,y_train)"
   ]
  },
  {
   "cell_type": "code",
   "execution_count": 87,
   "metadata": {},
   "outputs": [],
   "source": [
    "predictions = logmodel.predict(X_test)"
   ]
  },
  {
   "cell_type": "code",
   "execution_count": 88,
   "metadata": {},
   "outputs": [
    {
     "name": "stdout",
     "output_type": "stream",
     "text": [
      "              precision    recall  f1-score   support\n",
      "\n",
      "           0       0.62      0.36      0.46       139\n",
      "           1       0.85      0.94      0.89       525\n",
      "\n",
      "    accuracy                           0.82       664\n",
      "   macro avg       0.74      0.65      0.67       664\n",
      "weighted avg       0.80      0.82      0.80       664\n",
      "\n",
      "\n",
      "\n",
      "[[ 50  89]\n",
      " [ 30 495]]\n"
     ]
    }
   ],
   "source": [
    "print(classification_report(y_test,predictions))\n",
    "print('\\n')\n",
    "print(confusion_matrix(y_test,predictions))"
   ]
  },
  {
   "cell_type": "code",
   "execution_count": null,
   "metadata": {},
   "outputs": [],
   "source": []
  },
  {
   "cell_type": "markdown",
   "metadata": {},
   "source": [
    "***Decision Tree***"
   ]
  },
  {
   "cell_type": "code",
   "execution_count": 89,
   "metadata": {},
   "outputs": [],
   "source": [
    "from sklearn.tree import DecisionTreeClassifier"
   ]
  },
  {
   "cell_type": "code",
   "execution_count": 90,
   "metadata": {},
   "outputs": [
    {
     "data": {
      "text/plain": [
       "DecisionTreeClassifier()"
      ]
     },
     "execution_count": 90,
     "metadata": {},
     "output_type": "execute_result"
    }
   ],
   "source": [
    "dtree = DecisionTreeClassifier()\n",
    "dtree.fit(X_train,y_train)"
   ]
  },
  {
   "cell_type": "code",
   "execution_count": 91,
   "metadata": {},
   "outputs": [],
   "source": [
    "predictions = dtree.predict(X_test)"
   ]
  },
  {
   "cell_type": "code",
   "execution_count": 92,
   "metadata": {},
   "outputs": [
    {
     "name": "stdout",
     "output_type": "stream",
     "text": [
      "              precision    recall  f1-score   support\n",
      "\n",
      "           0       0.58      0.66      0.62       139\n",
      "           1       0.91      0.87      0.89       525\n",
      "\n",
      "    accuracy                           0.83       664\n",
      "   macro avg       0.74      0.77      0.75       664\n",
      "weighted avg       0.84      0.83      0.83       664\n",
      "\n",
      "\n",
      "\n",
      "[[ 92  47]\n",
      " [ 66 459]]\n"
     ]
    }
   ],
   "source": [
    "from sklearn.metrics import classification_report, confusion_matrix\n",
    "print(classification_report(y_test, predictions))\n",
    "print(\"\\n\")\n",
    "print(confusion_matrix(y_test, predictions))"
   ]
  },
  {
   "cell_type": "code",
   "execution_count": null,
   "metadata": {},
   "outputs": [],
   "source": []
  },
  {
   "cell_type": "markdown",
   "metadata": {},
   "source": [
    "***Random Forest Model***"
   ]
  },
  {
   "cell_type": "code",
   "execution_count": 93,
   "metadata": {},
   "outputs": [],
   "source": [
    "from sklearn.ensemble import RandomForestClassifier"
   ]
  },
  {
   "cell_type": "code",
   "execution_count": 94,
   "metadata": {},
   "outputs": [
    {
     "data": {
      "text/plain": [
       "RandomForestClassifier(n_estimators=600)"
      ]
     },
     "execution_count": 94,
     "metadata": {},
     "output_type": "execute_result"
    }
   ],
   "source": [
    "RF = RandomForestClassifier(n_estimators=600)\n",
    "RF.fit(X_train,y_train)"
   ]
  },
  {
   "cell_type": "code",
   "execution_count": 95,
   "metadata": {},
   "outputs": [],
   "source": [
    "pred_RF = RF.predict(X_test)"
   ]
  },
  {
   "cell_type": "code",
   "execution_count": 96,
   "metadata": {},
   "outputs": [
    {
     "name": "stdout",
     "output_type": "stream",
     "text": [
      "              precision    recall  f1-score   support\n",
      "\n",
      "           0       0.83      0.52      0.64       139\n",
      "           1       0.88      0.97      0.93       525\n",
      "\n",
      "    accuracy                           0.88       664\n",
      "   macro avg       0.86      0.74      0.78       664\n",
      "weighted avg       0.87      0.88      0.87       664\n",
      "\n",
      "\n",
      "\n",
      "[[ 72  67]\n",
      " [ 15 510]]\n"
     ]
    }
   ],
   "source": [
    "print(classification_report(y_test, pred_RF))\n",
    "print(\"\\n\")\n",
    "print(confusion_matrix(y_test, pred_RF))"
   ]
  },
  {
   "cell_type": "code",
   "execution_count": null,
   "metadata": {},
   "outputs": [],
   "source": []
  },
  {
   "cell_type": "markdown",
   "metadata": {},
   "source": [
    "***Neural Network***"
   ]
  },
  {
   "cell_type": "code",
   "execution_count": 97,
   "metadata": {},
   "outputs": [],
   "source": [
    "import tensorflow as tf\n",
    "from tensorflow.keras.models import Sequential\n",
    "from tensorflow.keras.layers import Dense, Activation,Dropout"
   ]
  },
  {
   "cell_type": "code",
   "execution_count": 98,
   "metadata": {},
   "outputs": [
    {
     "data": {
      "text/plain": [
       "(2213, 273)"
      ]
     },
     "execution_count": 98,
     "metadata": {},
     "output_type": "execute_result"
    }
   ],
   "source": [
    "X.shape"
   ]
  },
  {
   "cell_type": "code",
   "execution_count": 99,
   "metadata": {},
   "outputs": [],
   "source": [
    "from tensorflow.keras.callbacks import EarlyStopping\n",
    "\n",
    "early_stop = EarlyStopping(monitor='val_loss', mode='min', verbose=1, patience=25)"
   ]
  },
  {
   "cell_type": "code",
   "execution_count": 101,
   "metadata": {},
   "outputs": [],
   "source": [
    "model = Sequential()"
   ]
  },
  {
   "cell_type": "code",
   "execution_count": 102,
   "metadata": {},
   "outputs": [],
   "source": [
    "model.add(Dense(units=273,activation='relu'))\n",
    "model.add(Dropout(0.1))\n",
    "model.add(Dense(units=200,activation='relu'))\n",
    "model.add(Dropout(0.1))\n",
    "model.add(Dense(units=100,activation='relu'))\n",
    "model.add(Dropout(0.1))\n",
    "model.add(Dense(units=50,activation='relu'))\n",
    "model.add(Dropout(0.1))\n",
    "model.add(Dense(units=1,activation='sigmoid'))\n",
    "\n",
    "# For a binary classification problem\n",
    "model.compile(loss='binary_crossentropy', optimizer='adam')"
   ]
  },
  {
   "cell_type": "code",
   "execution_count": 103,
   "metadata": {},
   "outputs": [
    {
     "name": "stdout",
     "output_type": "stream",
     "text": [
      "Epoch 1/600\n",
      "49/49 [==============================] - 1s 7ms/step - loss: 12.7662 - val_loss: 2.4660\n",
      "Epoch 2/600\n",
      "49/49 [==============================] - 0s 4ms/step - loss: 2.9652 - val_loss: 0.5679\n",
      "Epoch 3/600\n",
      "49/49 [==============================] - 0s 3ms/step - loss: 1.5640 - val_loss: 0.5086\n",
      "Epoch 4/600\n",
      "49/49 [==============================] - 0s 3ms/step - loss: 1.0836 - val_loss: 0.4803\n",
      "Epoch 5/600\n",
      "49/49 [==============================] - 0s 2ms/step - loss: 0.8726 - val_loss: 0.5974\n",
      "Epoch 6/600\n",
      "49/49 [==============================] - 0s 2ms/step - loss: 0.7402 - val_loss: 0.5159\n",
      "Epoch 7/600\n",
      "49/49 [==============================] - 0s 3ms/step - loss: 0.6907 - val_loss: 0.5292\n",
      "Epoch 8/600\n",
      "49/49 [==============================] - 0s 3ms/step - loss: 0.6428 - val_loss: 0.5031\n",
      "Epoch 9/600\n",
      "49/49 [==============================] - 0s 3ms/step - loss: 0.6259 - val_loss: 0.5094\n",
      "Epoch 10/600\n",
      "49/49 [==============================] - 0s 3ms/step - loss: 0.5940 - val_loss: 0.5113\n",
      "Epoch 11/600\n",
      "49/49 [==============================] - 0s 3ms/step - loss: 0.5542 - val_loss: 0.4912\n",
      "Epoch 12/600\n",
      "49/49 [==============================] - 0s 3ms/step - loss: 0.5296 - val_loss: 0.4878\n",
      "Epoch 13/600\n",
      "49/49 [==============================] - 0s 3ms/step - loss: 0.5404 - val_loss: 0.5022\n",
      "Epoch 14/600\n",
      "49/49 [==============================] - 0s 3ms/step - loss: 0.5191 - val_loss: 0.4661\n",
      "Epoch 15/600\n",
      "49/49 [==============================] - 0s 3ms/step - loss: 0.5112 - val_loss: 0.4728\n",
      "Epoch 16/600\n",
      "49/49 [==============================] - 0s 4ms/step - loss: 0.5069 - val_loss: 0.4459\n",
      "Epoch 17/600\n",
      "49/49 [==============================] - 0s 4ms/step - loss: 0.4973 - val_loss: 0.4946\n",
      "Epoch 18/600\n",
      "49/49 [==============================] - 0s 3ms/step - loss: 0.5033 - val_loss: 0.4656\n",
      "Epoch 19/600\n",
      "49/49 [==============================] - 0s 3ms/step - loss: 0.4831 - val_loss: 0.4362\n",
      "Epoch 20/600\n",
      "49/49 [==============================] - 0s 4ms/step - loss: 0.5029 - val_loss: 0.4380\n",
      "Epoch 21/600\n",
      "49/49 [==============================] - 0s 4ms/step - loss: 0.4830 - val_loss: 0.4474\n",
      "Epoch 22/600\n",
      "49/49 [==============================] - 0s 3ms/step - loss: 0.4860 - val_loss: 0.4338\n",
      "Epoch 23/600\n",
      "49/49 [==============================] - 0s 3ms/step - loss: 0.4912 - val_loss: 0.4481\n",
      "Epoch 24/600\n",
      "49/49 [==============================] - 0s 3ms/step - loss: 0.4865 - val_loss: 0.4453\n",
      "Epoch 25/600\n",
      "49/49 [==============================] - 0s 3ms/step - loss: 0.4703 - val_loss: 0.4215\n",
      "Epoch 26/600\n",
      "49/49 [==============================] - 0s 3ms/step - loss: 0.4691 - val_loss: 0.4326\n",
      "Epoch 27/600\n",
      "49/49 [==============================] - 0s 3ms/step - loss: 0.4602 - val_loss: 0.4483\n",
      "Epoch 28/600\n",
      "49/49 [==============================] - 0s 3ms/step - loss: 0.4701 - val_loss: 0.4263\n",
      "Epoch 29/600\n",
      "49/49 [==============================] - 0s 3ms/step - loss: 0.4622 - val_loss: 0.4275\n",
      "Epoch 30/600\n",
      "49/49 [==============================] - 0s 3ms/step - loss: 0.4627 - val_loss: 0.4381\n",
      "Epoch 31/600\n",
      "49/49 [==============================] - 0s 3ms/step - loss: 0.4505 - val_loss: 0.4358\n",
      "Epoch 32/600\n",
      "49/49 [==============================] - 0s 3ms/step - loss: 0.4824 - val_loss: 0.4302\n",
      "Epoch 33/600\n",
      "49/49 [==============================] - 0s 3ms/step - loss: 0.4543 - val_loss: 0.4258\n",
      "Epoch 34/600\n",
      "49/49 [==============================] - 0s 3ms/step - loss: 0.4539 - val_loss: 0.4199\n",
      "Epoch 35/600\n",
      "49/49 [==============================] - 0s 3ms/step - loss: 0.4533 - val_loss: 0.4223\n",
      "Epoch 36/600\n",
      "49/49 [==============================] - 0s 3ms/step - loss: 0.4505 - val_loss: 0.4109\n",
      "Epoch 37/600\n",
      "49/49 [==============================] - 0s 3ms/step - loss: 0.4433 - val_loss: 0.4270\n",
      "Epoch 38/600\n",
      "49/49 [==============================] - 0s 3ms/step - loss: 0.4551 - val_loss: 0.4084\n",
      "Epoch 39/600\n",
      "49/49 [==============================] - 0s 3ms/step - loss: 0.4409 - val_loss: 0.4122\n",
      "Epoch 40/600\n",
      "49/49 [==============================] - 0s 3ms/step - loss: 0.4485 - val_loss: 0.4431\n",
      "Epoch 41/600\n",
      "49/49 [==============================] - 0s 3ms/step - loss: 0.4418 - val_loss: 0.4068\n",
      "Epoch 42/600\n",
      "49/49 [==============================] - 0s 3ms/step - loss: 0.4400 - val_loss: 0.4250\n",
      "Epoch 43/600\n",
      "49/49 [==============================] - 0s 3ms/step - loss: 0.4507 - val_loss: 0.4337\n",
      "Epoch 44/600\n",
      "49/49 [==============================] - 0s 3ms/step - loss: 0.4314 - val_loss: 0.4294\n",
      "Epoch 45/600\n",
      "49/49 [==============================] - 0s 3ms/step - loss: 0.4437 - val_loss: 0.4042\n",
      "Epoch 46/600\n",
      "49/49 [==============================] - 0s 3ms/step - loss: 0.4341 - val_loss: 0.4058\n",
      "Epoch 47/600\n",
      "49/49 [==============================] - 0s 3ms/step - loss: 0.4298 - val_loss: 0.4202\n",
      "Epoch 48/600\n",
      "49/49 [==============================] - 0s 3ms/step - loss: 0.4176 - val_loss: 0.4136\n",
      "Epoch 49/600\n",
      "49/49 [==============================] - 0s 3ms/step - loss: 0.4333 - val_loss: 0.4121\n",
      "Epoch 50/600\n",
      "49/49 [==============================] - 0s 3ms/step - loss: 0.4145 - val_loss: 0.4396\n",
      "Epoch 51/600\n",
      "49/49 [==============================] - 0s 3ms/step - loss: 0.4166 - val_loss: 0.4049\n",
      "Epoch 52/600\n",
      "49/49 [==============================] - 0s 3ms/step - loss: 0.4158 - val_loss: 0.4049\n",
      "Epoch 53/600\n",
      "49/49 [==============================] - 0s 3ms/step - loss: 0.4373 - val_loss: 0.4132\n",
      "Epoch 54/600\n",
      "49/49 [==============================] - 0s 3ms/step - loss: 0.4237 - val_loss: 0.4083\n",
      "Epoch 55/600\n",
      "49/49 [==============================] - 0s 3ms/step - loss: 0.4250 - val_loss: 0.3986\n",
      "Epoch 56/600\n",
      "49/49 [==============================] - 0s 3ms/step - loss: 0.4268 - val_loss: 0.4243\n",
      "Epoch 57/600\n",
      "49/49 [==============================] - 0s 3ms/step - loss: 0.4350 - val_loss: 0.4010\n",
      "Epoch 58/600\n",
      "49/49 [==============================] - 0s 3ms/step - loss: 0.4135 - val_loss: 0.3874\n",
      "Epoch 59/600\n",
      "49/49 [==============================] - 0s 3ms/step - loss: 0.4272 - val_loss: 0.4149\n",
      "Epoch 60/600\n",
      "49/49 [==============================] - 0s 3ms/step - loss: 0.4153 - val_loss: 0.4130\n",
      "Epoch 61/600\n",
      "49/49 [==============================] - 0s 3ms/step - loss: 0.4034 - val_loss: 0.3843\n",
      "Epoch 62/600\n",
      "49/49 [==============================] - 0s 3ms/step - loss: 0.3956 - val_loss: 0.4095\n",
      "Epoch 63/600\n",
      "49/49 [==============================] - 0s 3ms/step - loss: 0.4170 - val_loss: 0.4181\n",
      "Epoch 64/600\n",
      "49/49 [==============================] - 0s 3ms/step - loss: 0.4008 - val_loss: 0.3956\n",
      "Epoch 65/600\n",
      "49/49 [==============================] - 0s 3ms/step - loss: 0.4036 - val_loss: 0.3702\n",
      "Epoch 66/600\n",
      "49/49 [==============================] - 0s 3ms/step - loss: 0.4079 - val_loss: 0.4372\n",
      "Epoch 67/600\n",
      "49/49 [==============================] - 0s 3ms/step - loss: 0.3727 - val_loss: 0.4537\n",
      "Epoch 68/600\n",
      "49/49 [==============================] - 0s 3ms/step - loss: 0.3741 - val_loss: 0.4254\n",
      "Epoch 69/600\n",
      "49/49 [==============================] - 0s 3ms/step - loss: 0.3851 - val_loss: 0.4112\n",
      "Epoch 70/600\n",
      "49/49 [==============================] - 0s 3ms/step - loss: 0.3877 - val_loss: 0.3902\n",
      "Epoch 71/600\n",
      "49/49 [==============================] - 0s 3ms/step - loss: 0.3883 - val_loss: 0.4049\n",
      "Epoch 72/600\n",
      "49/49 [==============================] - 0s 3ms/step - loss: 0.3698 - val_loss: 0.3746\n",
      "Epoch 73/600\n",
      "49/49 [==============================] - 0s 3ms/step - loss: 0.3721 - val_loss: 0.3621\n",
      "Epoch 74/600\n",
      "49/49 [==============================] - 0s 3ms/step - loss: 0.3544 - val_loss: 0.3962\n",
      "Epoch 75/600\n",
      "49/49 [==============================] - 0s 3ms/step - loss: 0.3709 - val_loss: 0.4166\n",
      "Epoch 76/600\n",
      "49/49 [==============================] - 0s 3ms/step - loss: 0.3893 - val_loss: 0.4261\n",
      "Epoch 77/600\n",
      "49/49 [==============================] - 0s 3ms/step - loss: 0.3519 - val_loss: 0.3619\n",
      "Epoch 78/600\n",
      "49/49 [==============================] - 0s 3ms/step - loss: 0.3524 - val_loss: 0.3618\n",
      "Epoch 79/600\n",
      "49/49 [==============================] - 0s 3ms/step - loss: 0.3448 - val_loss: 0.3887\n",
      "Epoch 80/600\n",
      "49/49 [==============================] - 0s 3ms/step - loss: 0.3658 - val_loss: 0.3872\n",
      "Epoch 81/600\n",
      "49/49 [==============================] - 0s 3ms/step - loss: 0.3520 - val_loss: 0.3677\n",
      "Epoch 82/600\n",
      "49/49 [==============================] - 0s 3ms/step - loss: 0.3521 - val_loss: 0.3936\n",
      "Epoch 83/600\n"
     ]
    },
    {
     "name": "stdout",
     "output_type": "stream",
     "text": [
      "49/49 [==============================] - 0s 3ms/step - loss: 0.3609 - val_loss: 0.3954\n",
      "Epoch 84/600\n",
      "49/49 [==============================] - 0s 2ms/step - loss: 0.3897 - val_loss: 0.3909\n",
      "Epoch 85/600\n",
      "49/49 [==============================] - 0s 2ms/step - loss: 0.3546 - val_loss: 0.3644\n",
      "Epoch 86/600\n",
      "49/49 [==============================] - 0s 2ms/step - loss: 0.3866 - val_loss: 0.3798\n",
      "Epoch 87/600\n",
      "49/49 [==============================] - 0s 2ms/step - loss: 0.3716 - val_loss: 0.3658\n",
      "Epoch 88/600\n",
      "49/49 [==============================] - 0s 2ms/step - loss: 0.3470 - val_loss: 0.4201\n",
      "Epoch 89/600\n",
      "49/49 [==============================] - 0s 2ms/step - loss: 0.3583 - val_loss: 0.3500\n",
      "Epoch 90/600\n",
      "49/49 [==============================] - 0s 3ms/step - loss: 0.3487 - val_loss: 0.3791\n",
      "Epoch 91/600\n",
      "49/49 [==============================] - 0s 3ms/step - loss: 0.3603 - val_loss: 0.3947\n",
      "Epoch 92/600\n",
      "49/49 [==============================] - 0s 2ms/step - loss: 0.3545 - val_loss: 0.3731\n",
      "Epoch 93/600\n",
      "49/49 [==============================] - 0s 2ms/step - loss: 0.3464 - val_loss: 0.3681\n",
      "Epoch 94/600\n",
      "49/49 [==============================] - 0s 3ms/step - loss: 0.3386 - val_loss: 0.4200\n",
      "Epoch 95/600\n",
      "49/49 [==============================] - 0s 2ms/step - loss: 0.3530 - val_loss: 0.3706\n",
      "Epoch 96/600\n",
      "49/49 [==============================] - 0s 2ms/step - loss: 0.3393 - val_loss: 0.3836\n",
      "Epoch 97/600\n",
      "49/49 [==============================] - 0s 2ms/step - loss: 0.3431 - val_loss: 0.4285\n",
      "Epoch 98/600\n",
      "49/49 [==============================] - 0s 3ms/step - loss: 0.3247 - val_loss: 0.3905\n",
      "Epoch 99/600\n",
      "49/49 [==============================] - 0s 3ms/step - loss: 0.3334 - val_loss: 0.4068\n",
      "Epoch 100/600\n",
      "49/49 [==============================] - 0s 3ms/step - loss: 0.3330 - val_loss: 0.4392\n",
      "Epoch 101/600\n",
      "49/49 [==============================] - 0s 3ms/step - loss: 0.3464 - val_loss: 0.4057\n",
      "Epoch 102/600\n",
      "49/49 [==============================] - 0s 3ms/step - loss: 0.3438 - val_loss: 0.3865\n",
      "Epoch 103/600\n",
      "49/49 [==============================] - 0s 2ms/step - loss: 0.3365 - val_loss: 0.3915\n",
      "Epoch 104/600\n",
      "49/49 [==============================] - 0s 3ms/step - loss: 0.3555 - val_loss: 0.3814\n",
      "Epoch 105/600\n",
      "49/49 [==============================] - 0s 3ms/step - loss: 0.3392 - val_loss: 0.3624\n",
      "Epoch 106/600\n",
      "49/49 [==============================] - 0s 2ms/step - loss: 0.3317 - val_loss: 0.3809\n",
      "Epoch 107/600\n",
      "49/49 [==============================] - 0s 3ms/step - loss: 0.3252 - val_loss: 0.3755\n",
      "Epoch 108/600\n",
      "49/49 [==============================] - 0s 2ms/step - loss: 0.3131 - val_loss: 0.3900\n",
      "Epoch 109/600\n",
      "49/49 [==============================] - 0s 2ms/step - loss: 0.3029 - val_loss: 0.3724\n",
      "Epoch 110/600\n",
      "49/49 [==============================] - 0s 3ms/step - loss: 0.3257 - val_loss: 0.3955\n",
      "Epoch 111/600\n",
      "49/49 [==============================] - 0s 3ms/step - loss: 0.3362 - val_loss: 0.3933\n",
      "Epoch 112/600\n",
      "49/49 [==============================] - 0s 2ms/step - loss: 0.3065 - val_loss: 0.3980\n",
      "Epoch 113/600\n",
      "49/49 [==============================] - 0s 2ms/step - loss: 0.3301 - val_loss: 0.3681\n",
      "Epoch 114/600\n",
      "49/49 [==============================] - 0s 2ms/step - loss: 0.3016 - val_loss: 0.4454\n",
      "Epoch 00114: early stopping\n"
     ]
    },
    {
     "data": {
      "text/plain": [
       "<keras.callbacks.History at 0x7fd2f1297c10>"
      ]
     },
     "execution_count": 103,
     "metadata": {},
     "output_type": "execute_result"
    }
   ],
   "source": [
    "model.fit(x=X_train, \n",
    "          y=y_train, \n",
    "          epochs=600,\n",
    "          validation_data=(X_test, y_test), verbose=1,\n",
    "          callbacks=[early_stop]\n",
    "          )"
   ]
  },
  {
   "cell_type": "code",
   "execution_count": 104,
   "metadata": {},
   "outputs": [
    {
     "data": {
      "text/plain": [
       "<AxesSubplot:>"
      ]
     },
     "execution_count": 104,
     "metadata": {},
     "output_type": "execute_result"
    },
    {
     "data": {
      "image/png": "[encoded data removed]",
      "text/plain": [
       "<Figure size 432x288 with 1 Axes>"
      ]
     },
     "metadata": {
      "needs_background": "light"
     },
     "output_type": "display_data"
    }
   ],
   "source": [
    "model_loss = pd.DataFrame(model.history.history)\n",
    "model_loss.plot()"
   ]
  },
  {
   "cell_type": "code",
   "execution_count": 106,
   "metadata": {},
   "outputs": [],
   "source": [
    "predictions = model.predict(X_test)"
   ]
  },
  {
   "cell_type": "code",
   "execution_count": 114,
   "metadata": {},
   "outputs": [
    {
     "data": {
      "text/plain": [
       "(664,)"
      ]
     },
     "execution_count": 114,
     "metadata": {},
     "output_type": "execute_result"
    }
   ],
   "source": [
    "y_test.shape"
   ]
  },
  {
   "cell_type": "code",
   "execution_count": 117,
   "metadata": {},
   "outputs": [
    {
     "data": {
      "text/plain": [
       "(664,)"
      ]
     },
     "execution_count": 117,
     "metadata": {},
     "output_type": "execute_result"
    }
   ],
   "source": [
    "predictions = predictions.reshape(len(y_test))\n",
    "predictions.shape"
   ]
  },
  {
   "cell_type": "code",
   "execution_count": 126,
   "metadata": {},
   "outputs": [],
   "source": [
    "pred = [round(i) for i in predictions]"
   ]
  },
  {
   "cell_type": "code",
   "execution_count": 124,
   "metadata": {
    "scrolled": true
   },
   "outputs": [
    {
     "name": "stdout",
     "output_type": "stream",
     "text": [
      "              precision    recall  f1-score   support\n",
      "\n",
      "           0       0.74      0.43      0.55       139\n",
      "           1       0.86      0.96      0.91       525\n",
      "\n",
      "    accuracy                           0.85       664\n",
      "   macro avg       0.80      0.70      0.73       664\n",
      "weighted avg       0.84      0.85      0.83       664\n",
      "\n",
      "\n",
      "\n",
      "[[ 60  79]\n",
      " [ 21 504]]\n"
     ]
    }
   ],
   "source": [
    "print(classification_report(y_test, pred))\n",
    "print(\"\\n\")\n",
    "print(confusion_matrix(y_test, pred))"
   ]
  },
  {
   "cell_type": "code",
   "execution_count": null,
   "metadata": {},
   "outputs": [],
   "source": []
  }
 ],
 "metadata": {
  "kernelspec": {
   "display_name": "Python 3",
   "language": "python",
   "name": "python3"
  },
  "language_info": {
   "codemirror_mode": {
    "name": "ipython",
    "version": 3
   },
   "file_extension": ".py",
   "mimetype": "text/x-python",
   "name": "python",
   "nbconvert_exporter": "python",
   "pygments_lexer": "ipython3",
   "version": "3.7.11"
  }
 },
 "nbformat": 4,
 "nbformat_minor": 2
}
