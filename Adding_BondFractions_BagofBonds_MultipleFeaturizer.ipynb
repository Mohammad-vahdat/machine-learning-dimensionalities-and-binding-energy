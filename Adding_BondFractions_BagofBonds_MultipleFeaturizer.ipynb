{
 "cells": [
  {
   "cell_type": "code",
   "execution_count": 1,
   "metadata": {},
   "outputs": [],
   "source": [
    "import ase\n",
    "import ase.io\n",
    "from ase.io import xsf\n",
    "import pandas as pd\n",
    "import json\n",
    "import seaborn as sns\n",
    "import matplotlib.pyplot as plt\n",
    "import os\n",
    "import numpy as np\n",
    "%matplotlib inline"
   ]
  },
  {
   "cell_type": "code",
   "execution_count": 2,
   "metadata": {},
   "outputs": [
    {
     "data": {
      "text/html": [
       "<div>\n",
       "<style scoped>\n",
       "    .dataframe tbody tr th:only-of-type {\n",
       "        vertical-align: middle;\n",
       "    }\n",
       "\n",
       "    .dataframe tbody tr th {\n",
       "        vertical-align: top;\n",
       "    }\n",
       "\n",
       "    .dataframe thead th {\n",
       "        text-align: right;\n",
       "    }\n",
       "</style>\n",
       "<table border=\"1\" class=\"dataframe\">\n",
       "  <thead>\n",
       "    <tr style=\"text-align: right;\">\n",
       "      <th></th>\n",
       "      <th>uuid</th>\n",
       "      <th>structure</th>\n",
       "      <th>cell</th>\n",
       "      <th>volume</th>\n",
       "      <th>relevant_dimension_of_highest_dimensionality_substructure</th>\n",
       "      <th>binding_energy_per_substructure</th>\n",
       "      <th>binding_energy</th>\n",
       "      <th>label</th>\n",
       "      <th>number_of_atoms_in_bulk</th>\n",
       "      <th>number_of_highest_dimensionality_substructures_in_bulk</th>\n",
       "      <th>sub_structure_spg</th>\n",
       "      <th>sub_structure_dim</th>\n",
       "      <th>energy_bulk</th>\n",
       "      <th>sub_structure_formula</th>\n",
       "      <th>PMG Structure from ASE Atoms</th>\n",
       "    </tr>\n",
       "  </thead>\n",
       "  <tbody>\n",
       "    <tr>\n",
       "      <th>0</th>\n",
       "      <td>dec2d070-d2ad-41f3-b742-786368ade33a</td>\n",
       "      <td>(Atom('Cd', [-0.0, -0.0, 29.0441583], index=0)...</td>\n",
       "      <td>[[2.1044124705, 1.2149831063, 34.279850741], [...</td>\n",
       "      <td>525.885600</td>\n",
       "      <td>15.340954</td>\n",
       "      <td>-0.165000</td>\n",
       "      <td>10.755509</td>\n",
       "      <td>EE</td>\n",
       "      <td>15</td>\n",
       "      <td>5</td>\n",
       "      <td>[C2/m (12), C2/m (12), C2/m (12), C2/m (12), C...</td>\n",
       "      <td>[2, 2, 2, 2, 2]</td>\n",
       "      <td>-17198.871453</td>\n",
       "      <td>[CdI2, CdI2, CdI2, CdI2, CdI2]</td>\n",
       "      <td>[[-7.99325051e-18 -1.35384926e-17  2.90441583e...</td>\n",
       "    </tr>\n",
       "    <tr>\n",
       "      <th>1</th>\n",
       "      <td>51e630e8-d94f-421c-bd1e-3e2f298e740c</td>\n",
       "      <td>(Atom('Fe', [0.0, 0.0, 0.0], index=0), Atom('C...</td>\n",
       "      <td>[[3.35814166734363, 3.21879556184565e-14, -3.2...</td>\n",
       "      <td>52.188194</td>\n",
       "      <td>9.766268</td>\n",
       "      <td>-0.149888</td>\n",
       "      <td>15.347484</td>\n",
       "      <td>EE</td>\n",
       "      <td>3</td>\n",
       "      <td>1</td>\n",
       "      <td>[P-3m1 (164)]</td>\n",
       "      <td>[2]</td>\n",
       "      <td>-5361.474444</td>\n",
       "      <td>[Cl2Fe]</td>\n",
       "      <td>[[0. 0. 0.] Fe, [7.65128701e-17 2.06980071e+00...</td>\n",
       "    </tr>\n",
       "    <tr>\n",
       "      <th>2</th>\n",
       "      <td>527e7b32-d211-4743-9631-120122819190</td>\n",
       "      <td>(Atom('Er', [2.1386, 4.301805, 3.209025], inde...</td>\n",
       "      <td>[[2.14789490163679, -12.5878501270869, 0.0], [...</td>\n",
       "      <td>232.520056</td>\n",
       "      <td>18.471785</td>\n",
       "      <td>-0.454048</td>\n",
       "      <td>24.580650</td>\n",
       "      <td>EE</td>\n",
       "      <td>8</td>\n",
       "      <td>1</td>\n",
       "      <td>[P2_1/m (11)]</td>\n",
       "      <td>[2]</td>\n",
       "      <td>-26090.090963</td>\n",
       "      <td>[Er2Te6]</td>\n",
       "      <td>[[2.1386   4.301805 3.209025] Er, [ 2.1386   -...</td>\n",
       "    </tr>\n",
       "    <tr>\n",
       "      <th>3</th>\n",
       "      <td>37bf14b1-6529-436c-a519-e1ad9b208784</td>\n",
       "      <td>(Atom('Ba', [0.0, 0.0, 9.5697], index=0), Atom...</td>\n",
       "      <td>[[-2.0745739339, 2.0745739339, 7.4278571834], ...</td>\n",
       "      <td>127.873741</td>\n",
       "      <td>17.215428</td>\n",
       "      <td>-0.747937</td>\n",
       "      <td>43.445746</td>\n",
       "      <td>PE</td>\n",
       "      <td>3</td>\n",
       "      <td>1</td>\n",
       "      <td>[C2/m (12)]</td>\n",
       "      <td>[2]</td>\n",
       "      <td>-2866.173187</td>\n",
       "      <td>[Ba2Hg]</td>\n",
       "      <td>[[-1.10578213e-16  1.10578213e-16  9.56970000e...</td>\n",
       "    </tr>\n",
       "    <tr>\n",
       "      <th>4</th>\n",
       "      <td>e7a9cec3-f11a-4d16-a8c5-ebd758bb6592</td>\n",
       "      <td>(Atom('Ba', [0.0, 2.414, 1.49473], index=0), A...</td>\n",
       "      <td>[[4.6829418165, 0.0, 0.0], [0.0, 4.6829418165,...</td>\n",
       "      <td>166.823529</td>\n",
       "      <td>21.929944</td>\n",
       "      <td>-0.532853</td>\n",
       "      <td>24.297979</td>\n",
       "      <td>EE</td>\n",
       "      <td>6</td>\n",
       "      <td>1</td>\n",
       "      <td>[P4/nmm (129)]</td>\n",
       "      <td>[2]</td>\n",
       "      <td>-3217.539658</td>\n",
       "      <td>[Ba2H2I2]</td>\n",
       "      <td>[[0.      2.414   1.49473] Ba, [2.414   0.    ...</td>\n",
       "    </tr>\n",
       "  </tbody>\n",
       "</table>\n",
       "</div>"
      ],
      "text/plain": [
       "                                   uuid  \\\n",
       "0  dec2d070-d2ad-41f3-b742-786368ade33a   \n",
       "1  51e630e8-d94f-421c-bd1e-3e2f298e740c   \n",
       "2  527e7b32-d211-4743-9631-120122819190   \n",
       "3  37bf14b1-6529-436c-a519-e1ad9b208784   \n",
       "4  e7a9cec3-f11a-4d16-a8c5-ebd758bb6592   \n",
       "\n",
       "                                           structure  \\\n",
       "0  (Atom('Cd', [-0.0, -0.0, 29.0441583], index=0)...   \n",
       "1  (Atom('Fe', [0.0, 0.0, 0.0], index=0), Atom('C...   \n",
       "2  (Atom('Er', [2.1386, 4.301805, 3.209025], inde...   \n",
       "3  (Atom('Ba', [0.0, 0.0, 9.5697], index=0), Atom...   \n",
       "4  (Atom('Ba', [0.0, 2.414, 1.49473], index=0), A...   \n",
       "\n",
       "                                                cell      volume  \\\n",
       "0  [[2.1044124705, 1.2149831063, 34.279850741], [...  525.885600   \n",
       "1  [[3.35814166734363, 3.21879556184565e-14, -3.2...   52.188194   \n",
       "2  [[2.14789490163679, -12.5878501270869, 0.0], [...  232.520056   \n",
       "3  [[-2.0745739339, 2.0745739339, 7.4278571834], ...  127.873741   \n",
       "4  [[4.6829418165, 0.0, 0.0], [0.0, 4.6829418165,...  166.823529   \n",
       "\n",
       "   relevant_dimension_of_highest_dimensionality_substructure  \\\n",
       "0                                          15.340954           \n",
       "1                                           9.766268           \n",
       "2                                          18.471785           \n",
       "3                                          17.215428           \n",
       "4                                          21.929944           \n",
       "\n",
       "   binding_energy_per_substructure  binding_energy label  \\\n",
       "0                        -0.165000       10.755509    EE   \n",
       "1                        -0.149888       15.347484    EE   \n",
       "2                        -0.454048       24.580650    EE   \n",
       "3                        -0.747937       43.445746    PE   \n",
       "4                        -0.532853       24.297979    EE   \n",
       "\n",
       "   number_of_atoms_in_bulk  \\\n",
       "0                       15   \n",
       "1                        3   \n",
       "2                        8   \n",
       "3                        3   \n",
       "4                        6   \n",
       "\n",
       "   number_of_highest_dimensionality_substructures_in_bulk  \\\n",
       "0                                                  5        \n",
       "1                                                  1        \n",
       "2                                                  1        \n",
       "3                                                  1        \n",
       "4                                                  1        \n",
       "\n",
       "                                   sub_structure_spg sub_structure_dim  \\\n",
       "0  [C2/m (12), C2/m (12), C2/m (12), C2/m (12), C...   [2, 2, 2, 2, 2]   \n",
       "1                                      [P-3m1 (164)]               [2]   \n",
       "2                                      [P2_1/m (11)]               [2]   \n",
       "3                                        [C2/m (12)]               [2]   \n",
       "4                                     [P4/nmm (129)]               [2]   \n",
       "\n",
       "    energy_bulk           sub_structure_formula  \\\n",
       "0 -17198.871453  [CdI2, CdI2, CdI2, CdI2, CdI2]   \n",
       "1  -5361.474444                         [Cl2Fe]   \n",
       "2 -26090.090963                        [Er2Te6]   \n",
       "3  -2866.173187                         [Ba2Hg]   \n",
       "4  -3217.539658                       [Ba2H2I2]   \n",
       "\n",
       "                        PMG Structure from ASE Atoms  \n",
       "0  [[-7.99325051e-18 -1.35384926e-17  2.90441583e...  \n",
       "1  [[0. 0. 0.] Fe, [7.65128701e-17 2.06980071e+00...  \n",
       "2  [[2.1386   4.301805 3.209025] Er, [ 2.1386   -...  \n",
       "3  [[-1.10578213e-16  1.10578213e-16  9.56970000e...  \n",
       "4  [[0.      2.414   1.49473] Ba, [2.414   0.    ...  "
      ]
     },
     "execution_count": 2,
     "metadata": {},
     "output_type": "execute_result"
    }
   ],
   "source": [
    "dataframe_df2 = pd.read_pickle(\"pickle_files/DataFrame_df2.pkl\")\n",
    "dataframe_df2.head()"
   ]
  },
  {
   "cell_type": "code",
   "execution_count": 52,
   "metadata": {},
   "outputs": [],
   "source": [
    "structures = list(dataframe_df2[\"PMG Structure from ASE Atoms\"])\n",
    "gridpoints = list(dataframe_df2.index)"
   ]
  },
  {
   "cell_type": "code",
   "execution_count": 53,
   "metadata": {},
   "outputs": [],
   "source": [
    "features = {n:{} for n in gridpoints}\n",
    "for name in gridpoints:\n",
    "    features[name][\"structure\"]=dataframe_df2[\"PMG Structure from ASE Atoms\"][name]"
   ]
  },
  {
   "cell_type": "code",
   "execution_count": 54,
   "metadata": {},
   "outputs": [
    {
     "data": {
      "text/html": [
       "<div>\n",
       "<style scoped>\n",
       "    .dataframe tbody tr th:only-of-type {\n",
       "        vertical-align: middle;\n",
       "    }\n",
       "\n",
       "    .dataframe tbody tr th {\n",
       "        vertical-align: top;\n",
       "    }\n",
       "\n",
       "    .dataframe thead th {\n",
       "        text-align: right;\n",
       "    }\n",
       "</style>\n",
       "<table border=\"1\" class=\"dataframe\">\n",
       "  <thead>\n",
       "    <tr style=\"text-align: right;\">\n",
       "      <th></th>\n",
       "      <th>structure</th>\n",
       "    </tr>\n",
       "  </thead>\n",
       "  <tbody>\n",
       "    <tr>\n",
       "      <th>0</th>\n",
       "      <td>[[-7.99325051e-18 -1.35384926e-17  2.90441583e...</td>\n",
       "    </tr>\n",
       "    <tr>\n",
       "      <th>1</th>\n",
       "      <td>[[0. 0. 0.] Fe, [7.65128701e-17 2.06980071e+00...</td>\n",
       "    </tr>\n",
       "    <tr>\n",
       "      <th>2</th>\n",
       "      <td>[[2.1386   4.301805 3.209025] Er, [ 2.1386   -...</td>\n",
       "    </tr>\n",
       "    <tr>\n",
       "      <th>3</th>\n",
       "      <td>[[-1.10578213e-16  1.10578213e-16  9.56970000e...</td>\n",
       "    </tr>\n",
       "    <tr>\n",
       "      <th>4</th>\n",
       "      <td>[[0.      2.414   1.49473] Ba, [2.414   0.    ...</td>\n",
       "    </tr>\n",
       "    <tr>\n",
       "      <th>...</th>\n",
       "      <td>...</td>\n",
       "    </tr>\n",
       "    <tr>\n",
       "      <th>2387</th>\n",
       "      <td>[[-2.45673852e-17  2.87064327e+00  2.28500000e...</td>\n",
       "    </tr>\n",
       "    <tr>\n",
       "      <th>2388</th>\n",
       "      <td>[[ 8.7759233  -1.51816627  6.20947541] K, [ 2....</td>\n",
       "    </tr>\n",
       "    <tr>\n",
       "      <th>2389</th>\n",
       "      <td>[[6.06416256 0.5661043  0.86358119] Li, [4.004...</td>\n",
       "    </tr>\n",
       "    <tr>\n",
       "      <th>2390</th>\n",
       "      <td>[[ 3.17549986e-17 -2.74568748e-17  2.43148410e...</td>\n",
       "    </tr>\n",
       "    <tr>\n",
       "      <th>2391</th>\n",
       "      <td>[[0. 0. 0.] Co, [ 1.50622572 -0.52728089  5.01...</td>\n",
       "    </tr>\n",
       "  </tbody>\n",
       "</table>\n",
       "<p>2392 rows × 1 columns</p>\n",
       "</div>"
      ],
      "text/plain": [
       "                                              structure\n",
       "0     [[-7.99325051e-18 -1.35384926e-17  2.90441583e...\n",
       "1     [[0. 0. 0.] Fe, [7.65128701e-17 2.06980071e+00...\n",
       "2     [[2.1386   4.301805 3.209025] Er, [ 2.1386   -...\n",
       "3     [[-1.10578213e-16  1.10578213e-16  9.56970000e...\n",
       "4     [[0.      2.414   1.49473] Ba, [2.414   0.    ...\n",
       "...                                                 ...\n",
       "2387  [[-2.45673852e-17  2.87064327e+00  2.28500000e...\n",
       "2388  [[ 8.7759233  -1.51816627  6.20947541] K, [ 2....\n",
       "2389  [[6.06416256 0.5661043  0.86358119] Li, [4.004...\n",
       "2390  [[ 3.17549986e-17 -2.74568748e-17  2.43148410e...\n",
       "2391  [[0. 0. 0.] Co, [ 1.50622572 -0.52728089  5.01...\n",
       "\n",
       "[2392 rows x 1 columns]"
      ]
     },
     "execution_count": 54,
     "metadata": {},
     "output_type": "execute_result"
    }
   ],
   "source": [
    "data=pd.DataFrame.from_dict(features).T\n",
    "data"
   ]
  },
  {
   "cell_type": "code",
   "execution_count": 55,
   "metadata": {},
   "outputs": [],
   "source": [
    "features_dict={}\n",
    "## 1. initialize the dictionary for each site\n",
    "for index,row in data.iterrows():\n",
    "    structure=row[\"structure\"]\n",
    "    features_dict[index]={}"
   ]
  },
  {
   "cell_type": "code",
   "execution_count": 56,
   "metadata": {},
   "outputs": [],
   "source": [
    "#features_dict"
   ]
  },
  {
   "cell_type": "code",
   "execution_count": 57,
   "metadata": {},
   "outputs": [],
   "source": [
    "from matminer.featurizers.structure import BondFractions"
   ]
  },
  {
   "cell_type": "markdown",
   "metadata": {},
   "source": [
    "***BondFractions:*** *Compute the fraction of each bond in a structure, based on NearestNeighbors.*\n",
    "\n",
    "*For example, in a structure with 2 Li-O bonds and 3 Li-P bonds: Li-0: 0.4 Li-P: 0.6*\n",
    "\n",
    "***Ref: https://pubs.acs.org/doi/10.1021/acs.jpclett.5b00831***"
   ]
  },
  {
   "cell_type": "code",
   "execution_count": 58,
   "metadata": {},
   "outputs": [
    {
     "name": "stderr",
     "output_type": "stream",
     "text": [
      "/Users/mohammad/anaconda3/lib/python3.7/site-packages/pymatgen/analysis/local_env.py:4136: UserWarning: No oxidation states specified on sites! For better results, set the site oxidation states in the structure.\n",
      "  \"No oxidation states specified on sites! For better results, set \"\n",
      "/Users/mohammad/anaconda3/lib/python3.7/site-packages/pymatgen/analysis/local_env.py:3939: UserWarning: CrystalNN: cannot locate an appropriate radius, covalent or atomic radii will be used, this can lead to non-optimal results.\n",
      "  \"CrystalNN: cannot locate an appropriate radius, \"\n"
     ]
    },
    {
     "ename": "KeyboardInterrupt",
     "evalue": "",
     "output_type": "error",
     "traceback": [
      "\u001b[0;31m---------------------------------------------------------------------------\u001b[0m",
      "\u001b[0;31mKeyboardInterrupt\u001b[0m                         Traceback (most recent call last)",
      "\u001b[0;32m<ipython-input-58-b31064eadbaa>\u001b[0m in \u001b[0;36m<module>\u001b[0;34m\u001b[0m\n\u001b[1;32m      5\u001b[0m \u001b[0;32mfor\u001b[0m \u001b[0mindex\u001b[0m\u001b[0;34m,\u001b[0m\u001b[0mrow\u001b[0m \u001b[0;32min\u001b[0m \u001b[0mdata\u001b[0m\u001b[0;34m.\u001b[0m\u001b[0miterrows\u001b[0m\u001b[0;34m(\u001b[0m\u001b[0;34m)\u001b[0m\u001b[0;34m:\u001b[0m\u001b[0;34m\u001b[0m\u001b[0;34m\u001b[0m\u001b[0m\n\u001b[1;32m      6\u001b[0m     \u001b[0mstructure\u001b[0m\u001b[0;34m=\u001b[0m\u001b[0mrow\u001b[0m\u001b[0;34m[\u001b[0m\u001b[0;34m\"structure\"\u001b[0m\u001b[0;34m]\u001b[0m\u001b[0;34m\u001b[0m\u001b[0;34m\u001b[0m\u001b[0m\n\u001b[0;32m----> 7\u001b[0;31m     \u001b[0mfeat\u001b[0m\u001b[0;34m=\u001b[0m\u001b[0mBD\u001b[0m\u001b[0;34m.\u001b[0m\u001b[0mfeaturize\u001b[0m\u001b[0;34m(\u001b[0m\u001b[0mstructure\u001b[0m\u001b[0;34m)\u001b[0m\u001b[0;34m\u001b[0m\u001b[0;34m\u001b[0m\u001b[0m\n\u001b[0m\u001b[1;32m      8\u001b[0m     \u001b[0mfeatures_dict\u001b[0m\u001b[0;34m[\u001b[0m\u001b[0mindex\u001b[0m\u001b[0;34m]\u001b[0m\u001b[0;34m.\u001b[0m\u001b[0mupdate\u001b[0m\u001b[0;34m(\u001b[0m\u001b[0mdict\u001b[0m\u001b[0;34m(\u001b[0m\u001b[0mzip\u001b[0m\u001b[0;34m(\u001b[0m\u001b[0mcolnames\u001b[0m\u001b[0;34m,\u001b[0m \u001b[0mfeat\u001b[0m\u001b[0;34m)\u001b[0m\u001b[0;34m)\u001b[0m\u001b[0;34m)\u001b[0m\u001b[0;34m\u001b[0m\u001b[0;34m\u001b[0m\u001b[0m\n",
      "\u001b[0;32m~/anaconda3/lib/python3.7/site-packages/matminer/featurizers/structure/bonding.py\u001b[0m in \u001b[0;36mfeaturize\u001b[0;34m(self, s)\u001b[0m\n\u001b[1;32m    247\u001b[0m \u001b[0;34m\u001b[0m\u001b[0m\n\u001b[1;32m    248\u001b[0m         \u001b[0;32mfor\u001b[0m \u001b[0mi\u001b[0m\u001b[0;34m,\u001b[0m \u001b[0m_\u001b[0m \u001b[0;32min\u001b[0m \u001b[0menumerate\u001b[0m\u001b[0;34m(\u001b[0m\u001b[0ms\u001b[0m\u001b[0;34m.\u001b[0m\u001b[0msites\u001b[0m\u001b[0;34m)\u001b[0m\u001b[0;34m:\u001b[0m\u001b[0;34m\u001b[0m\u001b[0;34m\u001b[0m\u001b[0m\n\u001b[0;32m--> 249\u001b[0;31m             \u001b[0mnearest\u001b[0m \u001b[0;34m=\u001b[0m \u001b[0mself\u001b[0m\u001b[0;34m.\u001b[0m\u001b[0mnn\u001b[0m\u001b[0;34m.\u001b[0m\u001b[0mget_nn\u001b[0m\u001b[0;34m(\u001b[0m\u001b[0ms\u001b[0m\u001b[0;34m,\u001b[0m \u001b[0mi\u001b[0m\u001b[0;34m)\u001b[0m\u001b[0;34m\u001b[0m\u001b[0;34m\u001b[0m\u001b[0m\n\u001b[0m\u001b[1;32m    250\u001b[0m             \u001b[0morigin\u001b[0m \u001b[0;34m=\u001b[0m \u001b[0ms\u001b[0m\u001b[0;34m.\u001b[0m\u001b[0msites\u001b[0m\u001b[0;34m[\u001b[0m\u001b[0mi\u001b[0m\u001b[0;34m]\u001b[0m\u001b[0;34m.\u001b[0m\u001b[0mspecie\u001b[0m\u001b[0;34m\u001b[0m\u001b[0;34m\u001b[0m\u001b[0m\n\u001b[1;32m    251\u001b[0m \u001b[0;34m\u001b[0m\u001b[0m\n",
      "\u001b[0;32m~/anaconda3/lib/python3.7/site-packages/pymatgen/analysis/local_env.py\u001b[0m in \u001b[0;36mget_nn\u001b[0;34m(self, structure, n)\u001b[0m\n\u001b[1;32m    310\u001b[0m         \"\"\"\n\u001b[1;32m    311\u001b[0m \u001b[0;34m\u001b[0m\u001b[0m\n\u001b[0;32m--> 312\u001b[0;31m         \u001b[0;32mreturn\u001b[0m \u001b[0;34m[\u001b[0m\u001b[0me\u001b[0m\u001b[0;34m[\u001b[0m\u001b[0;34m\"site\"\u001b[0m\u001b[0;34m]\u001b[0m \u001b[0;32mfor\u001b[0m \u001b[0me\u001b[0m \u001b[0;32min\u001b[0m \u001b[0mself\u001b[0m\u001b[0;34m.\u001b[0m\u001b[0mget_nn_info\u001b[0m\u001b[0;34m(\u001b[0m\u001b[0mstructure\u001b[0m\u001b[0;34m,\u001b[0m \u001b[0mn\u001b[0m\u001b[0;34m)\u001b[0m\u001b[0;34m]\u001b[0m\u001b[0;34m\u001b[0m\u001b[0;34m\u001b[0m\u001b[0m\n\u001b[0m\u001b[1;32m    313\u001b[0m \u001b[0;34m\u001b[0m\u001b[0m\n\u001b[1;32m    314\u001b[0m     \u001b[0;32mdef\u001b[0m \u001b[0mget_weights_of_nn_sites\u001b[0m\u001b[0;34m(\u001b[0m\u001b[0mself\u001b[0m\u001b[0;34m,\u001b[0m \u001b[0mstructure\u001b[0m\u001b[0;34m,\u001b[0m \u001b[0mn\u001b[0m\u001b[0;34m)\u001b[0m\u001b[0;34m:\u001b[0m\u001b[0;34m\u001b[0m\u001b[0;34m\u001b[0m\u001b[0m\n",
      "\u001b[0;32m~/anaconda3/lib/python3.7/site-packages/pymatgen/analysis/local_env.py\u001b[0m in \u001b[0;36mget_nn_info\u001b[0;34m(self, structure, n)\u001b[0m\n\u001b[1;32m   3844\u001b[0m         \"\"\"\n\u001b[1;32m   3845\u001b[0m \u001b[0;34m\u001b[0m\u001b[0m\n\u001b[0;32m-> 3846\u001b[0;31m         \u001b[0mnndata\u001b[0m \u001b[0;34m=\u001b[0m \u001b[0mself\u001b[0m\u001b[0;34m.\u001b[0m\u001b[0mget_nn_data\u001b[0m\u001b[0;34m(\u001b[0m\u001b[0mstructure\u001b[0m\u001b[0;34m,\u001b[0m \u001b[0mn\u001b[0m\u001b[0;34m)\u001b[0m\u001b[0;34m\u001b[0m\u001b[0;34m\u001b[0m\u001b[0m\n\u001b[0m\u001b[1;32m   3847\u001b[0m \u001b[0;34m\u001b[0m\u001b[0m\n\u001b[1;32m   3848\u001b[0m         \u001b[0;32mif\u001b[0m \u001b[0;32mnot\u001b[0m \u001b[0mself\u001b[0m\u001b[0;34m.\u001b[0m\u001b[0mweighted_cn\u001b[0m\u001b[0;34m:\u001b[0m\u001b[0;34m\u001b[0m\u001b[0;34m\u001b[0m\u001b[0m\n",
      "\u001b[0;32m~/anaconda3/lib/python3.7/site-packages/pymatgen/analysis/local_env.py\u001b[0m in \u001b[0;36mget_nn_data\u001b[0;34m(self, structure, n, length)\u001b[0m\n\u001b[1;32m   3896\u001b[0m         \u001b[0mcutoff\u001b[0m \u001b[0;34m=\u001b[0m \u001b[0mself\u001b[0m\u001b[0;34m.\u001b[0m\u001b[0msearch_cutoff\u001b[0m\u001b[0;34m\u001b[0m\u001b[0;34m\u001b[0m\u001b[0m\n\u001b[1;32m   3897\u001b[0m         \u001b[0mvnn\u001b[0m \u001b[0;34m=\u001b[0m \u001b[0mVoronoiNN\u001b[0m\u001b[0;34m(\u001b[0m\u001b[0mweight\u001b[0m\u001b[0;34m=\u001b[0m\u001b[0;34m\"solid_angle\"\u001b[0m\u001b[0;34m,\u001b[0m \u001b[0mtargets\u001b[0m\u001b[0;34m=\u001b[0m\u001b[0mtarget\u001b[0m\u001b[0;34m,\u001b[0m \u001b[0mcutoff\u001b[0m\u001b[0;34m=\u001b[0m\u001b[0mcutoff\u001b[0m\u001b[0;34m)\u001b[0m\u001b[0;34m\u001b[0m\u001b[0;34m\u001b[0m\u001b[0m\n\u001b[0;32m-> 3898\u001b[0;31m         \u001b[0mnn\u001b[0m \u001b[0;34m=\u001b[0m \u001b[0mvnn\u001b[0m\u001b[0;34m.\u001b[0m\u001b[0mget_nn_info\u001b[0m\u001b[0;34m(\u001b[0m\u001b[0mstructure\u001b[0m\u001b[0;34m,\u001b[0m \u001b[0mn\u001b[0m\u001b[0;34m)\u001b[0m\u001b[0;34m\u001b[0m\u001b[0;34m\u001b[0m\u001b[0m\n\u001b[0m\u001b[1;32m   3899\u001b[0m \u001b[0;34m\u001b[0m\u001b[0m\n\u001b[1;32m   3900\u001b[0m         \u001b[0;31m# solid angle weights can be misleading in open / porous structures\u001b[0m\u001b[0;34m\u001b[0m\u001b[0;34m\u001b[0m\u001b[0;34m\u001b[0m\u001b[0m\n",
      "\u001b[0;32m~/anaconda3/lib/python3.7/site-packages/pymatgen/analysis/local_env.py\u001b[0m in \u001b[0;36mget_nn_info\u001b[0;34m(self, structure, n)\u001b[0m\n\u001b[1;32m    950\u001b[0m \u001b[0;34m\u001b[0m\u001b[0m\n\u001b[1;32m    951\u001b[0m         \u001b[0;31m# Run the tessellation\u001b[0m\u001b[0;34m\u001b[0m\u001b[0;34m\u001b[0m\u001b[0;34m\u001b[0m\u001b[0m\n\u001b[0;32m--> 952\u001b[0;31m         \u001b[0mnns\u001b[0m \u001b[0;34m=\u001b[0m \u001b[0mself\u001b[0m\u001b[0;34m.\u001b[0m\u001b[0mget_voronoi_polyhedra\u001b[0m\u001b[0;34m(\u001b[0m\u001b[0mstructure\u001b[0m\u001b[0;34m,\u001b[0m \u001b[0mn\u001b[0m\u001b[0;34m)\u001b[0m\u001b[0;34m\u001b[0m\u001b[0;34m\u001b[0m\u001b[0m\n\u001b[0m\u001b[1;32m    953\u001b[0m \u001b[0;34m\u001b[0m\u001b[0m\n\u001b[1;32m    954\u001b[0m         \u001b[0;31m# Extract the NN info\u001b[0m\u001b[0;34m\u001b[0m\u001b[0;34m\u001b[0m\u001b[0;34m\u001b[0m\u001b[0m\n",
      "\u001b[0;32m~/anaconda3/lib/python3.7/site-packages/pymatgen/analysis/local_env.py\u001b[0m in \u001b[0;36mget_voronoi_polyhedra\u001b[0;34m(self, structure, n)\u001b[0m\n\u001b[1;32m    720\u001b[0m \u001b[0;34m\u001b[0m\u001b[0m\n\u001b[1;32m    721\u001b[0m                 \u001b[0;31m# Extract data about the site in question\u001b[0m\u001b[0;34m\u001b[0m\u001b[0;34m\u001b[0m\u001b[0;34m\u001b[0m\u001b[0m\n\u001b[0;32m--> 722\u001b[0;31m                 \u001b[0mcell_info\u001b[0m \u001b[0;34m=\u001b[0m \u001b[0mself\u001b[0m\u001b[0;34m.\u001b[0m\u001b[0m_extract_cell_info\u001b[0m\u001b[0;34m(\u001b[0m\u001b[0mstructure\u001b[0m\u001b[0;34m,\u001b[0m \u001b[0;36m0\u001b[0m\u001b[0;34m,\u001b[0m \u001b[0mneighbors\u001b[0m\u001b[0;34m,\u001b[0m \u001b[0mtargets\u001b[0m\u001b[0;34m,\u001b[0m \u001b[0mvoro\u001b[0m\u001b[0;34m,\u001b[0m \u001b[0mself\u001b[0m\u001b[0;34m.\u001b[0m\u001b[0mcompute_adj_neighbors\u001b[0m\u001b[0;34m)\u001b[0m\u001b[0;34m\u001b[0m\u001b[0;34m\u001b[0m\u001b[0m\n\u001b[0m\u001b[1;32m    723\u001b[0m                 \u001b[0;32mbreak\u001b[0m\u001b[0;34m\u001b[0m\u001b[0;34m\u001b[0m\u001b[0m\n\u001b[1;32m    724\u001b[0m \u001b[0;34m\u001b[0m\u001b[0m\n",
      "\u001b[0;32m~/anaconda3/lib/python3.7/site-packages/pymatgen/analysis/local_env.py\u001b[0m in \u001b[0;36m_extract_cell_info\u001b[0;34m(self, structure, site_idx, sites, targets, voro, compute_adj_neighbors)\u001b[0m\n\u001b[1;32m    848\u001b[0m                 \u001b[0;31m# Get the solid angle of the face\u001b[0m\u001b[0;34m\u001b[0m\u001b[0;34m\u001b[0m\u001b[0;34m\u001b[0m\u001b[0m\n\u001b[1;32m    849\u001b[0m                 \u001b[0mfacets\u001b[0m \u001b[0;34m=\u001b[0m \u001b[0;34m[\u001b[0m\u001b[0mall_vertices\u001b[0m\u001b[0;34m[\u001b[0m\u001b[0mi\u001b[0m\u001b[0;34m]\u001b[0m \u001b[0;32mfor\u001b[0m \u001b[0mi\u001b[0m \u001b[0;32min\u001b[0m \u001b[0mvind\u001b[0m\u001b[0;34m]\u001b[0m\u001b[0;34m\u001b[0m\u001b[0;34m\u001b[0m\u001b[0m\n\u001b[0;32m--> 850\u001b[0;31m                 \u001b[0mangle\u001b[0m \u001b[0;34m=\u001b[0m \u001b[0msolid_angle\u001b[0m\u001b[0;34m(\u001b[0m\u001b[0mcenter_coords\u001b[0m\u001b[0;34m,\u001b[0m \u001b[0mfacets\u001b[0m\u001b[0;34m)\u001b[0m\u001b[0;34m\u001b[0m\u001b[0;34m\u001b[0m\u001b[0m\n\u001b[0m\u001b[1;32m    851\u001b[0m \u001b[0;34m\u001b[0m\u001b[0m\n\u001b[1;32m    852\u001b[0m                 \u001b[0;31m# Compute the volume of associated with this face\u001b[0m\u001b[0;34m\u001b[0m\u001b[0;34m\u001b[0m\u001b[0;34m\u001b[0m\u001b[0m\n",
      "\u001b[0;32m~/anaconda3/lib/python3.7/site-packages/pymatgen/analysis/local_env.py\u001b[0m in \u001b[0;36msolid_angle\u001b[0;34m(center, coords)\u001b[0m\n\u001b[1;32m   1929\u001b[0m             \u001b[0mmy_angle\u001b[0m \u001b[0;34m=\u001b[0m \u001b[0;36m0.5\u001b[0m \u001b[0;34m*\u001b[0m \u001b[0mpi\u001b[0m \u001b[0;32mif\u001b[0m \u001b[0mtp\u001b[0m \u001b[0;34m>\u001b[0m \u001b[0;36m0\u001b[0m \u001b[0;32melse\u001b[0m \u001b[0;34m-\u001b[0m\u001b[0;36m0.5\u001b[0m \u001b[0;34m*\u001b[0m \u001b[0mpi\u001b[0m\u001b[0;34m\u001b[0m\u001b[0;34m\u001b[0m\u001b[0m\n\u001b[1;32m   1930\u001b[0m         \u001b[0;32melse\u001b[0m\u001b[0;34m:\u001b[0m\u001b[0;34m\u001b[0m\u001b[0;34m\u001b[0m\u001b[0m\n\u001b[0;32m-> 1931\u001b[0;31m             \u001b[0mmy_angle\u001b[0m \u001b[0;34m=\u001b[0m \u001b[0mnp\u001b[0m\u001b[0;34m.\u001b[0m\u001b[0marctan\u001b[0m\u001b[0;34m(\u001b[0m\u001b[0mtp\u001b[0m \u001b[0;34m/\u001b[0m \u001b[0mde\u001b[0m\u001b[0;34m)\u001b[0m\u001b[0;34m\u001b[0m\u001b[0;34m\u001b[0m\u001b[0m\n\u001b[0m\u001b[1;32m   1932\u001b[0m         \u001b[0mangle\u001b[0m \u001b[0;34m+=\u001b[0m \u001b[0;34m(\u001b[0m\u001b[0mmy_angle\u001b[0m \u001b[0;32mif\u001b[0m \u001b[0mmy_angle\u001b[0m \u001b[0;34m>\u001b[0m \u001b[0;36m0\u001b[0m \u001b[0;32melse\u001b[0m \u001b[0mmy_angle\u001b[0m \u001b[0;34m+\u001b[0m \u001b[0mnp\u001b[0m\u001b[0;34m.\u001b[0m\u001b[0mpi\u001b[0m\u001b[0;34m)\u001b[0m \u001b[0;34m*\u001b[0m \u001b[0;36m2\u001b[0m\u001b[0;34m\u001b[0m\u001b[0;34m\u001b[0m\u001b[0m\n\u001b[1;32m   1933\u001b[0m \u001b[0;34m\u001b[0m\u001b[0m\n",
      "\u001b[0;31mKeyboardInterrupt\u001b[0m: "
     ]
    }
   ],
   "source": [
    "### Bond Fractions\n",
    "BD = BondFractions()\n",
    "BD.fit(list(data['structure']))\n",
    "colnames=BD._generate_column_labels(multiindex=False,return_errors=False)\n",
    "for index,row in data.iterrows():\n",
    "    structure=row[\"structure\"]\n",
    "    feat=BD.featurize(structure)\n",
    "    features_dict[index].update(dict(zip(colnames, feat)))"
   ]
  },
  {
   "cell_type": "code",
   "execution_count": null,
   "metadata": {},
   "outputs": [],
   "source": [
    "BD.citations()"
   ]
  },
  {
   "cell_type": "code",
   "execution_count": 5,
   "metadata": {},
   "outputs": [],
   "source": [
    "from matminer.featurizers.structure import BagofBonds"
   ]
  },
  {
   "cell_type": "markdown",
   "metadata": {},
   "source": [
    "***BagofBonds:*** \n",
    "\n",
    "*Compute a Bag of Bonds vector, as first described by Hansen et al. (2015).*\n",
    "\n",
    "*The Bag of Bonds approach is based creating an even-length vector from a Coulomb matrix output. Practically, it represents the Coloumbic interactions between each possible set of sites in a structure as a vector.*\n",
    "\n",
    "*BagofBonds must be fit to an iterable of structures using the “fit” method before featurization can occur. This is because the bags and the maximum lengths of each bag must be set prior to featurization. We recommend fitting and featurizing on the same data to maintain consistency between generated feature sets. This can be done using the fit_transform method (for lists of structures) or the fit_featurize_dataframe method (for dataframes).*\n",
    "\n",
    "***Ref: https://pubs.acs.org/doi/10.1021/acs.jpclett.5b00831***"
   ]
  },
  {
   "cell_type": "code",
   "execution_count": 179,
   "metadata": {},
   "outputs": [
    {
     "name": "stderr",
     "output_type": "stream",
     "text": [
      "/Users/mohammad/anaconda3/lib/python3.7/site-packages/numpy/lib/arraysetops.py:270: VisibleDeprecationWarning: Creating an ndarray from ragged nested sequences (which is a list-or-tuple of lists-or-tuples-or ndarrays with different lengths or shapes) is deprecated. If you meant to do this, you must specify 'dtype=object' when creating the ndarray.\n",
      "  ar = np.asanyarray(ar)\n"
     ]
    }
   ],
   "source": [
    "###Bag of Bonds vector\n",
    "BB = BagofBonds()\n",
    "BB.fit(list(data['structure']))\n",
    "colnames=BB._generate_column_labels(multiindex=False,return_errors=False)\n",
    "for index,row in data.iterrows():\n",
    "    structure=row[\"structure\"]\n",
    "    feat=BD.featurize(structure)\n",
    "    features_dict[index].update(dict(zip(colnames, feat)))"
   ]
  },
  {
   "cell_type": "code",
   "execution_count": 7,
   "metadata": {},
   "outputs": [
    {
     "data": {
      "text/plain": [
       "['@article{doi:10.1021/acs.jpclett.5b00831, author = {Hansen, Katja and Biegler, Franziska and Ramakrishnan, Raghunathan and Pronobis, Wiktorand von Lilienfeld, O. Anatole and Muller, Klaus-Robert andTkatchenko, Alexandre},title = {Machine Learning Predictions of Molecular Properties: Accurate Many-Body Potentials and Nonlocality in Chemical Space},journal = {The Journal of Physical Chemistry Letters},volume = {6},number = {12},pages = {2326-2331},year = {2015},doi = {10.1021/acs.jpclett.5b00831}, note ={PMID: 26113956},URL = {http://dx.doi.org/10.1021/acs.jpclett.5b00831}}']"
      ]
     },
     "execution_count": 7,
     "metadata": {},
     "output_type": "execute_result"
    }
   ],
   "source": [
    "BB.citations()"
   ]
  },
  {
   "cell_type": "code",
   "execution_count": 180,
   "metadata": {},
   "outputs": [
    {
     "data": {
      "text/html": [
       "<div>\n",
       "<style scoped>\n",
       "    .dataframe tbody tr th:only-of-type {\n",
       "        vertical-align: middle;\n",
       "    }\n",
       "\n",
       "    .dataframe tbody tr th {\n",
       "        vertical-align: top;\n",
       "    }\n",
       "\n",
       "    .dataframe thead th {\n",
       "        text-align: right;\n",
       "    }\n",
       "</style>\n",
       "<table border=\"1\" class=\"dataframe\">\n",
       "  <thead>\n",
       "    <tr style=\"text-align: right;\">\n",
       "      <th></th>\n",
       "      <th>Ag - Ag bond frac.</th>\n",
       "      <th>Ag - As bond frac.</th>\n",
       "      <th>Ag - Au bond frac.</th>\n",
       "      <th>Ag - B bond frac.</th>\n",
       "      <th>Ag - Bi bond frac.</th>\n",
       "      <th>Ag - Br bond frac.</th>\n",
       "      <th>Ag - C bond frac.</th>\n",
       "      <th>Ag - Cl bond frac.</th>\n",
       "      <th>Ag - Cr bond frac.</th>\n",
       "      <th>Ag - Cu bond frac.</th>\n",
       "      <th>...</th>\n",
       "      <th>Mn site #0</th>\n",
       "      <th>Mn site #1</th>\n",
       "      <th>Mn site #2</th>\n",
       "      <th>Mn site #3</th>\n",
       "      <th>Mn site #4</th>\n",
       "      <th>Mn site #5</th>\n",
       "      <th>Mn site #6</th>\n",
       "      <th>Mn site #7</th>\n",
       "      <th>Mn - Tl bond #0</th>\n",
       "      <th>Mn - Tl bond #1</th>\n",
       "    </tr>\n",
       "  </thead>\n",
       "  <tbody>\n",
       "    <tr>\n",
       "      <th>0</th>\n",
       "      <td>0.0</td>\n",
       "      <td>0.0</td>\n",
       "      <td>0.0</td>\n",
       "      <td>0.0</td>\n",
       "      <td>0.0</td>\n",
       "      <td>0.0</td>\n",
       "      <td>0.0</td>\n",
       "      <td>0.0</td>\n",
       "      <td>0.0</td>\n",
       "      <td>0.0</td>\n",
       "      <td>...</td>\n",
       "      <td>0.0</td>\n",
       "      <td>0.0</td>\n",
       "      <td>0.0</td>\n",
       "      <td>0.0</td>\n",
       "      <td>0.0</td>\n",
       "      <td>0.0</td>\n",
       "      <td>0.0</td>\n",
       "      <td>0.0</td>\n",
       "      <td>0.0</td>\n",
       "      <td>0.0</td>\n",
       "    </tr>\n",
       "    <tr>\n",
       "      <th>1</th>\n",
       "      <td>0.0</td>\n",
       "      <td>0.0</td>\n",
       "      <td>0.0</td>\n",
       "      <td>0.0</td>\n",
       "      <td>0.0</td>\n",
       "      <td>0.0</td>\n",
       "      <td>0.0</td>\n",
       "      <td>0.0</td>\n",
       "      <td>0.0</td>\n",
       "      <td>0.0</td>\n",
       "      <td>...</td>\n",
       "      <td>0.0</td>\n",
       "      <td>0.0</td>\n",
       "      <td>0.0</td>\n",
       "      <td>0.0</td>\n",
       "      <td>0.0</td>\n",
       "      <td>0.0</td>\n",
       "      <td>0.0</td>\n",
       "      <td>0.0</td>\n",
       "      <td>0.0</td>\n",
       "      <td>0.0</td>\n",
       "    </tr>\n",
       "    <tr>\n",
       "      <th>2</th>\n",
       "      <td>0.0</td>\n",
       "      <td>0.0</td>\n",
       "      <td>0.0</td>\n",
       "      <td>0.0</td>\n",
       "      <td>0.0</td>\n",
       "      <td>0.0</td>\n",
       "      <td>0.0</td>\n",
       "      <td>0.0</td>\n",
       "      <td>0.0</td>\n",
       "      <td>0.0</td>\n",
       "      <td>...</td>\n",
       "      <td>0.0</td>\n",
       "      <td>0.0</td>\n",
       "      <td>0.0</td>\n",
       "      <td>0.0</td>\n",
       "      <td>0.0</td>\n",
       "      <td>0.0</td>\n",
       "      <td>0.0</td>\n",
       "      <td>0.0</td>\n",
       "      <td>0.0</td>\n",
       "      <td>0.0</td>\n",
       "    </tr>\n",
       "    <tr>\n",
       "      <th>3</th>\n",
       "      <td>0.0</td>\n",
       "      <td>0.0</td>\n",
       "      <td>0.0</td>\n",
       "      <td>0.0</td>\n",
       "      <td>0.0</td>\n",
       "      <td>0.0</td>\n",
       "      <td>0.0</td>\n",
       "      <td>0.0</td>\n",
       "      <td>0.0</td>\n",
       "      <td>0.0</td>\n",
       "      <td>...</td>\n",
       "      <td>0.0</td>\n",
       "      <td>0.0</td>\n",
       "      <td>0.0</td>\n",
       "      <td>0.0</td>\n",
       "      <td>0.0</td>\n",
       "      <td>0.0</td>\n",
       "      <td>0.0</td>\n",
       "      <td>0.0</td>\n",
       "      <td>0.0</td>\n",
       "      <td>0.0</td>\n",
       "    </tr>\n",
       "    <tr>\n",
       "      <th>4</th>\n",
       "      <td>0.0</td>\n",
       "      <td>0.0</td>\n",
       "      <td>0.0</td>\n",
       "      <td>0.0</td>\n",
       "      <td>0.0</td>\n",
       "      <td>0.0</td>\n",
       "      <td>0.0</td>\n",
       "      <td>0.0</td>\n",
       "      <td>0.0</td>\n",
       "      <td>0.0</td>\n",
       "      <td>...</td>\n",
       "      <td>0.0</td>\n",
       "      <td>0.0</td>\n",
       "      <td>0.0</td>\n",
       "      <td>0.0</td>\n",
       "      <td>0.0</td>\n",
       "      <td>0.0</td>\n",
       "      <td>0.0</td>\n",
       "      <td>0.0</td>\n",
       "      <td>0.0</td>\n",
       "      <td>0.0</td>\n",
       "    </tr>\n",
       "  </tbody>\n",
       "</table>\n",
       "<p>5 rows × 2676 columns</p>\n",
       "</div>"
      ],
      "text/plain": [
       "   Ag - Ag bond frac.  Ag - As bond frac.  Ag - Au bond frac.  \\\n",
       "0                 0.0                 0.0                 0.0   \n",
       "1                 0.0                 0.0                 0.0   \n",
       "2                 0.0                 0.0                 0.0   \n",
       "3                 0.0                 0.0                 0.0   \n",
       "4                 0.0                 0.0                 0.0   \n",
       "\n",
       "   Ag - B bond frac.  Ag - Bi bond frac.  Ag - Br bond frac.  \\\n",
       "0                0.0                 0.0                 0.0   \n",
       "1                0.0                 0.0                 0.0   \n",
       "2                0.0                 0.0                 0.0   \n",
       "3                0.0                 0.0                 0.0   \n",
       "4                0.0                 0.0                 0.0   \n",
       "\n",
       "   Ag - C bond frac.  Ag - Cl bond frac.  Ag - Cr bond frac.  \\\n",
       "0                0.0                 0.0                 0.0   \n",
       "1                0.0                 0.0                 0.0   \n",
       "2                0.0                 0.0                 0.0   \n",
       "3                0.0                 0.0                 0.0   \n",
       "4                0.0                 0.0                 0.0   \n",
       "\n",
       "   Ag - Cu bond frac.  ...  Mn site #0  Mn site #1  Mn site #2  Mn site #3  \\\n",
       "0                 0.0  ...         0.0         0.0         0.0         0.0   \n",
       "1                 0.0  ...         0.0         0.0         0.0         0.0   \n",
       "2                 0.0  ...         0.0         0.0         0.0         0.0   \n",
       "3                 0.0  ...         0.0         0.0         0.0         0.0   \n",
       "4                 0.0  ...         0.0         0.0         0.0         0.0   \n",
       "\n",
       "   Mn site #4  Mn site #5  Mn site #6  Mn site #7  Mn - Tl bond #0  \\\n",
       "0         0.0         0.0         0.0         0.0              0.0   \n",
       "1         0.0         0.0         0.0         0.0              0.0   \n",
       "2         0.0         0.0         0.0         0.0              0.0   \n",
       "3         0.0         0.0         0.0         0.0              0.0   \n",
       "4         0.0         0.0         0.0         0.0              0.0   \n",
       "\n",
       "   Mn - Tl bond #1  \n",
       "0              0.0  \n",
       "1              0.0  \n",
       "2              0.0  \n",
       "3              0.0  \n",
       "4              0.0  \n",
       "\n",
       "[5 rows x 2676 columns]"
      ]
     },
     "execution_count": 180,
     "metadata": {},
     "output_type": "execute_result"
    }
   ],
   "source": [
    "df_features=pd.DataFrame.from_dict(features_dict).T.astype(float)\n",
    "df_features.head()"
   ]
  },
  {
   "cell_type": "code",
   "execution_count": 328,
   "metadata": {},
   "outputs": [],
   "source": [
    "df_features.to_pickle(\"pickle_files/Features_BondFractions_BagofBonds.pkl\")"
   ]
  },
  {
   "cell_type": "code",
   "execution_count": 3,
   "metadata": {},
   "outputs": [],
   "source": [
    "df_features = pd.read_pickle(\"pickle_files/Features_BondFractions_BagofBonds.pkl\")"
   ]
  },
  {
   "cell_type": "code",
   "execution_count": 4,
   "metadata": {},
   "outputs": [],
   "source": [
    "features_MultipleFeaturizer = pd.read_pickle(\"pickle_files/features_MultipleFeaturizer.pkl\")"
   ]
  },
  {
   "cell_type": "markdown",
   "metadata": {},
   "source": [
    "***First we check what would happen if we only use these two as features:***"
   ]
  },
  {
   "cell_type": "code",
   "execution_count": 12,
   "metadata": {},
   "outputs": [],
   "source": [
    "df = df_features.copy()"
   ]
  },
  {
   "cell_type": "code",
   "execution_count": 41,
   "metadata": {},
   "outputs": [
    {
     "data": {
      "text/html": [
       "<div>\n",
       "<style scoped>\n",
       "    .dataframe tbody tr th:only-of-type {\n",
       "        vertical-align: middle;\n",
       "    }\n",
       "\n",
       "    .dataframe tbody tr th {\n",
       "        vertical-align: top;\n",
       "    }\n",
       "\n",
       "    .dataframe thead th {\n",
       "        text-align: right;\n",
       "    }\n",
       "</style>\n",
       "<table border=\"1\" class=\"dataframe\">\n",
       "  <thead>\n",
       "    <tr style=\"text-align: right;\">\n",
       "      <th></th>\n",
       "      <th>Ag - Ag bond frac.</th>\n",
       "      <th>Ag - As bond frac.</th>\n",
       "      <th>Ag - Au bond frac.</th>\n",
       "      <th>Ag - B bond frac.</th>\n",
       "      <th>Ag - Bi bond frac.</th>\n",
       "      <th>Ag - Br bond frac.</th>\n",
       "      <th>Ag - C bond frac.</th>\n",
       "      <th>Ag - Cl bond frac.</th>\n",
       "      <th>Ag - Cr bond frac.</th>\n",
       "      <th>Ag - Cu bond frac.</th>\n",
       "      <th>...</th>\n",
       "      <th>Mn site #1</th>\n",
       "      <th>Mn site #2</th>\n",
       "      <th>Mn site #3</th>\n",
       "      <th>Mn site #4</th>\n",
       "      <th>Mn site #5</th>\n",
       "      <th>Mn site #6</th>\n",
       "      <th>Mn site #7</th>\n",
       "      <th>Mn - Tl bond #0</th>\n",
       "      <th>Mn - Tl bond #1</th>\n",
       "      <th>label</th>\n",
       "    </tr>\n",
       "  </thead>\n",
       "  <tbody>\n",
       "    <tr>\n",
       "      <th>0</th>\n",
       "      <td>0.0</td>\n",
       "      <td>0.0</td>\n",
       "      <td>0.0</td>\n",
       "      <td>0.0</td>\n",
       "      <td>0.0</td>\n",
       "      <td>0.0</td>\n",
       "      <td>0.0</td>\n",
       "      <td>0.0</td>\n",
       "      <td>0.0</td>\n",
       "      <td>0.0</td>\n",
       "      <td>...</td>\n",
       "      <td>0.0</td>\n",
       "      <td>0.0</td>\n",
       "      <td>0.0</td>\n",
       "      <td>0.0</td>\n",
       "      <td>0.0</td>\n",
       "      <td>0.0</td>\n",
       "      <td>0.0</td>\n",
       "      <td>0.0</td>\n",
       "      <td>0.0</td>\n",
       "      <td>1</td>\n",
       "    </tr>\n",
       "    <tr>\n",
       "      <th>1</th>\n",
       "      <td>0.0</td>\n",
       "      <td>0.0</td>\n",
       "      <td>0.0</td>\n",
       "      <td>0.0</td>\n",
       "      <td>0.0</td>\n",
       "      <td>0.0</td>\n",
       "      <td>0.0</td>\n",
       "      <td>0.0</td>\n",
       "      <td>0.0</td>\n",
       "      <td>0.0</td>\n",
       "      <td>...</td>\n",
       "      <td>0.0</td>\n",
       "      <td>0.0</td>\n",
       "      <td>0.0</td>\n",
       "      <td>0.0</td>\n",
       "      <td>0.0</td>\n",
       "      <td>0.0</td>\n",
       "      <td>0.0</td>\n",
       "      <td>0.0</td>\n",
       "      <td>0.0</td>\n",
       "      <td>1</td>\n",
       "    </tr>\n",
       "    <tr>\n",
       "      <th>2</th>\n",
       "      <td>0.0</td>\n",
       "      <td>0.0</td>\n",
       "      <td>0.0</td>\n",
       "      <td>0.0</td>\n",
       "      <td>0.0</td>\n",
       "      <td>0.0</td>\n",
       "      <td>0.0</td>\n",
       "      <td>0.0</td>\n",
       "      <td>0.0</td>\n",
       "      <td>0.0</td>\n",
       "      <td>...</td>\n",
       "      <td>0.0</td>\n",
       "      <td>0.0</td>\n",
       "      <td>0.0</td>\n",
       "      <td>0.0</td>\n",
       "      <td>0.0</td>\n",
       "      <td>0.0</td>\n",
       "      <td>0.0</td>\n",
       "      <td>0.0</td>\n",
       "      <td>0.0</td>\n",
       "      <td>1</td>\n",
       "    </tr>\n",
       "    <tr>\n",
       "      <th>3</th>\n",
       "      <td>0.0</td>\n",
       "      <td>0.0</td>\n",
       "      <td>0.0</td>\n",
       "      <td>0.0</td>\n",
       "      <td>0.0</td>\n",
       "      <td>0.0</td>\n",
       "      <td>0.0</td>\n",
       "      <td>0.0</td>\n",
       "      <td>0.0</td>\n",
       "      <td>0.0</td>\n",
       "      <td>...</td>\n",
       "      <td>0.0</td>\n",
       "      <td>0.0</td>\n",
       "      <td>0.0</td>\n",
       "      <td>0.0</td>\n",
       "      <td>0.0</td>\n",
       "      <td>0.0</td>\n",
       "      <td>0.0</td>\n",
       "      <td>0.0</td>\n",
       "      <td>0.0</td>\n",
       "      <td>1</td>\n",
       "    </tr>\n",
       "    <tr>\n",
       "      <th>4</th>\n",
       "      <td>0.0</td>\n",
       "      <td>0.0</td>\n",
       "      <td>0.0</td>\n",
       "      <td>0.0</td>\n",
       "      <td>0.0</td>\n",
       "      <td>0.0</td>\n",
       "      <td>0.0</td>\n",
       "      <td>0.0</td>\n",
       "      <td>0.0</td>\n",
       "      <td>0.0</td>\n",
       "      <td>...</td>\n",
       "      <td>0.0</td>\n",
       "      <td>0.0</td>\n",
       "      <td>0.0</td>\n",
       "      <td>0.0</td>\n",
       "      <td>0.0</td>\n",
       "      <td>0.0</td>\n",
       "      <td>0.0</td>\n",
       "      <td>0.0</td>\n",
       "      <td>0.0</td>\n",
       "      <td>1</td>\n",
       "    </tr>\n",
       "  </tbody>\n",
       "</table>\n",
       "<p>5 rows × 2677 columns</p>\n",
       "</div>"
      ],
      "text/plain": [
       "   Ag - Ag bond frac.  Ag - As bond frac.  Ag - Au bond frac.  \\\n",
       "0                 0.0                 0.0                 0.0   \n",
       "1                 0.0                 0.0                 0.0   \n",
       "2                 0.0                 0.0                 0.0   \n",
       "3                 0.0                 0.0                 0.0   \n",
       "4                 0.0                 0.0                 0.0   \n",
       "\n",
       "   Ag - B bond frac.  Ag - Bi bond frac.  Ag - Br bond frac.  \\\n",
       "0                0.0                 0.0                 0.0   \n",
       "1                0.0                 0.0                 0.0   \n",
       "2                0.0                 0.0                 0.0   \n",
       "3                0.0                 0.0                 0.0   \n",
       "4                0.0                 0.0                 0.0   \n",
       "\n",
       "   Ag - C bond frac.  Ag - Cl bond frac.  Ag - Cr bond frac.  \\\n",
       "0                0.0                 0.0                 0.0   \n",
       "1                0.0                 0.0                 0.0   \n",
       "2                0.0                 0.0                 0.0   \n",
       "3                0.0                 0.0                 0.0   \n",
       "4                0.0                 0.0                 0.0   \n",
       "\n",
       "   Ag - Cu bond frac.  ...  Mn site #1  Mn site #2  Mn site #3  Mn site #4  \\\n",
       "0                 0.0  ...         0.0         0.0         0.0         0.0   \n",
       "1                 0.0  ...         0.0         0.0         0.0         0.0   \n",
       "2                 0.0  ...         0.0         0.0         0.0         0.0   \n",
       "3                 0.0  ...         0.0         0.0         0.0         0.0   \n",
       "4                 0.0  ...         0.0         0.0         0.0         0.0   \n",
       "\n",
       "   Mn site #5  Mn site #6  Mn site #7  Mn - Tl bond #0  Mn - Tl bond #1  label  \n",
       "0         0.0         0.0         0.0              0.0              0.0      1  \n",
       "1         0.0         0.0         0.0              0.0              0.0      1  \n",
       "2         0.0         0.0         0.0              0.0              0.0      1  \n",
       "3         0.0         0.0         0.0              0.0              0.0      1  \n",
       "4         0.0         0.0         0.0              0.0              0.0      1  \n",
       "\n",
       "[5 rows x 2677 columns]"
      ]
     },
     "execution_count": 41,
     "metadata": {},
     "output_type": "execute_result"
    }
   ],
   "source": [
    "df.head()"
   ]
  },
  {
   "cell_type": "code",
   "execution_count": 14,
   "metadata": {},
   "outputs": [],
   "source": [
    "df = pd.concat([df, features_MultipleFeaturizer['label']], axis = 1)"
   ]
  },
  {
   "cell_type": "code",
   "execution_count": 16,
   "metadata": {},
   "outputs": [
    {
     "name": "stdout",
     "output_type": "stream",
     "text": [
      "Input data shape: (2392, 2676)\n"
     ]
    }
   ],
   "source": [
    "X = np.array(df.drop('label', axis = 1))\n",
    "y = df['label']\n",
    "print('Input data shape:', X.shape)"
   ]
  },
  {
   "cell_type": "code",
   "execution_count": 17,
   "metadata": {},
   "outputs": [
    {
     "name": "stdout",
     "output_type": "stream",
     "text": [
      "Number failed: 0/2392\n"
     ]
    }
   ],
   "source": [
    "import pandas as pd\n",
    "failed = np.any(pd.isnull(X), axis=1)\n",
    "print('Number failed: {}/{}'.format(np.sum(failed), len(failed)))"
   ]
  },
  {
   "cell_type": "code",
   "execution_count": 18,
   "metadata": {},
   "outputs": [],
   "source": [
    "df = df.dropna()\n",
    "df.replace(to_replace='PE', value='EE', inplace=True)\n",
    "df.replace(to_replace='EE', value=1, inplace=True)\n",
    "df.replace(to_replace='HBE', value=0, inplace=True)"
   ]
  },
  {
   "cell_type": "code",
   "execution_count": 19,
   "metadata": {},
   "outputs": [],
   "source": [
    "X = df.drop('label', axis = 1).values\n",
    "y = df['label'].values"
   ]
  },
  {
   "cell_type": "code",
   "execution_count": 20,
   "metadata": {},
   "outputs": [
    {
     "data": {
      "text/plain": [
       "array([[0., 0., 0., ..., 0., 0., 0.],\n",
       "       [0., 0., 0., ..., 0., 0., 0.],\n",
       "       [0., 0., 0., ..., 0., 0., 0.],\n",
       "       ...,\n",
       "       [0., 0., 0., ..., 0., 0., 0.],\n",
       "       [0., 0., 0., ..., 0., 0., 0.],\n",
       "       [0., 0., 0., ..., 0., 0., 0.]])"
      ]
     },
     "execution_count": 20,
     "metadata": {},
     "output_type": "execute_result"
    }
   ],
   "source": [
    "X"
   ]
  },
  {
   "cell_type": "code",
   "execution_count": 53,
   "metadata": {},
   "outputs": [],
   "source": [
    "from sklearn.model_selection import train_test_split"
   ]
  },
  {
   "cell_type": "code",
   "execution_count": 16,
   "metadata": {},
   "outputs": [],
   "source": [
    "X_train, X_test, y_train, y_test = train_test_split(X, y, test_size=0.3, random_state=101)"
   ]
  },
  {
   "cell_type": "code",
   "execution_count": 55,
   "metadata": {},
   "outputs": [],
   "source": [
    "from sklearn.ensemble import RandomForestClassifier"
   ]
  },
  {
   "cell_type": "code",
   "execution_count": 18,
   "metadata": {},
   "outputs": [
    {
     "data": {
      "text/plain": [
       "RandomForestClassifier(n_estimators=600)"
      ]
     },
     "execution_count": 18,
     "metadata": {},
     "output_type": "execute_result"
    }
   ],
   "source": [
    "RF = RandomForestClassifier(n_estimators=600)\n",
    "RF.fit(X_train,y_train)"
   ]
  },
  {
   "cell_type": "code",
   "execution_count": 19,
   "metadata": {},
   "outputs": [],
   "source": [
    "pred_RF = RF.predict(X_test)"
   ]
  },
  {
   "cell_type": "code",
   "execution_count": 58,
   "metadata": {},
   "outputs": [],
   "source": [
    "from sklearn.metrics import classification_report, confusion_matrix"
   ]
  },
  {
   "cell_type": "code",
   "execution_count": 25,
   "metadata": {},
   "outputs": [
    {
     "name": "stdout",
     "output_type": "stream",
     "text": [
      "              precision    recall  f1-score   support\n",
      "\n",
      "           0       0.60      0.50      0.55       167\n",
      "           1       0.86      0.90      0.88       551\n",
      "\n",
      "    accuracy                           0.81       718\n",
      "   macro avg       0.73      0.70      0.71       718\n",
      "weighted avg       0.80      0.81      0.80       718\n",
      "\n",
      "\n",
      "\n",
      "[[ 84  83]\n",
      " [ 55 496]]\n"
     ]
    }
   ],
   "source": [
    "print(classification_report(y_test, pred_RF))\n",
    "print(\"\\n\")\n",
    "print(confusion_matrix(y_test, pred_RF))"
   ]
  },
  {
   "cell_type": "markdown",
   "metadata": {},
   "source": [
    "***Let's combine these features with the Multifeaturizations***"
   ]
  },
  {
   "cell_type": "code",
   "execution_count": 26,
   "metadata": {},
   "outputs": [],
   "source": [
    "df = df_features.copy()"
   ]
  },
  {
   "cell_type": "code",
   "execution_count": 60,
   "metadata": {},
   "outputs": [],
   "source": [
    "features_MultipleFeaturizer = pd.read_pickle(\"features_MultipleFeaturizer.pkl\")"
   ]
  },
  {
   "cell_type": "code",
   "execution_count": 28,
   "metadata": {},
   "outputs": [],
   "source": [
    "df = pd.concat([df, features_MultipleFeaturizer], axis = 1)"
   ]
  },
  {
   "cell_type": "code",
   "execution_count": 29,
   "metadata": {},
   "outputs": [
    {
     "name": "stdout",
     "output_type": "stream",
     "text": [
      "Input data shape: (2392, 2949)\n"
     ]
    }
   ],
   "source": [
    "X = np.array(df.drop('label', axis = 1))\n",
    "y = df['label']\n",
    "print('Input data shape:', X.shape)"
   ]
  },
  {
   "cell_type": "code",
   "execution_count": 30,
   "metadata": {},
   "outputs": [
    {
     "name": "stdout",
     "output_type": "stream",
     "text": [
      "Number failed: 179/2392\n"
     ]
    }
   ],
   "source": [
    "import pandas as pd\n",
    "failed = np.any(pd.isnull(X), axis=1)\n",
    "print('Number failed: {}/{}'.format(np.sum(failed), len(failed)))"
   ]
  },
  {
   "cell_type": "code",
   "execution_count": 31,
   "metadata": {},
   "outputs": [],
   "source": [
    "%matplotlib inline\n",
    "from matplotlib import pyplot as plt\n",
    "from matminer.datasets import load_dataset\n",
    "from matminer.featurizers.base import MultipleFeaturizer\n",
    "from matminer.featurizers.composition import ElementProperty, Stoichiometry, ValenceOrbital, IonProperty\n",
    "from matminer.featurizers.structure import (SiteStatsFingerprint, StructuralHeterogeneity,\n",
    "                                            ChemicalOrdering, StructureComposition, MaximumPackingEfficiency)\n",
    "from matminer.featurizers.conversions import DictToObject\n",
    "from sklearn.ensemble import RandomForestClassifier\n",
    "from sklearn.model_selection import ShuffleSplit, train_test_split\n",
    "from sklearn.pipeline import Pipeline\n",
    "from sklearn.impute import SimpleImputer\n",
    "from scipy import stats\n",
    "from tqdm import tqdm_notebook as tqdm\n",
    "import numpy as np"
   ]
  },
  {
   "cell_type": "code",
   "execution_count": 32,
   "metadata": {},
   "outputs": [],
   "source": [
    "model = Pipeline([\n",
    "    ('imputer', SimpleImputer()), # For the failed structures\n",
    "    ('model', RandomForestClassifier(n_estimators=1000, n_jobs=-1))\n",
    "])"
   ]
  },
  {
   "cell_type": "code",
   "execution_count": 33,
   "metadata": {},
   "outputs": [],
   "source": [
    "X_train, X_test, y_train, y_test = train_test_split(X, y, test_size=0.3, random_state=101)"
   ]
  },
  {
   "cell_type": "code",
   "execution_count": 34,
   "metadata": {},
   "outputs": [
    {
     "data": {
      "text/plain": [
       "Pipeline(steps=[('imputer', SimpleImputer()),\n",
       "                ('model',\n",
       "                 RandomForestClassifier(n_estimators=1000, n_jobs=-1))])"
      ]
     },
     "execution_count": 34,
     "metadata": {},
     "output_type": "execute_result"
    }
   ],
   "source": [
    "model.fit(X_train,y_train)"
   ]
  },
  {
   "cell_type": "code",
   "execution_count": 73,
   "metadata": {},
   "outputs": [],
   "source": [
    "predictions = model.predict(X_test)"
   ]
  },
  {
   "cell_type": "code",
   "execution_count": 74,
   "metadata": {},
   "outputs": [],
   "source": [
    "from sklearn.metrics import classification_report, confusion_matrix"
   ]
  },
  {
   "cell_type": "code",
   "execution_count": 75,
   "metadata": {},
   "outputs": [
    {
     "name": "stdout",
     "output_type": "stream",
     "text": [
      "              precision    recall  f1-score   support\n",
      "\n",
      "          EE       0.83      0.86      0.84       341\n",
      "         HBE       0.72      0.69      0.71       167\n",
      "          PE       0.68      0.66      0.67       210\n",
      "\n",
      "    accuracy                           0.76       718\n",
      "   macro avg       0.74      0.74      0.74       718\n",
      "weighted avg       0.76      0.76      0.76       718\n",
      "\n",
      "\n",
      "\n",
      "[[292  19  30]\n",
      " [ 16 116  35]\n",
      " [ 45  26 139]]\n"
     ]
    }
   ],
   "source": [
    "print(classification_report(y_test,predictions))\n",
    "print('\\n')\n",
    "print(confusion_matrix(y_test,predictions))"
   ]
  },
  {
   "cell_type": "code",
   "execution_count": null,
   "metadata": {},
   "outputs": [],
   "source": []
  },
  {
   "cell_type": "markdown",
   "metadata": {},
   "source": [
    "***In case of binary classification***"
   ]
  },
  {
   "cell_type": "code",
   "execution_count": 35,
   "metadata": {},
   "outputs": [],
   "source": [
    "df = df.dropna()"
   ]
  },
  {
   "cell_type": "code",
   "execution_count": 36,
   "metadata": {},
   "outputs": [],
   "source": [
    "df.replace(to_replace='PE', value='EE', inplace=True)\n",
    "df.replace(to_replace='EE', value=1, inplace=True)\n",
    "df.replace(to_replace='HBE', value=0, inplace=True)"
   ]
  },
  {
   "cell_type": "code",
   "execution_count": 37,
   "metadata": {},
   "outputs": [],
   "source": [
    "X = df.drop('label', axis = 1).values\n",
    "y = df['label'].values"
   ]
  },
  {
   "cell_type": "code",
   "execution_count": 38,
   "metadata": {},
   "outputs": [],
   "source": [
    "X_train, X_test, y_train, y_test = train_test_split(X, y, test_size=0.3, random_state=101)"
   ]
  },
  {
   "cell_type": "code",
   "execution_count": null,
   "metadata": {},
   "outputs": [],
   "source": []
  },
  {
   "cell_type": "markdown",
   "metadata": {},
   "source": [
    "***Logestic Regression***"
   ]
  },
  {
   "cell_type": "code",
   "execution_count": 80,
   "metadata": {},
   "outputs": [],
   "source": [
    "from sklearn.linear_model import LogisticRegression"
   ]
  },
  {
   "cell_type": "code",
   "execution_count": 81,
   "metadata": {},
   "outputs": [],
   "source": [
    "logmodel = LogisticRegression()"
   ]
  },
  {
   "cell_type": "code",
   "execution_count": 82,
   "metadata": {},
   "outputs": [
    {
     "name": "stderr",
     "output_type": "stream",
     "text": [
      "/home/mvahdat/anaconda3/lib/python3.7/site-packages/sklearn/linear_model/_logistic.py:765: ConvergenceWarning: lbfgs failed to converge (status=1):\n",
      "STOP: TOTAL NO. of ITERATIONS REACHED LIMIT.\n",
      "\n",
      "Increase the number of iterations (max_iter) or scale the data as shown in:\n",
      "    https://scikit-learn.org/stable/modules/preprocessing.html\n",
      "Please also refer to the documentation for alternative solver options:\n",
      "    https://scikit-learn.org/stable/modules/linear_model.html#logistic-regression\n",
      "  extra_warning_msg=_LOGISTIC_SOLVER_CONVERGENCE_MSG)\n"
     ]
    },
    {
     "data": {
      "text/plain": [
       "LogisticRegression()"
      ]
     },
     "execution_count": 82,
     "metadata": {},
     "output_type": "execute_result"
    }
   ],
   "source": [
    "logmodel.fit(X_train,y_train)"
   ]
  },
  {
   "cell_type": "code",
   "execution_count": 83,
   "metadata": {},
   "outputs": [],
   "source": [
    "predictions = logmodel.predict(X_test)"
   ]
  },
  {
   "cell_type": "markdown",
   "metadata": {},
   "source": [
    "***Evaluation Logestic Regression***"
   ]
  },
  {
   "cell_type": "code",
   "execution_count": 84,
   "metadata": {},
   "outputs": [],
   "source": [
    "from sklearn.metrics import classification_report"
   ]
  },
  {
   "cell_type": "code",
   "execution_count": 85,
   "metadata": {},
   "outputs": [
    {
     "name": "stdout",
     "output_type": "stream",
     "text": [
      "              precision    recall  f1-score   support\n",
      "\n",
      "           0       0.63      0.35      0.45       139\n",
      "           1       0.85      0.95      0.89       525\n",
      "\n",
      "    accuracy                           0.82       664\n",
      "   macro avg       0.74      0.65      0.67       664\n",
      "weighted avg       0.80      0.82      0.80       664\n",
      "\n",
      "\n",
      "\n",
      "[[ 48  91]\n",
      " [ 28 497]]\n"
     ]
    }
   ],
   "source": [
    "print(classification_report(y_test,predictions))\n",
    "print('\\n')\n",
    "print(confusion_matrix(y_test,predictions))"
   ]
  },
  {
   "cell_type": "code",
   "execution_count": null,
   "metadata": {},
   "outputs": [],
   "source": []
  },
  {
   "cell_type": "markdown",
   "metadata": {},
   "source": [
    "***Decision Tree***"
   ]
  },
  {
   "cell_type": "code",
   "execution_count": 86,
   "metadata": {},
   "outputs": [],
   "source": [
    "from sklearn.tree import DecisionTreeClassifier"
   ]
  },
  {
   "cell_type": "code",
   "execution_count": 87,
   "metadata": {},
   "outputs": [
    {
     "data": {
      "text/plain": [
       "DecisionTreeClassifier()"
      ]
     },
     "execution_count": 87,
     "metadata": {},
     "output_type": "execute_result"
    }
   ],
   "source": [
    "dtree = DecisionTreeClassifier()\n",
    "dtree.fit(X_train,y_train)"
   ]
  },
  {
   "cell_type": "code",
   "execution_count": 88,
   "metadata": {},
   "outputs": [],
   "source": [
    "predictions = dtree.predict(X_test)"
   ]
  },
  {
   "cell_type": "code",
   "execution_count": 89,
   "metadata": {},
   "outputs": [
    {
     "name": "stdout",
     "output_type": "stream",
     "text": [
      "              precision    recall  f1-score   support\n",
      "\n",
      "           0       0.58      0.65      0.61       139\n",
      "           1       0.91      0.87      0.89       525\n",
      "\n",
      "    accuracy                           0.83       664\n",
      "   macro avg       0.74      0.76      0.75       664\n",
      "weighted avg       0.84      0.83      0.83       664\n",
      "\n",
      "\n",
      "\n",
      "[[ 91  48]\n",
      " [ 66 459]]\n"
     ]
    }
   ],
   "source": [
    "from sklearn.metrics import classification_report, confusion_matrix\n",
    "print(classification_report(y_test, predictions))\n",
    "print(\"\\n\")\n",
    "print(confusion_matrix(y_test, predictions))"
   ]
  },
  {
   "cell_type": "code",
   "execution_count": null,
   "metadata": {},
   "outputs": [],
   "source": []
  },
  {
   "cell_type": "markdown",
   "metadata": {},
   "source": [
    "***Random Forest Model***"
   ]
  },
  {
   "cell_type": "code",
   "execution_count": 39,
   "metadata": {},
   "outputs": [],
   "source": [
    "from sklearn.ensemble import RandomForestClassifier"
   ]
  },
  {
   "cell_type": "code",
   "execution_count": 40,
   "metadata": {},
   "outputs": [
    {
     "data": {
      "text/plain": [
       "RandomForestClassifier(n_estimators=600)"
      ]
     },
     "execution_count": 40,
     "metadata": {},
     "output_type": "execute_result"
    }
   ],
   "source": [
    "RF = RandomForestClassifier(n_estimators=600)\n",
    "RF.fit(X_train,y_train)"
   ]
  },
  {
   "cell_type": "code",
   "execution_count": 41,
   "metadata": {},
   "outputs": [],
   "source": [
    "pred_RF = RF.predict(X_test)"
   ]
  },
  {
   "cell_type": "code",
   "execution_count": 42,
   "metadata": {},
   "outputs": [
    {
     "name": "stdout",
     "output_type": "stream",
     "text": [
      "              precision    recall  f1-score   support\n",
      "\n",
      "           0       0.89      0.50      0.64       139\n",
      "           1       0.88      0.98      0.93       525\n",
      "\n",
      "    accuracy                           0.88       664\n",
      "   macro avg       0.88      0.74      0.79       664\n",
      "weighted avg       0.88      0.88      0.87       664\n",
      "\n",
      "\n",
      "\n",
      "[[ 70  69]\n",
      " [  9 516]]\n"
     ]
    }
   ],
   "source": [
    "print(classification_report(y_test, pred_RF))\n",
    "print(\"\\n\")\n",
    "print(confusion_matrix(y_test, pred_RF))"
   ]
  },
  {
   "cell_type": "code",
   "execution_count": 43,
   "metadata": {},
   "outputs": [],
   "source": [
    "import joblib"
   ]
  },
  {
   "cell_type": "code",
   "execution_count": 44,
   "metadata": {},
   "outputs": [
    {
     "data": {
      "text/plain": [
       "['random_forest_model_including_BFBB_Features.joblib']"
      ]
     },
     "execution_count": 44,
     "metadata": {},
     "output_type": "execute_result"
    }
   ],
   "source": [
    "joblib.dump(RF, \"models/random_forest_model_including_BFBB_Features.joblib\")"
   ]
  },
  {
   "cell_type": "markdown",
   "metadata": {},
   "source": [
    "***Neural Network***"
   ]
  },
  {
   "cell_type": "code",
   "execution_count": 36,
   "metadata": {},
   "outputs": [],
   "source": [
    "import tensorflow as tf\n",
    "from tensorflow.keras.models import Sequential\n",
    "from tensorflow.keras.layers import Dense, Activation,Dropout"
   ]
  },
  {
   "cell_type": "code",
   "execution_count": 37,
   "metadata": {},
   "outputs": [
    {
     "data": {
      "text/plain": [
       "(2213, 2949)"
      ]
     },
     "execution_count": 37,
     "metadata": {},
     "output_type": "execute_result"
    }
   ],
   "source": [
    "X.shape"
   ]
  },
  {
   "cell_type": "code",
   "execution_count": 38,
   "metadata": {},
   "outputs": [],
   "source": [
    "from tensorflow.keras.callbacks import EarlyStopping\n",
    "\n",
    "early_stop = EarlyStopping(monitor='val_loss', mode='min', verbose=1, patience=25)"
   ]
  },
  {
   "cell_type": "code",
   "execution_count": 39,
   "metadata": {},
   "outputs": [
    {
     "name": "stderr",
     "output_type": "stream",
     "text": [
      "2021-11-23 11:41:01.037708: I tensorflow/compiler/jit/xla_cpu_device.cc:41] Not creating XLA devices, tf_xla_enable_xla_devices not set\n",
      "2021-11-23 11:41:01.038159: I tensorflow/core/platform/cpu_feature_guard.cc:142] This TensorFlow binary is optimized with oneAPI Deep Neural Network Library (oneDNN) to use the following CPU instructions in performance-critical operations:  SSE4.1 SSE4.2 AVX AVX2 AVX512F FMA\n",
      "To enable them in other operations, rebuild TensorFlow with the appropriate compiler flags.\n",
      "2021-11-23 11:41:01.039207: I tensorflow/core/common_runtime/process_util.cc:146] Creating new thread pool with default inter op setting: 2. Tune using inter_op_parallelism_threads for best performance.\n"
     ]
    }
   ],
   "source": [
    "model = Sequential()"
   ]
  },
  {
   "cell_type": "code",
   "execution_count": 40,
   "metadata": {},
   "outputs": [],
   "source": [
    "model.add(Dense(units=2949,activation='relu'))\n",
    "model.add(Dropout(0.1))\n",
    "model.add(Dense(units=2000,activation='relu'))\n",
    "model.add(Dropout(0.1))\n",
    "model.add(Dense(units=1500,activation='relu'))\n",
    "model.add(Dropout(0.1))\n",
    "model.add(Dense(units=1000,activation='relu'))\n",
    "model.add(Dropout(0.1))\n",
    "model.add(Dense(units=500,activation='relu'))\n",
    "model.add(Dropout(0.1))\n",
    "model.add(Dense(units=1,activation='sigmoid'))\n",
    "\n",
    "# For a binary classification problem\n",
    "model.compile(loss='binary_crossentropy', optimizer='adam')"
   ]
  },
  {
   "cell_type": "code",
   "execution_count": 41,
   "metadata": {
    "scrolled": true
   },
   "outputs": [
    {
     "name": "stderr",
     "output_type": "stream",
     "text": [
      "2021-11-23 11:41:06.210722: I tensorflow/compiler/mlir/mlir_graph_optimization_pass.cc:116] None of the MLIR optimization passes are enabled (registered 2)\n",
      "2021-11-23 11:41:06.230173: I tensorflow/core/platform/profile_utils/cpu_utils.cc:112] CPU Frequency: 3600000000 Hz\n"
     ]
    },
    {
     "name": "stdout",
     "output_type": "stream",
     "text": [
      "Epoch 1/600\n",
      "49/49 [==============================] - 8s 139ms/step - loss: 39.7274 - val_loss: 0.6128\n",
      "Epoch 2/600\n",
      "49/49 [==============================] - 4s 91ms/step - loss: 0.6459 - val_loss: 0.4894\n",
      "Epoch 3/600\n",
      "49/49 [==============================] - 6s 114ms/step - loss: 0.5820 - val_loss: 0.5327\n",
      "Epoch 4/600\n",
      "49/49 [==============================] - 4s 88ms/step - loss: 0.5077 - val_loss: 0.4462\n",
      "Epoch 5/600\n",
      "49/49 [==============================] - 5s 102ms/step - loss: 0.4996 - val_loss: 0.4556\n",
      "Epoch 6/600\n",
      "49/49 [==============================] - 5s 102ms/step - loss: 0.5045 - val_loss: 0.4330\n",
      "Epoch 7/600\n",
      "49/49 [==============================] - 5s 105ms/step - loss: 0.4666 - val_loss: 0.4157\n",
      "Epoch 8/600\n",
      "49/49 [==============================] - 5s 112ms/step - loss: 0.4807 - val_loss: 0.4770\n",
      "Epoch 9/600\n",
      "49/49 [==============================] - 5s 94ms/step - loss: 0.4814 - val_loss: 0.4315\n",
      "Epoch 10/600\n",
      "49/49 [==============================] - 5s 101ms/step - loss: 0.4592 - val_loss: 0.4183\n",
      "Epoch 11/600\n",
      "49/49 [==============================] - 5s 98ms/step - loss: 0.4821 - val_loss: 0.4029\n",
      "Epoch 12/600\n",
      "49/49 [==============================] - 5s 110ms/step - loss: 0.4534 - val_loss: 0.4108\n",
      "Epoch 13/600\n",
      "49/49 [==============================] - 5s 92ms/step - loss: 0.4095 - val_loss: 0.4073\n",
      "Epoch 14/600\n",
      "49/49 [==============================] - 6s 121ms/step - loss: 0.4356 - val_loss: 0.3814\n",
      "Epoch 15/600\n",
      "49/49 [==============================] - 6s 116ms/step - loss: 0.4607 - val_loss: 0.4280\n",
      "Epoch 16/600\n",
      "49/49 [==============================] - 5s 100ms/step - loss: 0.4554 - val_loss: 0.3824\n",
      "Epoch 17/600\n",
      "49/49 [==============================] - 5s 111ms/step - loss: 0.4145 - val_loss: 0.3886\n",
      "Epoch 18/600\n",
      "49/49 [==============================] - 5s 110ms/step - loss: 0.4313 - val_loss: 0.3999\n",
      "Epoch 19/600\n",
      "49/49 [==============================] - 5s 99ms/step - loss: 0.3977 - val_loss: 0.4055\n",
      "Epoch 20/600\n",
      "49/49 [==============================] - 5s 111ms/step - loss: 0.4232 - val_loss: 0.3895\n",
      "Epoch 21/600\n",
      "49/49 [==============================] - 6s 117ms/step - loss: 0.4249 - val_loss: 0.4407\n",
      "Epoch 22/600\n",
      "49/49 [==============================] - 6s 117ms/step - loss: 0.4506 - val_loss: 0.4190\n",
      "Epoch 23/600\n",
      "49/49 [==============================] - 6s 116ms/step - loss: 0.4312 - val_loss: 0.4281\n",
      "Epoch 24/600\n",
      "49/49 [==============================] - 5s 112ms/step - loss: 0.4372 - val_loss: 0.4181\n",
      "Epoch 25/600\n",
      "49/49 [==============================] - 4s 91ms/step - loss: 0.4065 - val_loss: 0.3870\n",
      "Epoch 26/600\n",
      "49/49 [==============================] - 5s 101ms/step - loss: 0.4064 - val_loss: 0.4333\n",
      "Epoch 27/600\n",
      "49/49 [==============================] - 4s 91ms/step - loss: 0.4496 - val_loss: 0.3711\n",
      "Epoch 28/600\n",
      "49/49 [==============================] - 5s 105ms/step - loss: 0.4274 - val_loss: 0.3941\n",
      "Epoch 29/600\n",
      "49/49 [==============================] - 5s 92ms/step - loss: 0.4296 - val_loss: 0.4037\n",
      "Epoch 30/600\n",
      "49/49 [==============================] - 4s 87ms/step - loss: 0.4449 - val_loss: 0.4676\n",
      "Epoch 31/600\n",
      "49/49 [==============================] - 5s 106ms/step - loss: 0.4062 - val_loss: 0.3992\n",
      "Epoch 32/600\n",
      "49/49 [==============================] - 6s 119ms/step - loss: 0.4121 - val_loss: 0.3845\n",
      "Epoch 33/600\n",
      "49/49 [==============================] - 5s 106ms/step - loss: 0.3997 - val_loss: 0.4459\n",
      "Epoch 34/600\n",
      "49/49 [==============================] - 5s 103ms/step - loss: 0.3900 - val_loss: 0.4326\n",
      "Epoch 35/600\n",
      "49/49 [==============================] - 4s 87ms/step - loss: 0.4028 - val_loss: 0.3836\n",
      "Epoch 36/600\n",
      "49/49 [==============================] - 6s 115ms/step - loss: 0.4061 - val_loss: 0.3656\n",
      "Epoch 37/600\n",
      "49/49 [==============================] - 6s 116ms/step - loss: 0.4329 - val_loss: 0.4367\n",
      "Epoch 38/600\n",
      "49/49 [==============================] - 4s 90ms/step - loss: 0.4063 - val_loss: 0.4352\n",
      "Epoch 39/600\n",
      "49/49 [==============================] - 4s 86ms/step - loss: 0.4045 - val_loss: 0.3610\n",
      "Epoch 40/600\n",
      "49/49 [==============================] - 6s 114ms/step - loss: 0.3656 - val_loss: 0.3966\n",
      "Epoch 41/600\n",
      "49/49 [==============================] - 6s 120ms/step - loss: 0.4128 - val_loss: 0.3674\n",
      "Epoch 42/600\n",
      "49/49 [==============================] - 6s 114ms/step - loss: 0.3851 - val_loss: 0.4039\n",
      "Epoch 43/600\n",
      "49/49 [==============================] - 6s 132ms/step - loss: 0.3668 - val_loss: 0.3703\n",
      "Epoch 44/600\n",
      "49/49 [==============================] - 6s 124ms/step - loss: 0.3650 - val_loss: 0.3739\n",
      "Epoch 45/600\n",
      "49/49 [==============================] - 6s 132ms/step - loss: 0.3674 - val_loss: 0.3833\n",
      "Epoch 46/600\n",
      "49/49 [==============================] - 5s 101ms/step - loss: 0.3700 - val_loss: 0.3922\n",
      "Epoch 47/600\n",
      "49/49 [==============================] - 5s 100ms/step - loss: 0.3578 - val_loss: 0.3619\n",
      "Epoch 48/600\n",
      "49/49 [==============================] - 6s 119ms/step - loss: 0.3824 - val_loss: 0.4055\n",
      "Epoch 49/600\n",
      "49/49 [==============================] - 6s 123ms/step - loss: 0.3890 - val_loss: 0.3736\n",
      "Epoch 50/600\n",
      "49/49 [==============================] - 5s 110ms/step - loss: 0.4264 - val_loss: 0.3755\n",
      "Epoch 51/600\n",
      "49/49 [==============================] - 5s 106ms/step - loss: 0.3585 - val_loss: 0.3953\n",
      "Epoch 52/600\n",
      "49/49 [==============================] - 5s 106ms/step - loss: 0.3894 - val_loss: 0.3972\n",
      "Epoch 53/600\n",
      "49/49 [==============================] - 5s 105ms/step - loss: 0.4078 - val_loss: 0.4070\n",
      "Epoch 54/600\n",
      "49/49 [==============================] - 6s 120ms/step - loss: 0.3669 - val_loss: 0.3826\n",
      "Epoch 55/600\n",
      "49/49 [==============================] - 6s 121ms/step - loss: 0.3428 - val_loss: 0.3662\n",
      "Epoch 56/600\n",
      "49/49 [==============================] - 6s 113ms/step - loss: 0.3485 - val_loss: 0.4591\n",
      "Epoch 57/600\n",
      "49/49 [==============================] - 6s 126ms/step - loss: 0.3965 - val_loss: 0.3794\n",
      "Epoch 58/600\n",
      "49/49 [==============================] - 6s 129ms/step - loss: 0.3244 - val_loss: 0.4015\n",
      "Epoch 59/600\n",
      "49/49 [==============================] - 5s 99ms/step - loss: 0.3443 - val_loss: 0.3804\n",
      "Epoch 60/600\n",
      "49/49 [==============================] - 6s 127ms/step - loss: 0.3488 - val_loss: 0.4016\n",
      "Epoch 61/600\n",
      "49/49 [==============================] - 6s 116ms/step - loss: 0.3654 - val_loss: 0.3791\n",
      "Epoch 62/600\n",
      "49/49 [==============================] - 5s 99ms/step - loss: 0.3827 - val_loss: 0.3764\n",
      "Epoch 63/600\n",
      "49/49 [==============================] - 4s 90ms/step - loss: 0.3548 - val_loss: 0.3763\n",
      "Epoch 64/600\n",
      "49/49 [==============================] - 3s 72ms/step - loss: 0.3266 - val_loss: 0.3715\n",
      "Epoch 00064: early stopping\n"
     ]
    },
    {
     "data": {
      "text/plain": [
       "<tensorflow.python.keras.callbacks.History at 0x7f43c854ae90>"
      ]
     },
     "execution_count": 41,
     "metadata": {},
     "output_type": "execute_result"
    }
   ],
   "source": [
    "model.fit(x=X_train, \n",
    "          y=y_train, \n",
    "          epochs=600,\n",
    "          validation_data=(X_test, y_test), verbose=1,\n",
    "          callbacks=[early_stop]\n",
    "          )"
   ]
  },
  {
   "cell_type": "code",
   "execution_count": 42,
   "metadata": {},
   "outputs": [
    {
     "data": {
      "text/plain": [
       "<AxesSubplot:>"
      ]
     },
     "execution_count": 42,
     "metadata": {},
     "output_type": "execute_result"
    },
    {
     "data": {
      "image/png": "[encoded data removed]",
      "text/plain": [
       "<Figure size 432x288 with 1 Axes>"
      ]
     },
     "metadata": {
      "needs_background": "light"
     },
     "output_type": "display_data"
    }
   ],
   "source": [
    "model_loss = pd.DataFrame(model.history.history)\n",
    "model_loss.plot()"
   ]
  },
  {
   "cell_type": "code",
   "execution_count": 43,
   "metadata": {},
   "outputs": [],
   "source": [
    "predictions = model.predict(X_test)"
   ]
  },
  {
   "cell_type": "code",
   "execution_count": 44,
   "metadata": {},
   "outputs": [
    {
     "data": {
      "text/plain": [
       "(664,)"
      ]
     },
     "execution_count": 44,
     "metadata": {},
     "output_type": "execute_result"
    }
   ],
   "source": [
    "y_test.shape"
   ]
  },
  {
   "cell_type": "code",
   "execution_count": 45,
   "metadata": {},
   "outputs": [
    {
     "data": {
      "text/plain": [
       "(664,)"
      ]
     },
     "execution_count": 45,
     "metadata": {},
     "output_type": "execute_result"
    }
   ],
   "source": [
    "predictions = predictions.reshape(len(y_test))\n",
    "predictions.shape"
   ]
  },
  {
   "cell_type": "code",
   "execution_count": 46,
   "metadata": {},
   "outputs": [],
   "source": [
    "pred = [round(i) for i in predictions]"
   ]
  },
  {
   "cell_type": "code",
   "execution_count": 47,
   "metadata": {},
   "outputs": [
    {
     "name": "stdout",
     "output_type": "stream",
     "text": [
      "              precision    recall  f1-score   support\n",
      "\n",
      "           0       0.73      0.29      0.42       139\n",
      "           1       0.84      0.97      0.90       525\n",
      "\n",
      "    accuracy                           0.83       664\n",
      "   macro avg       0.79      0.63      0.66       664\n",
      "weighted avg       0.82      0.83      0.80       664\n",
      "\n",
      "\n",
      "\n",
      "[[ 41  98]\n",
      " [ 15 510]]\n"
     ]
    }
   ],
   "source": [
    "print(classification_report(y_test, pred))\n",
    "print(\"\\n\")\n",
    "print(confusion_matrix(y_test, pred))"
   ]
  },
  {
   "cell_type": "code",
   "execution_count": null,
   "metadata": {},
   "outputs": [],
   "source": []
  }
 ],
 "metadata": {
  "kernelspec": {
   "display_name": "Python 3",
   "language": "python",
   "name": "python3"
  },
  "language_info": {
   "codemirror_mode": {
    "name": "ipython",
    "version": 3
   },
   "file_extension": ".py",
   "mimetype": "text/x-python",
   "name": "python",
   "nbconvert_exporter": "python",
   "pygments_lexer": "ipython3",
   "version": "3.7.11"
  }
 },
 "nbformat": 4,
 "nbformat_minor": 2
}
