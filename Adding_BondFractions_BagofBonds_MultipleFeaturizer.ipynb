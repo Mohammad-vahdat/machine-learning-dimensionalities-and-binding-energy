{
 "cells": [
  {
   "cell_type": "code",
   "execution_count": 159,
   "metadata": {},
   "outputs": [],
   "source": [
    "import ase\n",
    "import ase.io\n",
    "from ase.io import xsf\n",
    "import pandas as pd\n",
    "import json\n",
    "import seaborn as sns\n",
    "import matplotlib.pyplot as plt\n",
    "import os\n",
    "import numpy as np\n",
    "%matplotlib inline"
   ]
  },
  {
   "cell_type": "code",
   "execution_count": 160,
   "metadata": {},
   "outputs": [
    {
     "data": {
      "text/html": [
       "<div>\n",
       "<style scoped>\n",
       "    .dataframe tbody tr th:only-of-type {\n",
       "        vertical-align: middle;\n",
       "    }\n",
       "\n",
       "    .dataframe tbody tr th {\n",
       "        vertical-align: top;\n",
       "    }\n",
       "\n",
       "    .dataframe thead th {\n",
       "        text-align: right;\n",
       "    }\n",
       "</style>\n",
       "<table border=\"1\" class=\"dataframe\">\n",
       "  <thead>\n",
       "    <tr style=\"text-align: right;\">\n",
       "      <th></th>\n",
       "      <th>uuid</th>\n",
       "      <th>structure</th>\n",
       "      <th>cell</th>\n",
       "      <th>volume</th>\n",
       "      <th>relevant_dimension_of_highest_dimensionality_substructure</th>\n",
       "      <th>binding_energy_per_substructure</th>\n",
       "      <th>binding_energy</th>\n",
       "      <th>label</th>\n",
       "      <th>number_of_atoms_in_bulk</th>\n",
       "      <th>number_of_highest_dimensionality_substructures_in_bulk</th>\n",
       "      <th>sub_structure_spg</th>\n",
       "      <th>sub_structure_dim</th>\n",
       "      <th>energy_bulk</th>\n",
       "      <th>sub_structure_formula</th>\n",
       "      <th>PMG Structure from ASE Atoms</th>\n",
       "    </tr>\n",
       "  </thead>\n",
       "  <tbody>\n",
       "    <tr>\n",
       "      <th>0</th>\n",
       "      <td>dec2d070-d2ad-41f3-b742-786368ade33a</td>\n",
       "      <td>(Atom('Cd', [-0.0, -0.0, 29.0441583], index=0)...</td>\n",
       "      <td>[[2.1044124705, 1.2149831063, 34.279850741], [...</td>\n",
       "      <td>525.885600</td>\n",
       "      <td>15.340954</td>\n",
       "      <td>-0.165000</td>\n",
       "      <td>10.755509</td>\n",
       "      <td>EE</td>\n",
       "      <td>15</td>\n",
       "      <td>5</td>\n",
       "      <td>[C2/m (12), C2/m (12), C2/m (12), C2/m (12), C...</td>\n",
       "      <td>[2, 2, 2, 2, 2]</td>\n",
       "      <td>-17198.871453</td>\n",
       "      <td>[CdI2, CdI2, CdI2, CdI2, CdI2]</td>\n",
       "      <td>[[ 0.         0.        29.0441583] Cd, [ 0.  ...</td>\n",
       "    </tr>\n",
       "    <tr>\n",
       "      <th>1</th>\n",
       "      <td>51e630e8-d94f-421c-bd1e-3e2f298e740c</td>\n",
       "      <td>(Atom('Fe', [0.0, 0.0, 0.0], index=0), Atom('C...</td>\n",
       "      <td>[[3.35814166734363, 3.21879556184565e-14, -3.2...</td>\n",
       "      <td>52.188194</td>\n",
       "      <td>9.766268</td>\n",
       "      <td>-0.149888</td>\n",
       "      <td>15.347484</td>\n",
       "      <td>EE</td>\n",
       "      <td>3</td>\n",
       "      <td>1</td>\n",
       "      <td>[P-3m1 (164)]</td>\n",
       "      <td>[2]</td>\n",
       "      <td>-5361.474444</td>\n",
       "      <td>[Cl2Fe]</td>\n",
       "      <td>[[0. 0. 0.] Fe, [0.         2.06980071 4.36433...</td>\n",
       "    </tr>\n",
       "    <tr>\n",
       "      <th>2</th>\n",
       "      <td>527e7b32-d211-4743-9631-120122819190</td>\n",
       "      <td>(Atom('Er', [2.1386, 4.301805, 3.209025], inde...</td>\n",
       "      <td>[[2.14789490163679, -12.5878501270869, 0.0], [...</td>\n",
       "      <td>232.520056</td>\n",
       "      <td>18.471785</td>\n",
       "      <td>-0.454048</td>\n",
       "      <td>24.580650</td>\n",
       "      <td>EE</td>\n",
       "      <td>8</td>\n",
       "      <td>1</td>\n",
       "      <td>[P2_1/m (11)]</td>\n",
       "      <td>[2]</td>\n",
       "      <td>-26090.090963</td>\n",
       "      <td>[Er2Te6]</td>\n",
       "      <td>[[2.1386   4.301805 3.209025] Er, [ 2.1386   -...</td>\n",
       "    </tr>\n",
       "    <tr>\n",
       "      <th>3</th>\n",
       "      <td>37bf14b1-6529-436c-a519-e1ad9b208784</td>\n",
       "      <td>(Atom('Ba', [0.0, 0.0, 9.5697], index=0), Atom...</td>\n",
       "      <td>[[-2.0745739339, 2.0745739339, 7.4278571834], ...</td>\n",
       "      <td>127.873741</td>\n",
       "      <td>17.215428</td>\n",
       "      <td>-0.747937</td>\n",
       "      <td>43.445746</td>\n",
       "      <td>PE</td>\n",
       "      <td>3</td>\n",
       "      <td>1</td>\n",
       "      <td>[C2/m (12)]</td>\n",
       "      <td>[2]</td>\n",
       "      <td>-2866.173187</td>\n",
       "      <td>[Ba2Hg]</td>\n",
       "      <td>[[0.     0.     9.5697] Ba, [0.     0.     5.6...</td>\n",
       "    </tr>\n",
       "    <tr>\n",
       "      <th>4</th>\n",
       "      <td>e7a9cec3-f11a-4d16-a8c5-ebd758bb6592</td>\n",
       "      <td>(Atom('Ba', [0.0, 2.414, 1.49473], index=0), A...</td>\n",
       "      <td>[[4.6829418165, 0.0, 0.0], [0.0, 4.6829418165,...</td>\n",
       "      <td>166.823529</td>\n",
       "      <td>21.929944</td>\n",
       "      <td>-0.532853</td>\n",
       "      <td>24.297979</td>\n",
       "      <td>EE</td>\n",
       "      <td>6</td>\n",
       "      <td>1</td>\n",
       "      <td>[P4/nmm (129)]</td>\n",
       "      <td>[2]</td>\n",
       "      <td>-3217.539658</td>\n",
       "      <td>[Ba2H2I2]</td>\n",
       "      <td>[[0.      2.414   1.49473] Ba, [2.414   0.    ...</td>\n",
       "    </tr>\n",
       "  </tbody>\n",
       "</table>\n",
       "</div>"
      ],
      "text/plain": [
       "                                   uuid  \\\n",
       "0  dec2d070-d2ad-41f3-b742-786368ade33a   \n",
       "1  51e630e8-d94f-421c-bd1e-3e2f298e740c   \n",
       "2  527e7b32-d211-4743-9631-120122819190   \n",
       "3  37bf14b1-6529-436c-a519-e1ad9b208784   \n",
       "4  e7a9cec3-f11a-4d16-a8c5-ebd758bb6592   \n",
       "\n",
       "                                           structure  \\\n",
       "0  (Atom('Cd', [-0.0, -0.0, 29.0441583], index=0)...   \n",
       "1  (Atom('Fe', [0.0, 0.0, 0.0], index=0), Atom('C...   \n",
       "2  (Atom('Er', [2.1386, 4.301805, 3.209025], inde...   \n",
       "3  (Atom('Ba', [0.0, 0.0, 9.5697], index=0), Atom...   \n",
       "4  (Atom('Ba', [0.0, 2.414, 1.49473], index=0), A...   \n",
       "\n",
       "                                                cell      volume  \\\n",
       "0  [[2.1044124705, 1.2149831063, 34.279850741], [...  525.885600   \n",
       "1  [[3.35814166734363, 3.21879556184565e-14, -3.2...   52.188194   \n",
       "2  [[2.14789490163679, -12.5878501270869, 0.0], [...  232.520056   \n",
       "3  [[-2.0745739339, 2.0745739339, 7.4278571834], ...  127.873741   \n",
       "4  [[4.6829418165, 0.0, 0.0], [0.0, 4.6829418165,...  166.823529   \n",
       "\n",
       "   relevant_dimension_of_highest_dimensionality_substructure  \\\n",
       "0                                          15.340954           \n",
       "1                                           9.766268           \n",
       "2                                          18.471785           \n",
       "3                                          17.215428           \n",
       "4                                          21.929944           \n",
       "\n",
       "   binding_energy_per_substructure  binding_energy label  \\\n",
       "0                        -0.165000       10.755509    EE   \n",
       "1                        -0.149888       15.347484    EE   \n",
       "2                        -0.454048       24.580650    EE   \n",
       "3                        -0.747937       43.445746    PE   \n",
       "4                        -0.532853       24.297979    EE   \n",
       "\n",
       "   number_of_atoms_in_bulk  \\\n",
       "0                       15   \n",
       "1                        3   \n",
       "2                        8   \n",
       "3                        3   \n",
       "4                        6   \n",
       "\n",
       "   number_of_highest_dimensionality_substructures_in_bulk  \\\n",
       "0                                                  5        \n",
       "1                                                  1        \n",
       "2                                                  1        \n",
       "3                                                  1        \n",
       "4                                                  1        \n",
       "\n",
       "                                   sub_structure_spg sub_structure_dim  \\\n",
       "0  [C2/m (12), C2/m (12), C2/m (12), C2/m (12), C...   [2, 2, 2, 2, 2]   \n",
       "1                                      [P-3m1 (164)]               [2]   \n",
       "2                                      [P2_1/m (11)]               [2]   \n",
       "3                                        [C2/m (12)]               [2]   \n",
       "4                                     [P4/nmm (129)]               [2]   \n",
       "\n",
       "    energy_bulk           sub_structure_formula  \\\n",
       "0 -17198.871453  [CdI2, CdI2, CdI2, CdI2, CdI2]   \n",
       "1  -5361.474444                         [Cl2Fe]   \n",
       "2 -26090.090963                        [Er2Te6]   \n",
       "3  -2866.173187                         [Ba2Hg]   \n",
       "4  -3217.539658                       [Ba2H2I2]   \n",
       "\n",
       "                        PMG Structure from ASE Atoms  \n",
       "0  [[ 0.         0.        29.0441583] Cd, [ 0.  ...  \n",
       "1  [[0. 0. 0.] Fe, [0.         2.06980071 4.36433...  \n",
       "2  [[2.1386   4.301805 3.209025] Er, [ 2.1386   -...  \n",
       "3  [[0.     0.     9.5697] Ba, [0.     0.     5.6...  \n",
       "4  [[0.      2.414   1.49473] Ba, [2.414   0.    ...  "
      ]
     },
     "execution_count": 160,
     "metadata": {},
     "output_type": "execute_result"
    }
   ],
   "source": [
    "dataframe_df2 = pd.read_pickle(\"DataFrame_df2.pkl\")\n",
    "dataframe_df2.head()"
   ]
  },
  {
   "cell_type": "code",
   "execution_count": 161,
   "metadata": {},
   "outputs": [],
   "source": [
    "structures = list(dataframe_df2[\"PMG Structure from ASE Atoms\"])\n",
    "gridpoints = list(dataframe_df2.index)"
   ]
  },
  {
   "cell_type": "code",
   "execution_count": 162,
   "metadata": {},
   "outputs": [],
   "source": [
    "features = {n:{} for n in gridpoints}\n",
    "for name in gridpoints:\n",
    "    features[name][\"structure\"]=dataframe_df2[\"PMG Structure from ASE Atoms\"][name]"
   ]
  },
  {
   "cell_type": "code",
   "execution_count": 163,
   "metadata": {},
   "outputs": [
    {
     "data": {
      "text/html": [
       "<div>\n",
       "<style scoped>\n",
       "    .dataframe tbody tr th:only-of-type {\n",
       "        vertical-align: middle;\n",
       "    }\n",
       "\n",
       "    .dataframe tbody tr th {\n",
       "        vertical-align: top;\n",
       "    }\n",
       "\n",
       "    .dataframe thead th {\n",
       "        text-align: right;\n",
       "    }\n",
       "</style>\n",
       "<table border=\"1\" class=\"dataframe\">\n",
       "  <thead>\n",
       "    <tr style=\"text-align: right;\">\n",
       "      <th></th>\n",
       "      <th>structure</th>\n",
       "    </tr>\n",
       "  </thead>\n",
       "  <tbody>\n",
       "    <tr>\n",
       "      <th>0</th>\n",
       "      <td>[[ 0.         0.        29.0441583] Cd, [ 0.  ...</td>\n",
       "    </tr>\n",
       "    <tr>\n",
       "      <th>1</th>\n",
       "      <td>[[0. 0. 0.] Fe, [0.         2.06980071 4.36433...</td>\n",
       "    </tr>\n",
       "    <tr>\n",
       "      <th>2</th>\n",
       "      <td>[[2.1386   4.301805 3.209025] Er, [ 2.1386   -...</td>\n",
       "    </tr>\n",
       "    <tr>\n",
       "      <th>3</th>\n",
       "      <td>[[0.     0.     9.5697] Ba, [0.     0.     5.6...</td>\n",
       "    </tr>\n",
       "    <tr>\n",
       "      <th>4</th>\n",
       "      <td>[[0.      2.414   1.49473] Ba, [2.414   0.    ...</td>\n",
       "    </tr>\n",
       "    <tr>\n",
       "      <th>...</th>\n",
       "      <td>...</td>\n",
       "    </tr>\n",
       "    <tr>\n",
       "      <th>2387</th>\n",
       "      <td>[[0.         2.87064327 2.285     ] Li, [2.486...</td>\n",
       "    </tr>\n",
       "    <tr>\n",
       "      <th>2388</th>\n",
       "      <td>[[ 8.7759233  -1.51816627  6.20947541] K, [ 2....</td>\n",
       "    </tr>\n",
       "    <tr>\n",
       "      <th>2389</th>\n",
       "      <td>[[6.06416256 0.5661043  0.86358119] Li, [4.004...</td>\n",
       "    </tr>\n",
       "    <tr>\n",
       "      <th>2390</th>\n",
       "      <td>[[0.        0.        2.4314841] Sc, [ 0.     ...</td>\n",
       "    </tr>\n",
       "    <tr>\n",
       "      <th>2391</th>\n",
       "      <td>[[0. 0. 0.] Co, [ 1.50622572 -0.52728089  5.01...</td>\n",
       "    </tr>\n",
       "  </tbody>\n",
       "</table>\n",
       "<p>2392 rows × 1 columns</p>\n",
       "</div>"
      ],
      "text/plain": [
       "                                              structure\n",
       "0     [[ 0.         0.        29.0441583] Cd, [ 0.  ...\n",
       "1     [[0. 0. 0.] Fe, [0.         2.06980071 4.36433...\n",
       "2     [[2.1386   4.301805 3.209025] Er, [ 2.1386   -...\n",
       "3     [[0.     0.     9.5697] Ba, [0.     0.     5.6...\n",
       "4     [[0.      2.414   1.49473] Ba, [2.414   0.    ...\n",
       "...                                                 ...\n",
       "2387  [[0.         2.87064327 2.285     ] Li, [2.486...\n",
       "2388  [[ 8.7759233  -1.51816627  6.20947541] K, [ 2....\n",
       "2389  [[6.06416256 0.5661043  0.86358119] Li, [4.004...\n",
       "2390  [[0.        0.        2.4314841] Sc, [ 0.     ...\n",
       "2391  [[0. 0. 0.] Co, [ 1.50622572 -0.52728089  5.01...\n",
       "\n",
       "[2392 rows x 1 columns]"
      ]
     },
     "execution_count": 163,
     "metadata": {},
     "output_type": "execute_result"
    }
   ],
   "source": [
    "data=pd.DataFrame.from_dict(features).T\n",
    "data"
   ]
  },
  {
   "cell_type": "code",
   "execution_count": 165,
   "metadata": {},
   "outputs": [],
   "source": [
    "features_dict={}\n",
    "## 1. initialize the dictionary for each site\n",
    "for index,row in data.iterrows():\n",
    "    structure=row[\"structure\"]\n",
    "    features_dict[index]={}"
   ]
  },
  {
   "cell_type": "code",
   "execution_count": 175,
   "metadata": {},
   "outputs": [],
   "source": [
    "#features_dict"
   ]
  },
  {
   "cell_type": "code",
   "execution_count": 176,
   "metadata": {},
   "outputs": [],
   "source": [
    "from matminer.featurizers.structure import BondFractions"
   ]
  },
  {
   "cell_type": "code",
   "execution_count": 177,
   "metadata": {},
   "outputs": [
    {
     "name": "stderr",
     "output_type": "stream",
     "text": [
      "/Users/mohammad/anaconda3/lib/python3.7/site-packages/pymatgen/analysis/local_env.py:4136: UserWarning: No oxidation states specified on sites! For better results, set the site oxidation states in the structure.\n",
      "  \"No oxidation states specified on sites! For better results, set \"\n",
      "/Users/mohammad/anaconda3/lib/python3.7/site-packages/pymatgen/analysis/local_env.py:3939: UserWarning: CrystalNN: cannot locate an appropriate radius, covalent or atomic radii will be used, this can lead to non-optimal results.\n",
      "  \"CrystalNN: cannot locate an appropriate radius, \"\n"
     ]
    }
   ],
   "source": [
    "### Bond Fractions\n",
    "BD = BondFractions()\n",
    "BD.fit(list(data['structure']))\n",
    "colnames=BD._generate_column_labels(multiindex=False,return_errors=False)\n",
    "for index,row in data.iterrows():\n",
    "    structure=row[\"structure\"]\n",
    "    feat=BD.featurize(structure)\n",
    "    features_dict[index].update(dict(zip(colnames, feat)))"
   ]
  },
  {
   "cell_type": "code",
   "execution_count": 178,
   "metadata": {},
   "outputs": [],
   "source": [
    "from matminer.featurizers.structure import BagofBonds"
   ]
  },
  {
   "cell_type": "code",
   "execution_count": 179,
   "metadata": {},
   "outputs": [
    {
     "name": "stderr",
     "output_type": "stream",
     "text": [
      "/Users/mohammad/anaconda3/lib/python3.7/site-packages/numpy/lib/arraysetops.py:270: VisibleDeprecationWarning: Creating an ndarray from ragged nested sequences (which is a list-or-tuple of lists-or-tuples-or ndarrays with different lengths or shapes) is deprecated. If you meant to do this, you must specify 'dtype=object' when creating the ndarray.\n",
      "  ar = np.asanyarray(ar)\n"
     ]
    }
   ],
   "source": [
    "###Bag of Bonds vector\n",
    "BB = BagofBonds()\n",
    "BB.fit(list(data['structure']))\n",
    "colnames=BB._generate_column_labels(multiindex=False,return_errors=False)\n",
    "for index,row in data.iterrows():\n",
    "    structure=row[\"structure\"]\n",
    "    feat=BD.featurize(structure)\n",
    "    features_dict[index].update(dict(zip(colnames, feat)))"
   ]
  },
  {
   "cell_type": "code",
   "execution_count": 180,
   "metadata": {},
   "outputs": [
    {
     "data": {
      "text/html": [
       "<div>\n",
       "<style scoped>\n",
       "    .dataframe tbody tr th:only-of-type {\n",
       "        vertical-align: middle;\n",
       "    }\n",
       "\n",
       "    .dataframe tbody tr th {\n",
       "        vertical-align: top;\n",
       "    }\n",
       "\n",
       "    .dataframe thead th {\n",
       "        text-align: right;\n",
       "    }\n",
       "</style>\n",
       "<table border=\"1\" class=\"dataframe\">\n",
       "  <thead>\n",
       "    <tr style=\"text-align: right;\">\n",
       "      <th></th>\n",
       "      <th>Ag - Ag bond frac.</th>\n",
       "      <th>Ag - As bond frac.</th>\n",
       "      <th>Ag - Au bond frac.</th>\n",
       "      <th>Ag - B bond frac.</th>\n",
       "      <th>Ag - Bi bond frac.</th>\n",
       "      <th>Ag - Br bond frac.</th>\n",
       "      <th>Ag - C bond frac.</th>\n",
       "      <th>Ag - Cl bond frac.</th>\n",
       "      <th>Ag - Cr bond frac.</th>\n",
       "      <th>Ag - Cu bond frac.</th>\n",
       "      <th>...</th>\n",
       "      <th>Mn site #0</th>\n",
       "      <th>Mn site #1</th>\n",
       "      <th>Mn site #2</th>\n",
       "      <th>Mn site #3</th>\n",
       "      <th>Mn site #4</th>\n",
       "      <th>Mn site #5</th>\n",
       "      <th>Mn site #6</th>\n",
       "      <th>Mn site #7</th>\n",
       "      <th>Mn - Tl bond #0</th>\n",
       "      <th>Mn - Tl bond #1</th>\n",
       "    </tr>\n",
       "  </thead>\n",
       "  <tbody>\n",
       "    <tr>\n",
       "      <th>0</th>\n",
       "      <td>0.0</td>\n",
       "      <td>0.0</td>\n",
       "      <td>0.0</td>\n",
       "      <td>0.0</td>\n",
       "      <td>0.0</td>\n",
       "      <td>0.0</td>\n",
       "      <td>0.0</td>\n",
       "      <td>0.0</td>\n",
       "      <td>0.0</td>\n",
       "      <td>0.0</td>\n",
       "      <td>...</td>\n",
       "      <td>0.0</td>\n",
       "      <td>0.0</td>\n",
       "      <td>0.0</td>\n",
       "      <td>0.0</td>\n",
       "      <td>0.0</td>\n",
       "      <td>0.0</td>\n",
       "      <td>0.0</td>\n",
       "      <td>0.0</td>\n",
       "      <td>0.0</td>\n",
       "      <td>0.0</td>\n",
       "    </tr>\n",
       "    <tr>\n",
       "      <th>1</th>\n",
       "      <td>0.0</td>\n",
       "      <td>0.0</td>\n",
       "      <td>0.0</td>\n",
       "      <td>0.0</td>\n",
       "      <td>0.0</td>\n",
       "      <td>0.0</td>\n",
       "      <td>0.0</td>\n",
       "      <td>0.0</td>\n",
       "      <td>0.0</td>\n",
       "      <td>0.0</td>\n",
       "      <td>...</td>\n",
       "      <td>0.0</td>\n",
       "      <td>0.0</td>\n",
       "      <td>0.0</td>\n",
       "      <td>0.0</td>\n",
       "      <td>0.0</td>\n",
       "      <td>0.0</td>\n",
       "      <td>0.0</td>\n",
       "      <td>0.0</td>\n",
       "      <td>0.0</td>\n",
       "      <td>0.0</td>\n",
       "    </tr>\n",
       "    <tr>\n",
       "      <th>2</th>\n",
       "      <td>0.0</td>\n",
       "      <td>0.0</td>\n",
       "      <td>0.0</td>\n",
       "      <td>0.0</td>\n",
       "      <td>0.0</td>\n",
       "      <td>0.0</td>\n",
       "      <td>0.0</td>\n",
       "      <td>0.0</td>\n",
       "      <td>0.0</td>\n",
       "      <td>0.0</td>\n",
       "      <td>...</td>\n",
       "      <td>0.0</td>\n",
       "      <td>0.0</td>\n",
       "      <td>0.0</td>\n",
       "      <td>0.0</td>\n",
       "      <td>0.0</td>\n",
       "      <td>0.0</td>\n",
       "      <td>0.0</td>\n",
       "      <td>0.0</td>\n",
       "      <td>0.0</td>\n",
       "      <td>0.0</td>\n",
       "    </tr>\n",
       "    <tr>\n",
       "      <th>3</th>\n",
       "      <td>0.0</td>\n",
       "      <td>0.0</td>\n",
       "      <td>0.0</td>\n",
       "      <td>0.0</td>\n",
       "      <td>0.0</td>\n",
       "      <td>0.0</td>\n",
       "      <td>0.0</td>\n",
       "      <td>0.0</td>\n",
       "      <td>0.0</td>\n",
       "      <td>0.0</td>\n",
       "      <td>...</td>\n",
       "      <td>0.0</td>\n",
       "      <td>0.0</td>\n",
       "      <td>0.0</td>\n",
       "      <td>0.0</td>\n",
       "      <td>0.0</td>\n",
       "      <td>0.0</td>\n",
       "      <td>0.0</td>\n",
       "      <td>0.0</td>\n",
       "      <td>0.0</td>\n",
       "      <td>0.0</td>\n",
       "    </tr>\n",
       "    <tr>\n",
       "      <th>4</th>\n",
       "      <td>0.0</td>\n",
       "      <td>0.0</td>\n",
       "      <td>0.0</td>\n",
       "      <td>0.0</td>\n",
       "      <td>0.0</td>\n",
       "      <td>0.0</td>\n",
       "      <td>0.0</td>\n",
       "      <td>0.0</td>\n",
       "      <td>0.0</td>\n",
       "      <td>0.0</td>\n",
       "      <td>...</td>\n",
       "      <td>0.0</td>\n",
       "      <td>0.0</td>\n",
       "      <td>0.0</td>\n",
       "      <td>0.0</td>\n",
       "      <td>0.0</td>\n",
       "      <td>0.0</td>\n",
       "      <td>0.0</td>\n",
       "      <td>0.0</td>\n",
       "      <td>0.0</td>\n",
       "      <td>0.0</td>\n",
       "    </tr>\n",
       "  </tbody>\n",
       "</table>\n",
       "<p>5 rows × 2676 columns</p>\n",
       "</div>"
      ],
      "text/plain": [
       "   Ag - Ag bond frac.  Ag - As bond frac.  Ag - Au bond frac.  \\\n",
       "0                 0.0                 0.0                 0.0   \n",
       "1                 0.0                 0.0                 0.0   \n",
       "2                 0.0                 0.0                 0.0   \n",
       "3                 0.0                 0.0                 0.0   \n",
       "4                 0.0                 0.0                 0.0   \n",
       "\n",
       "   Ag - B bond frac.  Ag - Bi bond frac.  Ag - Br bond frac.  \\\n",
       "0                0.0                 0.0                 0.0   \n",
       "1                0.0                 0.0                 0.0   \n",
       "2                0.0                 0.0                 0.0   \n",
       "3                0.0                 0.0                 0.0   \n",
       "4                0.0                 0.0                 0.0   \n",
       "\n",
       "   Ag - C bond frac.  Ag - Cl bond frac.  Ag - Cr bond frac.  \\\n",
       "0                0.0                 0.0                 0.0   \n",
       "1                0.0                 0.0                 0.0   \n",
       "2                0.0                 0.0                 0.0   \n",
       "3                0.0                 0.0                 0.0   \n",
       "4                0.0                 0.0                 0.0   \n",
       "\n",
       "   Ag - Cu bond frac.  ...  Mn site #0  Mn site #1  Mn site #2  Mn site #3  \\\n",
       "0                 0.0  ...         0.0         0.0         0.0         0.0   \n",
       "1                 0.0  ...         0.0         0.0         0.0         0.0   \n",
       "2                 0.0  ...         0.0         0.0         0.0         0.0   \n",
       "3                 0.0  ...         0.0         0.0         0.0         0.0   \n",
       "4                 0.0  ...         0.0         0.0         0.0         0.0   \n",
       "\n",
       "   Mn site #4  Mn site #5  Mn site #6  Mn site #7  Mn - Tl bond #0  \\\n",
       "0         0.0         0.0         0.0         0.0              0.0   \n",
       "1         0.0         0.0         0.0         0.0              0.0   \n",
       "2         0.0         0.0         0.0         0.0              0.0   \n",
       "3         0.0         0.0         0.0         0.0              0.0   \n",
       "4         0.0         0.0         0.0         0.0              0.0   \n",
       "\n",
       "   Mn - Tl bond #1  \n",
       "0              0.0  \n",
       "1              0.0  \n",
       "2              0.0  \n",
       "3              0.0  \n",
       "4              0.0  \n",
       "\n",
       "[5 rows x 2676 columns]"
      ]
     },
     "execution_count": 180,
     "metadata": {},
     "output_type": "execute_result"
    }
   ],
   "source": [
    "df_features=pd.DataFrame.from_dict(features_dict).T.astype(float)\n",
    "df_features.head()"
   ]
  },
  {
   "cell_type": "code",
   "execution_count": 328,
   "metadata": {},
   "outputs": [],
   "source": [
    "df_features.to_pickle(\"Features_BondFractions_BagofBonds.pkl\")"
   ]
  },
  {
   "cell_type": "code",
   "execution_count": 329,
   "metadata": {},
   "outputs": [],
   "source": [
    "df_features = pd.read_pickle(\"Features_BondFractions_BagofBonds.pkl\")"
   ]
  },
  {
   "cell_type": "code",
   "execution_count": 330,
   "metadata": {},
   "outputs": [],
   "source": [
    "df = df_features.copy()"
   ]
  },
  {
   "cell_type": "code",
   "execution_count": 332,
   "metadata": {},
   "outputs": [],
   "source": [
    "features_MultipleFeaturizer = pd.read_pickle(\"features_MultipleFeaturizer.pkl\")"
   ]
  },
  {
   "cell_type": "code",
   "execution_count": 333,
   "metadata": {},
   "outputs": [],
   "source": [
    "df = pd.concat([df, features_MultipleFeaturizer], axis = 1)"
   ]
  },
  {
   "cell_type": "code",
   "execution_count": 334,
   "metadata": {},
   "outputs": [
    {
     "name": "stdout",
     "output_type": "stream",
     "text": [
      "Input data shape: (2392, 2949)\n"
     ]
    }
   ],
   "source": [
    "X = np.array(df.drop('label', axis = 1))\n",
    "y = df['label']\n",
    "print('Input data shape:', X.shape)"
   ]
  },
  {
   "cell_type": "code",
   "execution_count": 336,
   "metadata": {},
   "outputs": [
    {
     "name": "stdout",
     "output_type": "stream",
     "text": [
      "Number failed: 179/2392\n"
     ]
    }
   ],
   "source": [
    "import pandas as pd\n",
    "failed = np.any(pd.isnull(X), axis=1)\n",
    "print('Number failed: {}/{}'.format(np.sum(failed), len(failed)))"
   ]
  },
  {
   "cell_type": "code",
   "execution_count": 337,
   "metadata": {},
   "outputs": [],
   "source": [
    "model = Pipeline([\n",
    "    ('imputer', SimpleImputer()), # For the failed structures\n",
    "    ('model', RandomForestClassifier(n_estimators=1000, n_jobs=-1))\n",
    "])"
   ]
  },
  {
   "cell_type": "code",
   "execution_count": 338,
   "metadata": {},
   "outputs": [],
   "source": [
    "X_train, X_test, y_train, y_test = train_test_split(X, y, test_size=0.3, random_state=101)"
   ]
  },
  {
   "cell_type": "code",
   "execution_count": 339,
   "metadata": {},
   "outputs": [
    {
     "data": {
      "text/plain": [
       "Pipeline(steps=[('imputer', SimpleImputer()),\n",
       "                ('model',\n",
       "                 RandomForestClassifier(n_estimators=1000, n_jobs=-1))])"
      ]
     },
     "execution_count": 339,
     "metadata": {},
     "output_type": "execute_result"
    }
   ],
   "source": [
    "model.fit(X_train,y_train)"
   ]
  },
  {
   "cell_type": "code",
   "execution_count": 340,
   "metadata": {},
   "outputs": [],
   "source": [
    "predictions = model.predict(X_test)"
   ]
  },
  {
   "cell_type": "code",
   "execution_count": 341,
   "metadata": {},
   "outputs": [],
   "source": [
    "from sklearn.metrics import classification_report, confusion_matrix"
   ]
  },
  {
   "cell_type": "code",
   "execution_count": 342,
   "metadata": {},
   "outputs": [
    {
     "name": "stdout",
     "output_type": "stream",
     "text": [
      "              precision    recall  f1-score   support\n",
      "\n",
      "          EE       0.82      0.85      0.83       341\n",
      "         HBE       0.74      0.69      0.71       167\n",
      "          PE       0.65      0.65      0.65       210\n",
      "\n",
      "    accuracy                           0.75       718\n",
      "   macro avg       0.74      0.73      0.73       718\n",
      "weighted avg       0.75      0.75      0.75       718\n",
      "\n",
      "\n",
      "\n",
      "[[289  15  37]\n",
      " [ 17 115  35]\n",
      " [ 48  26 136]]\n"
     ]
    }
   ],
   "source": [
    "print(classification_report(y_test,predictions))\n",
    "print('\\n')\n",
    "print(confusion_matrix(y_test,predictions))"
   ]
  },
  {
   "cell_type": "code",
   "execution_count": null,
   "metadata": {},
   "outputs": [],
   "source": []
  },
  {
   "cell_type": "markdown",
   "metadata": {},
   "source": [
    "***In case of binary classification***"
   ]
  },
  {
   "cell_type": "code",
   "execution_count": 343,
   "metadata": {},
   "outputs": [],
   "source": [
    "df = df.dropna()"
   ]
  },
  {
   "cell_type": "code",
   "execution_count": 344,
   "metadata": {},
   "outputs": [],
   "source": [
    "df.replace(to_replace='PE', value='EE', inplace=True)\n",
    "df.replace(to_replace='EE', value=1, inplace=True)\n",
    "df.replace(to_replace='HBE', value=0, inplace=True)"
   ]
  },
  {
   "cell_type": "code",
   "execution_count": 345,
   "metadata": {},
   "outputs": [],
   "source": [
    "X = df.drop('label', axis = 1).values\n",
    "y = df['label'].values"
   ]
  },
  {
   "cell_type": "code",
   "execution_count": 346,
   "metadata": {},
   "outputs": [],
   "source": [
    "X_train, X_test, y_train, y_test = train_test_split(X, y, test_size=0.3, random_state=101)"
   ]
  },
  {
   "cell_type": "code",
   "execution_count": null,
   "metadata": {},
   "outputs": [],
   "source": []
  },
  {
   "cell_type": "markdown",
   "metadata": {},
   "source": [
    "***Logestic Regression***"
   ]
  },
  {
   "cell_type": "code",
   "execution_count": 347,
   "metadata": {},
   "outputs": [],
   "source": [
    "from sklearn.linear_model import LogisticRegression"
   ]
  },
  {
   "cell_type": "code",
   "execution_count": 348,
   "metadata": {},
   "outputs": [],
   "source": [
    "logmodel = LogisticRegression()"
   ]
  },
  {
   "cell_type": "code",
   "execution_count": 349,
   "metadata": {},
   "outputs": [
    {
     "name": "stderr",
     "output_type": "stream",
     "text": [
      "/Users/mohammad/anaconda3/lib/python3.7/site-packages/sklearn/linear_model/_logistic.py:818: ConvergenceWarning: lbfgs failed to converge (status=1):\n",
      "STOP: TOTAL NO. of ITERATIONS REACHED LIMIT.\n",
      "\n",
      "Increase the number of iterations (max_iter) or scale the data as shown in:\n",
      "    https://scikit-learn.org/stable/modules/preprocessing.html\n",
      "Please also refer to the documentation for alternative solver options:\n",
      "    https://scikit-learn.org/stable/modules/linear_model.html#logistic-regression\n",
      "  extra_warning_msg=_LOGISTIC_SOLVER_CONVERGENCE_MSG,\n"
     ]
    },
    {
     "data": {
      "text/plain": [
       "LogisticRegression()"
      ]
     },
     "execution_count": 349,
     "metadata": {},
     "output_type": "execute_result"
    }
   ],
   "source": [
    "logmodel.fit(X_train,y_train)"
   ]
  },
  {
   "cell_type": "code",
   "execution_count": 352,
   "metadata": {},
   "outputs": [],
   "source": [
    "predictions = logmodel.predict(X_test)"
   ]
  },
  {
   "cell_type": "markdown",
   "metadata": {},
   "source": [
    "***Evaluation Logestic Regression***"
   ]
  },
  {
   "cell_type": "code",
   "execution_count": 353,
   "metadata": {},
   "outputs": [],
   "source": [
    "from sklearn.metrics import classification_report"
   ]
  },
  {
   "cell_type": "code",
   "execution_count": 359,
   "metadata": {},
   "outputs": [
    {
     "name": "stdout",
     "output_type": "stream",
     "text": [
      "              precision    recall  f1-score   support\n",
      "\n",
      "           0       0.58      0.61      0.59       139\n",
      "           1       0.90      0.88      0.89       525\n",
      "\n",
      "    accuracy                           0.83       664\n",
      "   macro avg       0.74      0.75      0.74       664\n",
      "weighted avg       0.83      0.83      0.83       664\n",
      "\n",
      "\n",
      "\n",
      "[[ 85  54]\n",
      " [ 62 463]]\n"
     ]
    }
   ],
   "source": [
    "print(classification_report(y_test,predictions))\n",
    "print('\\n')\n",
    "print(confusion_matrix(y_test,predictions))"
   ]
  },
  {
   "cell_type": "code",
   "execution_count": null,
   "metadata": {},
   "outputs": [],
   "source": []
  },
  {
   "cell_type": "markdown",
   "metadata": {},
   "source": [
    "***Decision Tree***"
   ]
  },
  {
   "cell_type": "code",
   "execution_count": 355,
   "metadata": {},
   "outputs": [],
   "source": [
    "from sklearn.tree import DecisionTreeClassifier"
   ]
  },
  {
   "cell_type": "code",
   "execution_count": 356,
   "metadata": {},
   "outputs": [
    {
     "data": {
      "text/plain": [
       "DecisionTreeClassifier()"
      ]
     },
     "execution_count": 356,
     "metadata": {},
     "output_type": "execute_result"
    }
   ],
   "source": [
    "dtree = DecisionTreeClassifier()\n",
    "dtree.fit(X_train,y_train)"
   ]
  },
  {
   "cell_type": "code",
   "execution_count": 357,
   "metadata": {},
   "outputs": [],
   "source": [
    "predictions = dtree.predict(X_test)"
   ]
  },
  {
   "cell_type": "code",
   "execution_count": 358,
   "metadata": {},
   "outputs": [
    {
     "name": "stdout",
     "output_type": "stream",
     "text": [
      "              precision    recall  f1-score   support\n",
      "\n",
      "           0       0.58      0.61      0.59       139\n",
      "           1       0.90      0.88      0.89       525\n",
      "\n",
      "    accuracy                           0.83       664\n",
      "   macro avg       0.74      0.75      0.74       664\n",
      "weighted avg       0.83      0.83      0.83       664\n",
      "\n",
      "\n",
      "\n",
      "[[ 85  54]\n",
      " [ 62 463]]\n"
     ]
    }
   ],
   "source": [
    "from sklearn.metrics import classification_report, confusion_matrix\n",
    "print(classification_report(y_test, predictions))\n",
    "print(\"\\n\")\n",
    "print(confusion_matrix(y_test, predictions))"
   ]
  },
  {
   "cell_type": "code",
   "execution_count": null,
   "metadata": {},
   "outputs": [],
   "source": []
  },
  {
   "cell_type": "markdown",
   "metadata": {},
   "source": [
    "***Random Forest Model***"
   ]
  },
  {
   "cell_type": "code",
   "execution_count": 310,
   "metadata": {},
   "outputs": [],
   "source": [
    "from sklearn.ensemble import RandomForestClassifier"
   ]
  },
  {
   "cell_type": "code",
   "execution_count": 311,
   "metadata": {},
   "outputs": [
    {
     "data": {
      "text/plain": [
       "RandomForestClassifier(n_estimators=600)"
      ]
     },
     "execution_count": 311,
     "metadata": {},
     "output_type": "execute_result"
    }
   ],
   "source": [
    "RF = RandomForestClassifier(n_estimators=600)\n",
    "RF.fit(X_train,y_train)"
   ]
  },
  {
   "cell_type": "code",
   "execution_count": 313,
   "metadata": {},
   "outputs": [],
   "source": [
    "pred_RF = RF.predict(X_test)"
   ]
  },
  {
   "cell_type": "code",
   "execution_count": 314,
   "metadata": {},
   "outputs": [
    {
     "name": "stdout",
     "output_type": "stream",
     "text": [
      "              precision    recall  f1-score   support\n",
      "\n",
      "           0       0.88      0.50      0.64       139\n",
      "           1       0.88      0.98      0.93       525\n",
      "\n",
      "    accuracy                           0.88       664\n",
      "   macro avg       0.88      0.74      0.78       664\n",
      "weighted avg       0.88      0.88      0.87       664\n",
      "\n",
      "\n",
      "\n",
      "[[ 69  70]\n",
      " [  9 516]]\n"
     ]
    }
   ],
   "source": [
    "print(classification_report(y_test, pred_RF))\n",
    "print(\"\\n\")\n",
    "print(confusion_matrix(y_test, pred_RF))"
   ]
  },
  {
   "cell_type": "code",
   "execution_count": null,
   "metadata": {},
   "outputs": [],
   "source": []
  },
  {
   "cell_type": "markdown",
   "metadata": {},
   "source": [
    "***Neural Network***"
   ]
  },
  {
   "cell_type": "code",
   "execution_count": 315,
   "metadata": {},
   "outputs": [],
   "source": [
    "import tensorflow as tf\n",
    "from tensorflow.keras.models import Sequential\n",
    "from tensorflow.keras.layers import Dense, Activation,Dropout"
   ]
  },
  {
   "cell_type": "code",
   "execution_count": 316,
   "metadata": {},
   "outputs": [
    {
     "data": {
      "text/plain": [
       "(2213, 2949)"
      ]
     },
     "execution_count": 316,
     "metadata": {},
     "output_type": "execute_result"
    }
   ],
   "source": [
    "X.shape"
   ]
  },
  {
   "cell_type": "code",
   "execution_count": 317,
   "metadata": {},
   "outputs": [],
   "source": [
    "from tensorflow.keras.callbacks import EarlyStopping\n",
    "\n",
    "early_stop = EarlyStopping(monitor='val_loss', mode='min', verbose=1, patience=25)"
   ]
  },
  {
   "cell_type": "code",
   "execution_count": 361,
   "metadata": {},
   "outputs": [],
   "source": [
    "model = Sequential()"
   ]
  },
  {
   "cell_type": "code",
   "execution_count": 362,
   "metadata": {},
   "outputs": [],
   "source": [
    "model.add(Dense(units=2949,activation='relu'))\n",
    "model.add(Dropout(0.1))\n",
    "model.add(Dense(units=2000,activation='relu'))\n",
    "model.add(Dropout(0.1))\n",
    "model.add(Dense(units=1500,activation='relu'))\n",
    "model.add(Dropout(0.1))\n",
    "model.add(Dense(units=1000,activation='relu'))\n",
    "model.add(Dropout(0.1))\n",
    "model.add(Dense(units=500,activation='relu'))\n",
    "model.add(Dropout(0.1))\n",
    "model.add(Dense(units=1,activation='sigmoid'))\n",
    "\n",
    "# For a binary classification problem\n",
    "model.compile(loss='binary_crossentropy', optimizer='adam')"
   ]
  },
  {
   "cell_type": "code",
   "execution_count": 363,
   "metadata": {
    "scrolled": true
   },
   "outputs": [
    {
     "name": "stdout",
     "output_type": "stream",
     "text": [
      "Epoch 1/600\n",
      "49/49 [==============================] - 6s 104ms/step - loss: 12.4090 - val_loss: 0.5318\n",
      "Epoch 2/600\n",
      "49/49 [==============================] - 5s 103ms/step - loss: 0.5773 - val_loss: 0.5074\n",
      "Epoch 3/600\n",
      "49/49 [==============================] - 6s 115ms/step - loss: 0.5357 - val_loss: 0.4985\n",
      "Epoch 4/600\n",
      "49/49 [==============================] - 6s 113ms/step - loss: 0.5124 - val_loss: 0.4675\n",
      "Epoch 5/600\n",
      "49/49 [==============================] - 5s 107ms/step - loss: 0.5131 - val_loss: 0.4592\n",
      "Epoch 6/600\n",
      "49/49 [==============================] - 5s 107ms/step - loss: 0.4897 - val_loss: 0.4341\n",
      "Epoch 7/600\n",
      "49/49 [==============================] - 5s 107ms/step - loss: 0.4672 - val_loss: 0.4161\n",
      "Epoch 8/600\n",
      "49/49 [==============================] - 5s 109ms/step - loss: 0.4700 - val_loss: 0.4428\n",
      "Epoch 9/600\n",
      "49/49 [==============================] - 5s 107ms/step - loss: 0.4572 - val_loss: 0.4231\n",
      "Epoch 10/600\n",
      "49/49 [==============================] - 5s 105ms/step - loss: 0.4518 - val_loss: 0.4124\n",
      "Epoch 11/600\n",
      "49/49 [==============================] - 5s 106ms/step - loss: 0.4572 - val_loss: 0.3741\n",
      "Epoch 12/600\n",
      "49/49 [==============================] - 6s 117ms/step - loss: 0.4644 - val_loss: 0.3920\n",
      "Epoch 13/600\n",
      "49/49 [==============================] - 6s 117ms/step - loss: 0.4522 - val_loss: 0.3962\n",
      "Epoch 14/600\n",
      "49/49 [==============================] - 5s 106ms/step - loss: 0.4403 - val_loss: 0.3945\n",
      "Epoch 15/600\n",
      "49/49 [==============================] - 6s 113ms/step - loss: 0.4258 - val_loss: 0.4958\n",
      "Epoch 16/600\n",
      "49/49 [==============================] - 5s 108ms/step - loss: 0.4427 - val_loss: 0.3882\n",
      "Epoch 17/600\n",
      "49/49 [==============================] - 5s 111ms/step - loss: 0.4305 - val_loss: 0.4128\n",
      "Epoch 18/600\n",
      "49/49 [==============================] - 6s 116ms/step - loss: 0.4377 - val_loss: 0.3828\n",
      "Epoch 19/600\n",
      "49/49 [==============================] - 5s 108ms/step - loss: 0.4131 - val_loss: 0.4454\n",
      "Epoch 20/600\n",
      "49/49 [==============================] - 5s 111ms/step - loss: 0.4048 - val_loss: 0.3648\n",
      "Epoch 21/600\n",
      "49/49 [==============================] - 5s 109ms/step - loss: 0.4108 - val_loss: 0.4029\n",
      "Epoch 22/600\n",
      "49/49 [==============================] - 5s 111ms/step - loss: 0.4043 - val_loss: 0.3752\n",
      "Epoch 23/600\n",
      "49/49 [==============================] - 5s 108ms/step - loss: 0.4083 - val_loss: 0.3856\n",
      "Epoch 24/600\n",
      "49/49 [==============================] - 5s 108ms/step - loss: 0.3977 - val_loss: 0.3998\n",
      "Epoch 25/600\n",
      "49/49 [==============================] - 6s 113ms/step - loss: 0.4348 - val_loss: 0.4496\n",
      "Epoch 26/600\n",
      "49/49 [==============================] - 6s 118ms/step - loss: 0.4650 - val_loss: 0.4089\n",
      "Epoch 27/600\n",
      "49/49 [==============================] - 5s 112ms/step - loss: 0.4295 - val_loss: 0.3865\n",
      "Epoch 28/600\n",
      "49/49 [==============================] - 6s 114ms/step - loss: 0.3958 - val_loss: 0.3750\n",
      "Epoch 29/600\n",
      "49/49 [==============================] - 5s 108ms/step - loss: 0.4079 - val_loss: 0.4108\n",
      "Epoch 30/600\n",
      "49/49 [==============================] - 6s 115ms/step - loss: 0.3922 - val_loss: 0.3869\n",
      "Epoch 31/600\n",
      "49/49 [==============================] - 6s 113ms/step - loss: 0.4223 - val_loss: 0.3968\n",
      "Epoch 32/600\n",
      "49/49 [==============================] - 5s 110ms/step - loss: 0.3908 - val_loss: 0.4031\n",
      "Epoch 33/600\n",
      "49/49 [==============================] - 5s 107ms/step - loss: 0.3855 - val_loss: 0.3911\n",
      "Epoch 34/600\n",
      "49/49 [==============================] - 6s 113ms/step - loss: 0.3842 - val_loss: 0.3990\n",
      "Epoch 35/600\n",
      "49/49 [==============================] - 5s 112ms/step - loss: 0.4076 - val_loss: 0.4052\n",
      "Epoch 36/600\n",
      "49/49 [==============================] - 6s 113ms/step - loss: 0.3943 - val_loss: 0.4036\n",
      "Epoch 37/600\n",
      "49/49 [==============================] - 5s 108ms/step - loss: 0.3888 - val_loss: 0.3756\n",
      "Epoch 38/600\n",
      "49/49 [==============================] - 5s 110ms/step - loss: 0.3756 - val_loss: 0.4312\n",
      "Epoch 39/600\n",
      "49/49 [==============================] - 5s 112ms/step - loss: 0.4235 - val_loss: 0.4530\n",
      "Epoch 40/600\n",
      "49/49 [==============================] - 6s 112ms/step - loss: 0.3936 - val_loss: 0.3791\n",
      "Epoch 41/600\n",
      "49/49 [==============================] - 6s 113ms/step - loss: 0.3658 - val_loss: 0.4309\n",
      "Epoch 42/600\n",
      "49/49 [==============================] - 6s 114ms/step - loss: 0.3751 - val_loss: 0.3687\n",
      "Epoch 43/600\n",
      "49/49 [==============================] - 5s 110ms/step - loss: 0.3616 - val_loss: 0.3944\n",
      "Epoch 44/600\n",
      "49/49 [==============================] - 5s 109ms/step - loss: 0.3732 - val_loss: 0.3818\n",
      "Epoch 45/600\n",
      "49/49 [==============================] - 5s 110ms/step - loss: 0.3651 - val_loss: 0.3795\n",
      "Epoch 00045: early stopping\n"
     ]
    },
    {
     "data": {
      "text/plain": [
       "<keras.callbacks.History at 0x7fc093a52f10>"
      ]
     },
     "execution_count": 363,
     "metadata": {},
     "output_type": "execute_result"
    }
   ],
   "source": [
    "model.fit(x=X_train, \n",
    "          y=y_train, \n",
    "          epochs=600,\n",
    "          validation_data=(X_test, y_test), verbose=1,\n",
    "          callbacks=[early_stop]\n",
    "          )"
   ]
  },
  {
   "cell_type": "code",
   "execution_count": 364,
   "metadata": {},
   "outputs": [
    {
     "data": {
      "text/plain": [
       "<AxesSubplot:>"
      ]
     },
     "execution_count": 364,
     "metadata": {},
     "output_type": "execute_result"
    },
    {
     "data": {
      "image/png": "[encoded data removed]",
      "text/plain": [
       "<Figure size 432x288 with 1 Axes>"
      ]
     },
     "metadata": {
      "needs_background": "light"
     },
     "output_type": "display_data"
    }
   ],
   "source": [
    "model_loss = pd.DataFrame(model.history.history)\n",
    "model_loss.plot()"
   ]
  },
  {
   "cell_type": "code",
   "execution_count": 365,
   "metadata": {},
   "outputs": [],
   "source": [
    "predictions = model.predict(X_test)"
   ]
  },
  {
   "cell_type": "code",
   "execution_count": 366,
   "metadata": {},
   "outputs": [
    {
     "data": {
      "text/plain": [
       "(664,)"
      ]
     },
     "execution_count": 366,
     "metadata": {},
     "output_type": "execute_result"
    }
   ],
   "source": [
    "y_test.shape"
   ]
  },
  {
   "cell_type": "code",
   "execution_count": 367,
   "metadata": {},
   "outputs": [
    {
     "data": {
      "text/plain": [
       "(664,)"
      ]
     },
     "execution_count": 367,
     "metadata": {},
     "output_type": "execute_result"
    }
   ],
   "source": [
    "predictions = predictions.reshape(len(y_test))\n",
    "predictions.shape"
   ]
  },
  {
   "cell_type": "code",
   "execution_count": 368,
   "metadata": {},
   "outputs": [],
   "source": [
    "pred = [round(i) for i in predictions]"
   ]
  },
  {
   "cell_type": "code",
   "execution_count": 369,
   "metadata": {},
   "outputs": [
    {
     "name": "stdout",
     "output_type": "stream",
     "text": [
      "              precision    recall  f1-score   support\n",
      "\n",
      "           0       0.69      0.50      0.58       139\n",
      "           1       0.88      0.94      0.91       525\n",
      "\n",
      "    accuracy                           0.85       664\n",
      "   macro avg       0.79      0.72      0.75       664\n",
      "weighted avg       0.84      0.85      0.84       664\n",
      "\n",
      "\n",
      "\n",
      "[[ 70  69]\n",
      " [ 31 494]]\n"
     ]
    }
   ],
   "source": [
    "print(classification_report(y_test, pred))\n",
    "print(\"\\n\")\n",
    "print(confusion_matrix(y_test, pred))"
   ]
  },
  {
   "cell_type": "code",
   "execution_count": null,
   "metadata": {},
   "outputs": [],
   "source": []
  }
 ],
 "metadata": {
  "kernelspec": {
   "display_name": "Python 3",
   "language": "python",
   "name": "python3"
  },
  "language_info": {
   "codemirror_mode": {
    "name": "ipython",
    "version": 3
   },
   "file_extension": ".py",
   "mimetype": "text/x-python",
   "name": "python",
   "nbconvert_exporter": "python",
   "pygments_lexer": "ipython3",
   "version": "3.7.5"
  }
 },
 "nbformat": 4,
 "nbformat_minor": 2
}
