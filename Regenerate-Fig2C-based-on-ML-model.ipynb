{
 "cells": [
  {
   "cell_type": "code",
   "execution_count": 1,
   "metadata": {},
   "outputs": [],
   "source": [
    "import os\n",
    "import json\n",
    "from collections import defaultdict\n",
    "import matplotlib.pyplot as plt"
   ]
  },
  {
   "cell_type": "markdown",
   "metadata": {},
   "source": [
    "**Import binding energies calculated with revPBE, rVV10, and vDW-DF2**"
   ]
  },
  {
   "cell_type": "code",
   "execution_count": 2,
   "metadata": {},
   "outputs": [],
   "source": [
    "with open(os.path.join('data', 'structures_df2_calc_with_bands_be.json')) as fhandle:\n",
    "        df2 = json.load(fhandle)\n",
    "with open(os.path.join('data', 'structures_rvv10_calc_with_bands_be.json')) as fhandle:\n",
    "        rvv10 = json.load(fhandle)\n",
    "with open(os.path.join('data', 'structures_revpbe_calc_with_bands_be.json')) as fhandle:\n",
    "        revpbe = json.load(fhandle)"
   ]
  },
  {
   "cell_type": "code",
   "execution_count": 3,
   "metadata": {},
   "outputs": [
    {
     "data": {
      "text/plain": [
       "{'cell': [[16.8562741837162, 0.0, 0.0],\n",
       "  [0.0, 7.22133640167749, 0.0],\n",
       "  [0.0, 0.0, 6.91643636329717]],\n",
       " 'volume': 841.902015349062,\n",
       " 'binding_energy': {'relevant_dimension_of_highest_dimensionality_substructure': 121.724826359526,\n",
       "  'binding_energy_per_substructure': -2.35420277139929,\n",
       "  'number_of_atoms_in_bulk': 32,\n",
       "  'uuid': '2964aca5-ac8d-4cc8-bf76-d9ca5c439fec',\n",
       "  'delta_min': 0.7,\n",
       "  'number_of_highest_dimensionality_substructures_in_bulk': 1,\n",
       "  'sub_structure_spg': ['Pmma (51)'],\n",
       "  'relevant_dimension_units': 'ang^2',\n",
       "  'transformation_mat': [[0.0, 1.0, 0.0], [1.0, 0.0, 0.0], [0.0, 0.0, 1.0]],\n",
       "  'energy_units': 'eV',\n",
       "  'sub_structure_dim': [2],\n",
       "  'energy_bulk': -51375.7611599322,\n",
       "  'sub_structure_formulas': ['Br22Nb8Rb2']},\n",
       " 'uuid_pw': 'd7ec50df-0de7-4ee6-95dd-0d9cdd0ad19b'}"
      ]
     },
     "execution_count": 3,
     "metadata": {},
     "output_type": "execute_result"
    }
   ],
   "source": [
    "df2['41a0956f-91be-469e-8e98-58188e746301']"
   ]
  },
  {
   "cell_type": "markdown",
   "metadata": {},
   "source": [
    "***For some structures, we have binding energies with both rVV10 and vDW-DF2:***"
   ]
  },
  {
   "cell_type": "code",
   "execution_count": 4,
   "metadata": {},
   "outputs": [
    {
     "name": "stdout",
     "output_type": "stream",
     "text": [
      "Found 2663 entries, these should be set D of the Mounet paper, maybe there is one structure that has been 'removed' by hand\n",
      "Structures containing BN:\n",
      "{\n",
      "  \"f7e2ff32-27ed-4c89-9c3c-4acbaffbb897\": {\n",
      "    \"sub_structure_formulas\": [\n",
      "      \"BN\"\n",
      "    ],\n",
      "    \"rvv10\": 25.073826446277092,\n",
      "    \"df2\": 20.06262819882249\n",
      "  },\n",
      "  \"967b8f61-56d9-4082-8e85-cb834f47d8ac\": {\n",
      "    \"sub_structure_formulas\": [\n",
      "      \"BN\"\n",
      "    ],\n",
      "    \"rvv10\": 25.157073954185357,\n",
      "    \"df2\": 20.298162003656397\n",
      "  },\n",
      "  \"8f2e38e9-01d5-4208-adaf-daa461ac8139\": {\n",
      "    \"sub_structure_formulas\": [\n",
      "      \"BN\"\n",
      "    ],\n",
      "    \"rvv10\": 24.43280244214127,\n",
      "    \"df2\": 19.38081606716093\n",
      "  }\n",
      "}\n"
     ]
    }
   ],
   "source": [
    "    binding_energies_raw = {}\n",
    "    for uuid_key in set(df2).union(rvv10):\n",
    "        subdict = {}\n",
    "        df2_binding_energy = df2.get(uuid_key, {}).get('binding_energy', {})\n",
    "        if df2_binding_energy:\n",
    "            subdict['df2'] = df2_binding_energy\n",
    "        rvv10_binding_energy = rvv10.get(uuid_key, {}).get('binding_energy', {})\n",
    "        if rvv10_binding_energy:\n",
    "            subdict['rvv10'] = rvv10_binding_energy\n",
    "        if subdict:\n",
    "            binding_energies_raw[uuid_key] = subdict\n",
    "    \n",
    "    print(\"Found {} entries, these should be set D of the Mounet paper, maybe there is one structure that has been 'removed' by hand\".format(\n",
    "        len(binding_energies_raw)))\n",
    "\n",
    "    binding_energies = {}\n",
    "    for key, val in binding_energies_raw.items():\n",
    "        subdict = defaultdict(dict)\n",
    "        subdict['sub_structure_formulas'] = []\n",
    "        for method in ['rvv10', 'df2']:\n",
    "            try:\n",
    "                # meV / ang^2, with positive sign\n",
    "                subdict[method] = ( -1000. *\n",
    "                    val[method]['binding_energy_per_substructure']/\n",
    "                    val[method]['relevant_dimension_of_highest_dimensionality_substructure'])\n",
    "                subdict['sub_structure_formulas'] += val[method]['sub_structure_formulas'] # Might need to skip the non-2D ones\n",
    "            except KeyError as exc:\n",
    "                # Binding energy not computed with this method\n",
    "                if str(exc) != \"'{}'\".format(method):\n",
    "                    print(str(exc), method)\n",
    "                    raise\n",
    "        subdict['sub_structure_formulas'] = sorted(set(subdict['sub_structure_formulas']))\n",
    "        binding_energies[key] = dict(subdict.items())\n",
    "    BN_structures = {k: v for k, v in binding_energies.items() if 'BN' in v['sub_structure_formulas']}\n",
    "    print(\"Structures containing BN:\")\n",
    "    print(json.dumps(BN_structures, indent=2))"
   ]
  },
  {
   "cell_type": "code",
   "execution_count": 5,
   "metadata": {},
   "outputs": [
    {
     "data": {
      "text/plain": [
       "{'df2': {'relevant_dimension_of_highest_dimensionality_substructure': 26.051195073268,\n",
       "  'binding_energy_per_substructure': -0.546954113597167,\n",
       "  'number_of_atoms_in_bulk': 14,\n",
       "  'uuid': '954b3ada-7a5a-41a5-af1b-19cafcb4258e',\n",
       "  'delta_min': 0.6,\n",
       "  'number_of_highest_dimensionality_substructures_in_bulk': 1,\n",
       "  'sub_structure_spg': ['P-1 (2)'],\n",
       "  'relevant_dimension_units': 'ang^2',\n",
       "  'transformation_mat': [[1.0, -1.0, 0.0],\n",
       "   [-0.0, -0.0, 1.0],\n",
       "   [0.0, -1.0, -0.0]],\n",
       "  'energy_units': 'eV',\n",
       "  'sub_structure_dim': [2],\n",
       "  'energy_bulk': -54233.1567725866,\n",
       "  'sub_structure_formulas': ['Bi4O8Sr2']},\n",
       " 'rvv10': {'relevant_dimension_of_highest_dimensionality_substructure': 26.6315120874066,\n",
       "  'binding_energy_per_substructure': -0.792859168097493,\n",
       "  'number_of_atoms_in_bulk': 14,\n",
       "  'uuid': '78e36a32-3735-438b-955c-64a54e4757fb',\n",
       "  'delta_min': 0.6,\n",
       "  'number_of_highest_dimensionality_substructures_in_bulk': 1,\n",
       "  'sub_structure_spg': ['P-1 (2)'],\n",
       "  'relevant_dimension_units': 'ang^2',\n",
       "  'transformation_mat': [[1.0, -1.0, 0.0],\n",
       "   [-0.0, -0.0, 1.0],\n",
       "   [0.0, -1.0, -0.0]],\n",
       "  'energy_units': 'eV',\n",
       "  'sub_structure_dim': [2],\n",
       "  'energy_bulk': -55100.5019876422,\n",
       "  'sub_structure_formulas': ['Bi4O8Sr2']}}"
      ]
     },
     "execution_count": 5,
     "metadata": {},
     "output_type": "execute_result"
    }
   ],
   "source": [
    "binding_energies_raw['5152efb8-1470-4d3b-999f-aac46e5c6758']"
   ]
  },
  {
   "cell_type": "markdown",
   "metadata": {},
   "source": [
    "***Let's see how many substructures we have:***"
   ]
  },
  {
   "cell_type": "code",
   "execution_count": 6,
   "metadata": {},
   "outputs": [],
   "source": [
    "import itertools"
   ]
  },
  {
   "cell_type": "code",
   "execution_count": 7,
   "metadata": {},
   "outputs": [],
   "source": [
    "all_sub_structure_formulas = [binding_energies[key]['sub_structure_formulas'] for key in binding_energies.keys()]"
   ]
  },
  {
   "cell_type": "code",
   "execution_count": 8,
   "metadata": {},
   "outputs": [
    {
     "data": {
      "text/plain": [
       "2663"
      ]
     },
     "execution_count": 8,
     "metadata": {},
     "output_type": "execute_result"
    }
   ],
   "source": [
    "len(all_sub_structure_formulas)"
   ]
  },
  {
   "cell_type": "markdown",
   "metadata": {},
   "source": [
    "***All the sub-structures aren't unique:***"
   ]
  },
  {
   "cell_type": "code",
   "execution_count": 9,
   "metadata": {},
   "outputs": [],
   "source": [
    "all_sub_structure_formulas.sort()\n",
    "all_sub_structure_formulas = list(num for num,_ in itertools.groupby(all_sub_structure_formulas))"
   ]
  },
  {
   "cell_type": "code",
   "execution_count": 10,
   "metadata": {},
   "outputs": [
    {
     "data": {
      "text/plain": [
       "2388"
      ]
     },
     "execution_count": 10,
     "metadata": {},
     "output_type": "execute_result"
    }
   ],
   "source": [
    "len(all_sub_structure_formulas)"
   ]
  },
  {
   "cell_type": "markdown",
   "metadata": {},
   "source": [
    "***In total, we have 2388 unique sub-structures:***"
   ]
  },
  {
   "cell_type": "code",
   "execution_count": 11,
   "metadata": {},
   "outputs": [],
   "source": [
    "sub_structure_binding = {}\n",
    "for i in all_sub_structure_formulas:\n",
    "    sub_structure_binding[str(i)] = {}\n",
    "    for key, v in binding_energies.items():\n",
    "        if i == v['sub_structure_formulas']:  \n",
    "            sub_structure_binding[str(i)][key] = v\n",
    "            "
   ]
  },
  {
   "cell_type": "code",
   "execution_count": 12,
   "metadata": {},
   "outputs": [
    {
     "data": {
      "text/plain": [
       "{'f7e2ff32-27ed-4c89-9c3c-4acbaffbb897': {'sub_structure_formulas': ['BN'],\n",
       "  'rvv10': 25.073826446277092,\n",
       "  'df2': 20.06262819882249},\n",
       " '967b8f61-56d9-4082-8e85-cb834f47d8ac': {'sub_structure_formulas': ['BN'],\n",
       "  'rvv10': 25.157073954185357,\n",
       "  'df2': 20.298162003656397},\n",
       " '8f2e38e9-01d5-4208-adaf-daa461ac8139': {'sub_structure_formulas': ['BN'],\n",
       "  'rvv10': 24.43280244214127,\n",
       "  'df2': 19.38081606716093}}"
      ]
     },
     "execution_count": 12,
     "metadata": {},
     "output_type": "execute_result"
    }
   ],
   "source": [
    "sub_structure_binding[\"['BN']\"]"
   ]
  },
  {
   "cell_type": "code",
   "execution_count": 13,
   "metadata": {},
   "outputs": [
    {
     "data": {
      "text/plain": [
       "2388"
      ]
     },
     "execution_count": 13,
     "metadata": {},
     "output_type": "execute_result"
    }
   ],
   "source": [
    "len(sub_structure_binding)"
   ]
  },
  {
   "cell_type": "markdown",
   "metadata": {},
   "source": [
    "***Let define EE, PE, and HBE compounds based on the criteria mentioned in the paper:***"
   ]
  },
  {
   "cell_type": "code",
   "execution_count": 14,
   "metadata": {},
   "outputs": [],
   "source": [
    "EE = {}\n",
    "PE = {}\n",
    "HBE = {}\n",
    "for key in sub_structure_binding.keys():\n",
    "    for uuid in sub_structure_binding[key].keys():\n",
    "        if 'rvv10' in sub_structure_binding[key][uuid].keys():\n",
    "            if 'df2' in sub_structure_binding[key][uuid].keys():\n",
    "                if sub_structure_binding[key][uuid]['rvv10'] <= 35 or sub_structure_binding[key][uuid]['df2'] <=30:\n",
    "                    EE[key]= sub_structure_binding[key][uuid]\n",
    "                elif 35 < sub_structure_binding[key][uuid]['rvv10'] <= 130 or 30 < sub_structure_binding[key][uuid]['df2'] <= 130:\n",
    "                    PE[key]= sub_structure_binding[key][uuid]\n",
    "                else:\n",
    "                    HBE[key] = sub_structure_binding[key][uuid]\n",
    "            else:\n",
    "                if sub_structure_binding[key][uuid]['rvv10'] <= 35:\n",
    "                    EE[key]= sub_structure_binding[key][uuid]\n",
    "                elif 35 < sub_structure_binding[key][uuid]['rvv10'] <= 130:\n",
    "                    PE[key]= sub_structure_binding[key][uuid]\n",
    "                else:\n",
    "                    HBE[key] = sub_structure_binding[key][uuid] \n",
    "        else:\n",
    "            if sub_structure_binding[key][uuid]['df2'] <=30:\n",
    "                EE[key]= sub_structure_binding[key][uuid]\n",
    "            elif 30 < sub_structure_binding[key][uuid]['df2'] <= 130:\n",
    "                PE[key]= sub_structure_binding[key][uuid]\n",
    "            else:\n",
    "                HBE[key] = sub_structure_binding[key][uuid]"
   ]
  },
  {
   "cell_type": "code",
   "execution_count": 15,
   "metadata": {},
   "outputs": [
    {
     "name": "stdout",
     "output_type": "stream",
     "text": [
      "Number of EE compounds: 1002\n",
      "\n",
      "\n",
      "Number of PE compounds: 765\n",
      "\n",
      "\n",
      "Number of HBE compounds: 629\n",
      "\n",
      "\n",
      "Total numbers of labeled structures: 2396\n"
     ]
    }
   ],
   "source": [
    "print('Number of EE compounds:', len(EE))\n",
    "print('\\n')\n",
    "print('Number of PE compounds:', len(PE))\n",
    "print('\\n')\n",
    "print('Number of HBE compounds:', len(HBE))\n",
    "print('\\n')\n",
    "print('Total numbers of labeled structures:', len(EE)+len(PE)+len(HBE))"
   ]
  },
  {
   "cell_type": "markdown",
   "metadata": {},
   "source": [
    "***Regenerate the figure in the paper:***"
   ]
  },
  {
   "cell_type": "code",
   "execution_count": 16,
   "metadata": {},
   "outputs": [
    {
     "data": {
      "image/png": "[encoded data removed]",
      "text/plain": [
       "<Figure size 864x216 with 1 Axes>"
      ]
     },
     "metadata": {
      "needs_background": "light"
     },
     "output_type": "display_data"
    },
    {
     "name": "stdout",
     "output_type": "stream",
     "text": [
      "1560\n"
     ]
    }
   ],
   "source": [
    "i = 0\n",
    "color = ['tab:blue',  'tab:green', 'tab:orange']\n",
    "fig, ax = plt.subplots(figsize=(12, 3))\n",
    "for key in revpbe.keys():\n",
    "    if key in binding_energies.keys():\n",
    "    \n",
    "        try:\n",
    "            x = abs(df2[key]['cell'][2][2]-revpbe[key]['cell'][2][2])/df2[key]['cell'][2][2]*100\n",
    "            y = binding_energies[key]['df2']\n",
    "            if y <= 30:\n",
    "                a = plt.scatter(x,y, c = color[0], alpha=0.7, edgecolors='none', label = color[0])\n",
    "                i = i +1\n",
    "            elif 30 < y <= 130:\n",
    "                b = plt.scatter(x,y, c = color[1], alpha=0.7, edgecolors='none', label = color[1])\n",
    "                i = i +1\n",
    "            else:\n",
    "                plt.scatter(x,y, c = color[2], alpha=0.7, edgecolors='none', label = color[2])\n",
    "                i = i +1\n",
    "        except KeyError:\n",
    "            pass\n",
    "plt.yscale('log')\n",
    "plt.xlim((-5,60))\n",
    "plt.ylim((3,1000))\n",
    "plt.xlabel(\"Change in interlayer distance (revPBE versus DF2–C09) (%)\")\n",
    "plt.ylabel(\"Eb (meV Å–2)\")\n",
    "plt.savefig(\"Fig2C.pdf\",bbox_inches='tight',dpi=600)\n",
    "plt.show()\n",
    "print(i)"
   ]
  },
  {
   "cell_type": "markdown",
   "metadata": {},
   "source": [
    "***Regenerate the figure Using the ML Model***"
   ]
  },
  {
   "cell_type": "code",
   "execution_count": 17,
   "metadata": {},
   "outputs": [],
   "source": [
    "import joblib\n",
    "from sklearn.ensemble import RandomForestClassifier\n",
    "import pandas as pd\n",
    "from sklearn.model_selection import train_test_split\n",
    "from sklearn.metrics import classification_report, confusion_matrix"
   ]
  },
  {
   "cell_type": "code",
   "execution_count": 18,
   "metadata": {},
   "outputs": [],
   "source": [
    "RF = RandomForestClassifier(n_estimators=600)"
   ]
  },
  {
   "cell_type": "code",
   "execution_count": 38,
   "metadata": {},
   "outputs": [],
   "source": [
    "loaded_RF = joblib.load(\"./model/random_forest_model.joblib\")"
   ]
  },
  {
   "cell_type": "code",
   "execution_count": 20,
   "metadata": {},
   "outputs": [
    {
     "data": {
      "text/html": [
       "<div>\n",
       "<style scoped>\n",
       "    .dataframe tbody tr th:only-of-type {\n",
       "        vertical-align: middle;\n",
       "    }\n",
       "\n",
       "    .dataframe tbody tr th {\n",
       "        vertical-align: top;\n",
       "    }\n",
       "\n",
       "    .dataframe thead th {\n",
       "        text-align: right;\n",
       "    }\n",
       "</style>\n",
       "<table border=\"1\" class=\"dataframe\">\n",
       "  <thead>\n",
       "    <tr style=\"text-align: right;\">\n",
       "      <th></th>\n",
       "      <th>0</th>\n",
       "      <th>1</th>\n",
       "      <th>2</th>\n",
       "      <th>3</th>\n",
       "      <th>4</th>\n",
       "      <th>5</th>\n",
       "      <th>6</th>\n",
       "      <th>7</th>\n",
       "      <th>8</th>\n",
       "      <th>9</th>\n",
       "      <th>...</th>\n",
       "      <th>264</th>\n",
       "      <th>265</th>\n",
       "      <th>266</th>\n",
       "      <th>267</th>\n",
       "      <th>268</th>\n",
       "      <th>269</th>\n",
       "      <th>270</th>\n",
       "      <th>271</th>\n",
       "      <th>272</th>\n",
       "      <th>label</th>\n",
       "    </tr>\n",
       "  </thead>\n",
       "  <tbody>\n",
       "    <tr>\n",
       "      <th>0</th>\n",
       "      <td>NaN</td>\n",
       "      <td>NaN</td>\n",
       "      <td>NaN</td>\n",
       "      <td>NaN</td>\n",
       "      <td>NaN</td>\n",
       "      <td>NaN</td>\n",
       "      <td>NaN</td>\n",
       "      <td>NaN</td>\n",
       "      <td>NaN</td>\n",
       "      <td>NaN</td>\n",
       "      <td>...</td>\n",
       "      <td>57.777778</td>\n",
       "      <td>64.0</td>\n",
       "      <td>0.130435</td>\n",
       "      <td>0.217391</td>\n",
       "      <td>0.652174</td>\n",
       "      <td>0.000000</td>\n",
       "      <td>1.0</td>\n",
       "      <td>0.209607</td>\n",
       "      <td>0.046579</td>\n",
       "      <td>EE</td>\n",
       "    </tr>\n",
       "    <tr>\n",
       "      <th>1</th>\n",
       "      <td>6.000000</td>\n",
       "      <td>10.432235</td>\n",
       "      <td>4.432235</td>\n",
       "      <td>8.954823</td>\n",
       "      <td>1.969882</td>\n",
       "      <td>0.101871</td>\n",
       "      <td>1.076403</td>\n",
       "      <td>0.847193</td>\n",
       "      <td>1.119514e-11</td>\n",
       "      <td>0.171207</td>\n",
       "      <td>...</td>\n",
       "      <td>73.333333</td>\n",
       "      <td>64.0</td>\n",
       "      <td>0.272727</td>\n",
       "      <td>0.454545</td>\n",
       "      <td>0.272727</td>\n",
       "      <td>0.000000</td>\n",
       "      <td>1.0</td>\n",
       "      <td>0.357395</td>\n",
       "      <td>0.079421</td>\n",
       "      <td>EE</td>\n",
       "    </tr>\n",
       "    <tr>\n",
       "      <th>2</th>\n",
       "      <td>9.052693</td>\n",
       "      <td>11.479272</td>\n",
       "      <td>2.426579</td>\n",
       "      <td>9.749345</td>\n",
       "      <td>0.864963</td>\n",
       "      <td>0.020033</td>\n",
       "      <td>1.032994</td>\n",
       "      <td>0.959935</td>\n",
       "      <td>2.631480e-02</td>\n",
       "      <td>0.125121</td>\n",
       "      <td>...</td>\n",
       "      <td>15.750000</td>\n",
       "      <td>152.0</td>\n",
       "      <td>0.129032</td>\n",
       "      <td>0.193548</td>\n",
       "      <td>0.483871</td>\n",
       "      <td>0.193548</td>\n",
       "      <td>0.0</td>\n",
       "      <td>0.168813</td>\n",
       "      <td>0.031652</td>\n",
       "      <td>EE</td>\n",
       "    </tr>\n",
       "    <tr>\n",
       "      <th>3</th>\n",
       "      <td>10.187778</td>\n",
       "      <td>12.638871</td>\n",
       "      <td>2.451093</td>\n",
       "      <td>11.821840</td>\n",
       "      <td>1.089375</td>\n",
       "      <td>0.050764</td>\n",
       "      <td>1.038073</td>\n",
       "      <td>0.923854</td>\n",
       "      <td>4.593043e-02</td>\n",
       "      <td>0.102799</td>\n",
       "      <td>...</td>\n",
       "      <td>28.000000</td>\n",
       "      <td>229.0</td>\n",
       "      <td>0.200000</td>\n",
       "      <td>0.000000</td>\n",
       "      <td>0.333333</td>\n",
       "      <td>0.466667</td>\n",
       "      <td>0.0</td>\n",
       "      <td>0.265103</td>\n",
       "      <td>0.058912</td>\n",
       "      <td>PE</td>\n",
       "    </tr>\n",
       "    <tr>\n",
       "      <th>4</th>\n",
       "      <td>9.198422</td>\n",
       "      <td>14.426225</td>\n",
       "      <td>5.227803</td>\n",
       "      <td>11.335849</td>\n",
       "      <td>2.060251</td>\n",
       "      <td>0.087363</td>\n",
       "      <td>1.131045</td>\n",
       "      <td>0.914155</td>\n",
       "      <td>9.864448e-02</td>\n",
       "      <td>0.120736</td>\n",
       "      <td>...</td>\n",
       "      <td>65.555556</td>\n",
       "      <td>64.0</td>\n",
       "      <td>0.250000</td>\n",
       "      <td>0.250000</td>\n",
       "      <td>0.500000</td>\n",
       "      <td>0.000000</td>\n",
       "      <td>1.0</td>\n",
       "      <td>0.543070</td>\n",
       "      <td>0.104828</td>\n",
       "      <td>EE</td>\n",
       "    </tr>\n",
       "  </tbody>\n",
       "</table>\n",
       "<p>5 rows × 274 columns</p>\n",
       "</div>"
      ],
      "text/plain": [
       "           0          1         2          3         4         5         6  \\\n",
       "0        NaN        NaN       NaN        NaN       NaN       NaN       NaN   \n",
       "1   6.000000  10.432235  4.432235   8.954823  1.969882  0.101871  1.076403   \n",
       "2   9.052693  11.479272  2.426579   9.749345  0.864963  0.020033  1.032994   \n",
       "3  10.187778  12.638871  2.451093  11.821840  1.089375  0.050764  1.038073   \n",
       "4   9.198422  14.426225  5.227803  11.335849  2.060251  0.087363  1.131045   \n",
       "\n",
       "          7             8         9  ...        264    265       266  \\\n",
       "0       NaN           NaN       NaN  ...  57.777778   64.0  0.130435   \n",
       "1  0.847193  1.119514e-11  0.171207  ...  73.333333   64.0  0.272727   \n",
       "2  0.959935  2.631480e-02  0.125121  ...  15.750000  152.0  0.129032   \n",
       "3  0.923854  4.593043e-02  0.102799  ...  28.000000  229.0  0.200000   \n",
       "4  0.914155  9.864448e-02  0.120736  ...  65.555556   64.0  0.250000   \n",
       "\n",
       "        267       268       269  270       271       272  label  \n",
       "0  0.217391  0.652174  0.000000  1.0  0.209607  0.046579     EE  \n",
       "1  0.454545  0.272727  0.000000  1.0  0.357395  0.079421     EE  \n",
       "2  0.193548  0.483871  0.193548  0.0  0.168813  0.031652     EE  \n",
       "3  0.000000  0.333333  0.466667  0.0  0.265103  0.058912     PE  \n",
       "4  0.250000  0.500000  0.000000  1.0  0.543070  0.104828     EE  \n",
       "\n",
       "[5 rows x 274 columns]"
      ]
     },
     "execution_count": 20,
     "metadata": {},
     "output_type": "execute_result"
    }
   ],
   "source": [
    "df = pd.read_pickle(\"./pickle_files/features_MultipleFeaturizer.pkl\")\n",
    "df.head()"
   ]
  },
  {
   "cell_type": "code",
   "execution_count": 21,
   "metadata": {},
   "outputs": [
    {
     "data": {
      "text/html": [
       "<div>\n",
       "<style scoped>\n",
       "    .dataframe tbody tr th:only-of-type {\n",
       "        vertical-align: middle;\n",
       "    }\n",
       "\n",
       "    .dataframe tbody tr th {\n",
       "        vertical-align: top;\n",
       "    }\n",
       "\n",
       "    .dataframe thead th {\n",
       "        text-align: right;\n",
       "    }\n",
       "</style>\n",
       "<table border=\"1\" class=\"dataframe\">\n",
       "  <thead>\n",
       "    <tr style=\"text-align: right;\">\n",
       "      <th></th>\n",
       "      <th>uuid</th>\n",
       "      <th>structure</th>\n",
       "      <th>cell</th>\n",
       "      <th>volume</th>\n",
       "      <th>relevant_dimension_of_highest_dimensionality_substructure</th>\n",
       "      <th>binding_energy_per_substructure</th>\n",
       "      <th>binding_energy</th>\n",
       "      <th>label</th>\n",
       "      <th>number_of_atoms_in_bulk</th>\n",
       "      <th>number_of_highest_dimensionality_substructures_in_bulk</th>\n",
       "      <th>sub_structure_spg</th>\n",
       "      <th>sub_structure_dim</th>\n",
       "      <th>energy_bulk</th>\n",
       "      <th>sub_structure_formula</th>\n",
       "      <th>PMG Structure from ASE Atoms</th>\n",
       "    </tr>\n",
       "  </thead>\n",
       "  <tbody>\n",
       "    <tr>\n",
       "      <th>0</th>\n",
       "      <td>dec2d070-d2ad-41f3-b742-786368ade33a</td>\n",
       "      <td>(Atom('Cd', [-0.0, -0.0, 29.0441583], index=0)...</td>\n",
       "      <td>[[2.1044124705, 1.2149831063, 34.279850741], [...</td>\n",
       "      <td>525.885600</td>\n",
       "      <td>15.340954</td>\n",
       "      <td>-0.165000</td>\n",
       "      <td>10.755509</td>\n",
       "      <td>EE</td>\n",
       "      <td>15</td>\n",
       "      <td>5</td>\n",
       "      <td>[C2/m (12), C2/m (12), C2/m (12), C2/m (12), C...</td>\n",
       "      <td>[2, 2, 2, 2, 2]</td>\n",
       "      <td>-17198.871453</td>\n",
       "      <td>[CdI2, CdI2, CdI2, CdI2, CdI2]</td>\n",
       "      <td>[[-7.99325051e-18 -1.35384926e-17  2.90441583e...</td>\n",
       "    </tr>\n",
       "    <tr>\n",
       "      <th>1</th>\n",
       "      <td>51e630e8-d94f-421c-bd1e-3e2f298e740c</td>\n",
       "      <td>(Atom('Fe', [0.0, 0.0, 0.0], index=0), Atom('C...</td>\n",
       "      <td>[[3.35814166734363, 3.21879556184565e-14, -3.2...</td>\n",
       "      <td>52.188194</td>\n",
       "      <td>9.766268</td>\n",
       "      <td>-0.149888</td>\n",
       "      <td>15.347484</td>\n",
       "      <td>EE</td>\n",
       "      <td>3</td>\n",
       "      <td>1</td>\n",
       "      <td>[P-3m1 (164)]</td>\n",
       "      <td>[2]</td>\n",
       "      <td>-5361.474444</td>\n",
       "      <td>[Cl2Fe]</td>\n",
       "      <td>[[0. 0. 0.] Fe, [7.65128701e-17 2.06980071e+00...</td>\n",
       "    </tr>\n",
       "    <tr>\n",
       "      <th>2</th>\n",
       "      <td>527e7b32-d211-4743-9631-120122819190</td>\n",
       "      <td>(Atom('Er', [2.1386, 4.301805, 3.209025], inde...</td>\n",
       "      <td>[[2.14789490163679, -12.5878501270869, 0.0], [...</td>\n",
       "      <td>232.520056</td>\n",
       "      <td>18.471785</td>\n",
       "      <td>-0.454048</td>\n",
       "      <td>24.580650</td>\n",
       "      <td>EE</td>\n",
       "      <td>8</td>\n",
       "      <td>1</td>\n",
       "      <td>[P2_1/m (11)]</td>\n",
       "      <td>[2]</td>\n",
       "      <td>-26090.090963</td>\n",
       "      <td>[Er2Te6]</td>\n",
       "      <td>[[2.1386   4.301805 3.209025] Er, [ 2.1386   -...</td>\n",
       "    </tr>\n",
       "    <tr>\n",
       "      <th>3</th>\n",
       "      <td>37bf14b1-6529-436c-a519-e1ad9b208784</td>\n",
       "      <td>(Atom('Ba', [0.0, 0.0, 9.5697], index=0), Atom...</td>\n",
       "      <td>[[-2.0745739339, 2.0745739339, 7.4278571834], ...</td>\n",
       "      <td>127.873741</td>\n",
       "      <td>17.215428</td>\n",
       "      <td>-0.747937</td>\n",
       "      <td>43.445746</td>\n",
       "      <td>PE</td>\n",
       "      <td>3</td>\n",
       "      <td>1</td>\n",
       "      <td>[C2/m (12)]</td>\n",
       "      <td>[2]</td>\n",
       "      <td>-2866.173187</td>\n",
       "      <td>[Ba2Hg]</td>\n",
       "      <td>[[-1.10578213e-16  1.10578213e-16  9.56970000e...</td>\n",
       "    </tr>\n",
       "    <tr>\n",
       "      <th>4</th>\n",
       "      <td>e7a9cec3-f11a-4d16-a8c5-ebd758bb6592</td>\n",
       "      <td>(Atom('Ba', [0.0, 2.414, 1.49473], index=0), A...</td>\n",
       "      <td>[[4.6829418165, 0.0, 0.0], [0.0, 4.6829418165,...</td>\n",
       "      <td>166.823529</td>\n",
       "      <td>21.929944</td>\n",
       "      <td>-0.532853</td>\n",
       "      <td>24.297979</td>\n",
       "      <td>EE</td>\n",
       "      <td>6</td>\n",
       "      <td>1</td>\n",
       "      <td>[P4/nmm (129)]</td>\n",
       "      <td>[2]</td>\n",
       "      <td>-3217.539658</td>\n",
       "      <td>[Ba2H2I2]</td>\n",
       "      <td>[[0.      2.414   1.49473] Ba, [2.414   0.    ...</td>\n",
       "    </tr>\n",
       "  </tbody>\n",
       "</table>\n",
       "</div>"
      ],
      "text/plain": [
       "                                   uuid  \\\n",
       "0  dec2d070-d2ad-41f3-b742-786368ade33a   \n",
       "1  51e630e8-d94f-421c-bd1e-3e2f298e740c   \n",
       "2  527e7b32-d211-4743-9631-120122819190   \n",
       "3  37bf14b1-6529-436c-a519-e1ad9b208784   \n",
       "4  e7a9cec3-f11a-4d16-a8c5-ebd758bb6592   \n",
       "\n",
       "                                           structure  \\\n",
       "0  (Atom('Cd', [-0.0, -0.0, 29.0441583], index=0)...   \n",
       "1  (Atom('Fe', [0.0, 0.0, 0.0], index=0), Atom('C...   \n",
       "2  (Atom('Er', [2.1386, 4.301805, 3.209025], inde...   \n",
       "3  (Atom('Ba', [0.0, 0.0, 9.5697], index=0), Atom...   \n",
       "4  (Atom('Ba', [0.0, 2.414, 1.49473], index=0), A...   \n",
       "\n",
       "                                                cell      volume  \\\n",
       "0  [[2.1044124705, 1.2149831063, 34.279850741], [...  525.885600   \n",
       "1  [[3.35814166734363, 3.21879556184565e-14, -3.2...   52.188194   \n",
       "2  [[2.14789490163679, -12.5878501270869, 0.0], [...  232.520056   \n",
       "3  [[-2.0745739339, 2.0745739339, 7.4278571834], ...  127.873741   \n",
       "4  [[4.6829418165, 0.0, 0.0], [0.0, 4.6829418165,...  166.823529   \n",
       "\n",
       "   relevant_dimension_of_highest_dimensionality_substructure  \\\n",
       "0                                          15.340954           \n",
       "1                                           9.766268           \n",
       "2                                          18.471785           \n",
       "3                                          17.215428           \n",
       "4                                          21.929944           \n",
       "\n",
       "   binding_energy_per_substructure  binding_energy label  \\\n",
       "0                        -0.165000       10.755509    EE   \n",
       "1                        -0.149888       15.347484    EE   \n",
       "2                        -0.454048       24.580650    EE   \n",
       "3                        -0.747937       43.445746    PE   \n",
       "4                        -0.532853       24.297979    EE   \n",
       "\n",
       "   number_of_atoms_in_bulk  \\\n",
       "0                       15   \n",
       "1                        3   \n",
       "2                        8   \n",
       "3                        3   \n",
       "4                        6   \n",
       "\n",
       "   number_of_highest_dimensionality_substructures_in_bulk  \\\n",
       "0                                                  5        \n",
       "1                                                  1        \n",
       "2                                                  1        \n",
       "3                                                  1        \n",
       "4                                                  1        \n",
       "\n",
       "                                   sub_structure_spg sub_structure_dim  \\\n",
       "0  [C2/m (12), C2/m (12), C2/m (12), C2/m (12), C...   [2, 2, 2, 2, 2]   \n",
       "1                                      [P-3m1 (164)]               [2]   \n",
       "2                                      [P2_1/m (11)]               [2]   \n",
       "3                                        [C2/m (12)]               [2]   \n",
       "4                                     [P4/nmm (129)]               [2]   \n",
       "\n",
       "    energy_bulk           sub_structure_formula  \\\n",
       "0 -17198.871453  [CdI2, CdI2, CdI2, CdI2, CdI2]   \n",
       "1  -5361.474444                         [Cl2Fe]   \n",
       "2 -26090.090963                        [Er2Te6]   \n",
       "3  -2866.173187                         [Ba2Hg]   \n",
       "4  -3217.539658                       [Ba2H2I2]   \n",
       "\n",
       "                        PMG Structure from ASE Atoms  \n",
       "0  [[-7.99325051e-18 -1.35384926e-17  2.90441583e...  \n",
       "1  [[0. 0. 0.] Fe, [7.65128701e-17 2.06980071e+00...  \n",
       "2  [[2.1386   4.301805 3.209025] Er, [ 2.1386   -...  \n",
       "3  [[-1.10578213e-16  1.10578213e-16  9.56970000e...  \n",
       "4  [[0.      2.414   1.49473] Ba, [2.414   0.    ...  "
      ]
     },
     "execution_count": 21,
     "metadata": {},
     "output_type": "execute_result"
    }
   ],
   "source": [
    "dataframe_df2 = pd.read_pickle(\"./pickle_files/DataFrame_df2.pkl\")\n",
    "dataframe_df2.head()"
   ]
  },
  {
   "cell_type": "code",
   "execution_count": 22,
   "metadata": {},
   "outputs": [],
   "source": [
    "df_complete = pd.concat([df, dataframe_df2.drop(['label'], axis = 1 )], axis=1)\n",
    "#df_complete.head()"
   ]
  },
  {
   "cell_type": "code",
   "execution_count": 23,
   "metadata": {},
   "outputs": [
    {
     "name": "stderr",
     "output_type": "stream",
     "text": [
      "/Users/mohammad/anaconda3/lib/python3.7/site-packages/pandas/core/generic.py:6619: SettingWithCopyWarning: \n",
      "A value is trying to be set on a copy of a slice from a DataFrame\n",
      "\n",
      "See the caveats in the documentation: https://pandas.pydata.org/pandas-docs/stable/user_guide/indexing.html#returning-a-view-versus-a-copy\n",
      "  return self._update_inplace(result)\n"
     ]
    }
   ],
   "source": [
    "df_binary = df_complete.dropna()\n",
    "df_binary['label'].replace(to_replace='PE', value='EE', inplace=True)\n",
    "df_binary['label'].replace(to_replace='EE', value=1, inplace=True)\n",
    "df_binary['label'].replace(to_replace='HBE', value=0, inplace=True)"
   ]
  },
  {
   "cell_type": "code",
   "execution_count": 24,
   "metadata": {},
   "outputs": [],
   "source": [
    "X = df_binary.drop(['label', 'uuid', 'structure', 'cell', 'volume',\n",
    "       'relevant_dimension_of_highest_dimensionality_substructure',\n",
    "       'binding_energy_per_substructure', 'binding_energy',\n",
    "       'number_of_atoms_in_bulk',\n",
    "       'number_of_highest_dimensionality_substructures_in_bulk',\n",
    "       'sub_structure_spg', 'sub_structure_dim', 'energy_bulk',\n",
    "       'sub_structure_formula', 'PMG Structure from ASE Atoms', \n",
    "        0, 1, 2, 3, 4, 5, 6,7, 8, 9,10,11,12,13, 128, 129,130,131,132,133,134,135,\n",
    "        136,137,138,139,140,141,142,143,144,145,146,147,148,149,150,151,152,153,154,\n",
    "        155,156,157,158,159,160,161,162,163,164,165,166,167,168,169,170,171,172,173,\n",
    "        174,175,176,177,178,179,180,181,182,183,184,185,186,187,188,189,190,191,192,\n",
    "        193,194,195,196,197,198,199,200,201,202,203,204,205,206,207,208,209,210,211,\n",
    "        212,213,214,215,216,217,218,219,220,221,222,223,224,225,226,227,228,229,230,\n",
    "        231,232,233,234,235,236,237,238,239,240,241,242,243,244,245,246,247,248,249,\n",
    "        250,251,252,253,254,255,256,257,258,259,260,261,262,263,264,265,266,267,268,\n",
    "        269,270,271,272], axis = 1).values\n",
    "y = df_binary['label'].values"
   ]
  },
  {
   "cell_type": "code",
   "execution_count": 25,
   "metadata": {},
   "outputs": [],
   "source": [
    "X_train, X_test, y_train, y_test = train_test_split(X, y, test_size=0.3, random_state=101)"
   ]
  },
  {
   "cell_type": "code",
   "execution_count": 26,
   "metadata": {},
   "outputs": [],
   "source": [
    "pred_RF = loaded_RF.predict(X_test)"
   ]
  },
  {
   "cell_type": "code",
   "execution_count": 27,
   "metadata": {},
   "outputs": [
    {
     "name": "stdout",
     "output_type": "stream",
     "text": [
      "              precision    recall  f1-score   support\n",
      "\n",
      "           0       0.85      0.50      0.63       139\n",
      "           1       0.88      0.98      0.93       525\n",
      "\n",
      "    accuracy                           0.88       664\n",
      "   macro avg       0.87      0.74      0.78       664\n",
      "weighted avg       0.87      0.88      0.86       664\n",
      "\n",
      "\n",
      "\n",
      "[[ 69  70]\n",
      " [ 12 513]]\n"
     ]
    }
   ],
   "source": [
    "print(classification_report(y_test, pred_RF))\n",
    "print(\"\\n\")\n",
    "print(confusion_matrix(y_test, pred_RF))"
   ]
  },
  {
   "cell_type": "code",
   "execution_count": 28,
   "metadata": {},
   "outputs": [],
   "source": [
    "pred_RF_complete = loaded_RF.predict(X)"
   ]
  },
  {
   "cell_type": "code",
   "execution_count": 29,
   "metadata": {},
   "outputs": [
    {
     "name": "stderr",
     "output_type": "stream",
     "text": [
      "/Users/mohammad/anaconda3/lib/python3.7/site-packages/ipykernel_launcher.py:1: SettingWithCopyWarning: \n",
      "A value is trying to be set on a copy of a slice from a DataFrame.\n",
      "Try using .loc[row_indexer,col_indexer] = value instead\n",
      "\n",
      "See the caveats in the documentation: https://pandas.pydata.org/pandas-docs/stable/user_guide/indexing.html#returning-a-view-versus-a-copy\n",
      "  \"\"\"Entry point for launching an IPython kernel.\n"
     ]
    }
   ],
   "source": [
    "df_binary['prediction'] = pred_RF_complete"
   ]
  },
  {
   "cell_type": "code",
   "execution_count": 30,
   "metadata": {},
   "outputs": [
    {
     "data": {
      "image/png": "[encoded data removed]",
      "text/plain": [
       "<Figure size 864x216 with 1 Axes>"
      ]
     },
     "metadata": {
      "needs_background": "light"
     },
     "output_type": "display_data"
    }
   ],
   "source": [
    "i = 0\n",
    "color = ['tab:blue',  'red', 'tab:green', 'black']\n",
    "marker = [\"o\", \"o\",\"o\", \"o\"]\n",
    "zorder = [0, 10000 ,0, 1000]\n",
    "fig, ax = plt.subplots(figsize=(12, 3))\n",
    "for key in revpbe.keys():\n",
    "    if key in binding_energies.keys():\n",
    "        if key in list(df_binary['uuid']):\n",
    "            try:\n",
    "                x = abs(df2[key]['cell'][2][2]-revpbe[key]['cell'][2][2])/df2[key]['cell'][2][2]*100\n",
    "                y = binding_energies[key]['df2']\n",
    "                if int(df_binary [ df_binary['uuid'] == key ]['prediction']) == 1:\n",
    "                    if int(df_binary [ df_binary['uuid'] == key ]['label']) == 1:\n",
    "                        color_number = 2\n",
    "                    else: \n",
    "                        color_number = 3\n",
    "                else:\n",
    "                    if int(df_binary [ df_binary['uuid'] == key ]['label']) == 0:\n",
    "                        color_number = 0\n",
    "                    else: \n",
    "                        color_number = 1\n",
    "                if y <= 30:\n",
    "                    a = plt.scatter(x,y, c = color[color_number], marker =marker[color_number], zorder = zorder[color_number], alpha=0.7, edgecolors='face', label = color[color_number])\n",
    "                    i = i +1\n",
    "                elif 30 < y <= 130:\n",
    "                    b = plt.scatter(x,y, c = color[color_number], marker =marker[color_number], zorder = zorder[color_number], alpha=0.7, edgecolors='face', label = color[color_number])\n",
    "                    i = i +1\n",
    "                else:\n",
    "                    plt.scatter(x,y, c = color[color_number], marker =marker[color_number], zorder = zorder[color_number], alpha=0.7, edgecolors='face', label = color[color_number])\n",
    "                    i = i +1\n",
    "            except KeyError:\n",
    "                pass\n",
    "plt.yscale('log')\n",
    "plt.xlim((-5,60))\n",
    "plt.ylim((3,1000))\n",
    "plt.xlabel(\"Change in interlayer distance (revPBE versus DF2–C09) (%)\")\n",
    "plt.ylabel(\"Eb (meV Å–2)\")\n",
    "plt.savefig(\"Figure2C-ML.pdf\",bbox_inches='tight',dpi=600)\n",
    "plt.show()"
   ]
  },
  {
   "cell_type": "markdown",
   "metadata": {},
   "source": [
    "***Store the False Negatives and False Positives Structures for further analysis***"
   ]
  },
  {
   "cell_type": "code",
   "execution_count": 31,
   "metadata": {},
   "outputs": [],
   "source": [
    "false_negatives = list(df_binary[ df_binary['prediction'] != df_binary['label'] ] [ df_binary[ df_binary['prediction'] != df_binary['label'] ]['prediction'] == 0 ]['structure']) \n",
    "false_negatives_uuid = list(df_binary[ df_binary['prediction'] != df_binary['label'] ] [ df_binary[ df_binary['prediction'] != df_binary['label'] ]['prediction'] == 0 ]['uuid']) "
   ]
  },
  {
   "cell_type": "code",
   "execution_count": 32,
   "metadata": {},
   "outputs": [
    {
     "data": {
      "text/plain": [
       "12"
      ]
     },
     "execution_count": 32,
     "metadata": {},
     "output_type": "execute_result"
    }
   ],
   "source": [
    "len(false_negatives)"
   ]
  },
  {
   "cell_type": "code",
   "execution_count": 33,
   "metadata": {},
   "outputs": [],
   "source": [
    "import ase\n",
    "import ase.io"
   ]
  },
  {
   "cell_type": "code",
   "execution_count": 34,
   "metadata": {},
   "outputs": [],
   "source": [
    "for count, structure in enumerate(false_negatives):\n",
    "    \n",
    "    structure.write('False-negatives/{}.cif'.format(false_negatives_uuid[count]))"
   ]
  },
  {
   "cell_type": "code",
   "execution_count": 35,
   "metadata": {},
   "outputs": [],
   "source": [
    "false_positives = list(df_binary[ df_binary['prediction'] != df_binary['label'] ] [ df_binary[ df_binary['prediction'] != df_binary['label'] ]['prediction'] == 1 ]['structure']) \n",
    "false_positives_uuid = list(df_binary[ df_binary['prediction'] != df_binary['label'] ] [ df_binary[ df_binary['prediction'] != df_binary['label'] ]['prediction'] == 1 ]['uuid']) "
   ]
  },
  {
   "cell_type": "code",
   "execution_count": 36,
   "metadata": {},
   "outputs": [
    {
     "data": {
      "text/plain": [
       "70"
      ]
     },
     "execution_count": 36,
     "metadata": {},
     "output_type": "execute_result"
    }
   ],
   "source": [
    "len(false_positives_uuid)"
   ]
  },
  {
   "cell_type": "code",
   "execution_count": 37,
   "metadata": {},
   "outputs": [],
   "source": [
    "for count, structure in enumerate(false_positives):\n",
    "    \n",
    "    structure.write('False-positives/{}.cif'.format(false_positives_uuid[count]))"
   ]
  }
 ],
 "metadata": {
  "kernelspec": {
   "display_name": "Python 3",
   "language": "python",
   "name": "python3"
  },
  "language_info": {
   "codemirror_mode": {
    "name": "ipython",
    "version": 3
   },
   "file_extension": ".py",
   "mimetype": "text/x-python",
   "name": "python",
   "nbconvert_exporter": "python",
   "pygments_lexer": "ipython3",
   "version": "3.7.11"
  }
 },
 "nbformat": 4,
 "nbformat_minor": 2
}
